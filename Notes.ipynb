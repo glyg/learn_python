{
 "cells": [
  {
   "cell_type": "markdown",
   "metadata": {},
   "source": [
    "###### Vos attentes"
   ]
  },
  {
   "cell_type": "markdown",
   "metadata": {
    "slideshow": {
     "slide_type": "slide"
    }
   },
   "source": [
    "###### Qu'est-ce que Python?\n",
    "\n",
    "Python est un langage de programmation **interprété** généraliste. Il a été créé en 1991 par [Guido van Rossum](https://twitter.com/gvanrossum)\n",
    "![Photo of Guido van Rossum from wikipedia](https://upload.wikimedia.org/wikipedia/commons/thumb/6/66/Guido_van_Rossum_OSCON_2006.jpg/320px-Guido_van_Rossum_OSCON_2006.jpg).\n",
    "\n",
    "<hr>\n",
    "\n",
    "\n",
    "\n"
   ]
  },
  {
   "cell_type": "markdown",
   "metadata": {
    "slideshow": {
     "slide_type": "slide"
    }
   },
   "source": [
    "Le langage s'appelle comme ça en hommage aux [Monty Python](https://www.youtube.com/user/MontyPython)! \n",
    "\n",
    "![Silly walk gif](https://media.giphy.com/media/RzKHvdYC3uds4/giphy.gif)\n",
    "\n",
    "La motivation était de faire un langage lisible, un peu en réaction à Perl ;) principalement pour faire des scripts courts. Il a finalement évolué pour faire du code pas si court que ça!\n",
    "\n",
    "Le principe central:\n",
    "\n",
    "> **Le code est lu beaucoup plus souvent qu'il n'est écrit**\n",
    "\n",
    "On verra cela plus en détail au cours de la formation.\n",
    "\n",
    "\n",
    "* Il y a une implémentation de référence de l'interpréteur écrite en C : https://github.com/python/cpython\n",
    "\n",
    "* Le langage avance grâce aux _Python Enhancement Proposals_ ou [PEPs](https://www.python.org/dev/peps/)\n",
    "\n"
   ]
  },
  {
   "cell_type": "markdown",
   "metadata": {
    "slideshow": {
     "slide_type": "slide"
    }
   },
   "source": [
    "## La communauté\n",
    "\n",
    "\n",
    "> «Je suis venu pour le langage mais je suis resté pour la communauté»\n",
    "\n",
    "[Brett Cannon](https://twitter.com/brettsky) _core_ développeur\n",
    "\n",
    "\n",
    "* La [Python Software Foundation](https://www.python.org/psf/) possède les droits d'auteurs du langage et chapeaute la communauté.\n",
    "\n",
    "* Les core devs (94 personnes dont environ 50 actives).\n",
    "\n",
    "* [PyLadies](https://pyladies.com) et [DjangoGirls](https://djangogirls.org)\n",
    "\n",
    "* l'[Afpy](https://www.afpy.org/) - Association Python francophone.\n",
    "\n",
    "* les conférences\n",
    "    - PyCon US - PyConFR - EuroPython \n",
    "    - Fosdem\n",
    "    - EuroSciPy\n",
    "    - DjangoCon\n",
    "\n",
    "* Les meetups & conférences [PyData](https://pydata.org/)\n",
    "\n",
    "    - [PyData Paris](https://www.meetup.com/fr-FR/PyData-Paris/)\n"
   ]
  },
  {
   "cell_type": "markdown",
   "metadata": {
    "slideshow": {
     "slide_type": "slide"
    }
   },
   "source": [
    "## Livres\n",
    "\n",
    "\n",
    "- David Beazley - [Python essential reference](https://www.dabeaz.com/per.html) (attendre l'édition 5 fin 2019)\n",
    "\n",
    "- Jake VanderPlas - [Data Science Hand book](https://jakevdp.github.io/PythonDataScienceHandbook/)\n",
    "\n",
    "\n",
    "## Ressources de documentation\n",
    "\n",
    "* [docs.python.org](https://docs.python.org/fr) - documentation Python en français\n",
    "* [readthedocs](https://readthedocs.org) - abrite une grande partie de la documentation des modules tiers.\n",
    "\n",
    "\n",
    "## Cannaux d'entr'aide\n",
    "\n",
    "* IRC **#python-fr** **#scipy** **#matplotlib** sur freenode\n",
    "* [gitter](https://gitter.im/) (pour les modules data)\n",
    "* [stackoverflow](https://stackoverflow.com/questions/tagged/python)\n",
    "* mailing lists\n"
   ]
  },
  {
   "cell_type": "markdown",
   "metadata": {
    "slideshow": {
     "slide_type": "slide"
    }
   },
   "source": [
    "<hr/>\n",
    "\n",
    "## L'interpreteur, le signe \"=\"\n"
   ]
  },
  {
   "cell_type": "code",
   "execution_count": 7,
   "metadata": {},
   "outputs": [],
   "source": [
    "a = 12**2"
   ]
  },
  {
   "cell_type": "code",
   "execution_count": 8,
   "metadata": {},
   "outputs": [
    {
     "data": {
      "text/plain": [
       "144"
      ]
     },
     "execution_count": 8,
     "metadata": {},
     "output_type": "execute_result"
    }
   ],
   "source": [
    "a"
   ]
  },
  {
   "cell_type": "markdown",
   "metadata": {
    "slideshow": {
     "slide_type": "slide"
    }
   },
   "source": [
    "## Les types de données"
   ]
  },
  {
   "cell_type": "markdown",
   "metadata": {
    "slideshow": {
     "slide_type": "slide"
    }
   },
   "source": [
    "### Les chaînes de caractère\n",
    "\n",
    "- Représenter du texte, tout type de texte «😁» par exemple\n",
    "\n",
    "- Dans python 3, «chaîne de caractère» veut dire UTF-8 \n",
    "  (plus sur l'encodage plus tard). \n",
    "\n"
   ]
  },
  {
   "cell_type": "code",
   "execution_count": 10,
   "metadata": {},
   "outputs": [
    {
     "data": {
      "text/plain": [
       "'François Loïc 😁'"
      ]
     },
     "execution_count": 10,
     "metadata": {},
     "output_type": "execute_result"
    }
   ],
   "source": [
    "\"François Loïc 😁\""
   ]
  },
  {
   "cell_type": "markdown",
   "metadata": {
    "slideshow": {
     "slide_type": "slide"
    }
   },
   "source": [
    "### Les nombres\n",
    "\n",
    "Il y a deux types de nombres, `int` et `float` pour représenter respectivement les entiers et les nombres \"réels\", aussi appelés \"à virgule flottante\", comme `2.78`. En Python, le marqueur de décimales est noté par un point.\n",
    "\n"
   ]
  },
  {
   "cell_type": "code",
   "execution_count": 13,
   "metadata": {},
   "outputs": [
    {
     "data": {
      "text/plain": [
       "0"
      ]
     },
     "execution_count": 13,
     "metadata": {},
     "output_type": "execute_result"
    }
   ],
   "source": [
    "default = None"
   ]
  },
  {
   "cell_type": "markdown",
   "metadata": {
    "slideshow": {
     "slide_type": "slide"
    }
   },
   "source": [
    "### Les booléens\n",
    "\n",
    "Seulement deux valeurs, vrai ou faux `True` ou `False` (avec une majuscule). Un objet peut être vrai ou faux, une chaîne ou une liste vide sont fausses par exemple.\n",
    "\n",
    "### `None`\n",
    "\n",
    "C'est la valeur de l'absence de valeur. On teste avec:\n",
    "\n",
    "```python\n",
    "if my_value is None:\n",
    "    my_value = default\n",
    "```"
   ]
  },
  {
   "cell_type": "markdown",
   "metadata": {},
   "source": [
    "## https://www.hackinscience.org"
   ]
  },
  {
   "cell_type": "markdown",
   "metadata": {
    "slideshow": {
     "slide_type": "slide"
    }
   },
   "source": [
    "### Les tuplets\n",
    "\n",
    "Représente une collection d'objets divers, entre parenthèses. Une fois créé, cette collection contient toujours les mêmes objets et ne peux pas grossir, on ne peut pas échanger un objet pour un autre, on ne peut pas changer leur ordre. `tuple` comme doublet, triplet, quintuplet.\n",
    "\n",
    "- Comment y accéder? Les indices.\n",
    "\n",
    "- Le dépaquetage\n"
   ]
  },
  {
   "cell_type": "code",
   "execution_count": 19,
   "metadata": {},
   "outputs": [],
   "source": [
    "auteur = (\"John\", \"Lennon\", \"Abbey Road\", 26)\n",
    "\n"
   ]
  },
  {
   "cell_type": "code",
   "execution_count": 17,
   "metadata": {},
   "outputs": [],
   "source": [
    "firstname = auteur[0]\n"
   ]
  },
  {
   "cell_type": "code",
   "execution_count": 22,
   "metadata": {},
   "outputs": [],
   "source": [
    "firstname, lastname, address, age = auteur"
   ]
  },
  {
   "cell_type": "code",
   "execution_count": 23,
   "metadata": {},
   "outputs": [
    {
     "ename": "TypeError",
     "evalue": "'tuple' object does not support item assignment",
     "output_type": "error",
     "traceback": [
      "\u001b[0;31m---------------------------------------------------------------------------\u001b[0m",
      "\u001b[0;31mTypeError\u001b[0m                                 Traceback (most recent call last)",
      "\u001b[0;32m<ipython-input-23-ea975a589040>\u001b[0m in \u001b[0;36m<module>\u001b[0;34m\u001b[0m\n\u001b[0;32m----> 1\u001b[0;31m \u001b[0mauteur\u001b[0m\u001b[0;34m[\u001b[0m\u001b[0;36m3\u001b[0m\u001b[0;34m]\u001b[0m \u001b[0;34m=\u001b[0m \u001b[0;36m37\u001b[0m\u001b[0;34m\u001b[0m\u001b[0;34m\u001b[0m\u001b[0m\n\u001b[0m",
      "\u001b[0;31mTypeError\u001b[0m: 'tuple' object does not support item assignment"
     ]
    }
   ],
   "source": [
    "auteur[3] = 37"
   ]
  },
  {
   "cell_type": "markdown",
   "metadata": {},
   "source": [
    "### Les listes\n",
    "\n",
    "Aussi une collection d'objets mais dont on peut changer la taille, que l'on peut ranger, et dont on peut changer les éléments.\n",
    "\n",
    "- Les indices (continued) et les 'tranches' d'indice\n",
    "\n",
    "- Les méthodes et attributs associées à un objet\n"
   ]
  },
  {
   "cell_type": "code",
   "execution_count": 24,
   "metadata": {},
   "outputs": [],
   "source": [
    "resultats = [12, 34, 543, 54, 544, -12]"
   ]
  },
  {
   "cell_type": "code",
   "execution_count": 26,
   "metadata": {},
   "outputs": [],
   "source": [
    "resultats[0] = 13"
   ]
  },
  {
   "cell_type": "code",
   "execution_count": 34,
   "metadata": {},
   "outputs": [
    {
     "data": {
      "text/plain": [
       "-12"
      ]
     },
     "execution_count": 34,
     "metadata": {},
     "output_type": "execute_result"
    }
   ],
   "source": [
    "resultats[-1]"
   ]
  },
  {
   "cell_type": "code",
   "execution_count": 43,
   "metadata": {},
   "outputs": [],
   "source": [
    "resultats.append(45)"
   ]
  },
  {
   "cell_type": "code",
   "execution_count": 45,
   "metadata": {},
   "outputs": [],
   "source": [
    "resultats.sort()"
   ]
  },
  {
   "cell_type": "code",
   "execution_count": 46,
   "metadata": {},
   "outputs": [
    {
     "data": {
      "text/plain": [
       "[-12, 13, 34, 45, 54, 543, 544]"
      ]
     },
     "execution_count": 46,
     "metadata": {},
     "output_type": "execute_result"
    }
   ],
   "source": [
    "resultats"
   ]
  },
  {
   "cell_type": "markdown",
   "metadata": {
    "slideshow": {
     "slide_type": "slide"
    }
   },
   "source": [
    "### Les ensembles (`set`) et dictionnaires\n",
    "\n",
    "#### Les sets\n",
    "\n",
    "- Un ensemble de valeurs uniques. Trés efficaces pour les opération ensemblistes (inclusion, union, différence).\n",
    "\n",
    "\n",
    "#### Les dictionnaires\n",
    "\n",
    "- Sans doute la structure la plus communément employée dans Python. On peut tout faire avec des dictionnaires.\n",
    "- Paires clefs valeurs (on garde l'ordre d'insertion)\n"
   ]
  },
  {
   "cell_type": "code",
   "execution_count": 66,
   "metadata": {},
   "outputs": [],
   "source": [
    "auteur = {\n",
    "    \"firstname\": \"John\",\n",
    "    \"lastname\": \"Lennon\",\n",
    "    \"address\": \"Abbey Road\",\n",
    "    \"age\": 37\n",
    "}\n",
    "\n"
   ]
  },
  {
   "cell_type": "code",
   "execution_count": 49,
   "metadata": {},
   "outputs": [],
   "source": [
    "auteur[\"firstname\"] = \"Paul\""
   ]
  },
  {
   "cell_type": "code",
   "execution_count": 67,
   "metadata": {},
   "outputs": [],
   "source": [
    "auteur['email'] = \"john@thebeatles.org\""
   ]
  },
  {
   "cell_type": "code",
   "execution_count": 59,
   "metadata": {},
   "outputs": [],
   "source": [
    "ensemble1 = {3, 4, 55, 5, \"ser\", \"earz\"}\n",
    "ensemble2 = {3, 4, \"earz\"}\n"
   ]
  },
  {
   "cell_type": "code",
   "execution_count": 62,
   "metadata": {},
   "outputs": [
    {
     "data": {
      "text/plain": [
       "{3, 4, 'earz'}"
      ]
     },
     "execution_count": 62,
     "metadata": {},
     "output_type": "execute_result"
    }
   ],
   "source": [
    "ensemble1.intersection(ensemble2)"
   ]
  },
  {
   "cell_type": "code",
   "execution_count": 74,
   "metadata": {},
   "outputs": [],
   "source": [
    "mon_tuple = (1, \"ezr\", auteur)"
   ]
  },
  {
   "cell_type": "code",
   "execution_count": 76,
   "metadata": {},
   "outputs": [],
   "source": [
    "ma_liste = list(mon_tuple)"
   ]
  },
  {
   "cell_type": "markdown",
   "metadata": {},
   "source": [
    "### L'introspection (type, dir, help, id, breakpoint, pdb)\n"
   ]
  },
  {
   "cell_type": "code",
   "execution_count": 101,
   "metadata": {},
   "outputs": [
    {
     "name": "stdout",
     "output_type": "stream",
     "text": [
      "--Call--\n",
      "> /home/humancoders/miniconda3/lib/python3.7/site-packages/IPython/core/displayhook.py(247)__call__()\n",
      "-> def __call__(self, result=None):\n",
      "(Pdb) dir()\n",
      "['result', 'self']\n",
      "(Pdb) result\n",
      "(Pdb) c\n"
     ]
    }
   ],
   "source": []
  },
  {
   "cell_type": "code",
   "execution_count": 90,
   "metadata": {},
   "outputs": [],
   "source": [
    "res = resultats"
   ]
  },
  {
   "cell_type": "code",
   "execution_count": 83,
   "metadata": {},
   "outputs": [
    {
     "data": {
      "text/plain": [
       "(str, str, int)"
      ]
     },
     "execution_count": 83,
     "metadata": {},
     "output_type": "execute_result"
    }
   ],
   "source": [
    "type(\"e\"), type(\"42\"), type(42)"
   ]
  },
  {
   "cell_type": "code",
   "execution_count": 118,
   "metadata": {},
   "outputs": [],
   "source": [
    "def greet(person):\n",
    "    print(resultats)\n",
    "    print('Hello', person[\"firstname\"])"
   ]
  },
  {
   "cell_type": "code",
   "execution_count": 91,
   "metadata": {},
   "outputs": [
    {
     "data": {
      "text/plain": [
       "139724829699656"
      ]
     },
     "execution_count": 91,
     "metadata": {},
     "output_type": "execute_result"
    }
   ],
   "source": [
    "id(res)"
   ]
  },
  {
   "cell_type": "code",
   "execution_count": 92,
   "metadata": {},
   "outputs": [
    {
     "data": {
      "text/plain": [
       "139724828224944"
      ]
     },
     "execution_count": 92,
     "metadata": {},
     "output_type": "execute_result"
    }
   ],
   "source": [
    "id(345555)"
   ]
  },
  {
   "cell_type": "code",
   "execution_count": 97,
   "metadata": {},
   "outputs": [],
   "source": [
    "a = 'hello qserzqzrrqzreqzr'\n",
    "b = 'hello qserzqzrrqzreqzr'"
   ]
  },
  {
   "cell_type": "code",
   "execution_count": 98,
   "metadata": {},
   "outputs": [
    {
     "data": {
      "text/plain": [
       "139724827920760"
      ]
     },
     "execution_count": 98,
     "metadata": {},
     "output_type": "execute_result"
    }
   ],
   "source": [
    "id(a)"
   ]
  },
  {
   "cell_type": "code",
   "execution_count": 99,
   "metadata": {},
   "outputs": [
    {
     "data": {
      "text/plain": [
       "139724827922272"
      ]
     },
     "execution_count": 99,
     "metadata": {},
     "output_type": "execute_result"
    }
   ],
   "source": [
    "id(b)"
   ]
  },
  {
   "cell_type": "code",
   "execution_count": 119,
   "metadata": {},
   "outputs": [
    {
     "name": "stdout",
     "output_type": "stream",
     "text": [
      "[-12, 13, 34, 45, 54, 543, 544]\n",
      "Hello Paul\n"
     ]
    }
   ],
   "source": [
    "greet(auteur)"
   ]
  },
  {
   "cell_type": "code",
   "execution_count": 116,
   "metadata": {},
   "outputs": [
    {
     "ename": "NameError",
     "evalue": "name 'person' is not defined",
     "output_type": "error",
     "traceback": [
      "\u001b[0;31m---------------------------------------------------------------------------\u001b[0m",
      "\u001b[0;31mNameError\u001b[0m                                 Traceback (most recent call last)",
      "\u001b[0;32m<ipython-input-116-df0e5b897da1>\u001b[0m in \u001b[0;36m<module>\u001b[0;34m\u001b[0m\n\u001b[0;32m----> 1\u001b[0;31m \u001b[0mperson\u001b[0m\u001b[0;34m\u001b[0m\u001b[0;34m\u001b[0m\u001b[0m\n\u001b[0m",
      "\u001b[0;31mNameError\u001b[0m: name 'person' is not defined"
     ]
    }
   ],
   "source": [
    "person # n'existe pas hors de la définition de la fonction"
   ]
  },
  {
   "cell_type": "markdown",
   "metadata": {
    "slideshow": {
     "slide_type": "slide"
    }
   },
   "source": [
    "\n",
    "\n",
    "### Introduction aux  fonctions\n",
    "\n",
    "* Notion de fonction et d'argument\n",
    "\n",
    "* Définir une nouvelle fonction avec `def`\n",
    "\n",
    "\n",
    "### Les structures de contrôle\n",
    "\n",
    "* Les boucles `for` et `while`, les mots clefs `break` et `continue`.\n",
    "\n",
    "* Les tests if, elif et else, le test else à la sortie d'une boucle.\n",
    "\n"
   ]
  },
  {
   "cell_type": "code",
   "execution_count": 123,
   "metadata": {},
   "outputs": [
    {
     "name": "stdout",
     "output_type": "stream",
     "text": [
      "a is greater\n"
     ]
    }
   ],
   "source": [
    "a, b = 4, 3\n",
    "\n",
    "if a > b:\n",
    "    print('a is greater')\n",
    "elif b > a:\n",
    "    print('b is greater')    \n",
    "else:\n",
    "    print('a is not greater')\n",
    "    \n",
    "\n",
    "\n",
    "True or False \n"
   ]
  },
  {
   "cell_type": "code",
   "execution_count": 125,
   "metadata": {},
   "outputs": [],
   "source": [
    "ma_liste = [23, \"tret\", 2.444, (2, 3, 4)]"
   ]
  },
  {
   "cell_type": "code",
   "execution_count": null,
   "metadata": {},
   "outputs": [],
   "source": []
  },
  {
   "cell_type": "code",
   "execution_count": 126,
   "metadata": {},
   "outputs": [
    {
     "name": "stdout",
     "output_type": "stream",
     "text": [
      "23\n",
      "tret\n",
      "2.444\n",
      "(2, 3, 4)\n"
     ]
    }
   ],
   "source": [
    "for elem in ma_liste:\n",
    "    print(elem)"
   ]
  },
  {
   "cell_type": "code",
   "execution_count": 131,
   "metadata": {},
   "outputs": [
    {
     "name": "stdout",
     "output_type": "stream",
     "text": [
      "firstname is Paul\n",
      "lastname is Lennon\n",
      "address is Abbey Road\n",
      "age is 37\n",
      "email is john@thebeatles.org\n"
     ]
    }
   ],
   "source": [
    "for key, val in auteur.items():\n",
    "    print(key, \"is\", val)"
   ]
  },
  {
   "cell_type": "code",
   "execution_count": 144,
   "metadata": {},
   "outputs": [
    {
     "name": "stdout",
     "output_type": "stream",
     "text": [
      "a\n",
      "jump\n",
      "b\n",
      "pair\n",
      "b d\n",
      "c\n",
      "pair\n",
      "c g\n",
      "a\n",
      "jump\n",
      "e\n",
      "pair\n",
      "e e\n",
      "z\n",
      "pair\n",
      "z r\n",
      "z\n",
      "pair\n",
      "z e\n"
     ]
    }
   ],
   "source": [
    "for l1, l2 in zip(\"abcaezzre\", \"fdgeere\"):\n",
    "    print(l1)\n",
    "    if l1 == \"a\":\n",
    "        print(\"jump\")\n",
    "        continue\n",
    "\n",
    "    print('pair')\n",
    "    print(l1, l2)\n",
    "    \n",
    "    if l2 == \"z\":\n",
    "        break\n"
   ]
  },
  {
   "cell_type": "code",
   "execution_count": 141,
   "metadata": {},
   "outputs": [
    {
     "name": "stdout",
     "output_type": "stream",
     "text": [
      "0\n",
      "1\n",
      "2\n",
      "3\n",
      "4\n",
      "5\n",
      "6\n",
      "7\n",
      "8\n",
      "9\n"
     ]
    }
   ],
   "source": [
    "i = 0\n",
    "while i < 10:\n",
    "    print(i)\n",
    "    i = i + 1"
   ]
  },
  {
   "cell_type": "code",
   "execution_count": 133,
   "metadata": {},
   "outputs": [
    {
     "name": "stdout",
     "output_type": "stream",
     "text": [
      "0 -12\n",
      "1 13\n",
      "2 34\n",
      "3 45\n",
      "4 54\n",
      "5 543\n",
      "6 544\n"
     ]
    }
   ],
   "source": [
    "for i, val in enumerate(res):\n",
    "    print(i, val)"
   ]
  },
  {
   "cell_type": "markdown",
   "metadata": {
    "slideshow": {
     "slide_type": "slide"
    }
   },
   "source": [
    "\n",
    "### Le Zen de Python\n",
    "\n",
    "![Zen](https://media.giphy.com/media/3o6ZsYMuMkxBNiy7pC/giphy.gif)\n"
   ]
  },
  {
   "cell_type": "code",
   "execution_count": 145,
   "metadata": {},
   "outputs": [
    {
     "name": "stdout",
     "output_type": "stream",
     "text": [
      "The Zen of Python, by Tim Peters\n",
      "\n",
      "Beautiful is better than ugly.\n",
      "Explicit is better than implicit.\n",
      "Simple is better than complex.\n",
      "Complex is better than complicated.\n",
      "Flat is better than nested.\n",
      "Sparse is better than dense.\n",
      "Readability counts.\n",
      "Special cases aren't special enough to break the rules.\n",
      "Although practicality beats purity.\n",
      "Errors should never pass silently.\n",
      "Unless explicitly silenced.\n",
      "In the face of ambiguity, refuse the temptation to guess.\n",
      "There should be one-- and preferably only one --obvious way to do it.\n",
      "Although that way may not be obvious at first unless you're Dutch.\n",
      "Now is better than never.\n",
      "Although never is often better than *right* now.\n",
      "If the implementation is hard to explain, it's a bad idea.\n",
      "If the implementation is easy to explain, it may be a good idea.\n",
      "Namespaces are one honking great idea -- let's do more of those!\n"
     ]
    }
   ],
   "source": [
    "import this"
   ]
  },
  {
   "cell_type": "markdown",
   "metadata": {},
   "source": [
    "<hr/>\n",
    "\n",
    "### Les séquences en python\n",
    "\n",
    "\n",
    "C'est une des particularités du langage, la façon de parcourir une séquence.\n",
    "\n",
    "\n",
    "* La notion d'*iterable* en Python: il suffit de demander\n",
    "\n",
    "* zip et enumerate.\n",
    "\n",
    "* Les constructions par compréhension. **very pythonic**\n",
    "\n",
    "* Embalage et désembalage, notation en étoile.\n",
    "\n",
    "* Les fonctions spéciales map, lambda, filter.\n",
    "\n",
    "\n"
   ]
  },
  {
   "cell_type": "code",
   "execution_count": 166,
   "metadata": {},
   "outputs": [],
   "source": [
    "def is_positive(num):\n",
    "    return num > 0"
   ]
  },
  {
   "cell_type": "code",
   "execution_count": 169,
   "metadata": {},
   "outputs": [
    {
     "data": {
      "text/plain": [
       "[3, 4, 5, 12, -3]"
      ]
     },
     "execution_count": 169,
     "metadata": {},
     "output_type": "execute_result"
    }
   ],
   "source": [
    "nombres"
   ]
  },
  {
   "cell_type": "code",
   "execution_count": 172,
   "metadata": {},
   "outputs": [
    {
     "data": {
      "text/plain": [
       "[3, 4, 5, 12]"
      ]
     },
     "execution_count": 172,
     "metadata": {},
     "output_type": "execute_result"
    }
   ],
   "source": [
    "list(filter(lambda x : x > 0, nombres))"
   ]
  },
  {
   "cell_type": "code",
   "execution_count": 175,
   "metadata": {},
   "outputs": [
    {
     "data": {
      "text/plain": [
       "[3, 4, 5, 12]"
      ]
     },
     "execution_count": 175,
     "metadata": {},
     "output_type": "execute_result"
    }
   ],
   "source": [
    "[x for x in nombres if x > 0]"
   ]
  },
  {
   "cell_type": "code",
   "execution_count": 173,
   "metadata": {},
   "outputs": [
    {
     "data": {
      "text/plain": [
       "[True, True, True, True, False]"
      ]
     },
     "execution_count": 173,
     "metadata": {},
     "output_type": "execute_result"
    }
   ],
   "source": [
    "list(map(lambda x : x > 0, nombres))"
   ]
  },
  {
   "cell_type": "code",
   "execution_count": 174,
   "metadata": {},
   "outputs": [
    {
     "data": {
      "text/plain": [
       "[True, True, True, True, False]"
      ]
     },
     "execution_count": 174,
     "metadata": {},
     "output_type": "execute_result"
    }
   ],
   "source": [
    "[x > 0 for x in nombres]"
   ]
  },
  {
   "cell_type": "code",
   "execution_count": null,
   "metadata": {},
   "outputs": [],
   "source": []
  },
  {
   "cell_type": "code",
   "execution_count": null,
   "metadata": {},
   "outputs": [],
   "source": []
  },
  {
   "cell_type": "code",
   "execution_count": 165,
   "metadata": {},
   "outputs": [],
   "source": [
    "filter?"
   ]
  },
  {
   "cell_type": "code",
   "execution_count": 167,
   "metadata": {},
   "outputs": [],
   "source": [
    "nombres.append(-3)"
   ]
  },
  {
   "cell_type": "code",
   "execution_count": 148,
   "metadata": {},
   "outputs": [],
   "source": [
    "ma_liste.append(23)"
   ]
  },
  {
   "cell_type": "code",
   "execution_count": 149,
   "metadata": {},
   "outputs": [
    {
     "data": {
      "text/plain": [
       "[23, 'tret', 2.444, (2, 3, 4), 23]"
      ]
     },
     "execution_count": 149,
     "metadata": {},
     "output_type": "execute_result"
    }
   ],
   "source": [
    "ma_liste"
   ]
  },
  {
   "cell_type": "code",
   "execution_count": 151,
   "metadata": {},
   "outputs": [],
   "source": [
    "nombres = [3, 4, 5, 12]\n",
    "carres = []\n",
    "for num in nombres:\n",
    "    carres.append(num**2)\n"
   ]
  },
  {
   "cell_type": "code",
   "execution_count": 158,
   "metadata": {},
   "outputs": [],
   "source": [
    "carres2 = [num**2 for num in nombres]"
   ]
  },
  {
   "cell_type": "code",
   "execution_count": 157,
   "metadata": {},
   "outputs": [
    {
     "data": {
      "text/plain": [
       "[]"
      ]
     },
     "execution_count": 157,
     "metadata": {},
     "output_type": "execute_result"
    }
   ],
   "source": [
    "carres2"
   ]
  },
  {
   "cell_type": "code",
   "execution_count": 153,
   "metadata": {},
   "outputs": [
    {
     "data": {
      "text/plain": [
       "True"
      ]
     },
     "execution_count": 153,
     "metadata": {},
     "output_type": "execute_result"
    }
   ],
   "source": [
    "carres == carres2"
   ]
  },
  {
   "cell_type": "code",
   "execution_count": null,
   "metadata": {},
   "outputs": [],
   "source": [
    "rev_auteur = {val : key for key, val in auteur.items()}"
   ]
  },
  {
   "cell_type": "markdown",
   "metadata": {},
   "source": [
    "### Les chaînes de caractères\n",
    "\n",
    "* Problèmes d'encodage, comment rester en unicode.\n",
    "\n",
    "* Les différentes façons de formater une chaîne de caractères, les `fstrings`."
   ]
  },
  {
   "cell_type": "code",
   "execution_count": 178,
   "metadata": {},
   "outputs": [
    {
     "data": {
      "text/plain": [
       "{'firstname': 'John',\n",
       " 'lastname': 'Lennon',\n",
       " 'address': 'Abbey Road',\n",
       " 'age': 37,\n",
       " 'email': 'john@thebeatles.org'}"
      ]
     },
     "execution_count": 178,
     "metadata": {},
     "output_type": "execute_result"
    }
   ],
   "source": [
    "auteur"
   ]
  },
  {
   "cell_type": "code",
   "execution_count": 187,
   "metadata": {},
   "outputs": [],
   "source": [
    "greeting = 'Hello %s %s, how are you?' % (auteur['firstname'],\n",
    "                                          auteur['lastname'])"
   ]
  },
  {
   "cell_type": "code",
   "execution_count": 189,
   "metadata": {},
   "outputs": [],
   "source": [
    "greeting = 'Hello {} {}, how are you?'.format(auteur['firstname'],\n",
    "                                              auteur['lastname'])"
   ]
  },
  {
   "cell_type": "code",
   "execution_count": 195,
   "metadata": {},
   "outputs": [],
   "source": [
    "first, last = 'John', 'Lennon'\n",
    "greeting = f'Hello {first} {last}, how are you?'"
   ]
  },
  {
   "cell_type": "code",
   "execution_count": null,
   "metadata": {},
   "outputs": [],
   "source": []
  },
  {
   "cell_type": "code",
   "execution_count": 197,
   "metadata": {},
   "outputs": [
    {
     "name": "stdout",
     "output_type": "stream",
     "text": [
      "The average mensual cost is 2.86025\n"
     ]
    }
   ],
   "source": [
    "annual_cost = 34.323\n",
    "\n",
    "print(f\"The average mensual cost is {annual_cost/12}\")"
   ]
  },
  {
   "cell_type": "code",
   "execution_count": 130,
   "metadata": {},
   "outputs": [],
   "source": [
    "auteur1 = {\n",
    "    \"firstname\": \"John\",\n",
    "    \"lastname\": \"Lennon\",\n",
    "    \"address\": \"Abbey Road\",\n",
    "    \"age\": 37\n",
    "}\n",
    "\n",
    "auteur2 = {\n",
    "    'firstname': 'Paul',\n",
    "    'lastname': 'MacCartney',\n",
    "    'address': 'Abbey Road',\n",
    "    'age': 27,\n",
    "    'email': 'paul@thebeatles.org'\n",
    "}\n",
    "\n",
    "auteur3 = {\n",
    "    'lastname': 'Harrison',\n",
    "    'address': 'Abbey Road',\n",
    "    'age': 27,\n",
    "    'email': 'george@thebeatles.org'\n",
    "}\n"
   ]
  },
  {
   "cell_type": "code",
   "execution_count": 131,
   "metadata": {},
   "outputs": [],
   "source": [
    "authors = [auteur1, auteur2, auteur3]"
   ]
  },
  {
   "cell_type": "code",
   "execution_count": 163,
   "metadata": {},
   "outputs": [],
   "source": [
    "import datetime\n",
    "import warnings\n",
    "\n",
    "def create_header(author_list, place=\"Paris\", ):\n",
    "    \"\"\"Returns the header text from authors list.\n",
    "    \n",
    "    Parameters\n",
    "    ----------\n",
    "    author_list : a list of dicts\n",
    "        Each dictionnary should have \"firstname\" \n",
    "        and \"lastname\" keys\n",
    "    place : str, optional, default 'Paris'\n",
    "        The place the report was edited\n",
    "        \n",
    "    \n",
    "    Returns\n",
    "    -------\n",
    "    header : str\n",
    "        The header string\n",
    "    \n",
    "    \"\"\"\n",
    "    ajd = datetime.date.today()\n",
    "    \n",
    "    lines = [\n",
    "        f\"{place}, le {ajd.strftime('%d/%m/%y')}\\n\",\n",
    "        \"## Authors\\n\"\n",
    "    ]\n",
    "    for aut in author_list:\n",
    "        \n",
    "        firstname = aut.get(\"firstname\", \"\")\n",
    "        lastname = aut.get(\"lastname\", \"\")\n",
    "        \n",
    "        \"\"\"\n",
    "        try:\n",
    "            firstname = aut[\"firstname\"]\n",
    "        except KeyError as error:\n",
    "            warnings.warn(f\"missing firstname\")\n",
    "            firstname = \"\"\n",
    "        \n",
    "        try:        \n",
    "            lastname = aut[\"lastname\"]\n",
    "        except KeyError as error:\n",
    "            warnings.warn(f\"missing key {error}\")\n",
    "            lastname = \"\"\n",
    "        \"\"\"\n",
    "        lines.append(f'- {firstname} {lastname}')\n",
    "            \n",
    "    return \"\\n\".join(lines)\n",
    "                     "
   ]
  },
  {
   "cell_type": "code",
   "execution_count": 164,
   "metadata": {
    "scrolled": true
   },
   "outputs": [
    {
     "name": "stdout",
     "output_type": "stream",
     "text": [
      "zero div\n",
      "zero div\n",
      "zero div\n"
     ]
    }
   ],
   "source": [
    "header = create_header(authors)"
   ]
  },
  {
   "cell_type": "code",
   "execution_count": 160,
   "metadata": {},
   "outputs": [
    {
     "name": "stdout",
     "output_type": "stream",
     "text": [
      "Paris, le 16/05/19\n",
      "\n",
      "## Authors\n",
      "\n",
      "- John Lennon\n",
      "- Paul MacCartney\n",
      "-  Harrison\n"
     ]
    }
   ],
   "source": [
    "print(header)"
   ]
  },
  {
   "cell_type": "code",
   "execution_count": 141,
   "metadata": {},
   "outputs": [],
   "source": [
    "def fill_list(a=None):\n",
    "    if a is None:\n",
    "        a = []\n",
    "    a.append(0)\n",
    "    print(a)"
   ]
  },
  {
   "cell_type": "code",
   "execution_count": 142,
   "metadata": {},
   "outputs": [
    {
     "name": "stdout",
     "output_type": "stream",
     "text": [
      "[0]\n"
     ]
    }
   ],
   "source": [
    "fill_list()\n"
   ]
  },
  {
   "cell_type": "code",
   "execution_count": 212,
   "metadata": {},
   "outputs": [
    {
     "name": "stdout",
     "output_type": "stream",
     "text": [
      "zd***erqz***qerzqz\n"
     ]
    }
   ],
   "source": [
    "print('***'.join([\"zd\", \"erqz\", \"qerzqz\"]))"
   ]
  },
  {
   "cell_type": "code",
   "execution_count": 3,
   "metadata": {},
   "outputs": [],
   "source": [
    "import datetime"
   ]
  },
  {
   "cell_type": "code",
   "execution_count": 4,
   "metadata": {},
   "outputs": [],
   "source": [
    "ajd = datetime.date.today()"
   ]
  },
  {
   "cell_type": "code",
   "execution_count": 5,
   "metadata": {},
   "outputs": [
    {
     "data": {
      "text/plain": [
       "'Paris le 15/5/2019'"
      ]
     },
     "execution_count": 5,
     "metadata": {},
     "output_type": "execute_result"
    }
   ],
   "source": [
    "f'Paris le {ajd.day}/{ajd.month}/{ajd.year}'"
   ]
  },
  {
   "cell_type": "code",
   "execution_count": 233,
   "metadata": {},
   "outputs": [
    {
     "data": {
      "text/plain": [
       "'Paris, le 15/05/19'"
      ]
     },
     "execution_count": 233,
     "metadata": {},
     "output_type": "execute_result"
    }
   ],
   "source": [
    "ajd.strftime(\"Paris, le %d/%m/%y\")"
   ]
  },
  {
   "cell_type": "code",
   "execution_count": 1,
   "metadata": {},
   "outputs": [],
   "source": [
    "import locale"
   ]
  },
  {
   "cell_type": "code",
   "execution_count": 2,
   "metadata": {},
   "outputs": [
    {
     "data": {
      "text/plain": [
       "('fr_FR', 'UTF-8')"
      ]
     },
     "execution_count": 2,
     "metadata": {},
     "output_type": "execute_result"
    }
   ],
   "source": [
    "locale.getlocale()"
   ]
  },
  {
   "cell_type": "code",
   "execution_count": 8,
   "metadata": {},
   "outputs": [
    {
     "data": {
      "text/plain": [
       "'fr_FR.UTF-8'"
      ]
     },
     "execution_count": 8,
     "metadata": {},
     "output_type": "execute_result"
    }
   ],
   "source": [
    "locale.setlocale(locale.LC_ALL,  locale.getlocale())"
   ]
  },
  {
   "cell_type": "code",
   "execution_count": 9,
   "metadata": {},
   "outputs": [
    {
     "data": {
      "text/plain": [
       "'Joli mois de mai'"
      ]
     },
     "execution_count": 9,
     "metadata": {},
     "output_type": "execute_result"
    }
   ],
   "source": [
    "ajd.strftime(\"Joli mois de %B\")"
   ]
  },
  {
   "cell_type": "code",
   "execution_count": null,
   "metadata": {},
   "outputs": [],
   "source": [
    "\"\"\"## Authors\n",
    "\n",
    "- John Lennon\n",
    "- Paul McCartney\n",
    "- Georges Harrison\n",
    "\"\"\""
   ]
  },
  {
   "cell_type": "markdown",
   "metadata": {},
   "source": [
    "\n",
    "### Employer des modules de la bibliothèque standard\n",
    "\n",
    "\n",
    "* La syntaxe de `import`\n",
    "\n",
    "* La notion d'espace de noms\n",
    "\n",
    "* Récupérer les paramètres passés à un script : argparse.\n",
    "\n",
    "* Itérer différemment: itertools. **very pythonic**\n",
    "\n",
    "* Des objets pratiques: le module collections. **very pythonic**\n"
   ]
  },
  {
   "cell_type": "markdown",
   "metadata": {},
   "source": [
    "### Subprocess et shutils\n",
    "\n",
    "Exécuter des commandes système depuis Python : subprocess et shutils"
   ]
  },
  {
   "cell_type": "code",
   "execution_count": 24,
   "metadata": {},
   "outputs": [],
   "source": [
    "import sys"
   ]
  },
  {
   "cell_type": "code",
   "execution_count": 42,
   "metadata": {},
   "outputs": [],
   "source": [
    "import itertools"
   ]
  },
  {
   "cell_type": "code",
   "execution_count": 47,
   "metadata": {},
   "outputs": [
    {
     "name": "stdout",
     "output_type": "stream",
     "text": [
      "(1, 2, 3)\n",
      "(1, 2, 4)\n",
      "(1, 3, 4)\n",
      "(2, 3, 4)\n"
     ]
    }
   ],
   "source": [
    "for triple in itertools.combinations([1, 2, 3, 4], 3):\n",
    "    print(triple)"
   ]
  },
  {
   "cell_type": "code",
   "execution_count": 63,
   "metadata": {},
   "outputs": [],
   "source": [
    "import subprocess"
   ]
  },
  {
   "cell_type": "code",
   "execution_count": 64,
   "metadata": {},
   "outputs": [
    {
     "data": {
      "text/plain": [
       "CompletedProcess(args=['touch', 'toto'], returncode=0)"
      ]
     },
     "execution_count": 64,
     "metadata": {},
     "output_type": "execute_result"
    }
   ],
   "source": [
    "subprocess.run(['touch', 'toto'])"
   ]
  },
  {
   "cell_type": "code",
   "execution_count": 65,
   "metadata": {},
   "outputs": [],
   "source": [
    "import shutil"
   ]
  },
  {
   "cell_type": "code",
   "execution_count": null,
   "metadata": {},
   "outputs": [],
   "source": []
  },
  {
   "cell_type": "code",
   "execution_count": 48,
   "metadata": {},
   "outputs": [],
   "source": [
    "import collections"
   ]
  },
  {
   "cell_type": "code",
   "execution_count": 62,
   "metadata": {},
   "outputs": [],
   "source": [
    "from collections import deque"
   ]
  },
  {
   "cell_type": "code",
   "execution_count": 59,
   "metadata": {},
   "outputs": [],
   "source": [
    "dek = deque([1, 2, 3, 4], 4)"
   ]
  },
  {
   "cell_type": "code",
   "execution_count": 60,
   "metadata": {},
   "outputs": [],
   "source": [
    "dek.append(300)"
   ]
  },
  {
   "cell_type": "code",
   "execution_count": 61,
   "metadata": {},
   "outputs": [
    {
     "data": {
      "text/plain": [
       "deque([2, 3, 4, 300])"
      ]
     },
     "execution_count": 61,
     "metadata": {},
     "output_type": "execute_result"
    }
   ],
   "source": [
    "dek"
   ]
  },
  {
   "cell_type": "code",
   "execution_count": null,
   "metadata": {},
   "outputs": [],
   "source": []
  },
  {
   "cell_type": "code",
   "execution_count": 30,
   "metadata": {},
   "outputs": [],
   "source": [
    "import os"
   ]
  },
  {
   "cell_type": "code",
   "execution_count": 33,
   "metadata": {},
   "outputs": [
    {
     "data": {
      "text/plain": [
       "True"
      ]
     },
     "execution_count": 33,
     "metadata": {},
     "output_type": "execute_result"
    }
   ],
   "source": [
    "os.path.isfile(\"test.py\")"
   ]
  },
  {
   "cell_type": "code",
   "execution_count": 35,
   "metadata": {},
   "outputs": [],
   "source": [
    "from pathlib import Path"
   ]
  },
  {
   "cell_type": "code",
   "execution_count": 37,
   "metadata": {},
   "outputs": [],
   "source": [
    "fichier = Path('test.py')"
   ]
  },
  {
   "cell_type": "code",
   "execution_count": 39,
   "metadata": {},
   "outputs": [
    {
     "data": {
      "text/plain": [
       "os.stat_result(st_mode=33188, st_ino=187920, st_dev=2052, st_nlink=1, st_uid=1002, st_gid=1002, st_size=21, st_atime=1557931231, st_mtime=1557931226, st_ctime=1557931226)"
      ]
     },
     "execution_count": 39,
     "metadata": {},
     "output_type": "execute_result"
    }
   ],
   "source": [
    "fichier.lstat()"
   ]
  },
  {
   "cell_type": "code",
   "execution_count": 28,
   "metadata": {},
   "outputs": [
    {
     "data": {
      "text/plain": [
       "['/home/humancoders/learn_python',\n",
       " '/home/humancoders/miniconda3/lib/python37.zip',\n",
       " '/home/humancoders/miniconda3/lib/python3.7',\n",
       " '/home/humancoders/miniconda3/lib/python3.7/lib-dynload',\n",
       " '',\n",
       " '/home/humancoders/miniconda3/lib/python3.7/site-packages',\n",
       " '/home/humancoders/reporter',\n",
       " '/home/humancoders/miniconda3/lib/python3.7/site-packages/IPython/extensions',\n",
       " '/home/humancoders/.ipython']"
      ]
     },
     "execution_count": 28,
     "metadata": {},
     "output_type": "execute_result"
    }
   ],
   "source": [
    "sys.path"
   ]
  },
  {
   "cell_type": "code",
   "execution_count": 6,
   "metadata": {},
   "outputs": [],
   "source": [
    "import datetime\n",
    "ajd = datetime.date.today()"
   ]
  },
  {
   "cell_type": "code",
   "execution_count": 7,
   "metadata": {},
   "outputs": [],
   "source": [
    "from datetime import date"
   ]
  },
  {
   "cell_type": "code",
   "execution_count": 8,
   "metadata": {},
   "outputs": [
    {
     "data": {
      "text/plain": [
       "datetime.date(2019, 5, 15)"
      ]
     },
     "execution_count": 8,
     "metadata": {},
     "output_type": "execute_result"
    }
   ],
   "source": [
    "date.today()"
   ]
  },
  {
   "cell_type": "code",
   "execution_count": 9,
   "metadata": {},
   "outputs": [],
   "source": [
    "import math"
   ]
  },
  {
   "cell_type": "code",
   "execution_count": 13,
   "metadata": {},
   "outputs": [],
   "source": [
    "from math import cos\n",
    "from math import sqrt"
   ]
  },
  {
   "cell_type": "code",
   "execution_count": 23,
   "metadata": {},
   "outputs": [],
   "source": [
    "import numpy as np"
   ]
  },
  {
   "cell_type": "code",
   "execution_count": 20,
   "metadata": {},
   "outputs": [],
   "source": [
    "from numpy import cos as np_cos\n",
    "from pathlib import Path"
   ]
  },
  {
   "cell_type": "code",
   "execution_count": 17,
   "metadata": {},
   "outputs": [],
   "source": [
    "# from math import * # NO!!!"
   ]
  },
  {
   "cell_type": "code",
   "execution_count": 40,
   "metadata": {},
   "outputs": [],
   "source": [
    "cwd = Path('.')"
   ]
  },
  {
   "cell_type": "code",
   "execution_count": 41,
   "metadata": {},
   "outputs": [
    {
     "data": {
      "text/plain": [
       "PosixPath('/home/humancoders/learn_python')"
      ]
     },
     "execution_count": 41,
     "metadata": {},
     "output_type": "execute_result"
    }
   ],
   "source": [
    "cwd.absolute()"
   ]
  },
  {
   "cell_type": "code",
   "execution_count": null,
   "metadata": {},
   "outputs": [],
   "source": []
  },
  {
   "cell_type": "code",
   "execution_count": 10,
   "metadata": {},
   "outputs": [
    {
     "data": {
      "text/plain": [
       "-0.9999999999999986"
      ]
     },
     "execution_count": 10,
     "metadata": {},
     "output_type": "execute_result"
    }
   ],
   "source": [
    "math.cos(3.1415926)"
   ]
  },
  {
   "cell_type": "markdown",
   "metadata": {},
   "source": [
    "\n",
    "\n",
    "### Les fonctions\n",
    "\n",
    "* Les paramètres positionnels et paramètres nommés.\n",
    "\n",
    "\n",
    "De l'importance des bons noms de variable.\n",
    "\n",
    "\n",
    "* La documentation en ligne et les docstrings.\n",
    "\n",
    "Mieux vaut tout de suite que jamais. Doctests, les tests à l'intérieur des fonctions.\n",
    "\n",
    "\n",
    "* La portée des variables.\n",
    "\n",
    "C'est aussi le bon moment pour parler de représentation en mémoire, de garbage collector et de conte de références.\n",
    "\n",
    "* La notation `*args` et `**kwargs`.\n",
    "\n",
    "Ne pas abuser!\n",
    "\n",
    "\n",
    "* Introduction aux décorateurs.\n",
    "**very pythonic**\n",
    "\n",
    "\n",
    "[pep8.org](http://pep8.org)\n"
   ]
  },
  {
   "cell_type": "markdown",
   "metadata": {},
   "source": [
    "# Day 2\n",
    "\n",
    "\n",
    "## https://www.pythoncheatsheet.org/\n"
   ]
  },
  {
   "cell_type": "code",
   "execution_count": null,
   "metadata": {},
   "outputs": [],
   "source": []
  },
  {
   "cell_type": "markdown",
   "metadata": {},
   "source": [
    "### Consolider son code\n",
    "\n",
    "* Les bonnes pratiques : [pep8](http://pep8.org).\n",
    "\n",
    "Un bon moment pour parler de la façon de demander de l'aide et signaler des bugs. \n",
    "\n",
    "* Les exceptions : `try`, `except`, `raise` et `finally`.\n",
    "\n",
    "Les exceptions ne doivent jamais être passée en silence!\n",
    "\n",
    "* La gestion de contexte avec `with`.\n",
    "\n",
    "La bonne façon d'ouvrir un fichier -- peut être présent dans d'autres API.\n",
    "\n",
    "```py\n",
    "import this\n",
    "print('Hello World')\n",
    "```\n"
   ]
  },
  {
   "cell_type": "code",
   "execution_count": 30,
   "metadata": {},
   "outputs": [
    {
     "name": "stdout",
     "output_type": "stream",
     "text": [
      "John Lennon\n",
      "\n",
      "Paul McCartney\n",
      "\n"
     ]
    }
   ],
   "source": [
    "get_authors(\"autors.txt\")\n"
   ]
  },
  {
   "cell_type": "code",
   "execution_count": 19,
   "metadata": {},
   "outputs": [
    {
     "data": {
      "text/plain": [
       "['', 'r ret', ' t', 'e']"
      ]
     },
     "execution_count": 19,
     "metadata": {},
     "output_type": "execute_result"
    }
   ],
   "source": []
  },
  {
   "cell_type": "code",
   "execution_count": 22,
   "metadata": {},
   "outputs": [],
   "source": [
    "import json"
   ]
  },
  {
   "cell_type": "code",
   "execution_count": 31,
   "metadata": {},
   "outputs": [
    {
     "ename": "NameError",
     "evalue": "name 'create_header' is not defined",
     "output_type": "error",
     "traceback": [
      "\u001b[0;31m---------------------------------------------------------------------------\u001b[0m",
      "\u001b[0;31mNameError\u001b[0m                                 Traceback (most recent call last)",
      "\u001b[0;32m<ipython-input-31-a82150f344ab>\u001b[0m in \u001b[0;36m<module>\u001b[0;34m\u001b[0m\n\u001b[1;32m      2\u001b[0m     \u001b[0mauthors\u001b[0m \u001b[0;34m=\u001b[0m \u001b[0mjson\u001b[0m\u001b[0;34m.\u001b[0m\u001b[0mload\u001b[0m\u001b[0;34m(\u001b[0m\u001b[0mjson_file\u001b[0m\u001b[0;34m)\u001b[0m\u001b[0;34m\u001b[0m\u001b[0;34m\u001b[0m\u001b[0m\n\u001b[1;32m      3\u001b[0m \u001b[0;34m\u001b[0m\u001b[0m\n\u001b[0;32m----> 4\u001b[0;31m \u001b[0mcreate_header\u001b[0m\u001b[0;34m(\u001b[0m\u001b[0mauthors\u001b[0m\u001b[0;34m)\u001b[0m\u001b[0;34m\u001b[0m\u001b[0;34m\u001b[0m\u001b[0m\n\u001b[0m",
      "\u001b[0;31mNameError\u001b[0m: name 'create_header' is not defined"
     ]
    }
   ],
   "source": []
  },
  {
   "cell_type": "code",
   "execution_count": 27,
   "metadata": {},
   "outputs": [
    {
     "data": {
      "text/plain": [
       "[{'firstname': 'John',\n",
       "  'lastname': 'Lennon',\n",
       "  'address': 'Abbey Road',\n",
       "  'age': 37},\n",
       " {'firstname': 'Paul',\n",
       "  'lastname': 'MacCartney',\n",
       "  'address': 'Abbey Road',\n",
       "  'age': 27,\n",
       "  'email': 'paul@thebeatles.org'},\n",
       " {'firstname': 'Georges',\n",
       "  'lastname': 'Harrison',\n",
       "  'address': 'Abbey Road',\n",
       "  'age': 27,\n",
       "  'email': 'george@thebeatles.org'}]"
      ]
     },
     "execution_count": 27,
     "metadata": {},
     "output_type": "execute_result"
    }
   ],
   "source": []
  },
  {
   "cell_type": "code",
   "execution_count": 26,
   "metadata": {},
   "outputs": [
    {
     "data": {
      "text/plain": [
       "int"
      ]
     },
     "execution_count": 26,
     "metadata": {},
     "output_type": "execute_result"
    }
   ],
   "source": [
    "type(authors[0]['age'])"
   ]
  },
  {
   "cell_type": "code",
   "execution_count": 21,
   "metadata": {},
   "outputs": [
    {
     "data": {
      "text/plain": [
       "'r ret te'"
      ]
     },
     "execution_count": 21,
     "metadata": {},
     "output_type": "execute_result"
    }
   ],
   "source": [
    "\"zr retz tze\".replace(\"z\", \"\")\n"
   ]
  },
  {
   "cell_type": "code",
   "execution_count": 12,
   "metadata": {},
   "outputs": [
    {
     "name": "stdout",
     "output_type": "stream",
     "text": [
      "Done\n"
     ]
    },
    {
     "ename": "ZeroDivisionError",
     "evalue": "division by zero",
     "output_type": "error",
     "traceback": [
      "\u001b[0;31m---------------------------------------------------------------------------\u001b[0m",
      "\u001b[0;31mZeroDivisionError\u001b[0m                         Traceback (most recent call last)",
      "\u001b[0;32m<ipython-input-12-d207ef4320f1>\u001b[0m in \u001b[0;36m<module>\u001b[0;34m\u001b[0m\n\u001b[1;32m      1\u001b[0m \u001b[0;32mtry\u001b[0m\u001b[0;34m:\u001b[0m\u001b[0;34m\u001b[0m\u001b[0;34m\u001b[0m\u001b[0m\n\u001b[0;32m----> 2\u001b[0;31m     \u001b[0;36m1\u001b[0m\u001b[0;34m/\u001b[0m\u001b[0;36m0\u001b[0m\u001b[0;34m\u001b[0m\u001b[0;34m\u001b[0m\u001b[0m\n\u001b[0m\u001b[1;32m      3\u001b[0m     \u001b[0mprint\u001b[0m\u001b[0;34m(\u001b[0m\u001b[0;34m'Up'\u001b[0m\u001b[0;34m)\u001b[0m\u001b[0;34m\u001b[0m\u001b[0;34m\u001b[0m\u001b[0m\n\u001b[1;32m      4\u001b[0m \u001b[0;32mexcept\u001b[0m \u001b[0mNameError\u001b[0m\u001b[0;34m:\u001b[0m\u001b[0;34m\u001b[0m\u001b[0;34m\u001b[0m\u001b[0m\n\u001b[1;32m      5\u001b[0m     \u001b[0mprint\u001b[0m\u001b[0;34m(\u001b[0m\u001b[0;34m'bad'\u001b[0m\u001b[0;34m)\u001b[0m\u001b[0;34m\u001b[0m\u001b[0;34m\u001b[0m\u001b[0m\n",
      "\u001b[0;31mZeroDivisionError\u001b[0m: division by zero"
     ]
    }
   ],
   "source": [
    "try:\n",
    "    1/0\n",
    "    print('Up')\n",
    "except NameError:\n",
    "    print('bad')\n",
    "finally:\n",
    "    print('Done')"
   ]
  },
  {
   "cell_type": "markdown",
   "metadata": {},
   "source": [
    "* Le debugger en ligne de commande avec pdb.\n",
    "\n",
    "* Les tests unitaires avec pytest et les assertions.\n",
    "\n",
    "Les outils d'intégration continue\n",
    "\n",
    "* Les outils de qualité de code pylint, pyflakes, black.\n"
   ]
  },
  {
   "cell_type": "code",
   "execution_count": 9,
   "metadata": {},
   "outputs": [
    {
     "name": "stdout",
     "output_type": "stream",
     "text": [
      "Warning: Cannot change to a different GUI toolkit: notebook. Using qt instead.\n"
     ]
    }
   ],
   "source": [
    "import numpy as np\n",
    "import pandas as pd\n",
    "import matplotlib.pyplot as plt\n",
    "%matplotlib notebook"
   ]
  },
  {
   "cell_type": "code",
   "execution_count": 2,
   "metadata": {},
   "outputs": [],
   "source": [
    "my_array = np.array([1, 3, 4])"
   ]
  },
  {
   "cell_type": "code",
   "execution_count": 3,
   "metadata": {},
   "outputs": [
    {
     "data": {
      "text/plain": [
       "array([0.5, 1.5, 2. ])"
      ]
     },
     "execution_count": 3,
     "metadata": {},
     "output_type": "execute_result"
    }
   ],
   "source": [
    "my_array/2"
   ]
  },
  {
   "cell_type": "code",
   "execution_count": 4,
   "metadata": {},
   "outputs": [
    {
     "data": {
      "text/plain": [
       "dtype('int64')"
      ]
     },
     "execution_count": 4,
     "metadata": {},
     "output_type": "execute_result"
    }
   ],
   "source": [
    "my_array.dtype"
   ]
  },
  {
   "cell_type": "code",
   "execution_count": 5,
   "metadata": {},
   "outputs": [],
   "source": [
    "big_array = np.ones(10_000_000)"
   ]
  },
  {
   "cell_type": "code",
   "execution_count": 6,
   "metadata": {},
   "outputs": [
    {
     "data": {
      "text/plain": [
       "(10000000,)"
      ]
     },
     "execution_count": 6,
     "metadata": {},
     "output_type": "execute_result"
    }
   ],
   "source": [
    "big_array.shape"
   ]
  },
  {
   "cell_type": "code",
   "execution_count": 7,
   "metadata": {},
   "outputs": [],
   "source": [
    "big_list = list(big_array)"
   ]
  },
  {
   "cell_type": "code",
   "execution_count": 69,
   "metadata": {},
   "outputs": [],
   "source": [
    "my_array = np.arange(0, 32)"
   ]
  },
  {
   "cell_type": "code",
   "execution_count": 5,
   "metadata": {},
   "outputs": [],
   "source": [
    "square = np.array([[0, 2], [3, 4]])"
   ]
  },
  {
   "cell_type": "code",
   "execution_count": 6,
   "metadata": {},
   "outputs": [
    {
     "data": {
      "text/plain": [
       "3"
      ]
     },
     "execution_count": 6,
     "metadata": {},
     "output_type": "execute_result"
    }
   ],
   "source": [
    "square[1, 0]"
   ]
  },
  {
   "cell_type": "code",
   "execution_count": 79,
   "metadata": {},
   "outputs": [],
   "source": [
    "square_list = [[0, 2], [3, 4]]\n"
   ]
  },
  {
   "cell_type": "code",
   "execution_count": 84,
   "metadata": {},
   "outputs": [
    {
     "data": {
      "text/plain": [
       "3"
      ]
     },
     "execution_count": 84,
     "metadata": {},
     "output_type": "execute_result"
    }
   ],
   "source": [
    "square_list[1][0]"
   ]
  },
  {
   "cell_type": "code",
   "execution_count": 10,
   "metadata": {},
   "outputs": [],
   "source": [
    "_ = plt.plot(my_array, np.log(my_array))\n"
   ]
  },
  {
   "cell_type": "code",
   "execution_count": 3,
   "metadata": {},
   "outputs": [],
   "source": [
    "my_df = pd.DataFrame([[1, 3, 4], [5, 6, 7]],\n",
    "                     index=[\"a\", \"b\"],\n",
    "                     columns=[\"x\", \"y\", \"z\"])\n",
    "\n"
   ]
  },
  {
   "cell_type": "code",
   "execution_count": 14,
   "metadata": {},
   "outputs": [
    {
     "data": {
      "text/html": [
       "<div>\n",
       "<style scoped>\n",
       "    .dataframe tbody tr th:only-of-type {\n",
       "        vertical-align: middle;\n",
       "    }\n",
       "\n",
       "    .dataframe tbody tr th {\n",
       "        vertical-align: top;\n",
       "    }\n",
       "\n",
       "    .dataframe thead th {\n",
       "        text-align: right;\n",
       "    }\n",
       "</style>\n",
       "<table border=\"1\" class=\"dataframe\">\n",
       "  <thead>\n",
       "    <tr style=\"text-align: right;\">\n",
       "      <th></th>\n",
       "      <th>x</th>\n",
       "      <th>y</th>\n",
       "      <th>z</th>\n",
       "    </tr>\n",
       "  </thead>\n",
       "  <tbody>\n",
       "    <tr>\n",
       "      <th>a</th>\n",
       "      <td>1</td>\n",
       "      <td>3</td>\n",
       "      <td>4</td>\n",
       "    </tr>\n",
       "    <tr>\n",
       "      <th>b</th>\n",
       "      <td>5</td>\n",
       "      <td>6</td>\n",
       "      <td>7</td>\n",
       "    </tr>\n",
       "  </tbody>\n",
       "</table>\n",
       "</div>"
      ],
      "text/plain": [
       "   x  y  z\n",
       "a  1  3  4\n",
       "b  5  6  7"
      ]
     },
     "execution_count": 14,
     "metadata": {},
     "output_type": "execute_result"
    }
   ],
   "source": [
    "my_df"
   ]
  },
  {
   "cell_type": "code",
   "execution_count": 4,
   "metadata": {},
   "outputs": [
    {
     "data": {
      "text/plain": [
       "1"
      ]
     },
     "execution_count": 4,
     "metadata": {},
     "output_type": "execute_result"
    }
   ],
   "source": [
    "my_df.loc[\"a\", \"x\"]"
   ]
  },
  {
   "cell_type": "code",
   "execution_count": 10,
   "metadata": {},
   "outputs": [
    {
     "data": {
      "text/html": [
       "<div>\n",
       "<style scoped>\n",
       "    .dataframe tbody tr th:only-of-type {\n",
       "        vertical-align: middle;\n",
       "    }\n",
       "\n",
       "    .dataframe tbody tr th {\n",
       "        vertical-align: top;\n",
       "    }\n",
       "\n",
       "    .dataframe thead th {\n",
       "        text-align: right;\n",
       "    }\n",
       "</style>\n",
       "<table border=\"1\" class=\"dataframe\">\n",
       "  <thead>\n",
       "    <tr style=\"text-align: right;\">\n",
       "      <th></th>\n",
       "      <th>x</th>\n",
       "      <th>y</th>\n",
       "      <th>z</th>\n",
       "    </tr>\n",
       "  </thead>\n",
       "  <tbody>\n",
       "    <tr>\n",
       "      <th>a</th>\n",
       "      <td>1</td>\n",
       "      <td>3</td>\n",
       "      <td>4</td>\n",
       "    </tr>\n",
       "    <tr>\n",
       "      <th>b</th>\n",
       "      <td>5</td>\n",
       "      <td>6</td>\n",
       "      <td>7</td>\n",
       "    </tr>\n",
       "  </tbody>\n",
       "</table>\n",
       "</div>"
      ],
      "text/plain": [
       "   x  y  z\n",
       "a  1  3  4\n",
       "b  5  6  7"
      ]
     },
     "execution_count": 10,
     "metadata": {},
     "output_type": "execute_result"
    }
   ],
   "source": [
    "my_df"
   ]
  },
  {
   "cell_type": "code",
   "execution_count": 13,
   "metadata": {},
   "outputs": [
    {
     "data": {
      "text/plain": [
       "array([False,  True])"
      ]
     },
     "execution_count": 13,
     "metadata": {},
     "output_type": "execute_result"
    }
   ],
   "source": [
    "square[:, 0] > 1"
   ]
  },
  {
   "cell_type": "code",
   "execution_count": 12,
   "metadata": {},
   "outputs": [
    {
     "data": {
      "text/plain": [
       "array([[3, 4]])"
      ]
     },
     "execution_count": 12,
     "metadata": {},
     "output_type": "execute_result"
    }
   ],
   "source": [
    "square[square[:, 0] > 1]"
   ]
  },
  {
   "cell_type": "code",
   "execution_count": 9,
   "metadata": {},
   "outputs": [
    {
     "data": {
      "text/plain": [
       "a    False\n",
       "b     True\n",
       "Name: x, dtype: bool"
      ]
     },
     "execution_count": 9,
     "metadata": {},
     "output_type": "execute_result"
    }
   ],
   "source": [
    "my_df['x'] > 1"
   ]
  },
  {
   "cell_type": "code",
   "execution_count": 8,
   "metadata": {},
   "outputs": [
    {
     "data": {
      "text/html": [
       "<div>\n",
       "<style scoped>\n",
       "    .dataframe tbody tr th:only-of-type {\n",
       "        vertical-align: middle;\n",
       "    }\n",
       "\n",
       "    .dataframe tbody tr th {\n",
       "        vertical-align: top;\n",
       "    }\n",
       "\n",
       "    .dataframe thead th {\n",
       "        text-align: right;\n",
       "    }\n",
       "</style>\n",
       "<table border=\"1\" class=\"dataframe\">\n",
       "  <thead>\n",
       "    <tr style=\"text-align: right;\">\n",
       "      <th></th>\n",
       "      <th>x</th>\n",
       "      <th>y</th>\n",
       "      <th>z</th>\n",
       "    </tr>\n",
       "  </thead>\n",
       "  <tbody>\n",
       "    <tr>\n",
       "      <th>b</th>\n",
       "      <td>5</td>\n",
       "      <td>6</td>\n",
       "      <td>7</td>\n",
       "    </tr>\n",
       "  </tbody>\n",
       "</table>\n",
       "</div>"
      ],
      "text/plain": [
       "   x  y  z\n",
       "b  5  6  7"
      ]
     },
     "execution_count": 8,
     "metadata": {},
     "output_type": "execute_result"
    }
   ],
   "source": [
    "my_df[my_df['x'] > 1]"
   ]
  },
  {
   "cell_type": "code",
   "execution_count": 26,
   "metadata": {},
   "outputs": [],
   "source": [
    "with open(\n",
    "    \"../reporter/data/series-1800-2015_simplified.csv\", encoding=\"utf8\") as excel_file:\n",
    "    data = pd.read_csv(excel_file, index_col=0)\n",
    "\n",
    "    \n",
    "    "
   ]
  },
  {
   "cell_type": "code",
   "execution_count": 27,
   "metadata": {
    "scrolled": true
   },
   "outputs": [
    {
     "data": {
      "text/plain": [
       "pandas.core.frame.DataFrame"
      ]
     },
     "execution_count": 27,
     "metadata": {},
     "output_type": "execute_result"
    }
   ],
   "source": [
    "type(data)"
   ]
  },
  {
   "cell_type": "code",
   "execution_count": 33,
   "metadata": {},
   "outputs": [],
   "source": [
    "data = data.set_index('Série').transpose()"
   ]
  },
  {
   "cell_type": "code",
   "execution_count": 36,
   "metadata": {},
   "outputs": [],
   "source": [
    "data.index = data.index.astype(int)"
   ]
  },
  {
   "cell_type": "code",
   "execution_count": 38,
   "metadata": {},
   "outputs": [
    {
     "data": {
      "text/html": [
       "<div>\n",
       "<style scoped>\n",
       "    .dataframe tbody tr th:only-of-type {\n",
       "        vertical-align: middle;\n",
       "    }\n",
       "\n",
       "    .dataframe tbody tr th {\n",
       "        vertical-align: top;\n",
       "    }\n",
       "\n",
       "    .dataframe thead th {\n",
       "        text-align: right;\n",
       "    }\n",
       "</style>\n",
       "<table border=\"1\" class=\"dataframe\">\n",
       "  <thead>\n",
       "    <tr style=\"text-align: right;\">\n",
       "      <th>Série</th>\n",
       "      <th>A. France</th>\n",
       "      <th>A.a. Séries macroéconomiques</th>\n",
       "      <th>Indice des prix à la consommation (€, base 2000)</th>\n",
       "      <th>Produit intérieur brut (milliards d'€)</th>\n",
       "      <th>Revenu disponible des ménages (milliards d'€)</th>\n",
       "      <th>nan</th>\n",
       "      <th>A.b. Séries démographiques</th>\n",
       "      <th>Population (y compris DOM) (milliers)</th>\n",
       "      <th>Nombre de ménages (y compris DOM) (milliers)</th>\n",
       "      <th>nan</th>\n",
       "      <th>...</th>\n",
       "      <th>Produit intérieur brut (milliards de £)</th>\n",
       "      <th>Revenu disponible des ménages (milliards de £)</th>\n",
       "      <th>Population (milliers)</th>\n",
       "      <th>Nombre de ménages (milliers)</th>\n",
       "      <th>Taux d'intérêt à long terme</th>\n",
       "      <th>Taux d'intérêt à court terme</th>\n",
       "      <th>Indice du prix des logements, gouvernement (£, base 2000)</th>\n",
       "      <th>Indice du prix des logements, Halifax (£, base 2000)</th>\n",
       "      <th>Nombre de logements terminés (unités)</th>\n",
       "      <th>€ en £</th>\n",
       "    </tr>\n",
       "  </thead>\n",
       "  <tbody>\n",
       "    <tr>\n",
       "      <th>1800</th>\n",
       "      <td>NaN</td>\n",
       "      <td>NaN</td>\n",
       "      <td>0.000429</td>\n",
       "      <td>0.009952</td>\n",
       "      <td>0.008421</td>\n",
       "      <td>NaN</td>\n",
       "      <td>NaN</td>\n",
       "      <td>28601.353899</td>\n",
       "      <td>6882.055873</td>\n",
       "      <td>NaN</td>\n",
       "      <td>...</td>\n",
       "      <td>NaN</td>\n",
       "      <td>NaN</td>\n",
       "      <td>NaN</td>\n",
       "      <td>NaN</td>\n",
       "      <td>0.0471</td>\n",
       "      <td>0.05</td>\n",
       "      <td>NaN</td>\n",
       "      <td>NaN</td>\n",
       "      <td>NaN</td>\n",
       "      <td>NaN</td>\n",
       "    </tr>\n",
       "    <tr>\n",
       "      <th>1801</th>\n",
       "      <td>NaN</td>\n",
       "      <td>NaN</td>\n",
       "      <td>0.000442</td>\n",
       "      <td>0.010102</td>\n",
       "      <td>0.008548</td>\n",
       "      <td>NaN</td>\n",
       "      <td>NaN</td>\n",
       "      <td>28741.950591</td>\n",
       "      <td>6915.886240</td>\n",
       "      <td>NaN</td>\n",
       "      <td>...</td>\n",
       "      <td>NaN</td>\n",
       "      <td>NaN</td>\n",
       "      <td>NaN</td>\n",
       "      <td>NaN</td>\n",
       "      <td>0.0492</td>\n",
       "      <td>0.05</td>\n",
       "      <td>NaN</td>\n",
       "      <td>NaN</td>\n",
       "      <td>NaN</td>\n",
       "      <td>NaN</td>\n",
       "    </tr>\n",
       "    <tr>\n",
       "      <th>1802</th>\n",
       "      <td>NaN</td>\n",
       "      <td>NaN</td>\n",
       "      <td>0.000474</td>\n",
       "      <td>0.010253</td>\n",
       "      <td>0.008676</td>\n",
       "      <td>NaN</td>\n",
       "      <td>NaN</td>\n",
       "      <td>28883.238419</td>\n",
       "      <td>6949.882908</td>\n",
       "      <td>NaN</td>\n",
       "      <td>...</td>\n",
       "      <td>NaN</td>\n",
       "      <td>NaN</td>\n",
       "      <td>NaN</td>\n",
       "      <td>NaN</td>\n",
       "      <td>0.0423</td>\n",
       "      <td>0.05</td>\n",
       "      <td>NaN</td>\n",
       "      <td>NaN</td>\n",
       "      <td>NaN</td>\n",
       "      <td>NaN</td>\n",
       "    </tr>\n",
       "    <tr>\n",
       "      <th>1803</th>\n",
       "      <td>NaN</td>\n",
       "      <td>NaN</td>\n",
       "      <td>0.000474</td>\n",
       "      <td>0.010407</td>\n",
       "      <td>0.008806</td>\n",
       "      <td>NaN</td>\n",
       "      <td>NaN</td>\n",
       "      <td>29025.220781</td>\n",
       "      <td>6984.046694</td>\n",
       "      <td>NaN</td>\n",
       "      <td>...</td>\n",
       "      <td>NaN</td>\n",
       "      <td>NaN</td>\n",
       "      <td>NaN</td>\n",
       "      <td>NaN</td>\n",
       "      <td>0.0499</td>\n",
       "      <td>0.05</td>\n",
       "      <td>NaN</td>\n",
       "      <td>NaN</td>\n",
       "      <td>NaN</td>\n",
       "      <td>26.23828</td>\n",
       "    </tr>\n",
       "    <tr>\n",
       "      <th>1804</th>\n",
       "      <td>NaN</td>\n",
       "      <td>NaN</td>\n",
       "      <td>0.000426</td>\n",
       "      <td>0.010564</td>\n",
       "      <td>0.008938</td>\n",
       "      <td>NaN</td>\n",
       "      <td>NaN</td>\n",
       "      <td>29167.901090</td>\n",
       "      <td>7018.378421</td>\n",
       "      <td>NaN</td>\n",
       "      <td>...</td>\n",
       "      <td>NaN</td>\n",
       "      <td>NaN</td>\n",
       "      <td>NaN</td>\n",
       "      <td>NaN</td>\n",
       "      <td>0.0530</td>\n",
       "      <td>0.05</td>\n",
       "      <td>NaN</td>\n",
       "      <td>NaN</td>\n",
       "      <td>NaN</td>\n",
       "      <td>26.23828</td>\n",
       "    </tr>\n",
       "  </tbody>\n",
       "</table>\n",
       "<p>5 rows × 59 columns</p>\n",
       "</div>"
      ],
      "text/plain": [
       "Série  A. France  A.a. Séries macroéconomiques  \\\n",
       "1800         NaN                           NaN   \n",
       "1801         NaN                           NaN   \n",
       "1802         NaN                           NaN   \n",
       "1803         NaN                           NaN   \n",
       "1804         NaN                           NaN   \n",
       "\n",
       "Série  Indice des prix à la consommation (€, base 2000)  \\\n",
       "1800                                           0.000429   \n",
       "1801                                           0.000442   \n",
       "1802                                           0.000474   \n",
       "1803                                           0.000474   \n",
       "1804                                           0.000426   \n",
       "\n",
       "Série  Produit intérieur brut (milliards d'€)  \\\n",
       "1800                                 0.009952   \n",
       "1801                                 0.010102   \n",
       "1802                                 0.010253   \n",
       "1803                                 0.010407   \n",
       "1804                                 0.010564   \n",
       "\n",
       "Série  Revenu disponible des ménages (milliards d'€)  NaN  \\\n",
       "1800                                        0.008421  NaN   \n",
       "1801                                        0.008548  NaN   \n",
       "1802                                        0.008676  NaN   \n",
       "1803                                        0.008806  NaN   \n",
       "1804                                        0.008938  NaN   \n",
       "\n",
       "Série  A.b. Séries démographiques  Population (y compris DOM) (milliers)  \\\n",
       "1800                          NaN                           28601.353899   \n",
       "1801                          NaN                           28741.950591   \n",
       "1802                          NaN                           28883.238419   \n",
       "1803                          NaN                           29025.220781   \n",
       "1804                          NaN                           29167.901090   \n",
       "\n",
       "Série  Nombre de ménages (y compris DOM) (milliers)  NaN  ...  \\\n",
       "1800                                    6882.055873  NaN  ...   \n",
       "1801                                    6915.886240  NaN  ...   \n",
       "1802                                    6949.882908  NaN  ...   \n",
       "1803                                    6984.046694  NaN  ...   \n",
       "1804                                    7018.378421  NaN  ...   \n",
       "\n",
       "Série  Produit intérieur brut (milliards de £)  \\\n",
       "1800                                       NaN   \n",
       "1801                                       NaN   \n",
       "1802                                       NaN   \n",
       "1803                                       NaN   \n",
       "1804                                       NaN   \n",
       "\n",
       "Série  Revenu disponible des ménages (milliards de £)  Population (milliers)  \\\n",
       "1800                                              NaN                    NaN   \n",
       "1801                                              NaN                    NaN   \n",
       "1802                                              NaN                    NaN   \n",
       "1803                                              NaN                    NaN   \n",
       "1804                                              NaN                    NaN   \n",
       "\n",
       "Série  Nombre de ménages (milliers)  Taux d'intérêt à long terme  \\\n",
       "1800                            NaN                       0.0471   \n",
       "1801                            NaN                       0.0492   \n",
       "1802                            NaN                       0.0423   \n",
       "1803                            NaN                       0.0499   \n",
       "1804                            NaN                       0.0530   \n",
       "\n",
       "Série  Taux d'intérêt à court terme  \\\n",
       "1800                           0.05   \n",
       "1801                           0.05   \n",
       "1802                           0.05   \n",
       "1803                           0.05   \n",
       "1804                           0.05   \n",
       "\n",
       "Série  Indice du prix des logements, gouvernement (£, base 2000)  \\\n",
       "1800                                                 NaN           \n",
       "1801                                                 NaN           \n",
       "1802                                                 NaN           \n",
       "1803                                                 NaN           \n",
       "1804                                                 NaN           \n",
       "\n",
       "Série  Indice du prix des logements, Halifax (£, base 2000)  \\\n",
       "1800                                                 NaN      \n",
       "1801                                                 NaN      \n",
       "1802                                                 NaN      \n",
       "1803                                                 NaN      \n",
       "1804                                                 NaN      \n",
       "\n",
       "Série  Nombre de logements terminés (unités)    € en £  \n",
       "1800                                     NaN       NaN  \n",
       "1801                                     NaN       NaN  \n",
       "1802                                     NaN       NaN  \n",
       "1803                                     NaN  26.23828  \n",
       "1804                                     NaN  26.23828  \n",
       "\n",
       "[5 rows x 59 columns]"
      ]
     },
     "execution_count": 38,
     "metadata": {},
     "output_type": "execute_result"
    }
   ],
   "source": [
    "data.head()"
   ]
  },
  {
   "cell_type": "code",
   "execution_count": 15,
   "metadata": {},
   "outputs": [],
   "source": [
    "pd.read_excel?"
   ]
  },
  {
   "cell_type": "code",
   "execution_count": 52,
   "metadata": {},
   "outputs": [],
   "source": [
    "normalise = (data[\"Revenu disponible des ménages (milliards d'€)\"]\n",
    "             / data[\"Nombre de ménages (y compris DOM) (milliers)\"]) * 1e6"
   ]
  },
  {
   "cell_type": "code",
   "execution_count": 56,
   "metadata": {},
   "outputs": [
    {
     "data": {
      "image/png": "[encoded data removed]",
      "text/plain": [
       "<Figure size 432x288 with 1 Axes>"
      ]
     },
     "metadata": {
      "needs_background": "light"
     },
     "output_type": "display_data"
    }
   ],
   "source": [
    "ax = normalise.plot()\n",
    "ax.set_yscale('log')\n",
    "ax.set_xlabel('Anneé')\n",
    "ax.set_ylabel('Revenu par ménage (€)')\n",
    "\n",
    "fig = ax.get_figure()\n"
   ]
  },
  {
   "cell_type": "code",
   "execution_count": 57,
   "metadata": {},
   "outputs": [
    {
     "data": {
      "image/png": "[encoded data removed]",
      "text/plain": [
       "<Figure size 432x288 with 1 Axes>"
      ]
     },
     "execution_count": 57,
     "metadata": {},
     "output_type": "execute_result"
    }
   ],
   "source": [
    "fig.savefig(\"revenus_menage.png\")"
   ]
  },
  {
   "cell_type": "code",
   "execution_count": 55,
   "metadata": {},
   "outputs": [
    {
     "data": {
      "text/plain": [
       "<matplotlib.axes._subplots.AxesSubplot at 0x7f67ca8aae48>"
      ]
     },
     "execution_count": 55,
     "metadata": {},
     "output_type": "execute_result"
    },
    {
     "data": {
      "image/png": "[encoded data removed]",
      "text/plain": [
       "<Figure size 432x432 with 1 Axes>"
      ]
     },
     "metadata": {},
     "output_type": "display_data"
    }
   ],
   "source": [
    "series = pd.Series(3 * np.random.rand(4),\n",
    "                   index=['a', 'b', 'c', 'd'], name='series')\n",
    "\n",
    "\n",
    "series.plot.pie(figsize=(6, 6))"
   ]
  },
  {
   "cell_type": "markdown",
   "metadata": {},
   "source": [
    "### Une introduction à la manipulation de données en Python\n",
    "\n",
    "* l'écosystème scipy\n",
    "\n",
    "* les bibliothèques numpy scipy et matplotlib\n",
    "L'objet `ndarray`, la notion de vectorisation.\n",
    "\n",
    "* Lecture d'un fichier excel avec pandas et xlrd\n",
    "La `DataFrame` et les `Series` de pandas \n"
   ]
  },
  {
   "cell_type": "code",
   "execution_count": 25,
   "metadata": {},
   "outputs": [],
   "source": [
    "import json\n",
    "def read_authors(fichier):\n",
    "    if not fichier.endswith('.json'):\n",
    "        raise ValueError(f\"File {fichier} does not appear to be json\")\n",
    "    \n",
    "    with open(fichier, 'r') as json_file:\n",
    "        authors = json.load(json_file)\n",
    "    return authors\n",
    "    \n",
    "    "
   ]
  },
  {
   "cell_type": "code",
   "execution_count": 26,
   "metadata": {},
   "outputs": [
    {
     "ename": "ValueError",
     "evalue": "File authors.txt does not appear to be json",
     "output_type": "error",
     "traceback": [
      "\u001b[0;31m---------------------------------------------------------------------------\u001b[0m",
      "\u001b[0;31mValueError\u001b[0m                                Traceback (most recent call last)",
      "\u001b[0;32m<ipython-input-26-bdda0a0ce3a5>\u001b[0m in \u001b[0;36m<module>\u001b[0;34m\u001b[0m\n\u001b[0;32m----> 1\u001b[0;31m \u001b[0mread_authors\u001b[0m\u001b[0;34m(\u001b[0m\u001b[0;34m\"authors.txt\"\u001b[0m\u001b[0;34m)\u001b[0m\u001b[0;34m\u001b[0m\u001b[0;34m\u001b[0m\u001b[0m\n\u001b[0m",
      "\u001b[0;32m<ipython-input-25-8b8c044bad0a>\u001b[0m in \u001b[0;36mread_authors\u001b[0;34m(fichier)\u001b[0m\n\u001b[1;32m      2\u001b[0m \u001b[0;32mdef\u001b[0m \u001b[0mread_authors\u001b[0m\u001b[0;34m(\u001b[0m\u001b[0mfichier\u001b[0m\u001b[0;34m)\u001b[0m\u001b[0;34m:\u001b[0m\u001b[0;34m\u001b[0m\u001b[0;34m\u001b[0m\u001b[0m\n\u001b[1;32m      3\u001b[0m     \u001b[0;32mif\u001b[0m \u001b[0;32mnot\u001b[0m \u001b[0mfichier\u001b[0m\u001b[0;34m.\u001b[0m\u001b[0mendswith\u001b[0m\u001b[0;34m(\u001b[0m\u001b[0;34m'.json'\u001b[0m\u001b[0;34m)\u001b[0m\u001b[0;34m:\u001b[0m\u001b[0;34m\u001b[0m\u001b[0;34m\u001b[0m\u001b[0m\n\u001b[0;32m----> 4\u001b[0;31m         \u001b[0;32mraise\u001b[0m \u001b[0mValueError\u001b[0m\u001b[0;34m(\u001b[0m\u001b[0;34mf\"File {fichier} does not appear to be json\"\u001b[0m\u001b[0;34m)\u001b[0m\u001b[0;34m\u001b[0m\u001b[0;34m\u001b[0m\u001b[0m\n\u001b[0m\u001b[1;32m      5\u001b[0m \u001b[0;34m\u001b[0m\u001b[0m\n\u001b[1;32m      6\u001b[0m     \u001b[0;32mwith\u001b[0m \u001b[0mopen\u001b[0m\u001b[0;34m(\u001b[0m\u001b[0mfichier\u001b[0m\u001b[0;34m,\u001b[0m \u001b[0;34m'r'\u001b[0m\u001b[0;34m)\u001b[0m \u001b[0;32mas\u001b[0m \u001b[0mjson_file\u001b[0m\u001b[0;34m:\u001b[0m\u001b[0;34m\u001b[0m\u001b[0;34m\u001b[0m\u001b[0m\n",
      "\u001b[0;31mValueError\u001b[0m: File authors.txt does not appear to be json"
     ]
    }
   ],
   "source": [
    "read_authors(\"authors.txt\")"
   ]
  },
  {
   "cell_type": "markdown",
   "metadata": {},
   "source": [
    "### Installer des modules tiers \n",
    "\n",
    "* Comprendre le sys.path, les modules et les packages.\n",
    "\n",
    "\n",
    "\n",
    "[cookiecutter](https://cookiecutter.readthedocs.io/en/latest/usage.html) est un bon outil.\n",
    "\n",
    "* Les environnements virtuels.\n",
    "`venv` et `virtualenv` ou `conda`\n",
    "\n",
    "![Don't install packages as root](https://imgs.xkcd.com/comics/python_environment.png)\n",
    "\n",
    "* Installer un module tiers avec pip (et peut être conda).\n",
    "\n",
    "\n"
   ]
  },
  {
   "cell_type": "markdown",
   "metadata": {},
   "source": [
    "### Créer son propre module"
   ]
  },
  {
   "cell_type": "markdown",
   "metadata": {},
   "source": [
    "Training data:\n",
    "https://github.com/glyg/learn_python/raw/master/series-1800-2015_simplified.xlsx"
   ]
  },
  {
   "cell_type": "markdown",
   "metadata": {},
   "source": [
    "<hr/>\n",
    "\n",
    "### Programmation orientée objet\n",
    "\n",
    "* Les concepts de la programmation orientée objet.\n",
    "\n",
    "* Comment s'écrit une classe en Python\n",
    "\n",
    "> Si une classe n'a qu'une fonction à part `__init__` c'est une fonction.\n",
    "\n",
    "* Documentation des classes\n",
    "\n",
    "* Attributs de classe et d'instance, les attributs `property`.\n",
    "\n",
    "* Les méthodes spéciales (surcharge d'opérateurs,` __iter__`).\n",
    "\n",
    "* L'héritage et la redéfinition de fonctions.\n",
    "\n",
    "\n",
    "\n"
   ]
  },
  {
   "cell_type": "code",
   "execution_count": 27,
   "metadata": {},
   "outputs": [],
   "source": [
    "ma_liste = [1, 2, 3, 4]\n"
   ]
  },
  {
   "cell_type": "code",
   "execution_count": 31,
   "metadata": {},
   "outputs": [],
   "source": [
    "def append(une_liste, valeur):\n",
    "    new = list(range(len(une_liste) + 1))\n",
    "    for i, val in enumerate(une_liste):\n",
    "        new[i] = val\n",
    "    \n",
    "    new[-1] = valeur\n",
    "    return new\n",
    "    "
   ]
  },
  {
   "cell_type": "code",
   "execution_count": 34,
   "metadata": {},
   "outputs": [],
   "source": [
    "ma_liste = append(ma_liste, 0)"
   ]
  },
  {
   "cell_type": "code",
   "execution_count": 36,
   "metadata": {},
   "outputs": [],
   "source": [
    "ma_liste.append(0)"
   ]
  },
  {
   "cell_type": "code",
   "execution_count": 63,
   "metadata": {},
   "outputs": [
    {
     "name": "stdout",
     "output_type": "stream",
     "text": [
      "[1, 2, 3, 4, 0, 0, 0, 0]\n"
     ]
    }
   ],
   "source": [
    "representation = ma_liste.__str__()\n",
    "\n",
    "print(representation)"
   ]
  },
  {
   "cell_type": "code",
   "execution_count": 64,
   "metadata": {},
   "outputs": [
    {
     "data": {
      "text/plain": [
       "list"
      ]
     },
     "execution_count": 64,
     "metadata": {},
     "output_type": "execute_result"
    }
   ],
   "source": [
    "type(ma_liste)"
   ]
  },
  {
   "cell_type": "code",
   "execution_count": 8,
   "metadata": {},
   "outputs": [
    {
     "data": {
      "text/plain": [
       "['reporter usage.ipynb',\n",
       " '.git',\n",
       " 'header.html',\n",
       " 'README.md',\n",
       " 'authors.txt',\n",
       " 'header.md',\n",
       " '.gitignore',\n",
       " 'header.pdf',\n",
       " 'header.docx',\n",
       " 'Notes.slides.html',\n",
       " 'Notes.ipynb',\n",
       " '.ipynb_checkpoints']"
      ]
     },
     "execution_count": 8,
     "metadata": {},
     "output_type": "execute_result"
    }
   ],
   "source": [
    "import os\n",
    "os.listdir()"
   ]
  },
  {
   "cell_type": "code",
   "execution_count": 15,
   "metadata": {},
   "outputs": [
    {
     "name": "stdout",
     "output_type": "stream",
     "text": [
      " authors.txt   header.md     Notes.slides.html\r\n",
      " header.docx   header.pdf    README.md\r\n",
      " header.html   Notes.ipynb  'reporter usage.ipynb'\r\n"
     ]
    }
   ],
   "source": [
    "ls"
   ]
  },
  {
   "cell_type": "code",
   "execution_count": 16,
   "metadata": {},
   "outputs": [],
   "source": [
    "\n",
    "class Reporter:\n",
    "    \n",
    "    def __init__(self, directory):\n",
    "        pass\n",
    "    \n",
    "    def to_md(self, output):\n",
    "        \"\"\"Writes a report in the output file\n",
    "        \n",
    "        \"\"\"\n",
    "        file_text = header + \"\\n\\n ![legende](graphique.png)\\n\\n\"\n",
    "        \n",
    "        \n",
    "    def to_html(self):\n",
    "        \"\"\"Exports the rapport in html\n",
    "        \n",
    "        \"\"\"\n",
    "        pass"
   ]
  },
  {
   "cell_type": "code",
   "execution_count": null,
   "metadata": {},
   "outputs": [],
   "source": []
  },
  {
   "cell_type": "code",
   "execution_count": 7,
   "metadata": {},
   "outputs": [],
   "source": [
    "class Pet:\n",
    "    \n",
    "    def __init__(self, name, age, weigth):\n",
    "        self.name = name\n",
    "        self.age = age\n",
    "        self.weight = weigth\n",
    "        self.position = (0.0, 0.0)\n",
    "        self.owner = None\n",
    "        \n",
    "        \n",
    "    def __str__(self):\n",
    "        return f'Hello, my name is {self.name}'\n",
    "    \n",
    "        \n",
    "    def walk(self, dx, dy):\n",
    "        prev_x, prev_y = self.position\n",
    "        self.position = (prev_x + dx, prev_y + dy)\n",
    "\n",
    "    def cry(self):\n",
    "        raise NotImplementedError\n",
    "        \n",
    "class Dog(Pet):        \n",
    "        \n",
    "    def cry(self):\n",
    "        print('OUA OUA')\n",
    "\n",
    "class Cat(Pet):        \n",
    "        \n",
    "    def cry(self):\n",
    "        print('Miaou')\n",
    "\n",
    "        "
   ]
  },
  {
   "cell_type": "code",
   "execution_count": 56,
   "metadata": {},
   "outputs": [
    {
     "name": "stdout",
     "output_type": "stream",
     "text": [
      "Médor\n",
      "(0.0, 0.0)\n",
      "(1.0, 2.0)\n"
     ]
    }
   ],
   "source": [
    "medor = Dog(\"Médor\", 1, 5)\n",
    "print(medor.name)\n",
    "print(medor.position)\n",
    "medor.walk(1, 2)\n",
    "print(medor.position)\n"
   ]
  },
  {
   "cell_type": "code",
   "execution_count": 57,
   "metadata": {},
   "outputs": [
    {
     "name": "stdout",
     "output_type": "stream",
     "text": [
      "Hello, my name is Médor\n"
     ]
    }
   ],
   "source": [
    "print(medor)"
   ]
  },
  {
   "cell_type": "code",
   "execution_count": 46,
   "metadata": {},
   "outputs": [],
   "source": [
    "medor.owner = 'Paul'"
   ]
  },
  {
   "cell_type": "code",
   "execution_count": 11,
   "metadata": {},
   "outputs": [],
   "source": [
    "from pathlib import Path"
   ]
  },
  {
   "cell_type": "code",
   "execution_count": 12,
   "metadata": {},
   "outputs": [],
   "source": [
    "doss = Path('../reporter/')"
   ]
  },
  {
   "cell_type": "code",
   "execution_count": 13,
   "metadata": {},
   "outputs": [
    {
     "data": {
      "text/plain": [
       "''"
      ]
     },
     "execution_count": 13,
     "metadata": {},
     "output_type": "execute_result"
    }
   ],
   "source": [
    "doss.suffix"
   ]
  },
  {
   "cell_type": "code",
   "execution_count": 14,
   "metadata": {},
   "outputs": [
    {
     "data": {
      "text/plain": [
       "PosixPath('../reporter/data/authors.json')"
      ]
     },
     "execution_count": 14,
     "metadata": {},
     "output_type": "execute_result"
    }
   ],
   "source": [
    "doss/\"data\"/'authors.json'"
   ]
  },
  {
   "cell_type": "code",
   "execution_count": 29,
   "metadata": {},
   "outputs": [],
   "source": [
    "new = list(range(len(ma_liste) + 1))"
   ]
  },
  {
   "cell_type": "code",
   "execution_count": 1,
   "metadata": {},
   "outputs": [],
   "source": [
    "import tkinter"
   ]
  },
  {
   "cell_type": "code",
   "execution_count": 4,
   "metadata": {},
   "outputs": [
    {
     "name": "stdout",
     "output_type": "stream",
     "text": [
      "hi there, everyone!\n",
      "hi there, everyone!\n",
      "hi there, everyone!\n",
      "hi there, everyone!\n",
      "hi there, everyone!\n",
      "hi there, everyone!\n",
      "hi there, everyone!\n",
      "hi there, everyone!\n",
      "hi there, everyone!\n",
      "hi there, everyone!\n",
      "hi there, everyone!\n",
      "hi there, everyone!\n",
      "hi there, everyone!\n",
      "hi there, everyone!\n"
     ]
    },
    {
     "data": {
      "text/plain": [
       "<tkinter.Canvas object .!canvas>"
      ]
     },
     "execution_count": 4,
     "metadata": {},
     "output_type": "execute_result"
    }
   ],
   "source": [
    "import tkinter as tk\n",
    "\n",
    "class Application(tk.Frame):\n",
    "    def __init__(self, master=None):\n",
    "        super().__init__(master)\n",
    "        self.pack()\n",
    "        self.create_widgets()\n",
    "\n",
    "    def create_widgets(self):\n",
    "        self.hi_there = tk.Button(self)\n",
    "        self.hi_there[\"text\"] = \"Hello World\\n(click me)\"\n",
    "        self.hi_there[\"command\"] = self.say_hi\n",
    "        self.hi_there.pack(side=\"top\")\n",
    "\n",
    "        self.quit = tk.Button(self, text=\"QUIT\", fg=\"red\",\n",
    "                              command=root.destroy)\n",
    "        self.quit.pack(side=\"bottom\")\n",
    "\n",
    "    def say_hi(self):\n",
    "        print(\"hi there, everyone!\")\n",
    "\n",
    "root = tk.Tk()\n",
    "app = Application(master=root)\n",
    "app.mainloop()\n",
    "tkinter.Canvas()"
   ]
  },
  {
   "cell_type": "markdown",
   "metadata": {},
   "source": [
    "### De Python 2 à Python 3\n",
    "\n",
    "* Les principales différences.\n",
    "\n",
    "* Écrire du code compatible pour les deux versions (sixer).\n",
    "\n",
    "* Traduire du code Python 2 en Python 3: 2to3.\n",
    "\n",
    "https://docs.python.org/3/howto/pyporting.html\n",
    "\n",
    "```py\n",
    "\n",
    "\n",
    "from __future__ import absolute_import\n",
    "from __future__ import division\n",
    "from __future__ import print_function\n",
    "\n",
    "```\n"
   ]
  },
  {
   "cell_type": "code",
   "execution_count": 41,
   "metadata": {},
   "outputs": [],
   "source": [
    "from functools import wraps\n",
    "\n",
    "def add_copyright(fun):\n",
    "    \n",
    "    @wraps(fun)\n",
    "    def decorated(*args, **kwargs):\n",
    "        res = fun(*args, **kwargs)\n",
    "        res  = res + \"\\n © Maboite 2019\\n\"\n",
    "        return res\n",
    "    \n",
    "    return decorated"
   ]
  },
  {
   "cell_type": "code",
   "execution_count": 39,
   "metadata": {},
   "outputs": [],
   "source": [
    "@add_copyright\n",
    "def write_text():\n",
    "    \"\"\"Writes text, duh!!\"\"\"\n",
    "    \n",
    "    return \"Du texte \\n sur plusieurs \\n lignes\\n\"\n",
    "\n",
    "\n",
    "@add_copyright\n",
    "def write_other_text(test):\n",
    "    return \"D'autre texte \\n sur plusieurs \\n lignes\\n\"\n"
   ]
  },
  {
   "cell_type": "code",
   "execution_count": 40,
   "metadata": {},
   "outputs": [],
   "source": [
    "write_text?"
   ]
  },
  {
   "cell_type": "code",
   "execution_count": 48,
   "metadata": {},
   "outputs": [],
   "source": [
    "def fonction_arbitraire(*args, **kwargs):\n",
    "    print(type(args))\n",
    "    print(args)\n",
    "    print(type(kwargs))\n",
    "    print(kwargs)\n",
    "    \n",
    "    "
   ]
  },
  {
   "cell_type": "code",
   "execution_count": 52,
   "metadata": {},
   "outputs": [
    {
     "name": "stdout",
     "output_type": "stream",
     "text": [
      "<class 'tuple'>\n",
      "(1, 2, 3)\n",
      "<class 'dict'>\n",
      "{'show': True, 'pretty': False}\n"
     ]
    }
   ],
   "source": [
    "fonction_arbitraire(1, 2, 3, show=True, pretty=False)"
   ]
  },
  {
   "cell_type": "code",
   "execution_count": 25,
   "metadata": {},
   "outputs": [
    {
     "data": {
      "text/plain": [
       "'Du texte \\n sur plusieurs \\n lignes\\n\\n © Maboite 2019\\n'"
      ]
     },
     "execution_count": 25,
     "metadata": {},
     "output_type": "execute_result"
    }
   ],
   "source": [
    "write_decorated = add_copyright(write_text)\n",
    "write_decorated()"
   ]
  },
  {
   "cell_type": "code",
   "execution_count": 24,
   "metadata": {},
   "outputs": [
    {
     "data": {
      "text/plain": [
       "'Du texte \\n sur plusieurs \\n lignes\\n\\n © Maboite 2019\\n'"
      ]
     },
     "execution_count": 24,
     "metadata": {},
     "output_type": "execute_result"
    }
   ],
   "source": [
    "add_copyright(write_text)()"
   ]
  },
  {
   "cell_type": "code",
   "execution_count": 27,
   "metadata": {},
   "outputs": [
    {
     "data": {
      "text/plain": [
       "'Du texte \\n sur plusieurs \\n lignes\\n\\n © Maboite 2019\\n'"
      ]
     },
     "execution_count": 27,
     "metadata": {},
     "output_type": "execute_result"
    }
   ],
   "source": [
    "write_text()"
   ]
  },
  {
   "cell_type": "code",
   "execution_count": 31,
   "metadata": {},
   "outputs": [
    {
     "data": {
      "text/plain": [
       "\"D'autre texte \\n sur plusieurs \\n lignes\\n\\n © Maboite 2019\\n\""
      ]
     },
     "execution_count": 31,
     "metadata": {},
     "output_type": "execute_result"
    }
   ],
   "source": [
    "write_other_text(\"a\")"
   ]
  },
  {
   "cell_type": "code",
   "execution_count": null,
   "metadata": {},
   "outputs": [],
   "source": []
  }
 ],
 "metadata": {
  "kernelspec": {
   "display_name": "Python 3",
   "language": "python",
   "name": "python3"
  },
  "language_info": {
   "codemirror_mode": {
    "name": "ipython",
    "version": 3
   },
   "file_extension": ".py",
   "mimetype": "text/x-python",
   "name": "python",
   "nbconvert_exporter": "python",
   "pygments_lexer": "ipython3",
   "version": "3.7.1"
  }
 },
 "nbformat": 4,
 "nbformat_minor": 2
}
