{
 "cells": [
  {
   "cell_type": "markdown",
   "metadata": {},
   "source": [
    "###### Vos attentes"
   ]
  },
  {
   "cell_type": "markdown",
   "metadata": {
    "slideshow": {
     "slide_type": "slide"
    }
   },
   "source": [
    "###### Qu'est-ce que Python?\n",
    "\n",
    "Python est un langage de programmation **interprété** généraliste. Il a été créé en 1991 par [Guido van Rossum](https://twitter.com/gvanrossum)\n",
    "![Photo of Guido van Rossum from wikipedia](https://upload.wikimedia.org/wikipedia/commons/thumb/6/66/Guido_van_Rossum_OSCON_2006.jpg/320px-Guido_van_Rossum_OSCON_2006.jpg).\n",
    "\n",
    "<hr>\n",
    "\n",
    "\n",
    "\n"
   ]
  },
  {
   "cell_type": "markdown",
   "metadata": {
    "slideshow": {
     "slide_type": "slide"
    }
   },
   "source": [
    "Le langage s'appelle comme ça en hommage aux [Monty Python](https://www.youtube.com/user/MontyPython)! \n",
    "\n",
    "![Silly walk gif](https://media.giphy.com/media/RzKHvdYC3uds4/giphy.gif)\n",
    "\n",
    "La motivation était de faire un langage lisible, un peu en réaction à Perl ;) principalement pour faire des scripts courts. Il a finalement évolué pour faire du code pas si court que ça!\n",
    "\n",
    "Le principe central:\n",
    "\n",
    "> **Le code est lu beaucoup plus souvent qu'il n'est écrit**\n",
    "\n",
    "On verra cela plus en détail au cours de la formation.\n",
    "\n",
    "\n",
    "* Il y a une implémentation de référence de l'interpréteur écrite en C : https://github.com/python/cpython\n",
    "\n",
    "* Le langage avance grâce aux _Python Enhancement Proposals_ ou [PEPs](https://www.python.org/dev/peps/)\n",
    "\n"
   ]
  },
  {
   "cell_type": "markdown",
   "metadata": {
    "slideshow": {
     "slide_type": "slide"
    }
   },
   "source": [
    "## La communauté\n",
    "\n",
    "\n",
    "> «Je suis venu pour le langage mais je suis resté pour la communauté»\n",
    "\n",
    "[Brett Cannon](https://twitter.com/brettsky) _core_ développeur\n",
    "\n",
    "\n",
    "* La [Python Software Foundation](https://www.python.org/psf/) possède les droits d'auteurs du langage et chapeaute la communauté.\n",
    "\n",
    "* Les core devs (94 personnes dont environ 50 actives).\n",
    "\n",
    "* [PyLadies](https://pyladies.com) et [DjangoGirls](https://djangogirls.org)\n",
    "\n",
    "* l'[Afpy](https://www.afpy.org/) - Association Python francophone.\n",
    "\n",
    "* les conférences\n",
    "    - PyCon US - PyConFR - EuroPython \n",
    "    - Fosdem\n",
    "    - EuroSciPy\n",
    "    - DjangoCon\n",
    "\n",
    "* Les meetups & conférences [PyData](https://pydata.org/)\n",
    "\n",
    "    - [PyData Paris](https://www.meetup.com/fr-FR/PyData-Paris/)\n"
   ]
  },
  {
   "cell_type": "markdown",
   "metadata": {
    "slideshow": {
     "slide_type": "slide"
    }
   },
   "source": [
    "######    \n",
    "\n",
    "## Ressources de documentation\n",
    "\n",
    "* [docs.python.org](https://docs.python.org/fr) - documentation Python en français\n",
    "* [readthedocs](https://readthedocs.org) - abrite une grande partie de la documentation des modules tiers.\n",
    "\n",
    "\n",
    "## Cannaux d'entr'aide\n",
    "\n",
    "* IRC **#python-fr** **#scipy** **#matplotlib** sur freenode\n",
    "* [gitter](https://gitter.im/) (pour les modules data)\n",
    "* [stackoverflow](https://stackoverflow.com/questions/tagged/python)\n",
    "* mailing lists\n"
   ]
  },
  {
   "cell_type": "markdown",
   "metadata": {
    "slideshow": {
     "slide_type": "slide"
    }
   },
   "source": [
    "<hr/>\n",
    "\n",
    "## L'interpreteur, le signe \"=\"\n"
   ]
  },
  {
   "cell_type": "code",
   "execution_count": 15,
   "metadata": {},
   "outputs": [
    {
     "data": {
      "text/plain": [
       "3.4641016151377544"
      ]
     },
     "execution_count": 15,
     "metadata": {},
     "output_type": "execute_result"
    }
   ],
   "source": [
    "12**0.5"
   ]
  },
  {
   "cell_type": "markdown",
   "metadata": {
    "slideshow": {
     "slide_type": "slide"
    }
   },
   "source": [
    "## Les types de données"
   ]
  },
  {
   "cell_type": "markdown",
   "metadata": {
    "slideshow": {
     "slide_type": "slide"
    }
   },
   "source": [
    "### Les chaînes de caractère\n",
    "\n",
    "- Représenter du texte, tout type de texte «😁» par exemple\n",
    "\n",
    "- Dans python 3, «chaîne de caractère» veut dire UTF-8 \n",
    "  (plus sur l'encodage plus tard). \n",
    "\n"
   ]
  },
  {
   "cell_type": "code",
   "execution_count": 18,
   "metadata": {},
   "outputs": [
    {
     "ename": "TypeError",
     "evalue": "unsupported operand type(s) for /: 'str' and 'str'",
     "output_type": "error",
     "traceback": [
      "\u001b[0;31m----------------------------------------------------------\u001b[0m",
      "\u001b[0;31mTypeError\u001b[0m                Traceback (most recent call last)",
      "\u001b[0;32m<ipython-input-18-ed21b5666524>\u001b[0m in \u001b[0;36m<module>\u001b[0;34m\u001b[0m\n\u001b[0;32m----> 1\u001b[0;31m \u001b[0;34m\"\"\"Hello '😁' \\n World\"\"\"\u001b[0m \u001b[0;34m/\u001b[0m \u001b[0;34m\"tes\"\u001b[0m\u001b[0;34m\u001b[0m\u001b[0;34m\u001b[0m\u001b[0m\n\u001b[0m",
      "\u001b[0;31mTypeError\u001b[0m: unsupported operand type(s) for /: 'str' and 'str'"
     ]
    }
   ],
   "source": [
    "\"\"\"Hello '😁' \\n World\"\"\" / \"tes\""
   ]
  },
  {
   "cell_type": "code",
   "execution_count": 19,
   "metadata": {},
   "outputs": [
    {
     "data": {
      "text/plain": [
       "str"
      ]
     },
     "execution_count": 19,
     "metadata": {},
     "output_type": "execute_result"
    }
   ],
   "source": [
    "a = \"John\"\n",
    "type(a)"
   ]
  },
  {
   "cell_type": "markdown",
   "metadata": {
    "slideshow": {
     "slide_type": "slide"
    }
   },
   "source": [
    "### Les nombres\n",
    "\n",
    "Il y a deux types de nombres, `int` et `float` pour représenter respectivement les entiers et les nombres \"réels\", aussi appelés \"à virgule flottante\", comme `2.78`. En Python, le marqueur de décimales est noté par un point.\n",
    "\n"
   ]
  },
  {
   "cell_type": "code",
   "execution_count": 23,
   "metadata": {},
   "outputs": [
    {
     "data": {
      "text/plain": [
       "float"
      ]
     },
     "execution_count": 23,
     "metadata": {},
     "output_type": "execute_result"
    }
   ],
   "source": [
    "type(2 / 2)"
   ]
  },
  {
   "cell_type": "code",
   "execution_count": 30,
   "metadata": {},
   "outputs": [
    {
     "data": {
      "text/plain": [
       "False"
      ]
     },
     "execution_count": 30,
     "metadata": {},
     "output_type": "execute_result"
    }
   ],
   "source": [
    "3 > 4"
   ]
  },
  {
   "cell_type": "code",
   "execution_count": 31,
   "metadata": {},
   "outputs": [],
   "source": [
    "my_var = None"
   ]
  },
  {
   "cell_type": "code",
   "execution_count": null,
   "metadata": {},
   "outputs": [],
   "source": []
  },
  {
   "cell_type": "code",
   "execution_count": null,
   "metadata": {},
   "outputs": [],
   "source": [
    "not True or True"
   ]
  },
  {
   "cell_type": "markdown",
   "metadata": {
    "slideshow": {
     "slide_type": "slide"
    }
   },
   "source": [
    "### Les booléens\n",
    "\n",
    "Seulement deux valeurs, vrai ou faux `True` ou `False` (avec une majuscule). Un objet peut être vrai ou faux, une chaîne ou une liste vide sont fausses par exemple.\n",
    "\n",
    "### `None`\n",
    "\n",
    "C'est la valeur de l'absence de valeur. On teste avec:\n",
    "\n",
    "```python\n",
    "if my_value is None:\n",
    "    my_value = default\n",
    "```"
   ]
  },
  {
   "cell_type": "markdown",
   "metadata": {},
   "source": [
    "## https://www.hackinscience.org"
   ]
  },
  {
   "cell_type": "markdown",
   "metadata": {
    "slideshow": {
     "slide_type": "slide"
    }
   },
   "source": [
    "### Les tuplets\n",
    "\n",
    "Représente une collection d'objets divers, entre parenthèses. Une fois créé, cette collection contient toujours les mêmes objets et ne peux pas grossir, on ne peut pas échanger un objet pour un autre, on ne peut pas changer leur ordre. `tuple` comme doublet, triplet, quintuplet.\n",
    "\n",
    "- Comment y accéder? Les indices.\n",
    "\n",
    "- Le dépaquetage\n"
   ]
  },
  {
   "cell_type": "code",
   "execution_count": 46,
   "metadata": {},
   "outputs": [],
   "source": [
    "author = (\"John\", \"Lennon\", 27)"
   ]
  },
  {
   "cell_type": "code",
   "execution_count": 45,
   "metadata": {},
   "outputs": [],
   "source": [
    "firstname = author[0]\n",
    "lastname = author[1]\n",
    "\n",
    "age = author[2]\n",
    "\n",
    "\n",
    "firstname1, lastname1, age1 = author"
   ]
  },
  {
   "cell_type": "code",
   "execution_count": null,
   "metadata": {},
   "outputs": [],
   "source": []
  },
  {
   "cell_type": "code",
   "execution_count": 47,
   "metadata": {},
   "outputs": [],
   "source": [
    "age = 32"
   ]
  },
  {
   "cell_type": "code",
   "execution_count": 42,
   "metadata": {},
   "outputs": [
    {
     "data": {
      "text/plain": [
       "('Jhon', 27)"
      ]
     },
     "execution_count": 42,
     "metadata": {},
     "output_type": "execute_result"
    }
   ],
   "source": [
    "auth"
   ]
  },
  {
   "cell_type": "code",
   "execution_count": 37,
   "metadata": {},
   "outputs": [
    {
     "ename": "TypeError",
     "evalue": "'tuple' object does not support item assignment",
     "output_type": "error",
     "traceback": [
      "\u001b[0;31m----------------------------------------------------------\u001b[0m",
      "\u001b[0;31mTypeError\u001b[0m                Traceback (most recent call last)",
      "\u001b[0;32m<ipython-input-37-6867308d02b3>\u001b[0m in \u001b[0;36m<module>\u001b[0;34m\u001b[0m\n\u001b[0;32m----> 1\u001b[0;31m \u001b[0mauthor\u001b[0m\u001b[0;34m[\u001b[0m\u001b[0;36m2\u001b[0m\u001b[0;34m]\u001b[0m \u001b[0;34m=\u001b[0m \u001b[0;36m28\u001b[0m\u001b[0;34m\u001b[0m\u001b[0;34m\u001b[0m\u001b[0m\n\u001b[0m",
      "\u001b[0;31mTypeError\u001b[0m: 'tuple' object does not support item assignment"
     ]
    }
   ],
   "source": [
    "author[2] = 28"
   ]
  },
  {
   "cell_type": "markdown",
   "metadata": {},
   "source": [
    "### Les listes\n",
    "\n",
    "Aussi une collection d'objets mais dont on peut changer la taille, que l'on peut ranger, et dont on peut changer les éléments.\n",
    "\n",
    "- Les indices (continued) et les 'tranches' d'indice\n",
    "\n",
    "- Les méthodes et attributs associées à un objet\n"
   ]
  },
  {
   "cell_type": "code",
   "execution_count": 51,
   "metadata": {},
   "outputs": [],
   "source": [
    "values = [12, 34, 5, 6, 6]"
   ]
  },
  {
   "cell_type": "code",
   "execution_count": 52,
   "metadata": {},
   "outputs": [
    {
     "data": {
      "text/plain": [
       "6"
      ]
     },
     "execution_count": 52,
     "metadata": {},
     "output_type": "execute_result"
    }
   ],
   "source": [
    "values[-1]"
   ]
  },
  {
   "cell_type": "code",
   "execution_count": 56,
   "metadata": {},
   "outputs": [
    {
     "data": {
      "text/plain": [
       "[6, 6, 5, 34, 12]"
      ]
     },
     "execution_count": 56,
     "metadata": {},
     "output_type": "execute_result"
    }
   ],
   "source": [
    "values[::-1]"
   ]
  },
  {
   "cell_type": "code",
   "execution_count": 57,
   "metadata": {},
   "outputs": [
    {
     "data": {
      "text/plain": [
       "5"
      ]
     },
     "execution_count": 57,
     "metadata": {},
     "output_type": "execute_result"
    }
   ],
   "source": [
    "len(values)"
   ]
  },
  {
   "cell_type": "code",
   "execution_count": 50,
   "metadata": {},
   "outputs": [
    {
     "data": {
      "text/plain": [
       "6"
      ]
     },
     "execution_count": 50,
     "metadata": {},
     "output_type": "execute_result"
    }
   ],
   "source": [
    "values[1][1]"
   ]
  },
  {
   "cell_type": "code",
   "execution_count": 62,
   "metadata": {},
   "outputs": [],
   "source": [
    "values.append(3)"
   ]
  },
  {
   "cell_type": "code",
   "execution_count": 68,
   "metadata": {},
   "outputs": [],
   "source": [
    "values.sort(reverse=True)"
   ]
  },
  {
   "cell_type": "code",
   "execution_count": 64,
   "metadata": {},
   "outputs": [
    {
     "data": {
      "text/plain": [
       "1"
      ]
     },
     "execution_count": 64,
     "metadata": {},
     "output_type": "execute_result"
    }
   ],
   "source": [
    "author.index(\"Lennon\")"
   ]
  },
  {
   "cell_type": "code",
   "execution_count": 69,
   "metadata": {},
   "outputs": [
    {
     "data": {
      "text/plain": [
       "[34, 12, 6, 6, 5, 3, 3]"
      ]
     },
     "execution_count": 69,
     "metadata": {},
     "output_type": "execute_result"
    }
   ],
   "source": [
    "values"
   ]
  },
  {
   "cell_type": "markdown",
   "metadata": {
    "slideshow": {
     "slide_type": "slide"
    }
   },
   "source": [
    "### Les ensembles (`set`) et dictionnaires\n",
    "\n",
    "#### Les sets\n",
    "\n",
    "- Un ensemble de valeurs uniques. Trés efficaces pour les opération ensemblistes (inclusion, union, différence).\n",
    "\n",
    "\n",
    "#### Les dictionnaires\n",
    "\n",
    "- Sans doute la structure la plus communément employée dans Python. On peut tout faire avec des dictionnaires.\n",
    "- Paires clefs valeurs (on garde l'ordre d'insertion)\n"
   ]
  },
  {
   "cell_type": "code",
   "execution_count": 72,
   "metadata": {},
   "outputs": [],
   "source": [
    "groupe = {0, 1, 2, 3, 4, 5, 5}"
   ]
  },
  {
   "cell_type": "raw",
   "metadata": {},
   "source": []
  },
  {
   "cell_type": "code",
   "execution_count": 74,
   "metadata": {},
   "outputs": [
    {
     "data": {
      "text/plain": [
       "True"
      ]
     },
     "execution_count": 74,
     "metadata": {},
     "output_type": "execute_result"
    }
   ],
   "source": [
    "groupe.issuperset({1, 2, 3})"
   ]
  },
  {
   "cell_type": "code",
   "execution_count": 75,
   "metadata": {},
   "outputs": [
    {
     "data": {
      "text/plain": [
       "('John', 'Lennon', 27)"
      ]
     },
     "execution_count": 75,
     "metadata": {},
     "output_type": "execute_result"
    }
   ],
   "source": [
    "author"
   ]
  },
  {
   "cell_type": "code",
   "execution_count": 76,
   "metadata": {},
   "outputs": [],
   "source": [
    "enfr = {\"name\": \"nom\", \"garden\": \"jardin\", \"sky\": \"ciel\"}"
   ]
  },
  {
   "cell_type": "code",
   "execution_count": 77,
   "metadata": {},
   "outputs": [
    {
     "data": {
      "text/plain": [
       "'nom'"
      ]
     },
     "execution_count": 77,
     "metadata": {},
     "output_type": "execute_result"
    }
   ],
   "source": [
    "enfr[\"name\"]"
   ]
  },
  {
   "cell_type": "code",
   "execution_count": 78,
   "metadata": {},
   "outputs": [],
   "source": [
    "author = {\"firstname\": \"John\", \"lastname\": \"Lennon\", \"age\": 27}"
   ]
  },
  {
   "cell_type": "code",
   "execution_count": 79,
   "metadata": {},
   "outputs": [
    {
     "data": {
      "text/plain": [
       "'John'"
      ]
     },
     "execution_count": 79,
     "metadata": {},
     "output_type": "execute_result"
    }
   ],
   "source": [
    "author[\"firstname\"]"
   ]
  },
  {
   "cell_type": "code",
   "execution_count": 80,
   "metadata": {},
   "outputs": [
    {
     "data": {
      "text/plain": [
       "139647302656968"
      ]
     },
     "execution_count": 80,
     "metadata": {},
     "output_type": "execute_result"
    }
   ],
   "source": [
    "id(groupe)"
   ]
  },
  {
   "cell_type": "code",
   "execution_count": 82,
   "metadata": {},
   "outputs": [
    {
     "data": {
      "text/plain": [
       "139647302656968"
      ]
     },
     "execution_count": 82,
     "metadata": {},
     "output_type": "execute_result"
    }
   ],
   "source": [
    "groupe2 = groupe\n",
    "id(groupe2)"
   ]
  },
  {
   "cell_type": "markdown",
   "metadata": {},
   "source": [
    "### L'introspection (type, dir, help, id, breakpoint, pdb)\n"
   ]
  },
  {
   "cell_type": "markdown",
   "metadata": {
    "slideshow": {
     "slide_type": "slide"
    }
   },
   "source": [
    "\n",
    "\n",
    "### Introduction aux  fonctions\n",
    "\n",
    "* Notion de fonction et d'argument\n",
    "\n",
    "* Définir une nouvelle fonction avec `def`\n",
    "\n",
    "\n",
    "### Les structures de contrôle\n",
    "\n",
    "* Les boucles `for` et `while`, les mots clefs `break` et `continue`.\n",
    "\n",
    "* Les tests if, elif et else, le test else à la sortie d'une boucle.\n",
    "\n"
   ]
  },
  {
   "cell_type": "code",
   "execution_count": 97,
   "metadata": {},
   "outputs": [],
   "source": [
    "author = {\"firstname\": \"John\", \"lastname\": \"Lennon\", \"age\": 27}\n",
    "author2= {\"firstname\": \"Paul\", \"lastname\": \"MacCartney\", \"age\": 27}\n",
    "\n",
    "def greet(person):\n",
    "    name = person['firstname'].capitalize()\n",
    "    print(\"Hello\", name)"
   ]
  },
  {
   "cell_type": "code",
   "execution_count": 100,
   "metadata": {},
   "outputs": [
    {
     "name": "stdout",
     "output_type": "stream",
     "text": [
      "Hello Paul\n"
     ]
    }
   ],
   "source": [
    "greet(person=author2)"
   ]
  },
  {
   "cell_type": "code",
   "execution_count": 94,
   "metadata": {},
   "outputs": [
    {
     "name": "stdout",
     "output_type": "stream",
     "text": [
      "Hello John\n"
     ]
    }
   ],
   "source": [
    "greet(\"john\")"
   ]
  },
  {
   "cell_type": "code",
   "execution_count": 95,
   "metadata": {},
   "outputs": [
    {
     "ename": "NameError",
     "evalue": "name 'name_' is not defined",
     "output_type": "error",
     "traceback": [
      "\u001b[0;31m----------------------------------------------------------\u001b[0m",
      "\u001b[0;31mNameError\u001b[0m                Traceback (most recent call last)",
      "\u001b[0;32m<ipython-input-95-c71727f92116>\u001b[0m in \u001b[0;36m<module>\u001b[0;34m\u001b[0m\n\u001b[0;32m----> 1\u001b[0;31m \u001b[0mname_\u001b[0m\u001b[0;34m\u001b[0m\u001b[0;34m\u001b[0m\u001b[0m\n\u001b[0m",
      "\u001b[0;31mNameError\u001b[0m: name 'name_' is not defined"
     ]
    }
   ],
   "source": [
    "name_\n"
   ]
  },
  {
   "cell_type": "code",
   "execution_count": 101,
   "metadata": {},
   "outputs": [
    {
     "data": {
      "text/plain": [
       "16"
      ]
     },
     "execution_count": 101,
     "metadata": {},
     "output_type": "execute_result"
    }
   ],
   "source": [
    "def square(x):\n",
    "    return x*x\n",
    "\n",
    "square(4)"
   ]
  },
  {
   "cell_type": "markdown",
   "metadata": {
    "slideshow": {
     "slide_type": "slide"
    }
   },
   "source": [
    "\n",
    "### Le Zen de Python\n",
    "\n",
    "![Zen](https://media.giphy.com/media/3o6ZsYMuMkxBNiy7pC/giphy.gif)\n"
   ]
  },
  {
   "cell_type": "code",
   "execution_count": 102,
   "metadata": {},
   "outputs": [
    {
     "name": "stdout",
     "output_type": "stream",
     "text": [
      "The Zen of Python, by Tim Peters\n",
      "\n",
      "Beautiful is better than ugly.\n",
      "Explicit is better than implicit.\n",
      "Simple is better than complex.\n",
      "Complex is better than complicated.\n",
      "Flat is better than nested.\n",
      "Sparse is better than dense.\n",
      "Readability counts.\n",
      "Special cases aren't special enough to break the rules.\n",
      "Although practicality beats purity.\n",
      "Errors should never pass silently.\n",
      "Unless explicitly silenced.\n",
      "In the face of ambiguity, refuse the temptation to guess.\n",
      "There should be one-- and preferably only one --obvious way to do it.\n",
      "Although that way may not be obvious at first unless you're Dutch.\n",
      "Now is better than never.\n",
      "Although never is often better than *right* now.\n",
      "If the implementation is hard to explain, it's a bad idea.\n",
      "If the implementation is easy to explain, it may be a good idea.\n",
      "Namespaces are one honking great idea -- let's do more of those!\n"
     ]
    }
   ],
   "source": [
    "import this"
   ]
  },
  {
   "cell_type": "markdown",
   "metadata": {},
   "source": [
    "<hr/>\n",
    "\n",
    "### Les séquences en python\n",
    "\n",
    "\n",
    "C'est une des particularités du langage, la façon de parcourir une séquence.\n",
    "\n",
    "\n",
    "* La notion d'*iterable* en Python: il suffit de demander\n",
    "\n",
    "* zip et enumerate.\n",
    "\n",
    "* Les constructions par compréhension. **very pythonic**\n",
    "\n",
    "* Embalage et désembalage, notation en étoile.\n",
    "\n",
    "* Les fonctions spéciales map, lambda, filter.\n",
    "\n",
    "\n"
   ]
  },
  {
   "cell_type": "raw",
   "metadata": {},
   "source": [
    "\"Paris, le 12/06/19\n",
    "\n",
    "#### Auteurs\n",
    "\n",
    "\n",
    "- Prénom1 Nom1\n",
    "- Prénom2 Nom2\n"
   ]
  },
  {
   "cell_type": "code",
   "execution_count": 113,
   "metadata": {},
   "outputs": [],
   "source": [
    "texts = [\"Patris, le 12/06/19\"]\n",
    "texts.append(\"John Lnennonc\")\n"
   ]
  },
  {
   "cell_type": "code",
   "execution_count": 114,
   "metadata": {},
   "outputs": [
    {
     "data": {
      "text/plain": [
       "['Patris, le 12/06/19', 'John Lnennonc']"
      ]
     },
     "execution_count": 114,
     "metadata": {},
     "output_type": "execute_result"
    }
   ],
   "source": [
    "texts"
   ]
  },
  {
   "cell_type": "code",
   "execution_count": 73,
   "metadata": {},
   "outputs": [],
   "source": [
    "import datetime\n",
    "import warnings\n",
    "\n",
    "def create_header(authors_list, location=\"Paris\"):\n",
    "    \"\"\"Creates the document header with authors and date\n",
    "    \n",
    "    Parameters\n",
    "    ----------\n",
    "    authors_list : list of dict\n",
    "        each dictionnary should have 'fisrtname' and 'lastname' keys\n",
    "    location : str, optional, default 'Paris' \n",
    "        the place from which the report is edited\n",
    "        \n",
    "    Return\n",
    "    ------\n",
    "    header_text : str\n",
    "        the text header\n",
    "    ...\n",
    "    \"\"\"\n",
    "    \n",
    "    ajd = datetime.date.today().strftime('%d/%m/%y')\n",
    "\n",
    "    texts = [f\"{location}, le {ajd}\\n\\n\", \"#### Auteurs\"]\n",
    "    for person in authors_list:\n",
    "        try:\n",
    "            first = person[\"firstname\"]\n",
    "        except KeyError:\n",
    "            warnings.warn('Missing firstname in author')\n",
    "            first = \"\"\n",
    "        try:    \n",
    "            last = person[\"lastname\"]\n",
    "        except KeyError:\n",
    "            warnings.warn('Missing lastname in author')\n",
    "            last = \"\"\n",
    "        finally:\n",
    "            print(\"I'm always executed !\")\n",
    "        \n",
    "        texts.append(f\"- {first} {last}\")\n",
    "    \n",
    "    return \"\\n\".join(texts)\n"
   ]
  },
  {
   "cell_type": "code",
   "execution_count": 74,
   "metadata": {},
   "outputs": [],
   "source": [
    "author = {\"firstname\": \"John\", \"lastname\": \"Lennon\", \"age\": 27}\n",
    "author2= {\"firstname\": \"Paul\", \"lastname\": \"MacCartney\", \"age\": 27}\n",
    "author3 = {\"firstname\":\"Georges\", \"age\": 64}\n",
    "\n",
    "my_authors = [author, author2, author3]"
   ]
  },
  {
   "cell_type": "code",
   "execution_count": 75,
   "metadata": {},
   "outputs": [],
   "source": [
    "authors_file = open(\"authors.txt\", \"r\", encoding=\"utf8\")"
   ]
  },
  {
   "cell_type": "code",
   "execution_count": 76,
   "metadata": {},
   "outputs": [
    {
     "data": {
      "text/plain": [
       "['John Lennon\\n', 'Paul McCarteney\\n', 'Georges Harrison\\n', 'Ringo\\n']"
      ]
     },
     "execution_count": 76,
     "metadata": {},
     "output_type": "execute_result"
    }
   ],
   "source": [
    "authors_file.readlines()"
   ]
  },
  {
   "cell_type": "code",
   "execution_count": null,
   "metadata": {},
   "outputs": [],
   "source": []
  },
  {
   "cell_type": "code",
   "execution_count": 37,
   "metadata": {},
   "outputs": [
    {
     "data": {
      "text/plain": [
       "0"
      ]
     },
     "execution_count": 37,
     "metadata": {},
     "output_type": "execute_result"
    }
   ],
   "source": [
    "authors_file.seek(0)"
   ]
  },
  {
   "cell_type": "code",
   "execution_count": 38,
   "metadata": {},
   "outputs": [
    {
     "data": {
      "text/plain": [
       "['John Lennon\\n', 'Paul McCarteney\\n', 'Georges Harrison\\n', 'Ringo\\n']"
      ]
     },
     "execution_count": 38,
     "metadata": {},
     "output_type": "execute_result"
    }
   ],
   "source": [
    "authors_file.readlines()"
   ]
  },
  {
   "cell_type": "code",
   "execution_count": 40,
   "metadata": {},
   "outputs": [
    {
     "data": {
      "text/plain": [
       "12"
      ]
     },
     "execution_count": 40,
     "metadata": {},
     "output_type": "execute_result"
    }
   ],
   "source": [
    "authors_file.seek(12)"
   ]
  },
  {
   "cell_type": "code",
   "execution_count": 41,
   "metadata": {},
   "outputs": [
    {
     "data": {
      "text/plain": [
       "'Paul McCarteney\\n'"
      ]
     },
     "execution_count": 41,
     "metadata": {},
     "output_type": "execute_result"
    }
   ],
   "source": [
    "authors_file.readline()"
   ]
  },
  {
   "cell_type": "code",
   "execution_count": 58,
   "metadata": {},
   "outputs": [],
   "source": [
    "authors_list = []\n",
    "\n",
    "with open(\"authors.txt\", \"r\", encoding=\"utf8\") as authors_file:\n",
    "    for line in authors_file:\n",
    "        splitted = line.split()\n",
    "        if len(splitted) > 1:\n",
    "            author = {\"firstname\": splitted[0],\n",
    "                      \"lastname\": splitted[1]}\n",
    "        elif len(splitted) == 1:\n",
    "            author = {\"lastname\": \"\",\n",
    "                      \"firstname\": splitted[0]}\n",
    "        else:\n",
    "            continue\n",
    "        authors_list.append(author)\n",
    "        \n"
   ]
  },
  {
   "cell_type": "code",
   "execution_count": 60,
   "metadata": {},
   "outputs": [],
   "source": [
    "authors_list = []\n",
    "with open(\"authors.txt\", \"r\", encoding=\"utf8\") as authors_file:\n",
    "    for line in authors_file:\n",
    "        author = {}\n",
    "        for key, name in zip((\"firstname\", \"lastname\"), line.split()):\n",
    "            author[key] = name\n",
    "        if author:\n",
    "            authors_list.append(author)\n",
    "        "
   ]
  },
  {
   "cell_type": "code",
   "execution_count": 63,
   "metadata": {},
   "outputs": [],
   "source": [
    "import json"
   ]
  },
  {
   "cell_type": "code",
   "execution_count": 70,
   "metadata": {},
   "outputs": [
    {
     "data": {
      "text/plain": [
       "[{'firstname': 'John', 'lastname': 'Lennon'},\n",
       " {'firstname': 'Paul', 'lastname': 'McCarteney'},\n",
       " {'firstname': 'Georges', 'lastname': 'Harrison'},\n",
       " {'firstname': 'Ringo'}]"
      ]
     },
     "execution_count": 70,
     "metadata": {},
     "output_type": "execute_result"
    }
   ],
   "source": [
    "authors_list"
   ]
  },
  {
   "cell_type": "code",
   "execution_count": 66,
   "metadata": {},
   "outputs": [],
   "source": [
    "with open(\"authors.json\", \"w\", encoding=\"utf8\") as authors_json:\n",
    "    json.dump(authors_list, authors_json)\n"
   ]
  },
  {
   "cell_type": "code",
   "execution_count": 68,
   "metadata": {},
   "outputs": [],
   "source": [
    "with open(\"authors.json\", \"r\", encoding=\"utf8\") as authors_json:\n",
    "    authors_reload = json.load(authors_json)\n"
   ]
  },
  {
   "cell_type": "code",
   "execution_count": 78,
   "metadata": {},
   "outputs": [],
   "source": [
    "def header_from_file(path_to_json):\n",
    "    with open(path_to_json, \"r\", encoding=\"utf8\") as authors_json:\n",
    "        authors_list = json.load(authors_json)\n",
    "    \n",
    "    return create_header(authors_list)\n",
    "    "
   ]
  },
  {
   "cell_type": "code",
   "execution_count": 79,
   "metadata": {},
   "outputs": [
    {
     "name": "stdout",
     "output_type": "stream",
     "text": [
      "I'm always executed !\n",
      "I'm always executed !\n",
      "I'm always executed !\n",
      "I'm always executed !\n"
     ]
    },
    {
     "name": "stderr",
     "output_type": "stream",
     "text": [
      "/home/humancoders/miniconda3/lib/python3.7/site-packages/ipykernel_launcher.py:33: UserWarning: Missing lastname in author\n"
     ]
    }
   ],
   "source": [
    "header_text = header_from_file(\"authors.json\")"
   ]
  },
  {
   "cell_type": "code",
   "execution_count": 80,
   "metadata": {},
   "outputs": [
    {
     "name": "stdout",
     "output_type": "stream",
     "text": [
      "Paris, le 13/06/19\n",
      "\n",
      "\n",
      "#### Auteurs\n",
      "- John Lennon\n",
      "- Paul McCarteney\n",
      "- Georges Harrison\n",
      "- Ringo \n"
     ]
    }
   ],
   "source": [
    "print(header_text)"
   ]
  },
  {
   "cell_type": "code",
   "execution_count": 69,
   "metadata": {},
   "outputs": [
    {
     "data": {
      "text/plain": [
       "[{'firstname': 'John', 'lastname': 'Lennon'},\n",
       " {'firstname': 'Paul', 'lastname': 'McCarteney'},\n",
       " {'firstname': 'Georges', 'lastname': 'Harrison'},\n",
       " {'firstname': 'Ringo'}]"
      ]
     },
     "execution_count": 69,
     "metadata": {},
     "output_type": "execute_result"
    }
   ],
   "source": [
    "authors_reload"
   ]
  },
  {
   "cell_type": "code",
   "execution_count": 67,
   "metadata": {},
   "outputs": [
    {
     "name": "stdout",
     "output_type": "stream",
     "text": [
      "a A\n",
      "b E\n",
      "a B\n",
      "b F\n",
      "a C\n",
      "b G\n"
     ]
    }
   ],
   "source": [
    "for a, b in zip('ABCD', 'EFG'):\n",
    "    print(\"a\", a)\n",
    "    print(\"b\", b)"
   ]
  },
  {
   "cell_type": "code",
   "execution_count": 62,
   "metadata": {},
   "outputs": [
    {
     "data": {
      "text/plain": [
       "[]"
      ]
     },
     "execution_count": 62,
     "metadata": {},
     "output_type": "execute_result"
    }
   ],
   "source": [
    "\"\\n\".split()"
   ]
  },
  {
   "cell_type": "code",
   "execution_count": 50,
   "metadata": {},
   "outputs": [],
   "source": [
    "ma_chaine = \"Guillaume Gay 40\""
   ]
  },
  {
   "cell_type": "code",
   "execution_count": 52,
   "metadata": {},
   "outputs": [],
   "source": [
    "splitted = ma_chaine.split()"
   ]
  },
  {
   "cell_type": "code",
   "execution_count": 54,
   "metadata": {},
   "outputs": [
    {
     "data": {
      "text/plain": [
       "'Guillaume'"
      ]
     },
     "execution_count": 54,
     "metadata": {},
     "output_type": "execute_result"
    }
   ],
   "source": [
    "splitted[0]"
   ]
  },
  {
   "cell_type": "code",
   "execution_count": null,
   "metadata": {},
   "outputs": [],
   "source": []
  },
  {
   "cell_type": "code",
   "execution_count": 43,
   "metadata": {},
   "outputs": [],
   "source": [
    "authors_file.close()"
   ]
  },
  {
   "cell_type": "code",
   "execution_count": 45,
   "metadata": {},
   "outputs": [
    {
     "data": {
      "text/plain": [
       "True"
      ]
     },
     "execution_count": 45,
     "metadata": {},
     "output_type": "execute_result"
    }
   ],
   "source": [
    "authors_file.closed"
   ]
  },
  {
   "cell_type": "code",
   "execution_count": 30,
   "metadata": {
    "scrolled": true
   },
   "outputs": [
    {
     "name": "stdout",
     "output_type": "stream",
     "text": [
      "I'm always executed !\n"
     ]
    },
    {
     "ename": "ZeroDivisionError",
     "evalue": "division by zero",
     "output_type": "error",
     "traceback": [
      "\u001b[0;31m---------------------------------------------------------------------------\u001b[0m",
      "\u001b[0;31mZeroDivisionError\u001b[0m                         Traceback (most recent call last)",
      "\u001b[0;32m<ipython-input-30-b922e2a2090f>\u001b[0m in \u001b[0;36m<module>\u001b[0;34m\u001b[0m\n\u001b[0;32m----> 1\u001b[0;31m \u001b[0mcreate_header\u001b[0m\u001b[0;34m(\u001b[0m\u001b[0mmy_authors\u001b[0m\u001b[0;34m,\u001b[0m \u001b[0mlocation\u001b[0m\u001b[0;34m=\u001b[0m\u001b[0;34m\"NY\"\u001b[0m\u001b[0;34m)\u001b[0m\u001b[0;34m\u001b[0m\u001b[0;34m\u001b[0m\u001b[0m\n\u001b[0m",
      "\u001b[0;32m<ipython-input-28-6574e879ef44>\u001b[0m in \u001b[0;36mcreate_header\u001b[0;34m(authors_list, location)\u001b[0m\n\u001b[1;32m     30\u001b[0m         \u001b[0;32mtry\u001b[0m\u001b[0;34m:\u001b[0m\u001b[0;34m\u001b[0m\u001b[0;34m\u001b[0m\u001b[0m\n\u001b[1;32m     31\u001b[0m             \u001b[0mlast\u001b[0m \u001b[0;34m=\u001b[0m \u001b[0mperson\u001b[0m\u001b[0;34m[\u001b[0m\u001b[0;34m\"lastname\"\u001b[0m\u001b[0;34m]\u001b[0m\u001b[0;34m\u001b[0m\u001b[0;34m\u001b[0m\u001b[0m\n\u001b[0;32m---> 32\u001b[0;31m             \u001b[0;36m1\u001b[0m\u001b[0;34m/\u001b[0m\u001b[0;36m0\u001b[0m\u001b[0;34m\u001b[0m\u001b[0;34m\u001b[0m\u001b[0m\n\u001b[0m\u001b[1;32m     33\u001b[0m         \u001b[0;32mexcept\u001b[0m \u001b[0mKeyError\u001b[0m\u001b[0;34m:\u001b[0m\u001b[0;34m\u001b[0m\u001b[0;34m\u001b[0m\u001b[0m\n\u001b[1;32m     34\u001b[0m             \u001b[0mwarnings\u001b[0m\u001b[0;34m.\u001b[0m\u001b[0mwarn\u001b[0m\u001b[0;34m(\u001b[0m\u001b[0;34m'Missing lastname in author'\u001b[0m\u001b[0;34m)\u001b[0m\u001b[0;34m\u001b[0m\u001b[0;34m\u001b[0m\u001b[0m\n",
      "\u001b[0;31mZeroDivisionError\u001b[0m: division by zero"
     ]
    }
   ],
   "source": [
    "create_header(my_authors, location=\"NY\")\n"
   ]
  },
  {
   "cell_type": "code",
   "execution_count": 214,
   "metadata": {},
   "outputs": [],
   "source": [
    "header?"
   ]
  },
  {
   "cell_type": "code",
   "execution_count": 149,
   "metadata": {},
   "outputs": [
    {
     "data": {
      "text/plain": [
       "'12/06/19'"
      ]
     },
     "execution_count": 149,
     "metadata": {},
     "output_type": "execute_result"
    }
   ],
   "source": [
    "ajd.strftime(\"%d/%m/%y\")"
   ]
  },
  {
   "cell_type": "code",
   "execution_count": 148,
   "metadata": {},
   "outputs": [
    {
     "data": {
      "text/plain": [
       "datetime.date(2019, 6, 12)"
      ]
     },
     "execution_count": 148,
     "metadata": {},
     "output_type": "execute_result"
    }
   ],
   "source": [
    "ajd\n"
   ]
  },
  {
   "cell_type": "code",
   "execution_count": 127,
   "metadata": {},
   "outputs": [
    {
     "name": "stdout",
     "output_type": "stream",
     "text": [
      "Paris, le 12/06/19\n",
      "John Lennon\n",
      "John Lennon\n"
     ]
    }
   ],
   "source": [
    "print(header(my_authors))"
   ]
  },
  {
   "cell_type": "code",
   "execution_count": 128,
   "metadata": {},
   "outputs": [
    {
     "name": "stdout",
     "output_type": "stream",
     "text": [
      "luWWliWWloWWla\n"
     ]
    }
   ],
   "source": [
    "print(\"WW\".join(['lu', 'li', 'lo', 'la']))"
   ]
  },
  {
   "cell_type": "code",
   "execution_count": 110,
   "metadata": {},
   "outputs": [
    {
     "name": "stdout",
     "output_type": "stream",
     "text": [
      "firstname\n",
      "John\n",
      "in\n",
      "lastname\n",
      "Lennon\n",
      "in\n",
      "age\n",
      "27\n",
      "in\n",
      "out\n"
     ]
    }
   ],
   "source": [
    "for key, val in author.items():\n",
    "    print(key)\n",
    "    print(val)\n",
    "    print('in')\n",
    "\n",
    "print('out')"
   ]
  },
  {
   "cell_type": "markdown",
   "metadata": {},
   "source": [
    "### Les chaînes de caractères\n",
    "\n",
    "* Problèmes d'encodage, comment rester en unicode.\n",
    "\n",
    "* Les différentes façons de formater une chaîne de caractères, les `fstrings`."
   ]
  },
  {
   "cell_type": "code",
   "execution_count": 1,
   "metadata": {},
   "outputs": [],
   "source": [
    "import numpy as np\n",
    "import pandas as pd\n",
    "import matplotlib.pyplot as plt\n",
    "\n",
    "%matplotlib inline"
   ]
  },
  {
   "cell_type": "code",
   "execution_count": 2,
   "metadata": {},
   "outputs": [],
   "source": [
    "arr = np.array([1, 2, 3, 4])"
   ]
  },
  {
   "cell_type": "raw",
   "metadata": {},
   "source": []
  },
  {
   "cell_type": "code",
   "execution_count": 3,
   "metadata": {},
   "outputs": [
    {
     "data": {
      "text/plain": [
       "(4,)"
      ]
     },
     "execution_count": 3,
     "metadata": {},
     "output_type": "execute_result"
    }
   ],
   "source": [
    "arr.shape"
   ]
  },
  {
   "cell_type": "code",
   "execution_count": null,
   "metadata": {},
   "outputs": [],
   "source": []
  },
  {
   "cell_type": "code",
   "execution_count": 4,
   "metadata": {},
   "outputs": [
    {
     "data": {
      "text/plain": [
       "array([ 1,  4,  9, 16])"
      ]
     },
     "execution_count": 4,
     "metadata": {},
     "output_type": "execute_result"
    }
   ],
   "source": [
    "arr**2"
   ]
  },
  {
   "cell_type": "code",
   "execution_count": 5,
   "metadata": {},
   "outputs": [
    {
     "data": {
      "text/plain": [
       "array([ 5,  8, 11, 14])"
      ]
     },
     "execution_count": 5,
     "metadata": {},
     "output_type": "execute_result"
    }
   ],
   "source": [
    "3*arr + 2"
   ]
  },
  {
   "cell_type": "code",
   "execution_count": 6,
   "metadata": {},
   "outputs": [],
   "source": [
    "arr = np.array([[0, 1], [2, 3], [4, 5]])"
   ]
  },
  {
   "cell_type": "code",
   "execution_count": 7,
   "metadata": {},
   "outputs": [
    {
     "data": {
      "text/plain": [
       "(3, 2)"
      ]
     },
     "execution_count": 7,
     "metadata": {},
     "output_type": "execute_result"
    }
   ],
   "source": [
    "arr.shape"
   ]
  },
  {
   "cell_type": "code",
   "execution_count": 8,
   "metadata": {},
   "outputs": [],
   "source": [
    "arr = np.arange(5, 17, 1)"
   ]
  },
  {
   "cell_type": "code",
   "execution_count": 9,
   "metadata": {},
   "outputs": [
    {
     "data": {
      "text/plain": [
       "array([[[ 5,  6],\n",
       "        [ 7,  8]],\n",
       "\n",
       "       [[ 9, 10],\n",
       "        [11, 12]],\n",
       "\n",
       "       [[13, 14],\n",
       "        [15, 16]]])"
      ]
     },
     "execution_count": 9,
     "metadata": {},
     "output_type": "execute_result"
    }
   ],
   "source": [
    "arr.reshape((3, 2, 2))"
   ]
  },
  {
   "cell_type": "code",
   "execution_count": 10,
   "metadata": {},
   "outputs": [],
   "source": [
    "import math"
   ]
  },
  {
   "cell_type": "code",
   "execution_count": 11,
   "metadata": {},
   "outputs": [],
   "source": [
    "many_ones = np.ones(3_000_000)\n",
    "many_ones_list = list(many_ones)"
   ]
  },
  {
   "cell_type": "code",
   "execution_count": 12,
   "metadata": {},
   "outputs": [
    {
     "data": {
      "image/png": "[encoded data removed]",
      "text/plain": [
       "<Figure size 432x144 with 1 Axes>"
      ]
     },
     "metadata": {
      "needs_background": "light"
     },
     "output_type": "display_data"
    }
   ],
   "source": [
    "arr = np.arange(-4, 4, 0.1)\n",
    "\n",
    "fig, ax = plt.subplots()\n",
    "\n",
    "\n",
    "ax.plot(arr, np.cosh(arr))\n",
    "\n",
    "ax.set_xlabel(\"Angle\")\n",
    "\n",
    "\n",
    "fig.set_size_inches(6, 2)\n"
   ]
  },
  {
   "cell_type": "code",
   "execution_count": 13,
   "metadata": {},
   "outputs": [],
   "source": [
    "fig.savefig(\"mon_graphe.pdf\", dpi=300)"
   ]
  },
  {
   "cell_type": "code",
   "execution_count": 14,
   "metadata": {},
   "outputs": [],
   "source": [
    "data = pd.DataFrame(np.zeros((5, 6)), index=list(\"abcde\"), columns=list('ABCDEF'))"
   ]
  },
  {
   "cell_type": "code",
   "execution_count": 15,
   "metadata": {},
   "outputs": [
    {
     "data": {
      "text/plain": [
       "0.0"
      ]
     },
     "execution_count": 15,
     "metadata": {},
     "output_type": "execute_result"
    }
   ],
   "source": [
    "data.loc['e', 'A']"
   ]
  },
  {
   "cell_type": "code",
   "execution_count": 16,
   "metadata": {},
   "outputs": [
    {
     "data": {
      "text/plain": [
       "a    0.0\n",
       "b    0.0\n",
       "c    0.0\n",
       "d    0.0\n",
       "e    0.0\n",
       "dtype: float64"
      ]
     },
     "execution_count": 16,
     "metadata": {},
     "output_type": "execute_result"
    }
   ],
   "source": [
    "data.eval(\"A + B\")"
   ]
  },
  {
   "cell_type": "code",
   "execution_count": 1,
   "metadata": {},
   "outputs": [],
   "source": [
    "import requests\n",
    "import json\n",
    "import numpy as np\n",
    "import pandas as pd\n",
    "import matplotlib.pyplot as plt\n",
    "\n",
    "%matplotlib inline\n"
   ]
  },
  {
   "cell_type": "code",
   "execution_count": 2,
   "metadata": {},
   "outputs": [],
   "source": [
    "\n",
    "\n",
    "response = requests.get('http://samples.openweathermap.org/data/2.5/forecast?id=524901&appid=b6907d289e10d714a6e88b30761fae22')\n",
    "content = json.loads(response.content)\n",
    "forecast = pd.DataFrame.from_records(content['list'])\n",
    "weather_data = pd.DataFrame.from_records(\n",
    "    forecast[\"main\"]).set_index(pd.DatetimeIndex(forecast['dt_txt']))"
   ]
  },
  {
   "cell_type": "code",
   "execution_count": 3,
   "metadata": {},
   "outputs": [],
   "source": [
    "weather_data.index = pd.to_datetime(weather_data.index)"
   ]
  },
  {
   "cell_type": "code",
   "execution_count": 4,
   "metadata": {},
   "outputs": [
    {
     "data": {
      "text/plain": [
       "<matplotlib.axes._subplots.AxesSubplot at 0x7f53502d09e8>"
      ]
     },
     "execution_count": 4,
     "metadata": {},
     "output_type": "execute_result"
    },
    {
     "data": {
      "image/png": "[encoded data removed]",
      "text/plain": [
       "<Figure size 432x288 with 1 Axes>"
      ]
     },
     "metadata": {
      "needs_background": "light"
     },
     "output_type": "display_data"
    }
   ],
   "source": [
    "weather_data.plot(y=[\"temp\", \"humidity\"])"
   ]
  },
  {
   "cell_type": "code",
   "execution_count": 142,
   "metadata": {},
   "outputs": [
    {
     "data": {
      "text/plain": [
       "<matplotlib.axes._subplots.AxesSubplot at 0x7feb4f9597b8>"
      ]
     },
     "execution_count": 142,
     "metadata": {},
     "output_type": "execute_result"
    },
    {
     "data": {
      "image/png": "[encoded data removed]",
      "text/plain": [
       "<Figure size 432x288 with 1 Axes>"
      ]
     },
     "metadata": {
      "needs_background": "light"
     },
     "output_type": "display_data"
    }
   ],
   "source": [
    "data.plot(y=\"Nombre de ménages (y compris DOM) (milliers)\")"
   ]
  },
  {
   "cell_type": "code",
   "execution_count": 125,
   "metadata": {},
   "outputs": [
    {
     "data": {
      "image/png": "[encoded data removed]",
      "text/plain": [
       "<Figure size 432x288 with 1 Axes>"
      ]
     },
     "metadata": {
      "needs_background": "light"
     },
     "output_type": "display_data"
    }
   ],
   "source": [
    "h = plt.hist(np.cosh(arr), bins=64)"
   ]
  },
  {
   "cell_type": "code",
   "execution_count": 122,
   "metadata": {},
   "outputs": [],
   "source": [
    "squared = []\n",
    "for i in many_ones_list:\n",
    "    squared.append(i**2)"
   ]
  },
  {
   "cell_type": "code",
   "execution_count": 157,
   "metadata": {},
   "outputs": [
    {
     "data": {
      "text/plain": [
       "1.0"
      ]
     },
     "execution_count": 157,
     "metadata": {},
     "output_type": "execute_result"
    }
   ],
   "source": [
    "cosh(0.)"
   ]
  },
  {
   "cell_type": "code",
   "execution_count": 154,
   "metadata": {},
   "outputs": [
    {
     "data": {
      "text/plain": [
       "-0.9999999999999986"
      ]
     },
     "execution_count": 154,
     "metadata": {},
     "output_type": "execute_result"
    }
   ],
   "source": [
    "math.cos(3.1415926)"
   ]
  },
  {
   "cell_type": "markdown",
   "metadata": {},
   "source": [
    "\n",
    "### Employer des modules de la bibliothèque standard\n",
    "\n",
    "* La syntaxe de `import`\n",
    "\n",
    "* La notion d'espace de noms\n",
    "\n",
    "* Récupérer les paramètres passés à un script : argparse.\n",
    "\n",
    "* Itérer différemment: itertools. **very pythonic**\n",
    "\n",
    "* Des objets pratiques: le module collections. **very pythonic**\n"
   ]
  },
  {
   "cell_type": "markdown",
   "metadata": {},
   "source": [
    "### Subprocess et shutils\n",
    "\n",
    "Exécuter des commandes système depuis Python : subprocess et shutils"
   ]
  },
  {
   "cell_type": "code",
   "execution_count": 93,
   "metadata": {},
   "outputs": [],
   "source": [
    "import subprocess"
   ]
  },
  {
   "cell_type": "code",
   "execution_count": 94,
   "metadata": {},
   "outputs": [],
   "source": [
    "from itertools import cycle, product"
   ]
  },
  {
   "cell_type": "code",
   "execution_count": 95,
   "metadata": {},
   "outputs": [
    {
     "name": "stdout",
     "output_type": "stream",
     "text": [
      "1 a\n",
      "1 b\n",
      "1 c\n",
      "1 d\n",
      "2 a\n",
      "2 b\n",
      "2 c\n",
      "2 d\n",
      "3 a\n",
      "3 b\n",
      "3 c\n",
      "3 d\n"
     ]
    }
   ],
   "source": [
    "for elem1, elem2 in product([1, 2, 3], \"abcd\"):\n",
    "    \n",
    "    print(elem1, elem2)"
   ]
  },
  {
   "cell_type": "code",
   "execution_count": 96,
   "metadata": {},
   "outputs": [],
   "source": [
    "def arbitrary(*args, **kwargs):\n",
    "    print(\"args: \",args)\n",
    "    print(\"kargs: \", kwargs)\n",
    "    \n",
    "    "
   ]
  },
  {
   "cell_type": "code",
   "execution_count": 97,
   "metadata": {},
   "outputs": [
    {
     "name": "stdout",
     "output_type": "stream",
     "text": [
      "args:  (1, 2, 3)\n",
      "kargs:  {'nom': 'John', 'test': 232}\n"
     ]
    }
   ],
   "source": [
    "arbitrary(1, 2, 3, nom=\"John\", test=232)"
   ]
  },
  {
   "cell_type": "code",
   "execution_count": 98,
   "metadata": {},
   "outputs": [
    {
     "data": {
      "text/plain": [
       "CompletedProcess(args=['firefox'], returncode=0)"
      ]
     },
     "execution_count": 98,
     "metadata": {},
     "output_type": "execute_result"
    }
   ],
   "source": [
    "subprocess.run(['firefox'])"
   ]
  },
  {
   "cell_type": "markdown",
   "metadata": {},
   "source": [
    "\n",
    "\n",
    "### Les fonctions\n",
    "\n",
    "* Les paramètres positionnels et paramètres nommés.\n",
    "\n",
    "\n",
    "De l'importance des bons noms de variable.\n",
    "\n",
    "\n",
    "* La documentation en ligne et les docstrings.\n",
    "\n",
    "Mieux vaut tout de suite que jamais. Doctests, les tests à l'intérieur des fonctions.\n",
    "\n",
    "\n",
    "* La portée des variables.\n",
    "\n",
    "C'est aussi le bon moment pour parler de représentation en mémoire, de garbage collector et de conte de références.\n",
    "\n",
    "* La notation `*args` et `**kwargs`.\n",
    "\n",
    "Ne pas abuser!\n",
    "\n",
    "\n",
    "* Introduction aux décorateurs.\n",
    "**very pythonic**\n",
    "\n",
    "\n",
    "[pep8.org](http://pep8.org)\n"
   ]
  },
  {
   "cell_type": "markdown",
   "metadata": {},
   "source": [
    "# Day 2\n",
    "\n",
    "\n",
    "## https://www.pythoncheatsheet.org/\n"
   ]
  },
  {
   "cell_type": "code",
   "execution_count": 20,
   "metadata": {},
   "outputs": [
    {
     "ename": "SyntaxError",
     "evalue": "invalid syntax (<ipython-input-20-d1cc5be5f7d2>, line 8)",
     "output_type": "error",
     "traceback": [
      "\u001b[0;36m  File \u001b[0;32m\"<ipython-input-20-d1cc5be5f7d2>\"\u001b[0;36m, line \u001b[0;32m8\u001b[0m\n\u001b[0;31m    \"min\": 1,\u001b[0m\n\u001b[0m        ^\u001b[0m\n\u001b[0;31mSyntaxError\u001b[0m\u001b[0;31m:\u001b[0m invalid syntax\n"
     ]
    }
   ],
   "source": [
    "options = {\n",
    "    \"join\": True,\n",
    "    \"split\": False,\n",
    "    \"parts\": 10,\n",
    "    #\"parts\": 12,\n",
    "    \"range\": (0, 4),\n",
    "    \"range\": (10, 4)\n",
    "    \"min\": 1,\n",
    "}"
   ]
  },
  {
   "cell_type": "code",
   "execution_count": 80,
   "metadata": {},
   "outputs": [],
   "source": [
    "import sys"
   ]
  },
  {
   "cell_type": "code",
   "execution_count": 82,
   "metadata": {},
   "outputs": [
    {
     "data": {
      "text/plain": [
       "'3.7.1 (default, Dec 14 2018, 19:28:38) \\n[GCC 7.3.0]'"
      ]
     },
     "execution_count": 82,
     "metadata": {},
     "output_type": "execute_result"
    }
   ],
   "source": [
    "sys.version"
   ]
  },
  {
   "cell_type": "code",
   "execution_count": 83,
   "metadata": {},
   "outputs": [
    {
     "data": {
      "text/plain": [
       "['/home/humancoders/learn_python',\n",
       " '/home/humancoders/miniconda3/lib/python37.zip',\n",
       " '/home/humancoders/miniconda3/lib/python3.7',\n",
       " '/home/humancoders/miniconda3/lib/python3.7/lib-dynload',\n",
       " '',\n",
       " '/home/humancoders/miniconda3/lib/python3.7/site-packages',\n",
       " '/home/humancoders/miniconda3/lib/python3.7/site-packages/reporter-0.0.1-py3.7.egg',\n",
       " '/home/humancoders/miniconda3/lib/python3.7/site-packages/IPython/extensions',\n",
       " '/home/humancoders/.ipython']"
      ]
     },
     "execution_count": 83,
     "metadata": {},
     "output_type": "execute_result"
    }
   ],
   "source": [
    "sys.path"
   ]
  },
  {
   "cell_type": "code",
   "execution_count": null,
   "metadata": {},
   "outputs": [],
   "source": [
    "my_long_variable\n",
    "[1, 3, 4, ]\n",
    "a = 1 + 2\n"
   ]
  },
  {
   "cell_type": "markdown",
   "metadata": {},
   "source": [
    "### Consolider son code\n",
    "\n",
    "* Les bonnes pratiques : [pep8](http://pep8.org).\n",
    "\n",
    "Un bon moment pour parler de la façon de demander de l'aide et signaler des bugs. \n",
    "\n",
    "* Les exceptions : `try`, `except`, `raise` et `finally`.\n",
    "\n",
    "Les exceptions ne doivent jamais être passée en silence!\n",
    "\n",
    "* La gestion de contexte avec `with`.\n",
    "\n",
    "La bonne façon d'ouvrir un fichier -- peut être présent dans d'autres API.\n",
    "\n",
    "\n"
   ]
  },
  {
   "cell_type": "markdown",
   "metadata": {},
   "source": [
    "### Architecture d'un module"
   ]
  },
  {
   "cell_type": "code",
   "execution_count": 72,
   "metadata": {},
   "outputs": [],
   "source": [
    "from reporter import generator"
   ]
  },
  {
   "cell_type": "markdown",
   "metadata": {},
   "source": [
    "\n",
    "\n",
    "* Le debugger en ligne de commande avec pdb.\n",
    "\n",
    "* Les tests unitaires avec pytest et les assertions.\n",
    "\n",
    "Les outils d'intégration continue\n",
    "\n",
    "* Les outils de qualité de code pylint, pyflakes, black.\n"
   ]
  },
  {
   "cell_type": "code",
   "execution_count": null,
   "metadata": {},
   "outputs": [],
   "source": []
  },
  {
   "cell_type": "markdown",
   "metadata": {},
   "source": [
    "### Une introduction à la manipulation de données en Python\n",
    "\n",
    "* l'écosystème scipy\n",
    "\n",
    "* les bibliothèques numpy scipy et matplotlib\n",
    "L'objet `ndarray`, la notion de vectorisation.\n",
    "\n",
    "* Lecture d'un fichier excel avec pandas et xlrd\n",
    "La `DataFrame` et les `Series` de pandas \n"
   ]
  },
  {
   "cell_type": "markdown",
   "metadata": {},
   "source": [
    "### Installer des modules tiers \n",
    "\n",
    "* Comprendre le sys.path, les modules et les packages.\n",
    "\n",
    "\n",
    "\n",
    "[cookiecutter](https://cookiecutter.readthedocs.io/en/latest/usage.html) est un bon outil.\n",
    "\n",
    "* Les environnements virtuels.\n",
    "`venv` et `virtualenv` ou `conda`\n",
    "\n",
    "![Don't install packages as root](https://imgs.xkcd.com/comics/python_environment.png)\n",
    "\n",
    "* Installer un module tiers avec pip (et peut être conda).\n",
    "\n",
    "\n"
   ]
  },
  {
   "cell_type": "markdown",
   "metadata": {},
   "source": [
    "### Créer son propre module"
   ]
  },
  {
   "cell_type": "markdown",
   "metadata": {},
   "source": [
    "### De Python 2 à Python 3\n",
    "\n",
    "* Les principales différences.\n",
    "\n",
    "* Écrire du code compatible pour les deux versions (sixer).\n",
    "\n",
    "* Traduire du code Python 2 en Python 3: 2to3."
   ]
  },
  {
   "cell_type": "markdown",
   "metadata": {},
   "source": [
    "Training data:\n",
    "https://github.com/glyg/learn_python/raw/master/series-1800-2015_simplified.xlsx"
   ]
  },
  {
   "cell_type": "markdown",
   "metadata": {},
   "source": [
    "<hr/>\n",
    "\n",
    "### Programmation orientée objet\n",
    "\n",
    "* Les concepts de la programmation orientée objet.\n",
    "\n",
    "* Comment s'écrit une classe en Python\n",
    "\n",
    "> Si une classe n'a qu'une fonction à part `__init__` c'est une fonction.\n",
    "\n",
    "* Documentation des classes\n",
    "\n",
    "* Attributs de classe et d'instance, les attributs `property`.\n",
    "\n",
    "* Les méthodes spéciales (surcharge d'opérateurs,` __iter__`).\n",
    "\n",
    "* L'héritage et la redéfinition de fonctions.\n",
    "\n",
    "\n",
    "\n"
   ]
  },
  {
   "cell_type": "code",
   "execution_count": 85,
   "metadata": {},
   "outputs": [
    {
     "data": {
      "text/plain": [
       "pandas.core.frame.DataFrame"
      ]
     },
     "execution_count": 85,
     "metadata": {},
     "output_type": "execute_result"
    }
   ],
   "source": [
    "type(weather_data)"
   ]
  },
  {
   "cell_type": "code",
   "execution_count": 86,
   "metadata": {},
   "outputs": [],
   "source": [
    "mylist = [1, 2, 3]"
   ]
  },
  {
   "cell_type": "code",
   "execution_count": 91,
   "metadata": {},
   "outputs": [],
   "source": [
    "\n",
    "def append(a, elem):\n",
    "    a.append(elem)\n",
    "    \n",
    "append(mylist, 3)    "
   ]
  },
  {
   "cell_type": "code",
   "execution_count": 123,
   "metadata": {},
   "outputs": [],
   "source": [
    "\n",
    "import uuid\n",
    "\n",
    "class Pet:\n",
    "    def __init__(self, name, owner, weight, size):\n",
    "        \n",
    "        self.name = name\n",
    "        self.owner = owner\n",
    "        self.weight = weight\n",
    "        self.size = size\n",
    "        self.id = uuid.uuid1()\n",
    "    \n",
    "    @property\n",
    "    def bmi(self):\n",
    "        return self.weight/self.size**2\n",
    "    \n",
    "    def eat(self, qty):\n",
    "        \n",
    "        self.weight = self.weight+qty\n",
    "        \n",
    "    def scream(self):\n",
    "        raise NotImplementedError\n",
    "        \n",
    "class Cat(Pet):\n",
    "    def scream(self):\n",
    "        print(\"Meow\")\n",
    "\n",
    "        \n",
    "class Dog(Pet):\n",
    "    def scream(self):\n",
    "        print(\"Wawawa\")\n",
    "\n",
    "    def wiggle(self):\n",
    "        print('\\./\\./\\./')"
   ]
  },
  {
   "cell_type": "code",
   "execution_count": 124,
   "metadata": {},
   "outputs": [],
   "source": [
    "\n",
    "medor = Dog(\"Médor\", owner=\"GG\", weight=6, size=30)"
   ]
  },
  {
   "cell_type": "code",
   "execution_count": 127,
   "metadata": {},
   "outputs": [
    {
     "data": {
      "text/plain": [
       "0.006666666666666667"
      ]
     },
     "execution_count": 127,
     "metadata": {},
     "output_type": "execute_result"
    }
   ],
   "source": [
    "medor.bmi"
   ]
  },
  {
   "cell_type": "code",
   "execution_count": null,
   "metadata": {},
   "outputs": [],
   "source": []
  },
  {
   "cell_type": "code",
   "execution_count": null,
   "metadata": {},
   "outputs": [],
   "source": []
  },
  {
   "cell_type": "code",
   "execution_count": 112,
   "metadata": {},
   "outputs": [
    {
     "name": "stdout",
     "output_type": "stream",
     "text": [
      "WAwawa\n"
     ]
    }
   ],
   "source": [
    "medor.scream()"
   ]
  },
  {
   "cell_type": "code",
   "execution_count": 114,
   "metadata": {},
   "outputs": [],
   "source": [
    "felix = Cat(\"Felix\", owner=\"GG\", weight=3, age=2)"
   ]
  },
  {
   "cell_type": "code",
   "execution_count": 115,
   "metadata": {},
   "outputs": [
    {
     "name": "stdout",
     "output_type": "stream",
     "text": [
      "Meow\n"
     ]
    }
   ],
   "source": [
    "felix.scream()"
   ]
  },
  {
   "cell_type": "code",
   "execution_count": 104,
   "metadata": {},
   "outputs": [],
   "source": [
    "medor.eat(1)"
   ]
  },
  {
   "cell_type": "code",
   "execution_count": 105,
   "metadata": {},
   "outputs": [
    {
     "data": {
      "text/plain": [
       "7"
      ]
     },
     "execution_count": 105,
     "metadata": {},
     "output_type": "execute_result"
    }
   ],
   "source": [
    "medor.weight"
   ]
  },
  {
   "cell_type": "code",
   "execution_count": null,
   "metadata": {},
   "outputs": [],
   "source": [
    "\"\\n![current weather](graph.png)\"\n",
    "        "
   ]
  },
  {
   "cell_type": "code",
   "execution_count": 4,
   "metadata": {},
   "outputs": [],
   "source": [
    "from reporter.generator import header_from_file\n",
    "\n",
    "import requests\n",
    "import json\n",
    "import numpy as np\n",
    "import pandas as pd\n",
    "import matplotlib.pyplot as plt\n",
    "\n",
    "import subprocess\n",
    "\n",
    "\n",
    "url = 'http://samples.openweathermap.org/data/2.5/forecast?id=524901&appid=b6907d289e10d714a6e88b30761fae22'\n",
    "\n",
    "class Reporter:\n",
    "     \n",
    "        def __init__(self, authors_json, weather_url):\n",
    "            \n",
    "            self.authors_json = authors_json\n",
    "            self.weather_url = weather_url\n",
    "            self.weather_data = self._get_weather_data()\n",
    "            \n",
    "            \n",
    "        def _get_weather_data(self):\n",
    "            \n",
    "            response = requests.get(self.weather_url)\n",
    "            content = json.loads(response.content)\n",
    "            forecast = pd.DataFrame.from_records(content['list'])\n",
    "            weather_data = pd.DataFrame.from_records(\n",
    "                forecast[\"main\"]).set_index(pd.DatetimeIndex(forecast['dt_txt']))\n",
    "            return weather_data\n",
    "    \n",
    "        def make_graph(self):\n",
    "            fig, ax = plt.subplots()\n",
    "            self.weather_dat['temp_C'] = self.weather_data['temp'] - 273.15\n",
    "            self.weather_data.plot(y='temp_C', ax=ax)\n",
    "            fig.savefig('graph.png', dpi=100)\n",
    "\n",
    "        \n",
    "        def make_report(self):\n",
    "            \n",
    "            header_text = header_from_file(self.authors_json)\n",
    "            graph_text = \"\\n\\n ![daily temp](graph.png)\\n\"\n",
    "            report_text = header_text + graph_text\n",
    "            with open(\"report.md\", \"w\") as rp:\n",
    "                rp.write(report_text)\n",
    "            \n",
    "            subprocess.run([\"pandoc\", \"report.md\", \"-o\", \"report.\"])\n",
    "            \n",
    "            \n",
    "               \n",
    "               "
   ]
  },
  {
   "cell_type": "code",
   "execution_count": 2,
   "metadata": {},
   "outputs": [
    {
     "name": "stdout",
     "output_type": "stream",
     "text": [
      "Automatic pdb calling has been turned ON\n"
     ]
    }
   ],
   "source": [
    "%pdb"
   ]
  },
  {
   "cell_type": "code",
   "execution_count": 5,
   "metadata": {},
   "outputs": [],
   "source": [
    "report = Reporter(\"authors.json\", url)"
   ]
  },
  {
   "cell_type": "code",
   "execution_count": null,
   "metadata": {},
   "outputs": [],
   "source": [
    "report.make_report()"
   ]
  },
  {
   "cell_type": "code",
   "execution_count": null,
   "metadata": {},
   "outputs": [],
   "source": []
  },
  {
   "cell_type": "code",
   "execution_count": 54,
   "metadata": {},
   "outputs": [],
   "source": [
    "payload_tuples = [('key1', 'value1'), ('key1', 'value2')]\n",
    "r1 = requests.post('https://httpbin.org/qzreq', data=payload_tuples)"
   ]
  },
  {
   "cell_type": "code",
   "execution_count": 68,
   "metadata": {},
   "outputs": [
    {
     "ename": "AttributeError",
     "evalue": "'Reporter' object has no attribute 'weather_dat'",
     "output_type": "error",
     "traceback": [
      "\u001b[0;31m---------------------------------------------------------------------------\u001b[0m",
      "\u001b[0;31mAttributeError\u001b[0m                            Traceback (most recent call last)",
      "\u001b[0;32m<ipython-input-68-80528770d315>\u001b[0m in \u001b[0;36m<module>\u001b[0;34m\u001b[0m\n\u001b[0;32m----> 1\u001b[0;31m \u001b[0mreport\u001b[0m\u001b[0;34m.\u001b[0m\u001b[0mmake_graph\u001b[0m\u001b[0;34m(\u001b[0m\u001b[0;34m)\u001b[0m\u001b[0;34m\u001b[0m\u001b[0;34m\u001b[0m\u001b[0m\n\u001b[0m",
      "\u001b[0;32m<ipython-input-64-3ae1099ed34f>\u001b[0m in \u001b[0;36mmake_graph\u001b[0;34m(self)\u001b[0m\n\u001b[1;32m     29\u001b[0m         \u001b[0;32mdef\u001b[0m \u001b[0mmake_graph\u001b[0m\u001b[0;34m(\u001b[0m\u001b[0mself\u001b[0m\u001b[0;34m)\u001b[0m\u001b[0;34m:\u001b[0m\u001b[0;34m\u001b[0m\u001b[0;34m\u001b[0m\u001b[0m\n\u001b[1;32m     30\u001b[0m             \u001b[0mfig\u001b[0m\u001b[0;34m,\u001b[0m \u001b[0max\u001b[0m \u001b[0;34m=\u001b[0m \u001b[0mplt\u001b[0m\u001b[0;34m.\u001b[0m\u001b[0msubplots\u001b[0m\u001b[0;34m(\u001b[0m\u001b[0;34m)\u001b[0m\u001b[0;34m\u001b[0m\u001b[0;34m\u001b[0m\u001b[0m\n\u001b[0;32m---> 31\u001b[0;31m             \u001b[0mself\u001b[0m\u001b[0;34m.\u001b[0m\u001b[0mweather_dat\u001b[0m\u001b[0;34m[\u001b[0m\u001b[0;34m'temp_C'\u001b[0m\u001b[0;34m]\u001b[0m \u001b[0;34m=\u001b[0m \u001b[0mself\u001b[0m\u001b[0;34m.\u001b[0m\u001b[0mweather_data\u001b[0m\u001b[0;34m[\u001b[0m\u001b[0;34m'temp'\u001b[0m\u001b[0;34m]\u001b[0m \u001b[0;34m-\u001b[0m \u001b[0;36m273.15\u001b[0m\u001b[0;34m\u001b[0m\u001b[0;34m\u001b[0m\u001b[0m\n\u001b[0m\u001b[1;32m     32\u001b[0m             \u001b[0mself\u001b[0m\u001b[0;34m.\u001b[0m\u001b[0mweather_data\u001b[0m\u001b[0;34m.\u001b[0m\u001b[0mplot\u001b[0m\u001b[0;34m(\u001b[0m\u001b[0my\u001b[0m\u001b[0;34m=\u001b[0m\u001b[0;34m'temp_C'\u001b[0m\u001b[0;34m,\u001b[0m \u001b[0max\u001b[0m\u001b[0;34m=\u001b[0m\u001b[0max\u001b[0m\u001b[0;34m)\u001b[0m\u001b[0;34m\u001b[0m\u001b[0;34m\u001b[0m\u001b[0m\n\u001b[1;32m     33\u001b[0m             \u001b[0mfig\u001b[0m\u001b[0;34m.\u001b[0m\u001b[0msavefig\u001b[0m\u001b[0;34m(\u001b[0m\u001b[0;34m'graph.png'\u001b[0m\u001b[0;34m,\u001b[0m \u001b[0mdpi\u001b[0m\u001b[0;34m=\u001b[0m\u001b[0;36m100\u001b[0m\u001b[0;34m)\u001b[0m\u001b[0;34m\u001b[0m\u001b[0;34m\u001b[0m\u001b[0m\n",
      "\u001b[0;31mAttributeError\u001b[0m: 'Reporter' object has no attribute 'weather_dat'"
     ]
    },
    {
     "name": "stdout",
     "output_type": "stream",
     "text": [
      "> \u001b[0;32m<ipython-input-64-3ae1099ed34f>\u001b[0m(31)\u001b[0;36mmake_graph\u001b[0;34m()\u001b[0m\n",
      "\u001b[0;32m     29 \u001b[0;31m        \u001b[0;32mdef\u001b[0m \u001b[0mmake_graph\u001b[0m\u001b[0;34m(\u001b[0m\u001b[0mself\u001b[0m\u001b[0;34m)\u001b[0m\u001b[0;34m:\u001b[0m\u001b[0;34m\u001b[0m\u001b[0;34m\u001b[0m\u001b[0m\n",
      "\u001b[0m\u001b[0;32m     30 \u001b[0;31m            \u001b[0mfig\u001b[0m\u001b[0;34m,\u001b[0m \u001b[0max\u001b[0m \u001b[0;34m=\u001b[0m \u001b[0mplt\u001b[0m\u001b[0;34m.\u001b[0m\u001b[0msubplots\u001b[0m\u001b[0;34m(\u001b[0m\u001b[0;34m)\u001b[0m\u001b[0;34m\u001b[0m\u001b[0;34m\u001b[0m\u001b[0m\n",
      "\u001b[0m\u001b[0;32m---> 31 \u001b[0;31m            \u001b[0mself\u001b[0m\u001b[0;34m.\u001b[0m\u001b[0mweather_dat\u001b[0m\u001b[0;34m[\u001b[0m\u001b[0;34m'temp_C'\u001b[0m\u001b[0;34m]\u001b[0m \u001b[0;34m=\u001b[0m \u001b[0mself\u001b[0m\u001b[0;34m.\u001b[0m\u001b[0mweather_data\u001b[0m\u001b[0;34m[\u001b[0m\u001b[0;34m'temp'\u001b[0m\u001b[0;34m]\u001b[0m \u001b[0;34m-\u001b[0m \u001b[0;36m273.15\u001b[0m\u001b[0;34m\u001b[0m\u001b[0;34m\u001b[0m\u001b[0m\n",
      "\u001b[0m\u001b[0;32m     32 \u001b[0;31m            \u001b[0mself\u001b[0m\u001b[0;34m.\u001b[0m\u001b[0mweather_data\u001b[0m\u001b[0;34m.\u001b[0m\u001b[0mplot\u001b[0m\u001b[0;34m(\u001b[0m\u001b[0my\u001b[0m\u001b[0;34m=\u001b[0m\u001b[0;34m'temp_C'\u001b[0m\u001b[0;34m,\u001b[0m \u001b[0max\u001b[0m\u001b[0;34m=\u001b[0m\u001b[0max\u001b[0m\u001b[0;34m)\u001b[0m\u001b[0;34m\u001b[0m\u001b[0;34m\u001b[0m\u001b[0m\n",
      "\u001b[0m\u001b[0;32m     33 \u001b[0;31m            \u001b[0mfig\u001b[0m\u001b[0;34m.\u001b[0m\u001b[0msavefig\u001b[0m\u001b[0;34m(\u001b[0m\u001b[0;34m'graph.png'\u001b[0m\u001b[0;34m,\u001b[0m \u001b[0mdpi\u001b[0m\u001b[0;34m=\u001b[0m\u001b[0;36m100\u001b[0m\u001b[0;34m)\u001b[0m\u001b[0;34m\u001b[0m\u001b[0;34m\u001b[0m\u001b[0m\n",
      "\u001b[0m\n",
      "ipdb> self\n",
      "<__main__.Reporter object at 0x7f534dd177f0>\n",
      "ipdb> ax\n",
      "<matplotlib.axes._subplots.AxesSubplot object at 0x7f534dd10710>\n",
      "ipdb> u\n",
      "> \u001b[0;32m<ipython-input-68-80528770d315>\u001b[0m(1)\u001b[0;36m<module>\u001b[0;34m()\u001b[0m\n",
      "\u001b[0;32m----> 1 \u001b[0;31m\u001b[0mreport\u001b[0m\u001b[0;34m.\u001b[0m\u001b[0mmake_graph\u001b[0m\u001b[0;34m(\u001b[0m\u001b[0;34m)\u001b[0m\u001b[0;34m\u001b[0m\u001b[0;34m\u001b[0m\u001b[0m\n",
      "\u001b[0m\n",
      "ipdb> c\n"
     ]
    },
    {
     "data": {
      "image/png": "[encoded data removed]",
      "text/plain": [
       "<Figure size 432x288 with 1 Axes>"
      ]
     },
     "metadata": {
      "needs_background": "light"
     },
     "output_type": "display_data"
    }
   ],
   "source": [
    "report.make_graph()"
   ]
  },
  {
   "cell_type": "markdown",
   "metadata": {},
   "source": [
    "**Bonjour**\n",
    "*italique*\n",
    "\n",
    "# Titre 1\n"
   ]
  },
  {
   "cell_type": "code",
   "execution_count": 52,
   "metadata": {},
   "outputs": [
    {
     "name": "stderr",
     "output_type": "stream",
     "text": [
      "/home/humancoders/miniconda3/lib/python3.6/site-packages/reporter-0.0.1-py3.6.egg/reporter/generator.py:41: UserWarning: Missing lastname in author\n",
      "  warnings.warn('Missing lastname in author')\n"
     ]
    }
   ],
   "source": [
    "report.make_report()"
   ]
  },
  {
   "cell_type": "code",
   "execution_count": 24,
   "metadata": {},
   "outputs": [],
   "source": [
    "url = 'http://samples.openweathermap.org/data/2.5/forecast?id=524901&appid=b6907d289e10d714a6e88b30761fae22'\n",
    "response = requests.get(url)\n",
    "content = json.loads(response.content)\n",
    "forecast = pd.DataFrame.from_records(content['list'])\n",
    "weather_data = pd.DataFrame.from_records(\n",
    "    forecast[\"main\"]).set_index(pd.DatetimeIndex(forecast['dt_txt']))"
   ]
  },
  {
   "cell_type": "code",
   "execution_count": 25,
   "metadata": {},
   "outputs": [
    {
     "name": "stdout",
     "output_type": "stream",
     "text": [
      " authors.json     Notes.ipynb\r\n",
      " authors.txt      README.md\r\n",
      " \u001b[0m\u001b[01;35mgraph.png\u001b[0m        Untitled.ipynb\r\n",
      " mon_graphe.pdf  'weather?q=London,uk&appid=b6907d289e10d714a6e88b30761fae22'\r\n",
      " \u001b[01;35mmon_graphe.svg\u001b[0m  'weather?q=London,uk&appid=b6907d289e10d714a6e88b30761fae22.1'\r\n"
     ]
    }
   ],
   "source": [
    "ls"
   ]
  },
  {
   "cell_type": "code",
   "execution_count": 12,
   "metadata": {},
   "outputs": [
    {
     "data": {
      "image/png": "[encoded data removed]",
      "text/plain": [
       "<Figure size 432x288 with 1 Axes>"
      ]
     },
     "metadata": {
      "needs_background": "light"
     },
     "output_type": "display_data"
    }
   ],
   "source": [
    "fig, ax = plt.subplots()\n"
   ]
  },
  {
   "cell_type": "code",
   "execution_count": 15,
   "metadata": {},
   "outputs": [
    {
     "data": {
      "image/png": "[encoded data removed]",
      "text/plain": [
       "<Figure size 432x288 with 1 Axes>"
      ]
     },
     "metadata": {
      "needs_background": "light"
     },
     "output_type": "display_data"
    }
   ],
   "source": [
    "fig, ax = plt.subplots()\n",
    "weather_data['temp_C'] = weather_data['temp'] - 273.15\n",
    "weather_data.plot(y='temp_C', ax=ax)\n",
    "fig.savefig('graph.png', dpi=300)\n"
   ]
  },
  {
   "cell_type": "code",
   "execution_count": 16,
   "metadata": {},
   "outputs": [
    {
     "data": {
      "text/plain": [
       "<matplotlib.axes._subplots.AxesSubplot at 0x7f534e2a9a90>"
      ]
     },
     "execution_count": 16,
     "metadata": {},
     "output_type": "execute_result"
    }
   ],
   "source": [
    "ax"
   ]
  },
  {
   "cell_type": "code",
   "execution_count": 17,
   "metadata": {},
   "outputs": [
    {
     "data": {
      "text/plain": [
       "[<matplotlib.lines.Line2D at 0x7f534e051da0>]"
      ]
     },
     "execution_count": 17,
     "metadata": {},
     "output_type": "execute_result"
    }
   ],
   "source": [
    "ax.lines"
   ]
  },
  {
   "cell_type": "code",
   "execution_count": 18,
   "metadata": {},
   "outputs": [
    {
     "data": {
      "text/plain": [
       "<matplotlib.axis.XAxis at 0x7f534e069400>"
      ]
     },
     "execution_count": 18,
     "metadata": {},
     "output_type": "execute_result"
    }
   ],
   "source": [
    "ax.xaxis"
   ]
  },
  {
   "cell_type": "code",
   "execution_count": null,
   "metadata": {},
   "outputs": [],
   "source": []
  }
 ],
 "metadata": {
  "kernelspec": {
   "display_name": "Python 3",
   "language": "python",
   "name": "python3"
  },
  "language_info": {
   "codemirror_mode": {
    "name": "ipython",
    "version": 3
   },
   "file_extension": ".py",
   "mimetype": "text/x-python",
   "name": "python",
   "nbconvert_exporter": "python",
   "pygments_lexer": "ipython3",
   "version": "3.6.8"
  }
 },
 "nbformat": 4,
 "nbformat_minor": 2
}
