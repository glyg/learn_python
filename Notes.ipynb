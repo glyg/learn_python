{
 "cells": [
  {
   "cell_type": "markdown",
   "metadata": {},
   "source": [
    "###### Vos attentes"
   ]
  },
  {
   "cell_type": "markdown",
   "metadata": {
    "slideshow": {
     "slide_type": "slide"
    }
   },
   "source": [
    "###### Qu'est-ce que Python?\n",
    "\n",
    "Python est un langage de programmation **interprété** généraliste. Il a été créé en 1991 par [Guido van Rossum](https://twitter.com/gvanrossum)\n",
    "![Photo of Guido van Rossum from wikipedia](https://upload.wikimedia.org/wikipedia/commons/thumb/6/66/Guido_van_Rossum_OSCON_2006.jpg/320px-Guido_van_Rossum_OSCON_2006.jpg).\n",
    "\n",
    "<hr>\n",
    "\n",
    "\n",
    "\n"
   ]
  },
  {
   "cell_type": "markdown",
   "metadata": {
    "slideshow": {
     "slide_type": "slide"
    }
   },
   "source": [
    "Le langage s'appelle comme ça en hommage aux [Monty Python](https://www.youtube.com/user/MontyPython)! \n",
    "\n",
    "![Silly walk gif](https://media.giphy.com/media/RzKHvdYC3uds4/giphy.gif)\n",
    "\n",
    "La motivation était de faire un langage lisible, un peu en réaction à Perl ;) principalement pour faire des scripts courts. Il a finalement évolué pour faire du code pas si court que ça!\n",
    "\n",
    "Le principe central:\n",
    "\n",
    "> **Le code est lu beaucoup plus souvent qu'il n'est écrit**\n",
    "\n",
    "On verra cela plus en détail au cours de la formation.\n",
    "\n",
    "\n",
    "* Il y a une implémentation de référence de l'interpréteur écrite en C : https://github.com/python/cpython\n",
    "\n",
    "* Le langage avance grâce aux _Python Enhancement Proposals_ ou [PEPs](https://www.python.org/dev/peps/)\n",
    "\n"
   ]
  },
  {
   "cell_type": "markdown",
   "metadata": {
    "slideshow": {
     "slide_type": "slide"
    }
   },
   "source": [
    "## La communauté\n",
    "\n",
    "\n",
    "> «Je suis venu pour le langage mais je suis resté pour la communauté»\n",
    "\n",
    "[Brett Cannon](https://twitter.com/brettsky) _core_ développeur\n",
    "\n",
    "\n",
    "* La [Python Software Foundation](https://www.python.org/psf/) possède les droits d'auteurs du langage et chapeaute la communauté.\n",
    "\n",
    "* Les core devs (94 personnes dont environ 50 actives).\n",
    "\n",
    "* [PyLadies](https://pyladies.com) et [DjangoGirls](https://djangogirls.org)\n",
    "\n",
    "* l'[Afpy](https://www.afpy.org/) - Association Python francophone.\n",
    "\n",
    "* les conférences\n",
    "    - PyCon US - PyConFR - EuroPython \n",
    "    - Fosdem\n",
    "    - EuroSciPy\n",
    "    - DjangoCon\n",
    "\n",
    "* Les meetups & conférences [PyData](https://pydata.org/)\n",
    "\n",
    "    - [PyData Paris](https://www.meetup.com/fr-FR/PyData-Paris/)\n"
   ]
  },
  {
   "cell_type": "markdown",
   "metadata": {
    "slideshow": {
     "slide_type": "slide"
    }
   },
   "source": [
    "\n",
    "\n",
    "## Ressources de documentation\n",
    "\n",
    "* [docs.python.org](https://docs.python.org/fr) - documentation Python en français\n",
    "* [readthedocs](https://readthedocs.org) - abrite une grande partie de la documentation des modules tiers.\n",
    "* RealPython\n",
    "\n",
    "## Cannaux d'entr'aide\n",
    "\n",
    "* IRC **#python-fr** **#scipy** **#matplotlib** sur freenode\n",
    "* [gitter](https://gitter.im/) (pour les modules data)\n",
    "* [stackoverflow](https://stackoverflow.com/questions/tagged/python)\n",
    "* mailing lists\n",
    "\n",
    "## Livres\n",
    "\n",
    "* David Beazley - [Python essential reference](http://www.dabeaz.com/per.html) (attendre l'édition 5 fin 2019)\n",
    "* Jake VanderPlas - [Data Science Hand book](https://jakevdp.github.io/PythonDataScienceHandbook/)\n",
    "\n"
   ]
  },
  {
   "cell_type": "markdown",
   "metadata": {
    "slideshow": {
     "slide_type": "slide"
    }
   },
   "source": [
    "<hr/>\n",
    "\n",
    "## L'interpreteur, le signe \"=\"\n"
   ]
  },
  {
   "cell_type": "code",
   "execution_count": 6,
   "metadata": {},
   "outputs": [],
   "source": [
    "annees = 244 // 12"
   ]
  },
  {
   "cell_type": "code",
   "execution_count": 7,
   "metadata": {},
   "outputs": [
    {
     "data": {
      "text/plain": [
       "20"
      ]
     },
     "execution_count": 7,
     "metadata": {},
     "output_type": "execute_result"
    }
   ],
   "source": [
    "annees"
   ]
  },
  {
   "cell_type": "markdown",
   "metadata": {
    "slideshow": {
     "slide_type": "slide"
    }
   },
   "source": [
    "## Les types de données"
   ]
  },
  {
   "cell_type": "markdown",
   "metadata": {
    "slideshow": {
     "slide_type": "slide"
    }
   },
   "source": [
    "### Les chaînes de caractère\n",
    "\n",
    "- Représenter du texte, tout type de texte «😁» par exemple\n",
    "\n",
    "- Dans python 3, «chaîne de caractère» veut dire UTF-8 \n",
    "  (plus sur l'encodage plus tard). \n",
    "\n"
   ]
  },
  {
   "cell_type": "code",
   "execution_count": 17,
   "metadata": {},
   "outputs": [
    {
     "data": {
      "text/plain": [
       "'Mon est \"Guillaume Gay\"\\n\\nVoilà\\n'"
      ]
     },
     "execution_count": 17,
     "metadata": {},
     "output_type": "execute_result"
    }
   ],
   "source": [
    "nom_annee = \"Années \"\n",
    "'Aerzrqzer'\n",
    "\"\"\"Mon est \"Guillaume Gay\"\n",
    "\n",
    "Voilà\n",
    "\"\"\""
   ]
  },
  {
   "cell_type": "markdown",
   "metadata": {
    "slideshow": {
     "slide_type": "slide"
    }
   },
   "source": [
    "### Les nombres\n",
    "\n",
    "Il y a deux types de nombres, `int` et `float` pour représenter respectivement les entiers et les nombres \"réels\", aussi appelés \"à virgule flottante\", comme `2.78`. En Python, le marqueur de décimales est noté par un point.\n",
    "\n"
   ]
  },
  {
   "cell_type": "code",
   "execution_count": 16,
   "metadata": {},
   "outputs": [
    {
     "data": {
      "text/plain": [
       "float"
      ]
     },
     "execution_count": 16,
     "metadata": {},
     "output_type": "execute_result"
    }
   ],
   "source": [
    "type(4.6)"
   ]
  },
  {
   "cell_type": "code",
   "execution_count": 22,
   "metadata": {},
   "outputs": [],
   "source": [
    "bonjour = \"sertet\""
   ]
  },
  {
   "cell_type": "code",
   "execution_count": null,
   "metadata": {},
   "outputs": [],
   "source": [
    "None"
   ]
  },
  {
   "cell_type": "markdown",
   "metadata": {
    "slideshow": {
     "slide_type": "slide"
    }
   },
   "source": [
    "### Les booléens\n",
    "\n",
    "Seulement deux valeurs, vrai ou faux `True` ou `False` (avec une majuscule). Un objet peut être vrai ou faux, une chaîne ou une liste vide sont fausses par exemple. **test**\n",
    "\n",
    "### `None`\n",
    "\n",
    "C'est la valeur de l'absence de valeur. On teste avec:\n",
    "\n",
    "```python\n",
    "if my_value is None:\n",
    "    my_value = default\n",
    "```"
   ]
  },
  {
   "cell_type": "markdown",
   "metadata": {},
   "source": [
    "## https://www.hackinscience.org"
   ]
  },
  {
   "cell_type": "markdown",
   "metadata": {
    "slideshow": {
     "slide_type": "slide"
    }
   },
   "source": [
    "### Les tuplets\n",
    "\n",
    "Représente une collection d'objets divers, entre parenthèses. Une fois créé, cette collection contient toujours les mêmes objets et ne peux pas grossir, on ne peut pas échanger un objet pour un autre, on ne peut pas changer leur ordre. `tuple` comme doublet, triplet, quintuplet.\n",
    "\n",
    "- Comment y accéder? Les indices.\n",
    "\n",
    "- Le dépaquetage\n"
   ]
  },
  {
   "cell_type": "code",
   "execution_count": 30,
   "metadata": {},
   "outputs": [],
   "source": [
    "client = (\"John\", \"Lennon\", \"Abbey Road\", 1956)"
   ]
  },
  {
   "cell_type": "code",
   "execution_count": 31,
   "metadata": {},
   "outputs": [],
   "source": [
    "prenom, nom, adresse, annee = client\n",
    "\n"
   ]
  },
  {
   "cell_type": "code",
   "execution_count": null,
   "metadata": {},
   "outputs": [],
   "source": []
  },
  {
   "cell_type": "markdown",
   "metadata": {},
   "source": [
    "### Les listes\n",
    "\n",
    "Aussi une collection d'objets mais dont on peut changer la taille, que l'on peut ranger, et dont on peut changer les éléments.\n",
    "\n",
    "- Les indices (continued) et les 'tranches' d'indice\n",
    "\n",
    "- Les méthodes et attributs associées à un objet\n"
   ]
  },
  {
   "cell_type": "code",
   "execution_count": 33,
   "metadata": {},
   "outputs": [
    {
     "data": {
      "text/plain": [
       "list"
      ]
     },
     "execution_count": 33,
     "metadata": {},
     "output_type": "execute_result"
    }
   ],
   "source": [
    "client = [\"John\", \"Lennon\", \"Abbey Road\", 1956]\n",
    "type(client)"
   ]
  },
  {
   "cell_type": "code",
   "execution_count": 42,
   "metadata": {},
   "outputs": [
    {
     "data": {
      "text/plain": [
       "[0, 2, 4, 6]"
      ]
     },
     "execution_count": 42,
     "metadata": {},
     "output_type": "execute_result"
    }
   ],
   "source": [
    "nombres = [0, 1, 2, 3, 4, 5, 6, 7, 8]\n",
    "nombres[0:7:2]"
   ]
  },
  {
   "cell_type": "code",
   "execution_count": 43,
   "metadata": {},
   "outputs": [
    {
     "data": {
      "text/plain": [
       "['John', 'Lennon', 'Abbey Road', 1956, 'john@thebeatles.org']"
      ]
     },
     "execution_count": 43,
     "metadata": {},
     "output_type": "execute_result"
    }
   ],
   "source": [
    "client.append(\"john@thebeatles.org\")\n"
   ]
  },
  {
   "cell_type": "code",
   "execution_count": 46,
   "metadata": {},
   "outputs": [],
   "source": [
    "anneau5 = {0, 0, 1, 2, 3, 4}"
   ]
  },
  {
   "cell_type": "code",
   "execution_count": 48,
   "metadata": {},
   "outputs": [
    {
     "data": {
      "text/plain": [
       "{0, 3, 4}"
      ]
     },
     "execution_count": 48,
     "metadata": {},
     "output_type": "execute_result"
    }
   ],
   "source": [
    "anneau5.intersection({0, 3, 4, 9})"
   ]
  },
  {
   "cell_type": "markdown",
   "metadata": {
    "slideshow": {
     "slide_type": "slide"
    }
   },
   "source": [
    "### Les ensembles (`set`) et dictionnaires\n",
    "\n",
    "#### Les sets\n",
    "\n",
    "- Un ensemble de valeurs uniques. Trés efficaces pour les opération ensemblistes (inclusion, union, différence).\n",
    "\n",
    "\n",
    "#### Les dictionnaires\n",
    "\n",
    "- Sans doute la structure la plus communément employée dans Python. On peut tout faire avec des dictionnaires.\n",
    "- Paires clefs valeurs (on garde l'ordre d'insertion)\n"
   ]
  },
  {
   "cell_type": "code",
   "execution_count": 106,
   "metadata": {},
   "outputs": [
    {
     "data": {
      "text/plain": [
       "dict"
      ]
     },
     "execution_count": 106,
     "metadata": {},
     "output_type": "execute_result"
    }
   ],
   "source": [
    "\n",
    "\n",
    "client1 = {\"firstname\": \"John\",\n",
    "           \"lastname\": \"Lennon\",\n",
    "           \"address\": \"Abbey Road\",\n",
    "           \"year_joined\": 1956,\n",
    "           \"email\": \"john@thebeatles.org\"}\n",
    "\n",
    "client2 = {\"firstname\": \"Paul\",\n",
    "           \"lastname\": \"McCartney\",\n",
    "           \"address\": \"Abbey Road\",\n",
    "           \"year_joined\": 1961,\n",
    "           \"email\": \"paul@thebeatles.org\"}\n",
    "type(client1)"
   ]
  },
  {
   "cell_type": "code",
   "execution_count": 83,
   "metadata": {},
   "outputs": [
    {
     "data": {
      "text/plain": [
       "{'firstname': 'Paul',\n",
       " 'lastname': 'McCartney',\n",
       " 'address': 'Abbey Road',\n",
       " 'year_joined': 1956,\n",
       " 'email': 'paul@thebeatles.org'}"
      ]
     },
     "execution_count": 83,
     "metadata": {},
     "output_type": "execute_result"
    }
   ],
   "source": [
    "client2"
   ]
  },
  {
   "cell_type": "code",
   "execution_count": 55,
   "metadata": {},
   "outputs": [],
   "source": [
    "email = client[\"email\"]\n",
    "client[\"age\"] = 27"
   ]
  },
  {
   "cell_type": "code",
   "execution_count": null,
   "metadata": {},
   "outputs": [],
   "source": []
  },
  {
   "cell_type": "markdown",
   "metadata": {},
   "source": [
    "### L'introspection (type, dir, help, id, breakpoint, pdb)\n"
   ]
  },
  {
   "cell_type": "code",
   "execution_count": 66,
   "metadata": {},
   "outputs": [
    {
     "data": {
      "text/plain": [
       "139851362827288"
      ]
     },
     "execution_count": 66,
     "metadata": {},
     "output_type": "execute_result"
    }
   ],
   "source": [
    "id(client)"
   ]
  },
  {
   "cell_type": "code",
   "execution_count": 72,
   "metadata": {},
   "outputs": [
    {
     "name": "stdout",
     "output_type": "stream",
     "text": [
      "Hello World\n"
     ]
    }
   ],
   "source": [
    "print(\"Hello World\")"
   ]
  },
  {
   "cell_type": "code",
   "execution_count": 78,
   "metadata": {},
   "outputs": [],
   "source": [
    "mail_list = []\n",
    "\n",
    "\n",
    "def get_mail(client):\n",
    "    \n",
    "    year = client['year_joined']\n",
    "    email = client['email']\n",
    "    if year < 1960:\n",
    "        mail_list.append(email)\n",
    "    print('Done')\n"
   ]
  },
  {
   "cell_type": "code",
   "execution_count": 270,
   "metadata": {},
   "outputs": [],
   "source": [
    "def say_name(name):\n",
    "    print('Hello '+name)"
   ]
  },
  {
   "cell_type": "code",
   "execution_count": 271,
   "metadata": {},
   "outputs": [
    {
     "ename": "NameError",
     "evalue": "name 'name' is not defined",
     "output_type": "error",
     "traceback": [
      "\u001b[0;31m---------------------------------------------------------------------------\u001b[0m",
      "\u001b[0;31mNameError\u001b[0m                                 Traceback (most recent call last)",
      "\u001b[0;32m<ipython-input-271-9bc0cb2ed6de>\u001b[0m in \u001b[0;36m<module>\u001b[0;34m\u001b[0m\n\u001b[0;32m----> 1\u001b[0;31m \u001b[0mname\u001b[0m\u001b[0;34m\u001b[0m\u001b[0;34m\u001b[0m\u001b[0m\n\u001b[0m",
      "\u001b[0;31mNameError\u001b[0m: name 'name' is not defined"
     ]
    }
   ],
   "source": [
    "name"
   ]
  },
  {
   "cell_type": "code",
   "execution_count": 92,
   "metadata": {},
   "outputs": [
    {
     "name": "stdout",
     "output_type": "stream",
     "text": [
      "Hello Roger\n"
     ]
    }
   ],
   "source": [
    "say_name(\"Roger\")"
   ]
  },
  {
   "cell_type": "code",
   "execution_count": 79,
   "metadata": {},
   "outputs": [
    {
     "name": "stdout",
     "output_type": "stream",
     "text": [
      "Done\n"
     ]
    }
   ],
   "source": [
    "get_mail(client1)"
   ]
  },
  {
   "cell_type": "code",
   "execution_count": 84,
   "metadata": {},
   "outputs": [
    {
     "name": "stdout",
     "output_type": "stream",
     "text": [
      "Done\n"
     ]
    }
   ],
   "source": [
    "get_mail(client2)"
   ]
  },
  {
   "cell_type": "code",
   "execution_count": 98,
   "metadata": {},
   "outputs": [
    {
     "data": {
      "text/plain": [
       "['john@thebeatles.org',\n",
       " 'john@thebeatles.org',\n",
       " 'paul@thebeatles.org',\n",
       " 'john@thebeatles.org',\n",
       " 'paul@thebeatles.org']"
      ]
     },
     "execution_count": 98,
     "metadata": {},
     "output_type": "execute_result"
    }
   ],
   "source": [
    "mail_list"
   ]
  },
  {
   "cell_type": "code",
   "execution_count": 96,
   "metadata": {},
   "outputs": [],
   "source": [
    "clients = [client1, client2]\n",
    "\n"
   ]
  },
  {
   "cell_type": "code",
   "execution_count": 272,
   "metadata": {},
   "outputs": [],
   "source": [
    "ma_liste = [1, 3, 4, 5]"
   ]
  },
  {
   "cell_type": "code",
   "execution_count": 276,
   "metadata": {},
   "outputs": [
    {
     "name": "stdout",
     "output_type": "stream",
     "text": [
      "1\n",
      "9\n",
      "16\n",
      "25\n"
     ]
    }
   ],
   "source": [
    "for num in ma_liste:\n",
    "    print(num**2)"
   ]
  },
  {
   "cell_type": "code",
   "execution_count": 97,
   "metadata": {},
   "outputs": [
    {
     "name": "stdout",
     "output_type": "stream",
     "text": [
      "John\n",
      "Done\n",
      "Paul\n",
      "Done\n"
     ]
    }
   ],
   "source": [
    "for client in clients:\n",
    "    print(client['firstname'])\n",
    "    get_mail(client)\n"
   ]
  },
  {
   "cell_type": "code",
   "execution_count": 108,
   "metadata": {},
   "outputs": [
    {
     "name": "stdout",
     "output_type": "stream",
     "text": [
      "seventies\n"
     ]
    }
   ],
   "source": [
    "year = client2['year_joined']\n",
    "email = client2['email']\n",
    "if year < 1960:\n",
    "    mail_list.append(email)\n",
    "elif year < 1970:\n",
    "    print('seventies')\n",
    "else:\n",
    "    print('Nope') "
   ]
  },
  {
   "cell_type": "code",
   "execution_count": null,
   "metadata": {},
   "outputs": [],
   "source": []
  },
  {
   "cell_type": "code",
   "execution_count": 112,
   "metadata": {},
   "outputs": [
    {
     "name": "stdout",
     "output_type": "stream",
     "text": [
      "3\n"
     ]
    },
    {
     "ename": "KeyboardInterrupt",
     "evalue": "",
     "output_type": "error",
     "traceback": [
      "\u001b[0;31m---------------------------------------------------------------------------\u001b[0m",
      "\u001b[0;31mKeyboardInterrupt\u001b[0m                         Traceback (most recent call last)",
      "\u001b[0;32m<ipython-input-112-660c49a2df27>\u001b[0m in \u001b[0;36m<module>\u001b[0;34m\u001b[0m\n\u001b[1;32m      1\u001b[0m \u001b[0mi\u001b[0m \u001b[0;34m=\u001b[0m \u001b[0;36m0\u001b[0m\u001b[0;34m\u001b[0m\u001b[0;34m\u001b[0m\u001b[0m\n\u001b[1;32m      2\u001b[0m \u001b[0;32mwhile\u001b[0m \u001b[0;32mTrue\u001b[0m\u001b[0;34m:\u001b[0m\u001b[0;34m\u001b[0m\u001b[0;34m\u001b[0m\u001b[0m\n\u001b[0;32m----> 3\u001b[0;31m     \u001b[0mi\u001b[0m \u001b[0;34m=\u001b[0m \u001b[0mi\u001b[0m \u001b[0;34m+\u001b[0m \u001b[0;36m1\u001b[0m\u001b[0;34m\u001b[0m\u001b[0;34m\u001b[0m\u001b[0m\n\u001b[0m\u001b[1;32m      4\u001b[0m     \u001b[0;32mif\u001b[0m \u001b[0mi\u001b[0m \u001b[0;34m!=\u001b[0m \u001b[0;36m3\u001b[0m\u001b[0;34m:\u001b[0m\u001b[0;34m\u001b[0m\u001b[0;34m\u001b[0m\u001b[0m\n\u001b[1;32m      5\u001b[0m         \u001b[0;32mcontinue\u001b[0m\u001b[0;34m\u001b[0m\u001b[0;34m\u001b[0m\u001b[0m\n",
      "\u001b[0;31mKeyboardInterrupt\u001b[0m: "
     ]
    }
   ],
   "source": [
    "i = 0\n",
    "while True:\n",
    "    i = i + 1\n",
    "    if i == 3:\n",
    "        continue\n",
    "    print(i)\n",
    "\n",
    "    if i > 11:\n",
    "        break\n",
    "    "
   ]
  },
  {
   "cell_type": "markdown",
   "metadata": {
    "slideshow": {
     "slide_type": "slide"
    }
   },
   "source": [
    "\n",
    "\n",
    "### Introduction aux  fonctions\n",
    "\n",
    "* Notion de fonction et d'argument\n",
    "\n",
    "* Définir une nouvelle fonction avec `def`\n",
    "\n",
    "\n",
    "### Les structures de contrôle\n",
    "\n",
    "* Les boucles `for` et `while`, les mots clefs `break` et `continue`.\n",
    "\n",
    "* Les tests if, elif et else, le test else à la sortie d'une boucle.\n",
    "\n"
   ]
  },
  {
   "cell_type": "markdown",
   "metadata": {
    "slideshow": {
     "slide_type": "slide"
    }
   },
   "source": [
    "\n",
    "### Le Zen de Python\n",
    "\n",
    "![Zen](https://media.giphy.com/media/3o6ZsYMuMkxBNiy7pC/giphy.gif)\n"
   ]
  },
  {
   "cell_type": "code",
   "execution_count": 113,
   "metadata": {},
   "outputs": [
    {
     "name": "stdout",
     "output_type": "stream",
     "text": [
      "The Zen of Python, by Tim Peters\n",
      "\n",
      "Beautiful is better than ugly.\n",
      "Explicit is better than implicit.\n",
      "Simple is better than complex.\n",
      "Complex is better than complicated.\n",
      "Flat is better than nested.\n",
      "Sparse is better than dense.\n",
      "Readability counts.\n",
      "Special cases aren't special enough to break the rules.\n",
      "Although practicality beats purity.\n",
      "Errors should never pass silently.\n",
      "Unless explicitly silenced.\n",
      "In the face of ambiguity, refuse the temptation to guess.\n",
      "There should be one-- and preferably only one --obvious way to do it.\n",
      "Although that way may not be obvious at first unless you're Dutch.\n",
      "Now is better than never.\n",
      "Although never is often better than *right* now.\n",
      "If the implementation is hard to explain, it's a bad idea.\n",
      "If the implementation is easy to explain, it may be a good idea.\n",
      "Namespaces are one honking great idea -- let's do more of those!\n"
     ]
    }
   ],
   "source": [
    "import this"
   ]
  },
  {
   "cell_type": "markdown",
   "metadata": {},
   "source": [
    "<hr/>\n",
    "\n",
    "### Les séquences en python\n",
    "\n",
    "\n",
    "C'est une des particularités du langage, la façon de parcourir une séquence.\n",
    "\n",
    "\n",
    "* La notion d'*iterable* en Python: il suffit de demander\n",
    "\n",
    "* zip et enumerate.\n",
    "\n",
    "* Les constructions par compréhension. **very pythonic**\n",
    "\n",
    "* Embalage et désembalage, notation en étoile.\n",
    "\n",
    "* Les fonctions spéciales map, lambda, filter.\n",
    "\n",
    "\n"
   ]
  },
  {
   "cell_type": "code",
   "execution_count": 128,
   "metadata": {},
   "outputs": [
    {
     "name": "stdout",
     "output_type": "stream",
     "text": [
      "firstname John\n",
      "lastname Lennon\n",
      "address Abbey Road\n",
      "year_joined 1956\n",
      "email john@thebeatles.org\n",
      "('firstname', 'John')\n",
      "('lastname', 'Lennon')\n",
      "('address', 'Abbey Road')\n",
      "('year_joined', 1956)\n",
      "('email', 'john@thebeatles.org')\n"
     ]
    }
   ],
   "source": [
    "for key, val in client1.items():\n",
    "    print(key, val)\n",
    "\n",
    "for doublet in client1.items():\n",
    "    print(doublet)\n"
   ]
  },
  {
   "cell_type": "markdown",
   "metadata": {},
   "source": [
    "### Les chaînes de caractères\n",
    "\n",
    "* Problèmes d'encodage, comment rester en unicode.\n",
    "\n",
    "* Les différentes façons de formater une chaîne de caractères, les `fstrings`."
   ]
  },
  {
   "cell_type": "code",
   "execution_count": 131,
   "metadata": {},
   "outputs": [
    {
     "data": {
      "text/plain": [
       "{'firstname': 'John',\n",
       " 'lastname': 'Lennon',\n",
       " 'address': 'Abbey Road',\n",
       " 'year_joined': 1956,\n",
       " 'email': 'john@thebeatles.org'}"
      ]
     },
     "execution_count": 131,
     "metadata": {},
     "output_type": "execute_result"
    }
   ],
   "source": [
    "client1"
   ]
  },
  {
   "cell_type": "code",
   "execution_count": 133,
   "metadata": {},
   "outputs": [],
   "source": [
    "firstname = 'erze'"
   ]
  },
  {
   "cell_type": "code",
   "execution_count": 134,
   "metadata": {},
   "outputs": [],
   "source": [
    "    print(\"Hello \"+ person['lastname'])\n"
   ]
  },
  {
   "cell_type": "code",
   "execution_count": 144,
   "metadata": {},
   "outputs": [
    {
     "data": {
      "text/plain": [
       "'Hello John Lennon!'"
      ]
     },
     "execution_count": 144,
     "metadata": {},
     "output_type": "execute_result"
    }
   ],
   "source": [
    "\"Hello \"+client1['firstname']+' '+client1['lastname']+'!'"
   ]
  },
  {
   "cell_type": "code",
   "execution_count": 156,
   "metadata": {},
   "outputs": [
    {
     "data": {
      "text/plain": [
       "4"
      ]
     },
     "execution_count": 156,
     "metadata": {},
     "output_type": "execute_result"
    }
   ],
   "source": [
    "2**2"
   ]
  },
  {
   "cell_type": "code",
   "execution_count": 170,
   "metadata": {},
   "outputs": [],
   "source": [
    "def pythagore(a, b):\n",
    "    c2 = a**2 + b**2\n",
    "    c = c2**0.5\n",
    "    print(f'result is {c}')\n",
    "    return c"
   ]
  },
  {
   "cell_type": "code",
   "execution_count": 171,
   "metadata": {},
   "outputs": [
    {
     "name": "stdout",
     "output_type": "stream",
     "text": [
      "result is 5.0\n"
     ]
    },
    {
     "data": {
      "text/plain": [
       "5.0"
      ]
     },
     "execution_count": 171,
     "metadata": {},
     "output_type": "execute_result"
    }
   ],
   "source": [
    "pythagore(3, 4)"
   ]
  },
  {
   "cell_type": "code",
   "execution_count": 173,
   "metadata": {},
   "outputs": [
    {
     "name": "stdout",
     "output_type": "stream",
     "text": [
      "result is 5.0\n"
     ]
    }
   ],
   "source": [
    "hypot = pythagore(3, 4)"
   ]
  },
  {
   "cell_type": "code",
   "execution_count": 174,
   "metadata": {},
   "outputs": [
    {
     "data": {
      "text/plain": [
       "5.0"
      ]
     },
     "execution_count": 174,
     "metadata": {},
     "output_type": "execute_result"
    }
   ],
   "source": [
    "hypot"
   ]
  },
  {
   "cell_type": "code",
   "execution_count": 177,
   "metadata": {},
   "outputs": [],
   "source": [
    "\n",
    "def hello(person):\n",
    "    first = client1[\"firstname\"]\n",
    "    last = client1['lastname']\n",
    "    return f\"\"\"Hello {first} {last}!\"\"\"\n"
   ]
  },
  {
   "cell_type": "code",
   "execution_count": null,
   "metadata": {},
   "outputs": [],
   "source": []
  },
  {
   "cell_type": "code",
   "execution_count": null,
   "metadata": {},
   "outputs": [],
   "source": [
    "bonjourjohn = hello(client1)"
   ]
  },
  {
   "cell_type": "code",
   "execution_count": null,
   "metadata": {},
   "outputs": [],
   "source": [
    "ajd"
   ]
  },
  {
   "cell_type": "code",
   "execution_count": 207,
   "metadata": {},
   "outputs": [
    {
     "name": "stdout",
     "output_type": "stream",
     "text": [
      "Ho\n",
      "Ho\n",
      "Ho\n"
     ]
    }
   ],
   "source": [
    "a = 3*2\n",
    "print(\"Ho\\nHo\\nHo\")"
   ]
  },
  {
   "cell_type": "code",
   "execution_count": 155,
   "metadata": {},
   "outputs": [
    {
     "name": "stdout",
     "output_type": "stream",
     "text": [
      "Hello John Lennon!\n"
     ]
    }
   ],
   "source": [
    "hello(client)"
   ]
  },
  {
   "cell_type": "code",
   "execution_count": 18,
   "metadata": {},
   "outputs": [
    {
     "name": "stdout",
     "output_type": "stream",
     "text": [
      "3\n",
      "1\n",
      "200\n",
      "300\n"
     ]
    }
   ],
   "source": [
    "def compte(un, deux, trois=200, quatre=300):\n",
    "    print(un)\n",
    "    print(deux)\n",
    "    print(trois)\n",
    "    print(quatre)\n",
    "\n",
    "compte(3, 1)\n",
    "\n",
    "\n",
    "\n",
    "def arbitraire(*args, **kwargs):\n",
    "    for argument in args:\n",
    "        print('arg', argument)\n",
    "    for key, val in kwargs.items():\n",
    "        print(key, ':', val)"
   ]
  },
  {
   "cell_type": "code",
   "execution_count": 21,
   "metadata": {},
   "outputs": [
    {
     "name": "stdout",
     "output_type": "stream",
     "text": [
      "arg 1\n",
      "arg 2\n",
      "arg 3\n",
      "arg 4\n",
      "arg 5\n",
      "mc0 : 2\n",
      "mc1 : 3\n"
     ]
    }
   ],
   "source": [
    "arbitraire(1, 2, 3, 4, 5, mc0=2, mc1=3)"
   ]
  },
  {
   "cell_type": "code",
   "execution_count": 2,
   "metadata": {},
   "outputs": [],
   "source": [
    "import matplotlib.pyplot as plt\n",
    "import numpy as np"
   ]
  },
  {
   "cell_type": "code",
   "execution_count": 3,
   "metadata": {},
   "outputs": [
    {
     "data": {
      "text/plain": [
       "[<matplotlib.lines.Line2D at 0x7f71baf6f2b0>]"
      ]
     },
     "execution_count": 3,
     "metadata": {},
     "output_type": "execute_result"
    },
    {
     "data": {
      "image/png": "[encoded data removed]",
      "text/plain": [
       "<Figure size 432x288 with 1 Axes>"
      ]
     },
     "metadata": {
      "needs_background": "light"
     },
     "output_type": "display_data"
    }
   ],
   "source": [
    "x = np.arange(-10, 10)\n",
    "y = x**2\n",
    "\n",
    "plt.plot(x, y)"
   ]
  },
  {
   "cell_type": "code",
   "execution_count": 5,
   "metadata": {},
   "outputs": [],
   "source": [
    "plt.plot?"
   ]
  },
  {
   "cell_type": "code",
   "execution_count": 266,
   "metadata": {},
   "outputs": [],
   "source": [
    "def produce_doc(filename, **kwargs):\n",
    "    do_msmthg()\n",
    "    header(authors, **kwargs)\n",
    "\n",
    "    \n",
    "    \n",
    "def header(authors, office=\"Paris\"):\n",
    "    \"\"\"Produces header text from authors list.\n",
    "    \n",
    "    Parameters\n",
    "    ----------\n",
    "    authors : list of dict,\n",
    "        List of authors dictionnary. Each element of\n",
    "        the list should have a 'firstname' and 'lastname' keys.\n",
    "    office : str, optional, default 'Paris'\n",
    "        The offic from where the report was produced\n",
    "    \n",
    "    Returns\n",
    "    -------\n",
    "    header_text : str\n",
    "        The header text\n",
    "        \n",
    "    Example\n",
    "    -------\n",
    "    ...\n",
    "    \"\"\"\n",
    "    \n",
    "    ajd = datetime.date.today().strftime(\"%d %B %Y\")\n",
    "    lieudate = f\"\\t\\t{office}, le {ajd}\\n### auteurs:\\n\"\n",
    "    \n",
    "    strings = [lieudate]\n",
    "    for author in authors:\n",
    "        aut_str = f\"- {author['firstname']} {author['lastname']}\"\n",
    "        strings.append(aut_str)\n",
    "\n",
    "    return '\\n'.join(strings)\n",
    "    "
   ]
  },
  {
   "cell_type": "code",
   "execution_count": 267,
   "metadata": {},
   "outputs": [],
   "source": [
    "header_text = header(clients, 'Bogota')"
   ]
  },
  {
   "cell_type": "code",
   "execution_count": 269,
   "metadata": {},
   "outputs": [],
   "source": [
    "header?"
   ]
  },
  {
   "cell_type": "code",
   "execution_count": 265,
   "metadata": {},
   "outputs": [
    {
     "name": "stdout",
     "output_type": "stream",
     "text": [
      "\t\tBogota, le 10 April 2019\n",
      "### auteurs:\n",
      "\n",
      "- John Lennon\n",
      "- Paul McCartney\n"
     ]
    }
   ],
   "source": [
    "print(header_text)"
   ]
  },
  {
   "cell_type": "code",
   "execution_count": 229,
   "metadata": {},
   "outputs": [
    {
     "data": {
      "text/plain": [
       "[{'firstname': 'John',\n",
       "  'lastname': 'Lennon',\n",
       "  'address': 'Abbey Road',\n",
       "  'year_joined': 1956,\n",
       "  'email': 'john@thebeatles.org'},\n",
       " {'firstname': 'Paul',\n",
       "  'lastname': 'McCartney',\n",
       "  'address': 'Abbey Road',\n",
       "  'year_joined': 1956,\n",
       "  'email': 'paul@thebeatles.org'}]"
      ]
     },
     "execution_count": 229,
     "metadata": {},
     "output_type": "execute_result"
    }
   ],
   "source": [
    "clients"
   ]
  },
  {
   "cell_type": "code",
   "execution_count": 223,
   "metadata": {},
   "outputs": [
    {
     "name": "stdout",
     "output_type": "stream",
     "text": [
      "\t\tParis, le 10 April 2019\n",
      "### auteurs:\n",
      "\n",
      "- John Lennon\n"
     ]
    }
   ],
   "source": [
    "print(lieudate+'\\n'+aut)"
   ]
  },
  {
   "cell_type": "raw",
   "metadata": {},
   "source": [
    "        Paris, le 15/01/2019\n",
    "\n",
    "### auteurs:\n",
    "\n",
    "- John Lennon\n",
    "- Paul McCartney\n",
    "\n",
    "\n"
   ]
  },
  {
   "cell_type": "markdown",
   "metadata": {},
   "source": [
    "\n",
    "### Employer des modules de la bibliothèque standard\n",
    "\n",
    "* La syntaxe de `import`\n",
    "\n",
    "* La notion d'espace de noms\n",
    "\n",
    "* Itérer différemment: itertools. **very pythonic**\n",
    "\n",
    "* Des objets pratiques: le module collections. **very pythonic**\n"
   ]
  },
  {
   "cell_type": "code",
   "execution_count": 178,
   "metadata": {},
   "outputs": [],
   "source": [
    "import datetime"
   ]
  },
  {
   "cell_type": "code",
   "execution_count": 196,
   "metadata": {},
   "outputs": [],
   "source": [
    "ajd = datetime.date.today()"
   ]
  },
  {
   "cell_type": "code",
   "execution_count": 200,
   "metadata": {},
   "outputs": [
    {
     "data": {
      "text/plain": [
       "2019"
      ]
     },
     "execution_count": 200,
     "metadata": {},
     "output_type": "execute_result"
    }
   ],
   "source": [
    "ajd.year"
   ]
  },
  {
   "cell_type": "markdown",
   "metadata": {},
   "source": [
    "### Subprocess et shutils\n",
    "\n",
    "Exécuter des commandes système depuis Python : subprocess et shutil"
   ]
  },
  {
   "cell_type": "code",
   "execution_count": 203,
   "metadata": {},
   "outputs": [
    {
     "data": {
      "text/plain": [
       "'The 10 April 2019'"
      ]
     },
     "execution_count": 203,
     "metadata": {},
     "output_type": "execute_result"
    }
   ],
   "source": [
    "ajd.strftime(\"The %d %B %Y\")"
   ]
  },
  {
   "cell_type": "code",
   "execution_count": null,
   "metadata": {},
   "outputs": [],
   "source": [
    "import subprocess\n",
    "import shutil"
   ]
  },
  {
   "cell_type": "code",
   "execution_count": 204,
   "metadata": {},
   "outputs": [],
   "source": [
    "import itertools\n"
   ]
  },
  {
   "cell_type": "code",
   "execution_count": null,
   "metadata": {},
   "outputs": [],
   "source": [
    "itertools"
   ]
  },
  {
   "cell_type": "code",
   "execution_count": 205,
   "metadata": {},
   "outputs": [],
   "source": [
    "import collections"
   ]
  },
  {
   "cell_type": "markdown",
   "metadata": {},
   "source": [
    "\n",
    "\n",
    "### Les fonctions\n",
    "\n",
    "* Les paramètres positionnels et paramètres nommés.\n",
    "\n",
    "\n",
    "De l'importance des bons noms de variable.\n",
    "\n",
    "\n",
    "* La documentation en ligne et les docstrings.\n",
    "\n",
    "Mieux vaut tout de suite que jamais. Doctests, les tests à l'intérieur des fonctions.\n",
    "\n",
    "\n",
    "* La portée des variables.\n",
    "\n",
    "C'est aussi le bon moment pour parler de représentation en mémoire, de garbage collector et de conte de références.\n",
    "\n",
    "* La notation `*args` et `**kwargs`.\n",
    "\n",
    "Ne pas abuser!\n",
    "\n",
    "\n",
    "* Introduction aux décorateurs.\n",
    "**very pythonic**\n",
    "\n",
    "\n",
    "[pep8.org](http://pep8.org)\n"
   ]
  },
  {
   "cell_type": "code",
   "execution_count": null,
   "metadata": {},
   "outputs": [],
   "source": []
  },
  {
   "cell_type": "markdown",
   "metadata": {},
   "source": [
    "# Day 2\n",
    "\n",
    "\n",
    "## https://www.pythoncheatsheet.org/\n"
   ]
  },
  {
   "cell_type": "markdown",
   "metadata": {},
   "source": [
    "### Structure d'un paquet\n",
    "\n",
    "```\n",
    "reporter/\n",
    "  |_ README.md\n",
    "  |_ .git/\n",
    "  |_ setup.py\n",
    "  |_ reporter/\n",
    "      |_ __init__.py\n",
    "      |_ generator.py\n",
    "      |_ header.py\n",
    "  |_ data/\n",
    "      |_ header_image.png\n",
    "```"
   ]
  },
  {
   "cell_type": "markdown",
   "metadata": {},
   "source": [
    "### `git` en 2 minutes"
   ]
  },
  {
   "cell_type": "markdown",
   "metadata": {},
   "source": [
    "```bash\n",
    "git clone https://github.com/glyg/reporter.git\n",
    "# Do some work\n",
    "# ...\n",
    "# Register your modifications\n",
    "git commit -am \"An informative commit message\"\n",
    "# Publish your modifications on the remote server\n",
    "git push origin\n",
    "# Grab work done by others\n",
    "git pull origin\n",
    "# repeat\n",
    "```"
   ]
  },
  {
   "cell_type": "code",
   "execution_count": 6,
   "metadata": {},
   "outputs": [],
   "source": [
    "from collections import defaultdict"
   ]
  },
  {
   "cell_type": "code",
   "execution_count": 9,
   "metadata": {},
   "outputs": [],
   "source": [
    "ddi = defaultdict(list)"
   ]
  },
  {
   "cell_type": "code",
   "execution_count": 15,
   "metadata": {},
   "outputs": [
    {
     "data": {
      "text/plain": [
       "True"
      ]
     },
     "execution_count": 15,
     "metadata": {},
     "output_type": "execute_result"
    }
   ],
   "source": [
    "isinstance(ddi, dict)"
   ]
  },
  {
   "cell_type": "code",
   "execution_count": 19,
   "metadata": {},
   "outputs": [],
   "source": [
    "import os\n",
    "from pathlib import Path"
   ]
  },
  {
   "cell_type": "code",
   "execution_count": 25,
   "metadata": {},
   "outputs": [],
   "source": [
    "path = Path('../reporter/data')"
   ]
  },
  {
   "cell_type": "code",
   "execution_count": 27,
   "metadata": {},
   "outputs": [],
   "source": [
    "filename = path/\"authors.txt\""
   ]
  },
  {
   "cell_type": "code",
   "execution_count": 28,
   "metadata": {},
   "outputs": [
    {
     "data": {
      "text/plain": [
       "True"
      ]
     },
     "execution_count": 28,
     "metadata": {},
     "output_type": "execute_result"
    }
   ],
   "source": [
    "os.path.isfile(filename)"
   ]
  },
  {
   "cell_type": "code",
   "execution_count": 35,
   "metadata": {},
   "outputs": [
    {
     "ename": "IndexError",
     "evalue": "list index out of range",
     "output_type": "error",
     "traceback": [
      "\u001b[0;31m---------------------------------------------------------------------------\u001b[0m",
      "\u001b[0;31mIndexError\u001b[0m                                Traceback (most recent call last)",
      "\u001b[0;32m<ipython-input-35-5306f3f72361>\u001b[0m in \u001b[0;36m<module>\u001b[0;34m\u001b[0m\n\u001b[0;32m----> 1\u001b[0;31m \u001b[0;34m\"Georges\"\u001b[0m\u001b[0;34m.\u001b[0m\u001b[0msplit\u001b[0m\u001b[0;34m(\u001b[0m\u001b[0;34m)\u001b[0m\u001b[0;34m[\u001b[0m\u001b[0;36m1\u001b[0m\u001b[0;34m]\u001b[0m\u001b[0;34m\u001b[0m\u001b[0;34m\u001b[0m\u001b[0m\n\u001b[0m",
      "\u001b[0;31mIndexError\u001b[0m: list index out of range"
     ]
    }
   ],
   "source": [
    "\"Georges\".split()[1]"
   ]
  },
  {
   "cell_type": "code",
   "execution_count": null,
   "metadata": {},
   "outputs": [],
   "source": []
  },
  {
   "cell_type": "code",
   "execution_count": 32,
   "metadata": {},
   "outputs": [],
   "source": [
    "with open(\"report.md\", \"w\") as fh:\n",
    "    fh.write('qzepruiqhzepriuqhz\\n\\nqslehqrzohfr\\n')\n",
    "    "
   ]
  },
  {
   "cell_type": "code",
   "execution_count": null,
   "metadata": {},
   "outputs": [],
   "source": [
    "def absolut(nombre):\n",
    "    if nombre < 0:\n",
    "        return -nombre\n",
    "    \n",
    "    return nombre\n",
    "\n",
    "def norme(nombre1, nombre2):\n",
    "    valeur = absolut(nombre1) + absolut(nombre2)\n",
    "    return valeur\n",
    "    "
   ]
  },
  {
   "cell_type": "code",
   "execution_count": 41,
   "metadata": {},
   "outputs": [
    {
     "ename": "IndexError",
     "evalue": "list index out of range",
     "output_type": "error",
     "traceback": [
      "\u001b[0;31m---------------------------------------------------------------------------\u001b[0m",
      "\u001b[0;31mIndexError\u001b[0m                                Traceback (most recent call last)",
      "\u001b[0;32m<ipython-input-41-20957e2c0b4a>\u001b[0m in \u001b[0;36m<module>\u001b[0;34m\u001b[0m\n\u001b[1;32m      4\u001b[0m         \u001b[0msplitted\u001b[0m \u001b[0;34m=\u001b[0m \u001b[0mbifule\u001b[0m\u001b[0;34m.\u001b[0m\u001b[0msplit\u001b[0m\u001b[0;34m(\u001b[0m\u001b[0;34m)\u001b[0m\u001b[0;34m\u001b[0m\u001b[0;34m\u001b[0m\u001b[0m\n\u001b[1;32m      5\u001b[0m         aut_list.append({'first': splitted[0],\n\u001b[0;32m----> 6\u001b[0;31m                          'last': splitted[1]})\n\u001b[0m",
      "\u001b[0;31mIndexError\u001b[0m: list index out of range"
     ]
    }
   ],
   "source": [
    "aut_list = []\n",
    "with open(filename, 'r') as file_handle:\n",
    "    for bifule in file_handle:\n",
    "        splitted = bifule.split()\n",
    "        aut_list.append({'first': splitted[0],\n",
    "                         'last': splitted[1]})\n"
   ]
  },
  {
   "cell_type": "code",
   "execution_count": 45,
   "metadata": {},
   "outputs": [
    {
     "name": "stdout",
     "output_type": "stream",
     "text": [
      "Works for ['John', 'Lennon']\n",
      "Works for ['Paul', 'McCartney']\n",
      "Works for ['Georges', 'Harrison']\n",
      "Works for ['Ringo', 'Starr']\n",
      "Works for ['Robert']\n",
      "Didn't work for ['Robert']\n"
     ]
    }
   ],
   "source": [
    "aut_list = []\n",
    "with open(filename, 'r') as file_handle:\n",
    "    for bifule in file_handle:\n",
    "        splitted = bifule.split()\n",
    "        try:\n",
    "            print('Works for', splitted )\n",
    "            aut_list.append({'first': splitted[0],\n",
    "                             'last': splitted[1]})\n",
    "        except IndexError:\n",
    "            print(\"Didn't work for\", splitted )\n",
    "            aut_list.append({'first': splitted[0],\n",
    "                             'last': ''})\n",
    "        "
   ]
  },
  {
   "cell_type": "code",
   "execution_count": 46,
   "metadata": {},
   "outputs": [
    {
     "data": {
      "text/plain": [
       "[{'first': 'John', 'last': 'Lennon'},\n",
       " {'first': 'Paul', 'last': 'McCartney'},\n",
       " {'first': 'Georges', 'last': 'Harrison'},\n",
       " {'first': 'Ringo', 'last': 'Starr'},\n",
       " {'first': 'Robert', 'last': ''}]"
      ]
     },
     "execution_count": 46,
     "metadata": {},
     "output_type": "execute_result"
    }
   ],
   "source": [
    "aut_list"
   ]
  },
  {
   "cell_type": "code",
   "execution_count": 63,
   "metadata": {},
   "outputs": [],
   "source": [
    "def create(authors, office=\"Paris\"):\n",
    "    \"\"\"Produces header text from authors list.\n",
    "    \n",
    "    Parameters\n",
    "    ----------\n",
    "    authors : list of dict,\n",
    "        List of authors dictionnary. Each element of\n",
    "        the list should have a 'firstname' and 'lastname' keys.\n",
    "    office : str, optional, default 'Paris'\n",
    "        The offic from where the report was produced\n",
    "    \n",
    "    Returns\n",
    "    -------\n",
    "    header_text : str\n",
    "        The header text\n",
    "        \n",
    "    Example\n",
    "    -------\n",
    "    ...\n",
    "    \"\"\"\n",
    "    \n",
    "    ajd = datetime.date.today().strftime(\"%d %B %Y\")\n",
    "    lieudate = f\"\\t\\t{office}, le {ajd}\\n### auteurs:\\n\"\n",
    "    \n",
    "    strings = [lieudate]\n",
    "    \n",
    "    for author in authors:\n",
    "        aut_str = make_aut_str(author)\n",
    "        strings.append(aut_str)\n",
    "\n",
    "    return '\\n'.join(strings)\n",
    "\n",
    "def make_aut_str(author):\n",
    "    lastname = \"\"\n",
    "    firstname = \"\"\n",
    "\n",
    "    for key in author:\n",
    "        if \"last\" in key:\n",
    "            lastname = author[key]\n",
    "        elif \"first\" in key:\n",
    "            firstname = author[key]\n",
    "    return f\"- {lastname} {firstname}\"\n",
    "        \n"
   ]
  },
  {
   "cell_type": "code",
   "execution_count": 61,
   "metadata": {},
   "outputs": [
    {
     "data": {
      "text/plain": [
       "'\\t\\tParis, le 11 April 2019\\n### auteurs:\\n\\n- Lennon John\\n- McCartney Paul\\n- Harrison Georges\\n- Starr Ringo\\n-  Robert'"
      ]
     },
     "execution_count": 61,
     "metadata": {},
     "output_type": "execute_result"
    }
   ],
   "source": [
    "import datetime\n",
    "create(aut_list, office=\"Paris\")"
   ]
  },
  {
   "cell_type": "code",
   "execution_count": null,
   "metadata": {},
   "outputs": [],
   "source": [
    "name_dict = {'firstname': 'John', \"lastname\": \"Lennon\"}"
   ]
  },
  {
   "cell_type": "code",
   "execution_count": 31,
   "metadata": {},
   "outputs": [],
   "source": [
    "fullname = \"John Lennon\"\n"
   ]
  },
  {
   "cell_type": "code",
   "execution_count": 30,
   "metadata": {},
   "outputs": [
    {
     "ename": "SyntaxError",
     "evalue": "invalid syntax (<ipython-input-30-0acd42c249fb>, line 1)",
     "output_type": "error",
     "traceback": [
      "\u001b[0;36m  File \u001b[0;32m\"<ipython-input-30-0acd42c249fb>\"\u001b[0;36m, line \u001b[0;32m1\u001b[0m\n\u001b[0;31m    os.listdir(path)a\u001b[0m\n\u001b[0m                    ^\u001b[0m\n\u001b[0;31mSyntaxError\u001b[0m\u001b[0;31m:\u001b[0m invalid syntax\n"
     ]
    }
   ],
   "source": [
    "os.listdir(path)a"
   ]
  },
  {
   "cell_type": "code",
   "execution_count": null,
   "metadata": {},
   "outputs": [],
   "source": [
    "arg = \"qzerzqr\"\n",
    "\n",
    "isinstance(arg, str)"
   ]
  },
  {
   "cell_type": "code",
   "execution_count": null,
   "metadata": {},
   "outputs": [],
   "source": [
    "assert type(\"ezrs\")"
   ]
  },
  {
   "cell_type": "markdown",
   "metadata": {},
   "source": [
    "### Consolider son code\n",
    "\n",
    "* Les bonnes pratiques : [pep8](http://pep8.org).\n",
    "\n",
    "Un bon moment pour parler de la façon de demander de l'aide et signaler des bugs. \n",
    "\n",
    "* Les exceptions : `try`, `except`, `raise` et `finally`.\n",
    "\n",
    "Les exceptions ne doivent jamais être passée en silence!\n",
    "\n",
    "* La gestion de contexte avec `with`.\n",
    "\n",
    "La bonne façon d'ouvrir un fichier -- peut être présent dans d'autres API.\n",
    "\n",
    "\n"
   ]
  },
  {
   "cell_type": "markdown",
   "metadata": {},
   "source": [
    "* Les tests unitaires avec pytest et les assertions.\n",
    "\n",
    "Les outils d'intégration continue\n",
    "\n",
    "* Les outils de qualité de code pylint, pyflakes, black.\n"
   ]
  },
  {
   "cell_type": "code",
   "execution_count": null,
   "metadata": {},
   "outputs": [],
   "source": []
  },
  {
   "cell_type": "markdown",
   "metadata": {},
   "source": [
    "### Installer des modules tiers \n",
    "\n",
    "* Comprendre le sys.path, les modules et les packages.\n",
    "\n",
    "\n",
    "\n",
    "[cookiecutter](https://cookiecutter.readthedocs.io/en/latest/usage.html) est un bon outil.\n",
    "\n",
    "* Les environnements virtuels.\n",
    "`venv` et `virtualenv` ou `conda`\n",
    "\n",
    "![Don't install packages as root](https://imgs.xkcd.com/comics/python_environment.png)\n",
    "\n",
    "* Installer un module tiers avec pip (et peut être conda).\n",
    "\n",
    "\n"
   ]
  },
  {
   "cell_type": "markdown",
   "metadata": {},
   "source": [
    "### De Python 2 à Python 3\n",
    "\n",
    "* Les principales différences.\n",
    "\n",
    "* Écrire du code compatible pour les deux versions (sixer).\n",
    "\n",
    "* Traduire du code Python 2 en Python 3: 2to3."
   ]
  },
  {
   "cell_type": "markdown",
   "metadata": {},
   "source": [
    "### Une introduction à la manipulation de données en Python\n",
    "\n",
    "* l'écosystème scipy\n",
    "\n",
    "* les bibliothèques numpy scipy et matplotlib\n",
    "L'objet `ndarray`, la notion de vectorisation.\n",
    "\n",
    "* Lecture d'un fichier excel avec pandas et xlrd\n",
    "La `DataFrame` et les `Series` de pandas \n"
   ]
  },
  {
   "cell_type": "code",
   "execution_count": 2,
   "metadata": {
    "scrolled": true
   },
   "outputs": [],
   "source": [
    "import numpy as np\n",
    "import pandas as pd\n",
    "import matplotlib.pyplot as plt\n",
    "\n",
    "%matplotlib inline\n",
    "\n"
   ]
  },
  {
   "cell_type": "code",
   "execution_count": 3,
   "metadata": {},
   "outputs": [],
   "source": [
    "mylist = [[1, 2], [3, 4], [5, 6]]\n",
    "myarray = np.array(mylist)\n"
   ]
  },
  {
   "cell_type": "code",
   "execution_count": 4,
   "metadata": {},
   "outputs": [
    {
     "data": {
      "text/plain": [
       "array([2, 4])"
      ]
     },
     "execution_count": 4,
     "metadata": {},
     "output_type": "execute_result"
    }
   ],
   "source": [
    "myarray[:2, -1]"
   ]
  },
  {
   "cell_type": "code",
   "execution_count": 5,
   "metadata": {},
   "outputs": [
    {
     "data": {
      "text/plain": [
       "array([[1, 2],\n",
       "       [3, 4],\n",
       "       [5, 6]])"
      ]
     },
     "execution_count": 5,
     "metadata": {},
     "output_type": "execute_result"
    }
   ],
   "source": [
    "myarray"
   ]
  },
  {
   "cell_type": "raw",
   "metadata": {},
   "source": []
  },
  {
   "cell_type": "code",
   "execution_count": null,
   "metadata": {},
   "outputs": [],
   "source": []
  },
  {
   "cell_type": "code",
   "execution_count": 6,
   "metadata": {},
   "outputs": [],
   "source": [
    "mydf = pd.DataFrame(\n",
    "    myarray,\n",
    "    index=['lundi', 'mardi', 'mercredi'],\n",
    "    columns=['recette', 'depenses']\n",
    ")\n"
   ]
  },
  {
   "cell_type": "code",
   "execution_count": 7,
   "metadata": {},
   "outputs": [
    {
     "data": {
      "text/plain": [
       "lundi    2\n",
       "mardi    4\n",
       "Name: depenses, dtype: int64"
      ]
     },
     "execution_count": 7,
     "metadata": {},
     "output_type": "execute_result"
    }
   ],
   "source": [
    "mydf.loc['lundi':'mardi', 'depenses']"
   ]
  },
  {
   "cell_type": "code",
   "execution_count": 8,
   "metadata": {},
   "outputs": [
    {
     "data": {
      "text/html": [
       "<div>\n",
       "<style scoped>\n",
       "    .dataframe tbody tr th:only-of-type {\n",
       "        vertical-align: middle;\n",
       "    }\n",
       "\n",
       "    .dataframe tbody tr th {\n",
       "        vertical-align: top;\n",
       "    }\n",
       "\n",
       "    .dataframe thead th {\n",
       "        text-align: right;\n",
       "    }\n",
       "</style>\n",
       "<table border=\"1\" class=\"dataframe\">\n",
       "  <thead>\n",
       "    <tr style=\"text-align: right;\">\n",
       "      <th></th>\n",
       "      <th>recette</th>\n",
       "      <th>depenses</th>\n",
       "    </tr>\n",
       "  </thead>\n",
       "  <tbody>\n",
       "    <tr>\n",
       "      <th>mardi</th>\n",
       "      <td>3</td>\n",
       "      <td>4</td>\n",
       "    </tr>\n",
       "    <tr>\n",
       "      <th>mercredi</th>\n",
       "      <td>5</td>\n",
       "      <td>6</td>\n",
       "    </tr>\n",
       "  </tbody>\n",
       "</table>\n",
       "</div>"
      ],
      "text/plain": [
       "          recette  depenses\n",
       "mardi           3         4\n",
       "mercredi        5         6"
      ]
     },
     "execution_count": 8,
     "metadata": {},
     "output_type": "execute_result"
    }
   ],
   "source": [
    "mydf[mydf['depenses'] > 3]"
   ]
  },
  {
   "cell_type": "code",
   "execution_count": 9,
   "metadata": {},
   "outputs": [
    {
     "data": {
      "text/plain": [
       "lundi       False\n",
       "mardi        True\n",
       "mercredi     True\n",
       "Name: depenses, dtype: bool"
      ]
     },
     "execution_count": 9,
     "metadata": {},
     "output_type": "execute_result"
    }
   ],
   "source": [
    "mydf['depenses'] > 3"
   ]
  },
  {
   "cell_type": "markdown",
   "metadata": {},
   "source": [
    "<hr/>\n",
    "\n",
    "### Programmation orientée objet\n",
    "\n",
    "* Les concepts de la programmation orientée objet.\n",
    "\n",
    "* Comment s'écrit une classe en Python\n",
    "\n",
    "> Si une classe n'a qu'une fonction à part `__init__` c'est une fonction.\n",
    "\n",
    "* Documentation des classes\n",
    "\n",
    "* Attributs de classe et d'instance, les attributs `property`.\n",
    "\n",
    "* Les méthodes spéciales (surcharge d'opérateurs,` __iter__`).\n",
    "\n",
    "* L'héritage et la redéfinition de fonctions.\n",
    "\n",
    "\n",
    "\n"
   ]
  },
  {
   "cell_type": "code",
   "execution_count": 10,
   "metadata": {},
   "outputs": [],
   "source": [
    "import os"
   ]
  },
  {
   "cell_type": "code",
   "execution_count": null,
   "metadata": {},
   "outputs": [],
   "source": []
  },
  {
   "cell_type": "code",
   "execution_count": 11,
   "metadata": {},
   "outputs": [
    {
     "data": {
      "text/html": [
       "<div>\n",
       "<style scoped>\n",
       "    .dataframe tbody tr th:only-of-type {\n",
       "        vertical-align: middle;\n",
       "    }\n",
       "\n",
       "    .dataframe tbody tr th {\n",
       "        vertical-align: top;\n",
       "    }\n",
       "\n",
       "    .dataframe thead th {\n",
       "        text-align: right;\n",
       "    }\n",
       "</style>\n",
       "<table border=\"1\" class=\"dataframe\">\n",
       "  <thead>\n",
       "    <tr style=\"text-align: right;\">\n",
       "      <th>Série</th>\n",
       "      <th>A. France</th>\n",
       "      <th>A.a. Séries macroéconomiques</th>\n",
       "      <th>Indice des prix à la consommation (€, base 2000)</th>\n",
       "      <th>Produit intérieur brut (milliards d'€)</th>\n",
       "      <th>Revenu disponible des ménages (milliards d'€)</th>\n",
       "      <th>nan</th>\n",
       "      <th>A.b. Séries démographiques</th>\n",
       "      <th>Population (y compris DOM) (milliers)</th>\n",
       "      <th>Nombre de ménages (y compris DOM) (milliers)</th>\n",
       "      <th>nan</th>\n",
       "      <th>...</th>\n",
       "      <th>Produit intérieur brut (milliards de £)</th>\n",
       "      <th>Revenu disponible des ménages (milliards de £)</th>\n",
       "      <th>Population (milliers)</th>\n",
       "      <th>Nombre de ménages (milliers)</th>\n",
       "      <th>Taux d'intérêt à long terme</th>\n",
       "      <th>Taux d'intérêt à court terme</th>\n",
       "      <th>Indice du prix des logements, gouvernement (£, base 2000)</th>\n",
       "      <th>Indice du prix des logements, Halifax (£, base 2000)</th>\n",
       "      <th>Nombre de logements terminés (unités)</th>\n",
       "      <th>€ en £</th>\n",
       "    </tr>\n",
       "  </thead>\n",
       "  <tbody>\n",
       "    <tr>\n",
       "      <th>1800</th>\n",
       "      <td>NaN</td>\n",
       "      <td>NaN</td>\n",
       "      <td>0,000428704890191</td>\n",
       "      <td>0,009952318228593</td>\n",
       "      <td>0,008421244895115</td>\n",
       "      <td>NaN</td>\n",
       "      <td>NaN</td>\n",
       "      <td>28 601</td>\n",
       "      <td>6 882</td>\n",
       "      <td>NaN</td>\n",
       "      <td>...</td>\n",
       "      <td>NaN</td>\n",
       "      <td>NaN</td>\n",
       "      <td>NaN</td>\n",
       "      <td>NaN</td>\n",
       "      <td>4,71%</td>\n",
       "      <td>5,00%</td>\n",
       "      <td>NaN</td>\n",
       "      <td>NaN</td>\n",
       "      <td>NaN</td>\n",
       "      <td>NaN</td>\n",
       "    </tr>\n",
       "    <tr>\n",
       "      <th>1801</th>\n",
       "      <td>NaN</td>\n",
       "      <td>NaN</td>\n",
       "      <td>0,000442066128977</td>\n",
       "      <td>0,010101725206234</td>\n",
       "      <td>0,008547666972751</td>\n",
       "      <td>NaN</td>\n",
       "      <td>NaN</td>\n",
       "      <td>28 742</td>\n",
       "      <td>6 916</td>\n",
       "      <td>NaN</td>\n",
       "      <td>...</td>\n",
       "      <td>NaN</td>\n",
       "      <td>NaN</td>\n",
       "      <td>NaN</td>\n",
       "      <td>NaN</td>\n",
       "      <td>4,92%</td>\n",
       "      <td>5,00%</td>\n",
       "      <td>NaN</td>\n",
       "      <td>NaN</td>\n",
       "      <td>NaN</td>\n",
       "      <td>NaN</td>\n",
       "    </tr>\n",
       "    <tr>\n",
       "      <th>1802</th>\n",
       "      <td>NaN</td>\n",
       "      <td>NaN</td>\n",
       "      <td>0,000474133102063</td>\n",
       "      <td>0,010253375123103</td>\n",
       "      <td>0,008675986933884</td>\n",
       "      <td>NaN</td>\n",
       "      <td>NaN</td>\n",
       "      <td>28 883</td>\n",
       "      <td>6 950</td>\n",
       "      <td>NaN</td>\n",
       "      <td>...</td>\n",
       "      <td>NaN</td>\n",
       "      <td>NaN</td>\n",
       "      <td>NaN</td>\n",
       "      <td>NaN</td>\n",
       "      <td>4,23%</td>\n",
       "      <td>5,00%</td>\n",
       "      <td>NaN</td>\n",
       "      <td>NaN</td>\n",
       "      <td>NaN</td>\n",
       "      <td>NaN</td>\n",
       "    </tr>\n",
       "    <tr>\n",
       "      <th>1803</th>\n",
       "      <td>NaN</td>\n",
       "      <td>NaN</td>\n",
       "      <td>0,000473751352384</td>\n",
       "      <td>0,01040730165083</td>\n",
       "      <td>0,008806233270071</td>\n",
       "      <td>NaN</td>\n",
       "      <td>NaN</td>\n",
       "      <td>29 025</td>\n",
       "      <td>6 984</td>\n",
       "      <td>NaN</td>\n",
       "      <td>...</td>\n",
       "      <td>NaN</td>\n",
       "      <td>NaN</td>\n",
       "      <td>NaN</td>\n",
       "      <td>NaN</td>\n",
       "      <td>4,99%</td>\n",
       "      <td>5,00%</td>\n",
       "      <td>NaN</td>\n",
       "      <td>NaN</td>\n",
       "      <td>NaN</td>\n",
       "      <td>26,238</td>\n",
       "    </tr>\n",
       "    <tr>\n",
       "      <th>1804</th>\n",
       "      <td>NaN</td>\n",
       "      <td>NaN</td>\n",
       "      <td>0,000425650892754</td>\n",
       "      <td>0,010563538966531</td>\n",
       "      <td>0,008938434900591</td>\n",
       "      <td>NaN</td>\n",
       "      <td>NaN</td>\n",
       "      <td>29 168</td>\n",
       "      <td>7 018</td>\n",
       "      <td>NaN</td>\n",
       "      <td>...</td>\n",
       "      <td>NaN</td>\n",
       "      <td>NaN</td>\n",
       "      <td>NaN</td>\n",
       "      <td>NaN</td>\n",
       "      <td>5,30%</td>\n",
       "      <td>5,00%</td>\n",
       "      <td>NaN</td>\n",
       "      <td>NaN</td>\n",
       "      <td>NaN</td>\n",
       "      <td>26,238</td>\n",
       "    </tr>\n",
       "    <tr>\n",
       "      <th>1805</th>\n",
       "      <td>NaN</td>\n",
       "      <td>NaN</td>\n",
       "      <td>0,000422978644997</td>\n",
       "      <td>0,010722121760402</td>\n",
       "      <td>0,009072621178869</td>\n",
       "      <td>NaN</td>\n",
       "      <td>NaN</td>\n",
       "      <td>29 311</td>\n",
       "      <td>7 053</td>\n",
       "      <td>NaN</td>\n",
       "      <td>...</td>\n",
       "      <td>NaN</td>\n",
       "      <td>NaN</td>\n",
       "      <td>NaN</td>\n",
       "      <td>NaN</td>\n",
       "      <td>5,04%</td>\n",
       "      <td>5,00%</td>\n",
       "      <td>NaN</td>\n",
       "      <td>NaN</td>\n",
       "      <td>NaN</td>\n",
       "      <td>26,238</td>\n",
       "    </tr>\n",
       "    <tr>\n",
       "      <th>1806</th>\n",
       "      <td>NaN</td>\n",
       "      <td>NaN</td>\n",
       "      <td>0,000416488900444</td>\n",
       "      <td>0,010883085243413</td>\n",
       "      <td>0,009208821898991</td>\n",
       "      <td>NaN</td>\n",
       "      <td>NaN</td>\n",
       "      <td>29 455</td>\n",
       "      <td>7 088</td>\n",
       "      <td>NaN</td>\n",
       "      <td>...</td>\n",
       "      <td>NaN</td>\n",
       "      <td>NaN</td>\n",
       "      <td>NaN</td>\n",
       "      <td>NaN</td>\n",
       "      <td>4,87%</td>\n",
       "      <td>5,00%</td>\n",
       "      <td>NaN</td>\n",
       "      <td>NaN</td>\n",
       "      <td>NaN</td>\n",
       "      <td>26,238</td>\n",
       "    </tr>\n",
       "    <tr>\n",
       "      <th>1807</th>\n",
       "      <td>NaN</td>\n",
       "      <td>NaN</td>\n",
       "      <td>0,000396637917105</td>\n",
       "      <td>0,011046465155136</td>\n",
       "      <td>0,009347067302319</td>\n",
       "      <td>NaN</td>\n",
       "      <td>NaN</td>\n",
       "      <td>29 600</td>\n",
       "      <td>7 122</td>\n",
       "      <td>NaN</td>\n",
       "      <td>...</td>\n",
       "      <td>NaN</td>\n",
       "      <td>NaN</td>\n",
       "      <td>NaN</td>\n",
       "      <td>NaN</td>\n",
       "      <td>4,92%</td>\n",
       "      <td>5,00%</td>\n",
       "      <td>NaN</td>\n",
       "      <td>NaN</td>\n",
       "      <td>NaN</td>\n",
       "      <td>26,238</td>\n",
       "    </tr>\n",
       "    <tr>\n",
       "      <th>1808</th>\n",
       "      <td>NaN</td>\n",
       "      <td>NaN</td>\n",
       "      <td>0,000402364162299</td>\n",
       "      <td>0,011212297771671</td>\n",
       "      <td>0,009487388084208</td>\n",
       "      <td>NaN</td>\n",
       "      <td>NaN</td>\n",
       "      <td>29 746</td>\n",
       "      <td>7 157</td>\n",
       "      <td>NaN</td>\n",
       "      <td>...</td>\n",
       "      <td>NaN</td>\n",
       "      <td>NaN</td>\n",
       "      <td>NaN</td>\n",
       "      <td>NaN</td>\n",
       "      <td>4,55%</td>\n",
       "      <td>5,00%</td>\n",
       "      <td>NaN</td>\n",
       "      <td>NaN</td>\n",
       "      <td>NaN</td>\n",
       "      <td>26,238</td>\n",
       "    </tr>\n",
       "    <tr>\n",
       "      <th>1809</th>\n",
       "      <td>NaN</td>\n",
       "      <td>NaN</td>\n",
       "      <td>0,000369151940173</td>\n",
       "      <td>0,011380619913708</td>\n",
       "      <td>0,009629815400819</td>\n",
       "      <td>NaN</td>\n",
       "      <td>NaN</td>\n",
       "      <td>29 892</td>\n",
       "      <td>7 193</td>\n",
       "      <td>NaN</td>\n",
       "      <td>...</td>\n",
       "      <td>NaN</td>\n",
       "      <td>NaN</td>\n",
       "      <td>NaN</td>\n",
       "      <td>NaN</td>\n",
       "      <td>4,49%</td>\n",
       "      <td>5,00%</td>\n",
       "      <td>NaN</td>\n",
       "      <td>NaN</td>\n",
       "      <td>NaN</td>\n",
       "      <td>26,238</td>\n",
       "    </tr>\n",
       "    <tr>\n",
       "      <th>1810</th>\n",
       "      <td>NaN</td>\n",
       "      <td>NaN</td>\n",
       "      <td>0,000464207610394</td>\n",
       "      <td>0,011551468954698</td>\n",
       "      <td>0,009774380876041</td>\n",
       "      <td>NaN</td>\n",
       "      <td>NaN</td>\n",
       "      <td>30 039</td>\n",
       "      <td>7 228</td>\n",
       "      <td>NaN</td>\n",
       "      <td>...</td>\n",
       "      <td>NaN</td>\n",
       "      <td>NaN</td>\n",
       "      <td>NaN</td>\n",
       "      <td>NaN</td>\n",
       "      <td>4,47%</td>\n",
       "      <td>5,00%</td>\n",
       "      <td>NaN</td>\n",
       "      <td>NaN</td>\n",
       "      <td>NaN</td>\n",
       "      <td>26,238</td>\n",
       "    </tr>\n",
       "    <tr>\n",
       "      <th>1811</th>\n",
       "      <td>NaN</td>\n",
       "      <td>NaN</td>\n",
       "      <td>0,000511544570664</td>\n",
       "      <td>0,011624301943663</td>\n",
       "      <td>0,009836009174335</td>\n",
       "      <td>NaN</td>\n",
       "      <td>NaN</td>\n",
       "      <td>30 186</td>\n",
       "      <td>7 263</td>\n",
       "      <td>NaN</td>\n",
       "      <td>...</td>\n",
       "      <td>NaN</td>\n",
       "      <td>NaN</td>\n",
       "      <td>NaN</td>\n",
       "      <td>NaN</td>\n",
       "      <td>4,67%</td>\n",
       "      <td>5,00%</td>\n",
       "      <td>NaN</td>\n",
       "      <td>NaN</td>\n",
       "      <td>NaN</td>\n",
       "      <td>26,238</td>\n",
       "    </tr>\n",
       "    <tr>\n",
       "      <th>1812</th>\n",
       "      <td>NaN</td>\n",
       "      <td>NaN</td>\n",
       "      <td>0,000573769768439</td>\n",
       "      <td>0,011697594150784</td>\n",
       "      <td>0,009898026044264</td>\n",
       "      <td>NaN</td>\n",
       "      <td>NaN</td>\n",
       "      <td>30 335</td>\n",
       "      <td>7 299</td>\n",
       "      <td>NaN</td>\n",
       "      <td>...</td>\n",
       "      <td>NaN</td>\n",
       "      <td>NaN</td>\n",
       "      <td>NaN</td>\n",
       "      <td>NaN</td>\n",
       "      <td>5,08%</td>\n",
       "      <td>5,00%</td>\n",
       "      <td>NaN</td>\n",
       "      <td>NaN</td>\n",
       "      <td>NaN</td>\n",
       "      <td>26,238</td>\n",
       "    </tr>\n",
       "    <tr>\n",
       "      <th>1813</th>\n",
       "      <td>NaN</td>\n",
       "      <td>NaN</td>\n",
       "      <td>0,000471460854306</td>\n",
       "      <td>0,011771348471471</td>\n",
       "      <td>0,009960433935803</td>\n",
       "      <td>NaN</td>\n",
       "      <td>NaN</td>\n",
       "      <td>30 484</td>\n",
       "      <td>7 335</td>\n",
       "      <td>NaN</td>\n",
       "      <td>...</td>\n",
       "      <td>NaN</td>\n",
       "      <td>NaN</td>\n",
       "      <td>NaN</td>\n",
       "      <td>NaN</td>\n",
       "      <td>4,92%</td>\n",
       "      <td>5,00%</td>\n",
       "      <td>NaN</td>\n",
       "      <td>NaN</td>\n",
       "      <td>NaN</td>\n",
       "      <td>26,238</td>\n",
       "    </tr>\n",
       "    <tr>\n",
       "      <th>1814</th>\n",
       "      <td>NaN</td>\n",
       "      <td>NaN</td>\n",
       "      <td>0,000390148172551</td>\n",
       "      <td>0,01184556781939</td>\n",
       "      <td>0,010023235314379</td>\n",
       "      <td>NaN</td>\n",
       "      <td>NaN</td>\n",
       "      <td>30 634</td>\n",
       "      <td>7 371</td>\n",
       "      <td>NaN</td>\n",
       "      <td>...</td>\n",
       "      <td>NaN</td>\n",
       "      <td>NaN</td>\n",
       "      <td>NaN</td>\n",
       "      <td>NaN</td>\n",
       "      <td>4,92%</td>\n",
       "      <td>5,00%</td>\n",
       "      <td>NaN</td>\n",
       "      <td>NaN</td>\n",
       "      <td>NaN</td>\n",
       "      <td>26,238</td>\n",
       "    </tr>\n",
       "    <tr>\n",
       "      <th>1815</th>\n",
       "      <td>NaN</td>\n",
       "      <td>NaN</td>\n",
       "      <td>0,000542466294712</td>\n",
       "      <td>0,011920255126575</td>\n",
       "      <td>0,010086432660959</td>\n",
       "      <td>NaN</td>\n",
       "      <td>NaN</td>\n",
       "      <td>30 784</td>\n",
       "      <td>7 407</td>\n",
       "      <td>NaN</td>\n",
       "      <td>...</td>\n",
       "      <td>NaN</td>\n",
       "      <td>NaN</td>\n",
       "      <td>NaN</td>\n",
       "      <td>NaN</td>\n",
       "      <td>4,48%</td>\n",
       "      <td>5,00%</td>\n",
       "      <td>NaN</td>\n",
       "      <td>NaN</td>\n",
       "      <td>NaN</td>\n",
       "      <td>26,238</td>\n",
       "    </tr>\n",
       "    <tr>\n",
       "      <th>1816</th>\n",
       "      <td>NaN</td>\n",
       "      <td>NaN</td>\n",
       "      <td>0,000542084545032</td>\n",
       "      <td>0,014370576463244</td>\n",
       "      <td>0,012159794421893</td>\n",
       "      <td>NaN</td>\n",
       "      <td>NaN</td>\n",
       "      <td>30 936</td>\n",
       "      <td>7 444</td>\n",
       "      <td>NaN</td>\n",
       "      <td>...</td>\n",
       "      <td>NaN</td>\n",
       "      <td>NaN</td>\n",
       "      <td>NaN</td>\n",
       "      <td>NaN</td>\n",
       "      <td>5,02%</td>\n",
       "      <td>5,00%</td>\n",
       "      <td>NaN</td>\n",
       "      <td>NaN</td>\n",
       "      <td>NaN</td>\n",
       "      <td>26,238</td>\n",
       "    </tr>\n",
       "    <tr>\n",
       "      <th>1817</th>\n",
       "      <td>NaN</td>\n",
       "      <td>NaN</td>\n",
       "      <td>0,000624924225505</td>\n",
       "      <td>0,017115091454167</td>\n",
       "      <td>0,014482090828219</td>\n",
       "      <td>NaN</td>\n",
       "      <td>NaN</td>\n",
       "      <td>31 088</td>\n",
       "      <td>7 480</td>\n",
       "      <td>NaN</td>\n",
       "      <td>...</td>\n",
       "      <td>NaN</td>\n",
       "      <td>NaN</td>\n",
       "      <td>NaN</td>\n",
       "      <td>NaN</td>\n",
       "      <td>4,10%</td>\n",
       "      <td>5,00%</td>\n",
       "      <td>NaN</td>\n",
       "      <td>NaN</td>\n",
       "      <td>NaN</td>\n",
       "      <td>26,238</td>\n",
       "    </tr>\n",
       "    <tr>\n",
       "      <th>1818</th>\n",
       "      <td>NaN</td>\n",
       "      <td>NaN</td>\n",
       "      <td>0,000513835068742</td>\n",
       "      <td>0,015434584923935</td>\n",
       "      <td>0,013060114891169</td>\n",
       "      <td>NaN</td>\n",
       "      <td>NaN</td>\n",
       "      <td>31 241</td>\n",
       "      <td>7 517</td>\n",
       "      <td>NaN</td>\n",
       "      <td>...</td>\n",
       "      <td>NaN</td>\n",
       "      <td>NaN</td>\n",
       "      <td>NaN</td>\n",
       "      <td>NaN</td>\n",
       "      <td>3,87%</td>\n",
       "      <td>5,00%</td>\n",
       "      <td>NaN</td>\n",
       "      <td>NaN</td>\n",
       "      <td>NaN</td>\n",
       "      <td>26,238</td>\n",
       "    </tr>\n",
       "    <tr>\n",
       "      <th>1819</th>\n",
       "      <td>NaN</td>\n",
       "      <td>NaN</td>\n",
       "      <td>0,000428704890191</td>\n",
       "      <td>0,014323240526563</td>\n",
       "      <td>0,012119740687077</td>\n",
       "      <td>NaN</td>\n",
       "      <td>NaN</td>\n",
       "      <td>31 394</td>\n",
       "      <td>7 554</td>\n",
       "      <td>NaN</td>\n",
       "      <td>...</td>\n",
       "      <td>NaN</td>\n",
       "      <td>NaN</td>\n",
       "      <td>NaN</td>\n",
       "      <td>NaN</td>\n",
       "      <td>4,17%</td>\n",
       "      <td>5,00%</td>\n",
       "      <td>NaN</td>\n",
       "      <td>NaN</td>\n",
       "      <td>NaN</td>\n",
       "      <td>26,238</td>\n",
       "    </tr>\n",
       "    <tr>\n",
       "      <th>1820</th>\n",
       "      <td>NaN</td>\n",
       "      <td>NaN</td>\n",
       "      <td>0,0003817496796</td>\n",
       "      <td>0,014484473512255</td>\n",
       "      <td>0,012256169449351</td>\n",
       "      <td>NaN</td>\n",
       "      <td>NaN</td>\n",
       "      <td>31 549</td>\n",
       "      <td>7 591</td>\n",
       "      <td>NaN</td>\n",
       "      <td>...</td>\n",
       "      <td>NaN</td>\n",
       "      <td>NaN</td>\n",
       "      <td>NaN</td>\n",
       "      <td>NaN</td>\n",
       "      <td>4,42%</td>\n",
       "      <td>5,00%</td>\n",
       "      <td>NaN</td>\n",
       "      <td>NaN</td>\n",
       "      <td>NaN</td>\n",
       "      <td>26,238</td>\n",
       "    </tr>\n",
       "    <tr>\n",
       "      <th>1821</th>\n",
       "      <td>NaN</td>\n",
       "      <td>NaN</td>\n",
       "      <td>0,000375324720056</td>\n",
       "      <td>0,014972696040073</td>\n",
       "      <td>0,012669283396839</td>\n",
       "      <td>NaN</td>\n",
       "      <td>NaN</td>\n",
       "      <td>31 704</td>\n",
       "      <td>7 629</td>\n",
       "      <td>NaN</td>\n",
       "      <td>...</td>\n",
       "      <td>NaN</td>\n",
       "      <td>NaN</td>\n",
       "      <td>NaN</td>\n",
       "      <td>NaN</td>\n",
       "      <td>4,07%</td>\n",
       "      <td>5,00%</td>\n",
       "      <td>NaN</td>\n",
       "      <td>NaN</td>\n",
       "      <td>NaN</td>\n",
       "      <td>26,238</td>\n",
       "    </tr>\n",
       "    <tr>\n",
       "      <th>1822</th>\n",
       "      <td>NaN</td>\n",
       "      <td>NaN</td>\n",
       "      <td>0,000353908188241</td>\n",
       "      <td>0,01461339527837</td>\n",
       "      <td>0,012365257778304</td>\n",
       "      <td>NaN</td>\n",
       "      <td>NaN</td>\n",
       "      <td>31 907</td>\n",
       "      <td>7 677</td>\n",
       "      <td>NaN</td>\n",
       "      <td>...</td>\n",
       "      <td>NaN</td>\n",
       "      <td>NaN</td>\n",
       "      <td>NaN</td>\n",
       "      <td>NaN</td>\n",
       "      <td>3,79%</td>\n",
       "      <td>4,00%</td>\n",
       "      <td>NaN</td>\n",
       "      <td>NaN</td>\n",
       "      <td>NaN</td>\n",
       "      <td>26,238</td>\n",
       "    </tr>\n",
       "    <tr>\n",
       "      <th>1823</th>\n",
       "      <td>NaN</td>\n",
       "      <td>NaN</td>\n",
       "      <td>0,00035283736165</td>\n",
       "      <td>0,016287601120784</td>\n",
       "      <td>0,013781902330856</td>\n",
       "      <td>NaN</td>\n",
       "      <td>NaN</td>\n",
       "      <td>32 112</td>\n",
       "      <td>7 727</td>\n",
       "      <td>NaN</td>\n",
       "      <td>...</td>\n",
       "      <td>NaN</td>\n",
       "      <td>NaN</td>\n",
       "      <td>NaN</td>\n",
       "      <td>NaN</td>\n",
       "      <td>3,80%</td>\n",
       "      <td>4,00%</td>\n",
       "      <td>NaN</td>\n",
       "      <td>NaN</td>\n",
       "      <td>NaN</td>\n",
       "      <td>26,238</td>\n",
       "    </tr>\n",
       "    <tr>\n",
       "      <th>1824</th>\n",
       "      <td>NaN</td>\n",
       "      <td>NaN</td>\n",
       "      <td>0,000351231121764</td>\n",
       "      <td>0,015860608354066</td>\n",
       "      <td>0,013420598504513</td>\n",
       "      <td>NaN</td>\n",
       "      <td>NaN</td>\n",
       "      <td>32 318</td>\n",
       "      <td>7 776</td>\n",
       "      <td>NaN</td>\n",
       "      <td>...</td>\n",
       "      <td>NaN</td>\n",
       "      <td>NaN</td>\n",
       "      <td>NaN</td>\n",
       "      <td>NaN</td>\n",
       "      <td>3,30%</td>\n",
       "      <td>3,50%</td>\n",
       "      <td>NaN</td>\n",
       "      <td>NaN</td>\n",
       "      <td>NaN</td>\n",
       "      <td>26,238</td>\n",
       "    </tr>\n",
       "    <tr>\n",
       "      <th>1825</th>\n",
       "      <td>NaN</td>\n",
       "      <td>NaN</td>\n",
       "      <td>0,000356049841422</td>\n",
       "      <td>0,016507155857814</td>\n",
       "      <td>0,013967680575276</td>\n",
       "      <td>NaN</td>\n",
       "      <td>NaN</td>\n",
       "      <td>32 525</td>\n",
       "      <td>7 826</td>\n",
       "      <td>NaN</td>\n",
       "      <td>...</td>\n",
       "      <td>NaN</td>\n",
       "      <td>NaN</td>\n",
       "      <td>NaN</td>\n",
       "      <td>NaN</td>\n",
       "      <td>3,54%</td>\n",
       "      <td>3,88%</td>\n",
       "      <td>NaN</td>\n",
       "      <td>NaN</td>\n",
       "      <td>NaN</td>\n",
       "      <td>26,238</td>\n",
       "    </tr>\n",
       "    <tr>\n",
       "      <th>1826</th>\n",
       "      <td>NaN</td>\n",
       "      <td>NaN</td>\n",
       "      <td>0,000369970587102</td>\n",
       "      <td>0,016614105994616</td>\n",
       "      <td>0,01405817740957</td>\n",
       "      <td>NaN</td>\n",
       "      <td>NaN</td>\n",
       "      <td>32 733</td>\n",
       "      <td>7 876</td>\n",
       "      <td>NaN</td>\n",
       "      <td>...</td>\n",
       "      <td>NaN</td>\n",
       "      <td>NaN</td>\n",
       "      <td>NaN</td>\n",
       "      <td>NaN</td>\n",
       "      <td>3,79%</td>\n",
       "      <td>4,50%</td>\n",
       "      <td>NaN</td>\n",
       "      <td>NaN</td>\n",
       "      <td>NaN</td>\n",
       "      <td>26,238</td>\n",
       "    </tr>\n",
       "    <tr>\n",
       "      <th>1827</th>\n",
       "      <td>NaN</td>\n",
       "      <td>NaN</td>\n",
       "      <td>0,000384962159372</td>\n",
       "      <td>0,016880996668327</td>\n",
       "      <td>0,014284009388805</td>\n",
       "      <td>NaN</td>\n",
       "      <td>NaN</td>\n",
       "      <td>32 943</td>\n",
       "      <td>7 927</td>\n",
       "      <td>NaN</td>\n",
       "      <td>...</td>\n",
       "      <td>NaN</td>\n",
       "      <td>NaN</td>\n",
       "      <td>NaN</td>\n",
       "      <td>NaN</td>\n",
       "      <td>3,61%</td>\n",
       "      <td>3,25%</td>\n",
       "      <td>NaN</td>\n",
       "      <td>NaN</td>\n",
       "      <td>NaN</td>\n",
       "      <td>26,238</td>\n",
       "    </tr>\n",
       "    <tr>\n",
       "      <th>1828</th>\n",
       "      <td>NaN</td>\n",
       "      <td>NaN</td>\n",
       "      <td>0,000421905676753</td>\n",
       "      <td>0,01696032071239</td>\n",
       "      <td>0,014351130152609</td>\n",
       "      <td>NaN</td>\n",
       "      <td>NaN</td>\n",
       "      <td>33 155</td>\n",
       "      <td>7 978</td>\n",
       "      <td>NaN</td>\n",
       "      <td>...</td>\n",
       "      <td>NaN</td>\n",
       "      <td>NaN</td>\n",
       "      <td>NaN</td>\n",
       "      <td>NaN</td>\n",
       "      <td>3,54%</td>\n",
       "      <td>3,05%</td>\n",
       "      <td>NaN</td>\n",
       "      <td>NaN</td>\n",
       "      <td>NaN</td>\n",
       "      <td>26,238</td>\n",
       "    </tr>\n",
       "    <tr>\n",
       "      <th>1829</th>\n",
       "      <td>NaN</td>\n",
       "      <td>NaN</td>\n",
       "      <td>0,000436361835728</td>\n",
       "      <td>0,018292512295575</td>\n",
       "      <td>0,015478376218454</td>\n",
       "      <td>NaN</td>\n",
       "      <td>NaN</td>\n",
       "      <td>33 367</td>\n",
       "      <td>8 029</td>\n",
       "      <td>NaN</td>\n",
       "      <td>...</td>\n",
       "      <td>NaN</td>\n",
       "      <td>NaN</td>\n",
       "      <td>NaN</td>\n",
       "      <td>NaN</td>\n",
       "      <td>3,34%</td>\n",
       "      <td>3,35%</td>\n",
       "      <td>NaN</td>\n",
       "      <td>NaN</td>\n",
       "      <td>NaN</td>\n",
       "      <td>26,238</td>\n",
       "    </tr>\n",
       "    <tr>\n",
       "      <th>...</th>\n",
       "      <td>...</td>\n",
       "      <td>...</td>\n",
       "      <td>...</td>\n",
       "      <td>...</td>\n",
       "      <td>...</td>\n",
       "      <td>...</td>\n",
       "      <td>...</td>\n",
       "      <td>...</td>\n",
       "      <td>...</td>\n",
       "      <td>...</td>\n",
       "      <td>...</td>\n",
       "      <td>...</td>\n",
       "      <td>...</td>\n",
       "      <td>...</td>\n",
       "      <td>...</td>\n",
       "      <td>...</td>\n",
       "      <td>...</td>\n",
       "      <td>...</td>\n",
       "      <td>...</td>\n",
       "      <td>...</td>\n",
       "      <td>...</td>\n",
       "    </tr>\n",
       "    <tr>\n",
       "      <th>1986</th>\n",
       "      <td>NaN</td>\n",
       "      <td>NaN</td>\n",
       "      <td>0,743269520073677</td>\n",
       "      <td>818</td>\n",
       "      <td>521</td>\n",
       "      <td>NaN</td>\n",
       "      <td>NaN</td>\n",
       "      <td>56 866</td>\n",
       "      <td>21 094</td>\n",
       "      <td>NaN</td>\n",
       "      <td>...</td>\n",
       "      <td>444</td>\n",
       "      <td>289</td>\n",
       "      <td>56 684</td>\n",
       "      <td>21 769</td>\n",
       "      <td>9,47%</td>\n",
       "      <td>10,93%</td>\n",
       "      <td>0,373</td>\n",
       "      <td>0,466</td>\n",
       "      <td>216 540</td>\n",
       "      <td>0,646</td>\n",
       "    </tr>\n",
       "    <tr>\n",
       "      <th>1987</th>\n",
       "      <td>NaN</td>\n",
       "      <td>NaN</td>\n",
       "      <td>0,766639893392886</td>\n",
       "      <td>860</td>\n",
       "      <td>544</td>\n",
       "      <td>NaN</td>\n",
       "      <td>NaN</td>\n",
       "      <td>57 169</td>\n",
       "      <td>21 344</td>\n",
       "      <td>NaN</td>\n",
       "      <td>...</td>\n",
       "      <td>493</td>\n",
       "      <td>308</td>\n",
       "      <td>56 804</td>\n",
       "      <td>21 983</td>\n",
       "      <td>9,20%</td>\n",
       "      <td>9,70%</td>\n",
       "      <td>0,438</td>\n",
       "      <td>0,541</td>\n",
       "      <td>226 230</td>\n",
       "      <td>0,667</td>\n",
       "    </tr>\n",
       "    <tr>\n",
       "      <th>1988</th>\n",
       "      <td>NaN</td>\n",
       "      <td>NaN</td>\n",
       "      <td>0,787260811027483</td>\n",
       "      <td>929</td>\n",
       "      <td>577</td>\n",
       "      <td>NaN</td>\n",
       "      <td>NaN</td>\n",
       "      <td>57 492</td>\n",
       "      <td>21 574</td>\n",
       "      <td>NaN</td>\n",
       "      <td>...</td>\n",
       "      <td>552</td>\n",
       "      <td>341</td>\n",
       "      <td>56 916</td>\n",
       "      <td>22 200</td>\n",
       "      <td>9,01%</td>\n",
       "      <td>10,35%</td>\n",
       "      <td>0,549</td>\n",
       "      <td>0,666</td>\n",
       "      <td>242 360</td>\n",
       "      <td>0,619</td>\n",
       "    </tr>\n",
       "    <tr>\n",
       "      <th>1989</th>\n",
       "      <td>NaN</td>\n",
       "      <td>NaN</td>\n",
       "      <td>0,815671853101815</td>\n",
       "      <td>1 002</td>\n",
       "      <td>621</td>\n",
       "      <td>NaN</td>\n",
       "      <td>NaN</td>\n",
       "      <td>57 828</td>\n",
       "      <td>21 790</td>\n",
       "      <td>NaN</td>\n",
       "      <td>...</td>\n",
       "      <td>609</td>\n",
       "      <td>379</td>\n",
       "      <td>57 077</td>\n",
       "      <td>22 419</td>\n",
       "      <td>9,19%</td>\n",
       "      <td>13,89%</td>\n",
       "      <td>0,661</td>\n",
       "      <td>0,808</td>\n",
       "      <td>221 460</td>\n",
       "      <td>0,628</td>\n",
       "    </tr>\n",
       "    <tr>\n",
       "      <th>1990</th>\n",
       "      <td>NaN</td>\n",
       "      <td>NaN</td>\n",
       "      <td>0,843166409947944</td>\n",
       "      <td>1 059</td>\n",
       "      <td>663</td>\n",
       "      <td>NaN</td>\n",
       "      <td>NaN</td>\n",
       "      <td>58 138</td>\n",
       "      <td>22 030</td>\n",
       "      <td>NaN</td>\n",
       "      <td>...</td>\n",
       "      <td>663</td>\n",
       "      <td>424</td>\n",
       "      <td>57 238</td>\n",
       "      <td>22 640</td>\n",
       "      <td>10,80%</td>\n",
       "      <td>14,77%</td>\n",
       "      <td>0,655</td>\n",
       "      <td>0,806</td>\n",
       "      <td>202 500</td>\n",
       "      <td>0,677</td>\n",
       "    </tr>\n",
       "    <tr>\n",
       "      <th>1991</th>\n",
       "      <td>NaN</td>\n",
       "      <td>NaN</td>\n",
       "      <td>0,870147735066278</td>\n",
       "      <td>1 097</td>\n",
       "      <td>691</td>\n",
       "      <td>NaN</td>\n",
       "      <td>NaN</td>\n",
       "      <td>58 426</td>\n",
       "      <td>22 295</td>\n",
       "      <td>NaN</td>\n",
       "      <td>...</td>\n",
       "      <td>698</td>\n",
       "      <td>464</td>\n",
       "      <td>57 439</td>\n",
       "      <td>22 863</td>\n",
       "      <td>9,87%</td>\n",
       "      <td>11,51%</td>\n",
       "      <td>0,647</td>\n",
       "      <td>0,796</td>\n",
       "      <td>191 020</td>\n",
       "      <td>0,659</td>\n",
       "    </tr>\n",
       "    <tr>\n",
       "      <th>1992</th>\n",
       "      <td>NaN</td>\n",
       "      <td>NaN</td>\n",
       "      <td>0,891226895314977</td>\n",
       "      <td>1 136</td>\n",
       "      <td>723</td>\n",
       "      <td>NaN</td>\n",
       "      <td>NaN</td>\n",
       "      <td>58 712</td>\n",
       "      <td>22 561</td>\n",
       "      <td>NaN</td>\n",
       "      <td>...</td>\n",
       "      <td>721</td>\n",
       "      <td>496</td>\n",
       "      <td>57 585</td>\n",
       "      <td>23 027</td>\n",
       "      <td>9,18%</td>\n",
       "      <td>9,62%</td>\n",
       "      <td>0,623</td>\n",
       "      <td>0,750</td>\n",
       "      <td>179 100</td>\n",
       "      <td>0,703</td>\n",
       "    </tr>\n",
       "    <tr>\n",
       "      <th>1993</th>\n",
       "      <td>NaN</td>\n",
       "      <td>NaN</td>\n",
       "      <td>0,909776556333832</td>\n",
       "      <td>1 148</td>\n",
       "      <td>739</td>\n",
       "      <td>NaN</td>\n",
       "      <td>NaN</td>\n",
       "      <td>58 961</td>\n",
       "      <td>22 826</td>\n",
       "      <td>NaN</td>\n",
       "      <td>...</td>\n",
       "      <td>758</td>\n",
       "      <td>525</td>\n",
       "      <td>57 714</td>\n",
       "      <td>23 192</td>\n",
       "      <td>7,97%</td>\n",
       "      <td>5,93%</td>\n",
       "      <td>0,606</td>\n",
       "      <td>0,728</td>\n",
       "      <td>185 650</td>\n",
       "      <td>0,771</td>\n",
       "    </tr>\n",
       "    <tr>\n",
       "      <th>1994</th>\n",
       "      <td>NaN</td>\n",
       "      <td>NaN</td>\n",
       "      <td>0,924953551712895</td>\n",
       "      <td>1 186</td>\n",
       "      <td>752</td>\n",
       "      <td>NaN</td>\n",
       "      <td>NaN</td>\n",
       "      <td>59 175</td>\n",
       "      <td>23 096</td>\n",
       "      <td>NaN</td>\n",
       "      <td>...</td>\n",
       "      <td>797</td>\n",
       "      <td>544</td>\n",
       "      <td>57 862</td>\n",
       "      <td>23 359</td>\n",
       "      <td>8,03%</td>\n",
       "      <td>5,50%</td>\n",
       "      <td>0,623</td>\n",
       "      <td>0,732</td>\n",
       "      <td>193 000</td>\n",
       "      <td>0,773</td>\n",
       "    </tr>\n",
       "    <tr>\n",
       "      <th>1995</th>\n",
       "      <td>NaN</td>\n",
       "      <td>NaN</td>\n",
       "      <td>0,940973713501906</td>\n",
       "      <td>1 225</td>\n",
       "      <td>777</td>\n",
       "      <td>NaN</td>\n",
       "      <td>NaN</td>\n",
       "      <td>59 384</td>\n",
       "      <td>23 371</td>\n",
       "      <td>NaN</td>\n",
       "      <td>...</td>\n",
       "      <td>837</td>\n",
       "      <td>575</td>\n",
       "      <td>58 025</td>\n",
       "      <td>23 526</td>\n",
       "      <td>8,22%</td>\n",
       "      <td>6,68%</td>\n",
       "      <td>0,624</td>\n",
       "      <td>0,718</td>\n",
       "      <td>199 120</td>\n",
       "      <td>0,833</td>\n",
       "    </tr>\n",
       "    <tr>\n",
       "      <th>1996</th>\n",
       "      <td>NaN</td>\n",
       "      <td>NaN</td>\n",
       "      <td>0,95952337452076</td>\n",
       "      <td>1 259</td>\n",
       "      <td>796</td>\n",
       "      <td>NaN</td>\n",
       "      <td>NaN</td>\n",
       "      <td>59 589</td>\n",
       "      <td>23 640</td>\n",
       "      <td>NaN</td>\n",
       "      <td>...</td>\n",
       "      <td>893</td>\n",
       "      <td>611</td>\n",
       "      <td>58 164</td>\n",
       "      <td>23 695</td>\n",
       "      <td>8,10%</td>\n",
       "      <td>6,02%</td>\n",
       "      <td>0,644</td>\n",
       "      <td>0,753</td>\n",
       "      <td>189 030</td>\n",
       "      <td>0,821</td>\n",
       "    </tr>\n",
       "    <tr>\n",
       "      <th>1997</th>\n",
       "      <td>NaN</td>\n",
       "      <td>NaN</td>\n",
       "      <td>0,971327704260032</td>\n",
       "      <td>1 300</td>\n",
       "      <td>817</td>\n",
       "      <td>NaN</td>\n",
       "      <td>NaN</td>\n",
       "      <td>59 795</td>\n",
       "      <td>23 904</td>\n",
       "      <td>NaN</td>\n",
       "      <td>...</td>\n",
       "      <td>939</td>\n",
       "      <td>645</td>\n",
       "      <td>58 314</td>\n",
       "      <td>23 865</td>\n",
       "      <td>7,12%</td>\n",
       "      <td>6,84%</td>\n",
       "      <td>0,703</td>\n",
       "      <td>0,803</td>\n",
       "      <td>191 110</td>\n",
       "      <td>0,686</td>\n",
       "    </tr>\n",
       "    <tr>\n",
       "      <th>1998</th>\n",
       "      <td>NaN</td>\n",
       "      <td>NaN</td>\n",
       "      <td>0,978073035539615</td>\n",
       "      <td>1 359</td>\n",
       "      <td>846</td>\n",
       "      <td>NaN</td>\n",
       "      <td>NaN</td>\n",
       "      <td>60 011</td>\n",
       "      <td>24 165</td>\n",
       "      <td>NaN</td>\n",
       "      <td>...</td>\n",
       "      <td>980</td>\n",
       "      <td>669</td>\n",
       "      <td>58 475</td>\n",
       "      <td>24 036</td>\n",
       "      <td>5,53%</td>\n",
       "      <td>7,34%</td>\n",
       "      <td>0,786</td>\n",
       "      <td>0,847</td>\n",
       "      <td>181 020</td>\n",
       "      <td>0,672</td>\n",
       "    </tr>\n",
       "    <tr>\n",
       "      <th>1999</th>\n",
       "      <td>NaN</td>\n",
       "      <td>NaN</td>\n",
       "      <td>0,983371372676883</td>\n",
       "      <td>1 407</td>\n",
       "      <td>867</td>\n",
       "      <td>NaN</td>\n",
       "      <td>NaN</td>\n",
       "      <td>60 315</td>\n",
       "      <td>24 461</td>\n",
       "      <td>NaN</td>\n",
       "      <td>...</td>\n",
       "      <td>1 021</td>\n",
       "      <td>697</td>\n",
       "      <td>58 684</td>\n",
       "      <td>24 208</td>\n",
       "      <td>4,81%</td>\n",
       "      <td>5,44%</td>\n",
       "      <td>0,872</td>\n",
       "      <td>0,910</td>\n",
       "      <td>181 990</td>\n",
       "      <td>0,658</td>\n",
       "    </tr>\n",
       "    <tr>\n",
       "      <th>2000</th>\n",
       "      <td>NaN</td>\n",
       "      <td>NaN</td>\n",
       "      <td>1</td>\n",
       "      <td>1 486</td>\n",
       "      <td>917</td>\n",
       "      <td>NaN</td>\n",
       "      <td>NaN</td>\n",
       "      <td>60 725</td>\n",
       "      <td>24 799</td>\n",
       "      <td>NaN</td>\n",
       "      <td>...</td>\n",
       "      <td>1 081</td>\n",
       "      <td>745</td>\n",
       "      <td>58 886</td>\n",
       "      <td>24 382</td>\n",
       "      <td>4,82%</td>\n",
       "      <td>6,11%</td>\n",
       "      <td>1,000</td>\n",
       "      <td>1,000</td>\n",
       "      <td>176 850</td>\n",
       "      <td>0,609</td>\n",
       "    </tr>\n",
       "    <tr>\n",
       "      <th>2001</th>\n",
       "      <td>NaN</td>\n",
       "      <td>NaN</td>\n",
       "      <td>1,016</td>\n",
       "      <td>1 546</td>\n",
       "      <td>965</td>\n",
       "      <td>NaN</td>\n",
       "      <td>NaN</td>\n",
       "      <td>61 163</td>\n",
       "      <td>25 147</td>\n",
       "      <td>NaN</td>\n",
       "      <td>...</td>\n",
       "      <td>1 121</td>\n",
       "      <td>783</td>\n",
       "      <td>59 113</td>\n",
       "      <td>24 558</td>\n",
       "      <td>4,93%</td>\n",
       "      <td>4,97%</td>\n",
       "      <td>1,088</td>\n",
       "      <td>1,088</td>\n",
       "      <td>174 080</td>\n",
       "      <td>0,622</td>\n",
       "    </tr>\n",
       "    <tr>\n",
       "      <th>2002</th>\n",
       "      <td>NaN</td>\n",
       "      <td>NaN</td>\n",
       "      <td>1,036</td>\n",
       "      <td>1 595</td>\n",
       "      <td>1 003</td>\n",
       "      <td>NaN</td>\n",
       "      <td>NaN</td>\n",
       "      <td>61 605</td>\n",
       "      <td>25 499</td>\n",
       "      <td>NaN</td>\n",
       "      <td>...</td>\n",
       "      <td>1 173</td>\n",
       "      <td>806</td>\n",
       "      <td>59 366</td>\n",
       "      <td>24 747</td>\n",
       "      <td>4,89%</td>\n",
       "      <td>3,99%</td>\n",
       "      <td>1,268</td>\n",
       "      <td>1,320</td>\n",
       "      <td>181 960</td>\n",
       "      <td>0,629</td>\n",
       "    </tr>\n",
       "    <tr>\n",
       "      <th>2003</th>\n",
       "      <td>NaN</td>\n",
       "      <td>NaN</td>\n",
       "      <td>1,058</td>\n",
       "      <td>1 638</td>\n",
       "      <td>1 029</td>\n",
       "      <td>NaN</td>\n",
       "      <td>NaN</td>\n",
       "      <td>62 038</td>\n",
       "      <td>25 843</td>\n",
       "      <td>NaN</td>\n",
       "      <td>...</td>\n",
       "      <td>1 242</td>\n",
       "      <td>837</td>\n",
       "      <td>59 637</td>\n",
       "      <td>24 938</td>\n",
       "      <td>4,53%</td>\n",
       "      <td>3,67%</td>\n",
       "      <td>1,466</td>\n",
       "      <td>1,568</td>\n",
       "      <td>190 490</td>\n",
       "      <td>0,692</td>\n",
       "    </tr>\n",
       "    <tr>\n",
       "      <th>2004</th>\n",
       "      <td>NaN</td>\n",
       "      <td>NaN</td>\n",
       "      <td>1,080</td>\n",
       "      <td>1 708</td>\n",
       "      <td>1 075</td>\n",
       "      <td>NaN</td>\n",
       "      <td>NaN</td>\n",
       "      <td>62 491</td>\n",
       "      <td>26 180</td>\n",
       "      <td>NaN</td>\n",
       "      <td>...</td>\n",
       "      <td>1 305</td>\n",
       "      <td>863</td>\n",
       "      <td>59 950</td>\n",
       "      <td>25 131</td>\n",
       "      <td>4,88%</td>\n",
       "      <td>4,58%</td>\n",
       "      <td>1,643</td>\n",
       "      <td>1,862</td>\n",
       "      <td>203 490</td>\n",
       "      <td>0,678</td>\n",
       "    </tr>\n",
       "    <tr>\n",
       "      <th>2005</th>\n",
       "      <td>NaN</td>\n",
       "      <td>NaN</td>\n",
       "      <td>1,100</td>\n",
       "      <td>1 770</td>\n",
       "      <td>1 105</td>\n",
       "      <td>NaN</td>\n",
       "      <td>NaN</td>\n",
       "      <td>62 958</td>\n",
       "      <td>26 507</td>\n",
       "      <td>NaN</td>\n",
       "      <td>...</td>\n",
       "      <td>1 379</td>\n",
       "      <td>898</td>\n",
       "      <td>60 413</td>\n",
       "      <td>25 325</td>\n",
       "      <td>4,41%</td>\n",
       "      <td>4,69%</td>\n",
       "      <td>1,732</td>\n",
       "      <td>1,957</td>\n",
       "      <td>209 580</td>\n",
       "      <td>0,684</td>\n",
       "    </tr>\n",
       "    <tr>\n",
       "      <th>2006</th>\n",
       "      <td>NaN</td>\n",
       "      <td>NaN</td>\n",
       "      <td>1,118</td>\n",
       "      <td>1 854</td>\n",
       "      <td>1 156</td>\n",
       "      <td>NaN</td>\n",
       "      <td>NaN</td>\n",
       "      <td>63 393</td>\n",
       "      <td>26 826</td>\n",
       "      <td>NaN</td>\n",
       "      <td>...</td>\n",
       "      <td>1 456</td>\n",
       "      <td>937</td>\n",
       "      <td>60 827</td>\n",
       "      <td>25 521</td>\n",
       "      <td>4,50%</td>\n",
       "      <td>4,80%</td>\n",
       "      <td>1,841</td>\n",
       "      <td>2,125</td>\n",
       "      <td>212830</td>\n",
       "      <td>0,682</td>\n",
       "    </tr>\n",
       "    <tr>\n",
       "      <th>2007</th>\n",
       "      <td>NaN</td>\n",
       "      <td>NaN</td>\n",
       "      <td>1,135</td>\n",
       "      <td>1 946</td>\n",
       "      <td>1 216</td>\n",
       "      <td>NaN</td>\n",
       "      <td>NaN</td>\n",
       "      <td>63 781</td>\n",
       "      <td>27 124</td>\n",
       "      <td>NaN</td>\n",
       "      <td>...</td>\n",
       "      <td>1 531</td>\n",
       "      <td>983</td>\n",
       "      <td>61 319</td>\n",
       "      <td>25 718</td>\n",
       "      <td>5,01%</td>\n",
       "      <td>5,96%</td>\n",
       "      <td>2,046</td>\n",
       "      <td>2,313</td>\n",
       "      <td>226 420</td>\n",
       "      <td>0,684</td>\n",
       "    </tr>\n",
       "    <tr>\n",
       "      <th>2008</th>\n",
       "      <td>NaN</td>\n",
       "      <td>NaN</td>\n",
       "      <td>1,167</td>\n",
       "      <td>1 995</td>\n",
       "      <td>1 254</td>\n",
       "      <td>NaN</td>\n",
       "      <td>NaN</td>\n",
       "      <td>64 133</td>\n",
       "      <td>27 395</td>\n",
       "      <td>NaN</td>\n",
       "      <td>...</td>\n",
       "      <td>1 564</td>\n",
       "      <td>1012</td>\n",
       "      <td>61 824</td>\n",
       "      <td>25 916</td>\n",
       "      <td>4,59%</td>\n",
       "      <td>5,50%</td>\n",
       "      <td>2,029</td>\n",
       "      <td>2,094</td>\n",
       "      <td>188 310</td>\n",
       "      <td>0,794</td>\n",
       "    </tr>\n",
       "    <tr>\n",
       "      <th>2009</th>\n",
       "      <td>NaN</td>\n",
       "      <td>NaN</td>\n",
       "      <td>1,168</td>\n",
       "      <td>1 939</td>\n",
       "      <td>1 255</td>\n",
       "      <td>NaN</td>\n",
       "      <td>NaN</td>\n",
       "      <td>64 459</td>\n",
       "      <td>27 654</td>\n",
       "      <td>NaN</td>\n",
       "      <td>...</td>\n",
       "      <td>1 519</td>\n",
       "      <td>1044</td>\n",
       "      <td>62 261</td>\n",
       "      <td>26 116</td>\n",
       "      <td>3,65%</td>\n",
       "      <td>1,19%</td>\n",
       "      <td>1,872</td>\n",
       "      <td>1,903</td>\n",
       "      <td>158 370</td>\n",
       "      <td>0,890</td>\n",
       "    </tr>\n",
       "    <tr>\n",
       "      <th>2010</th>\n",
       "      <td>NaN</td>\n",
       "      <td>NaN</td>\n",
       "      <td>1,185</td>\n",
       "      <td>1 997</td>\n",
       "      <td>1 285</td>\n",
       "      <td>NaN</td>\n",
       "      <td>NaN</td>\n",
       "      <td>64 773</td>\n",
       "      <td>27 907</td>\n",
       "      <td>NaN</td>\n",
       "      <td>...</td>\n",
       "      <td>1 572</td>\n",
       "      <td>1077</td>\n",
       "      <td>62 760</td>\n",
       "      <td>26 318</td>\n",
       "      <td>3,62%</td>\n",
       "      <td>0,69%</td>\n",
       "      <td>2,010</td>\n",
       "      <td>1,958</td>\n",
       "      <td>136 590</td>\n",
       "      <td>0,857</td>\n",
       "    </tr>\n",
       "    <tr>\n",
       "      <th>2011</th>\n",
       "      <td>NaN</td>\n",
       "      <td>NaN</td>\n",
       "      <td>1,210</td>\n",
       "      <td>2 059</td>\n",
       "      <td>1 311</td>\n",
       "      <td>NaN</td>\n",
       "      <td>NaN</td>\n",
       "      <td>65 087</td>\n",
       "      <td>28 152</td>\n",
       "      <td>NaN</td>\n",
       "      <td>...</td>\n",
       "      <td>1 628</td>\n",
       "      <td>1092</td>\n",
       "      <td>63 285</td>\n",
       "      <td>26 521</td>\n",
       "      <td>3,12%</td>\n",
       "      <td>0,89%</td>\n",
       "      <td>1,979</td>\n",
       "      <td>1,907</td>\n",
       "      <td>140 600</td>\n",
       "      <td>0,868</td>\n",
       "    </tr>\n",
       "    <tr>\n",
       "      <th>2012</th>\n",
       "      <td>NaN</td>\n",
       "      <td>NaN</td>\n",
       "      <td>1,234</td>\n",
       "      <td>2 087</td>\n",
       "      <td>1 318</td>\n",
       "      <td>NaN</td>\n",
       "      <td>NaN</td>\n",
       "      <td>65 403</td>\n",
       "      <td>28 382</td>\n",
       "      <td>NaN</td>\n",
       "      <td>...</td>\n",
       "      <td>1 675</td>\n",
       "      <td>1137</td>\n",
       "      <td>63 705</td>\n",
       "      <td>26 794</td>\n",
       "      <td>1,92%</td>\n",
       "      <td>0,84%</td>\n",
       "      <td>2,007</td>\n",
       "      <td>1,890</td>\n",
       "      <td>141 520</td>\n",
       "      <td>0,811</td>\n",
       "    </tr>\n",
       "    <tr>\n",
       "      <th>2013</th>\n",
       "      <td>NaN</td>\n",
       "      <td>NaN</td>\n",
       "      <td>1,245</td>\n",
       "      <td>2 116</td>\n",
       "      <td>1 322</td>\n",
       "      <td>NaN</td>\n",
       "      <td>NaN</td>\n",
       "      <td>65 709</td>\n",
       "      <td>28 598</td>\n",
       "      <td>NaN</td>\n",
       "      <td>...</td>\n",
       "      <td>1 740</td>\n",
       "      <td>1162</td>\n",
       "      <td>64 106</td>\n",
       "      <td>27 065</td>\n",
       "      <td>2,39%</td>\n",
       "      <td>0,49%</td>\n",
       "      <td>2,081</td>\n",
       "      <td>1,980</td>\n",
       "      <td>135 330</td>\n",
       "      <td>0,849</td>\n",
       "    </tr>\n",
       "    <tr>\n",
       "      <th>2014</th>\n",
       "      <td>NaN</td>\n",
       "      <td>NaN</td>\n",
       "      <td>1,251</td>\n",
       "      <td>2 141</td>\n",
       "      <td>1 333</td>\n",
       "      <td>NaN</td>\n",
       "      <td>NaN</td>\n",
       "      <td>66 227</td>\n",
       "      <td>28 805</td>\n",
       "      <td>NaN</td>\n",
       "      <td>...</td>\n",
       "      <td>1 822</td>\n",
       "      <td>1199</td>\n",
       "      <td>64 597</td>\n",
       "      <td>27 337</td>\n",
       "      <td>2,57%</td>\n",
       "      <td>0,54%</td>\n",
       "      <td>2,293</td>\n",
       "      <td>2,154</td>\n",
       "      <td>144 890</td>\n",
       "      <td>0,806</td>\n",
       "    </tr>\n",
       "    <tr>\n",
       "      <th>2015</th>\n",
       "      <td>NaN</td>\n",
       "      <td>NaN</td>\n",
       "      <td>1,252</td>\n",
       "      <td>2 181</td>\n",
       "      <td>1 352</td>\n",
       "      <td>NaN</td>\n",
       "      <td>NaN</td>\n",
       "      <td>66 504</td>\n",
       "      <td>29 013</td>\n",
       "      <td>NaN</td>\n",
       "      <td>...</td>\n",
       "      <td>1 870</td>\n",
       "      <td>1244</td>\n",
       "      <td>65 110</td>\n",
       "      <td>27 608</td>\n",
       "      <td>1,90%</td>\n",
       "      <td>0,55%</td>\n",
       "      <td>2,429</td>\n",
       "      <td>2,350</td>\n",
       "      <td>173 167</td>\n",
       "      <td>0,726</td>\n",
       "    </tr>\n",
       "  </tbody>\n",
       "</table>\n",
       "<p>216 rows × 59 columns</p>\n",
       "</div>"
      ],
      "text/plain": [
       "Série A. France A.a. Séries macroéconomiques  \\\n",
       "1800        NaN                          NaN   \n",
       "1801        NaN                          NaN   \n",
       "1802        NaN                          NaN   \n",
       "1803        NaN                          NaN   \n",
       "1804        NaN                          NaN   \n",
       "1805        NaN                          NaN   \n",
       "1806        NaN                          NaN   \n",
       "1807        NaN                          NaN   \n",
       "1808        NaN                          NaN   \n",
       "1809        NaN                          NaN   \n",
       "1810        NaN                          NaN   \n",
       "1811        NaN                          NaN   \n",
       "1812        NaN                          NaN   \n",
       "1813        NaN                          NaN   \n",
       "1814        NaN                          NaN   \n",
       "1815        NaN                          NaN   \n",
       "1816        NaN                          NaN   \n",
       "1817        NaN                          NaN   \n",
       "1818        NaN                          NaN   \n",
       "1819        NaN                          NaN   \n",
       "1820        NaN                          NaN   \n",
       "1821        NaN                          NaN   \n",
       "1822        NaN                          NaN   \n",
       "1823        NaN                          NaN   \n",
       "1824        NaN                          NaN   \n",
       "1825        NaN                          NaN   \n",
       "1826        NaN                          NaN   \n",
       "1827        NaN                          NaN   \n",
       "1828        NaN                          NaN   \n",
       "1829        NaN                          NaN   \n",
       "...         ...                          ...   \n",
       "1986        NaN                          NaN   \n",
       "1987        NaN                          NaN   \n",
       "1988        NaN                          NaN   \n",
       "1989        NaN                          NaN   \n",
       "1990        NaN                          NaN   \n",
       "1991        NaN                          NaN   \n",
       "1992        NaN                          NaN   \n",
       "1993        NaN                          NaN   \n",
       "1994        NaN                          NaN   \n",
       "1995        NaN                          NaN   \n",
       "1996        NaN                          NaN   \n",
       "1997        NaN                          NaN   \n",
       "1998        NaN                          NaN   \n",
       "1999        NaN                          NaN   \n",
       "2000        NaN                          NaN   \n",
       "2001        NaN                          NaN   \n",
       "2002        NaN                          NaN   \n",
       "2003        NaN                          NaN   \n",
       "2004        NaN                          NaN   \n",
       "2005        NaN                          NaN   \n",
       "2006        NaN                          NaN   \n",
       "2007        NaN                          NaN   \n",
       "2008        NaN                          NaN   \n",
       "2009        NaN                          NaN   \n",
       "2010        NaN                          NaN   \n",
       "2011        NaN                          NaN   \n",
       "2012        NaN                          NaN   \n",
       "2013        NaN                          NaN   \n",
       "2014        NaN                          NaN   \n",
       "2015        NaN                          NaN   \n",
       "\n",
       "Série Indice des prix à la consommation (€, base 2000)  \\\n",
       "1800                                 0,000428704890191   \n",
       "1801                                 0,000442066128977   \n",
       "1802                                 0,000474133102063   \n",
       "1803                                 0,000473751352384   \n",
       "1804                                 0,000425650892754   \n",
       "1805                                 0,000422978644997   \n",
       "1806                                 0,000416488900444   \n",
       "1807                                 0,000396637917105   \n",
       "1808                                 0,000402364162299   \n",
       "1809                                 0,000369151940173   \n",
       "1810                                 0,000464207610394   \n",
       "1811                                 0,000511544570664   \n",
       "1812                                 0,000573769768439   \n",
       "1813                                 0,000471460854306   \n",
       "1814                                 0,000390148172551   \n",
       "1815                                 0,000542466294712   \n",
       "1816                                 0,000542084545032   \n",
       "1817                                 0,000624924225505   \n",
       "1818                                 0,000513835068742   \n",
       "1819                                 0,000428704890191   \n",
       "1820                                   0,0003817496796   \n",
       "1821                                 0,000375324720056   \n",
       "1822                                 0,000353908188241   \n",
       "1823                                  0,00035283736165   \n",
       "1824                                 0,000351231121764   \n",
       "1825                                 0,000356049841422   \n",
       "1826                                 0,000369970587102   \n",
       "1827                                 0,000384962159372   \n",
       "1828                                 0,000421905676753   \n",
       "1829                                 0,000436361835728   \n",
       "...                                                ...   \n",
       "1986                                 0,743269520073677   \n",
       "1987                                 0,766639893392886   \n",
       "1988                                 0,787260811027483   \n",
       "1989                                 0,815671853101815   \n",
       "1990                                 0,843166409947944   \n",
       "1991                                 0,870147735066278   \n",
       "1992                                 0,891226895314977   \n",
       "1993                                 0,909776556333832   \n",
       "1994                                 0,924953551712895   \n",
       "1995                                 0,940973713501906   \n",
       "1996                                  0,95952337452076   \n",
       "1997                                 0,971327704260032   \n",
       "1998                                 0,978073035539615   \n",
       "1999                                 0,983371372676883   \n",
       "2000                                                 1   \n",
       "2001                                             1,016   \n",
       "2002                                             1,036   \n",
       "2003                                             1,058   \n",
       "2004                                             1,080   \n",
       "2005                                             1,100   \n",
       "2006                                             1,118   \n",
       "2007                                             1,135   \n",
       "2008                                             1,167   \n",
       "2009                                             1,168   \n",
       "2010                                             1,185   \n",
       "2011                                             1,210   \n",
       "2012                                             1,234   \n",
       "2013                                             1,245   \n",
       "2014                                             1,251   \n",
       "2015                                             1,252   \n",
       "\n",
       "Série Produit intérieur brut (milliards d'€)  \\\n",
       "1800                       0,009952318228593   \n",
       "1801                       0,010101725206234   \n",
       "1802                       0,010253375123103   \n",
       "1803                        0,01040730165083   \n",
       "1804                       0,010563538966531   \n",
       "1805                       0,010722121760402   \n",
       "1806                       0,010883085243413   \n",
       "1807                       0,011046465155136   \n",
       "1808                       0,011212297771671   \n",
       "1809                       0,011380619913708   \n",
       "1810                       0,011551468954698   \n",
       "1811                       0,011624301943663   \n",
       "1812                       0,011697594150784   \n",
       "1813                       0,011771348471471   \n",
       "1814                        0,01184556781939   \n",
       "1815                       0,011920255126575   \n",
       "1816                       0,014370576463244   \n",
       "1817                       0,017115091454167   \n",
       "1818                       0,015434584923935   \n",
       "1819                       0,014323240526563   \n",
       "1820                       0,014484473512255   \n",
       "1821                       0,014972696040073   \n",
       "1822                        0,01461339527837   \n",
       "1823                       0,016287601120784   \n",
       "1824                       0,015860608354066   \n",
       "1825                       0,016507155857814   \n",
       "1826                       0,016614105994616   \n",
       "1827                       0,016880996668327   \n",
       "1828                        0,01696032071239   \n",
       "1829                       0,018292512295575   \n",
       "...                                      ...   \n",
       "1986                                     818   \n",
       "1987                                     860   \n",
       "1988                                     929   \n",
       "1989                                   1 002   \n",
       "1990                                   1 059   \n",
       "1991                                   1 097   \n",
       "1992                                   1 136   \n",
       "1993                                   1 148   \n",
       "1994                                   1 186   \n",
       "1995                                   1 225   \n",
       "1996                                   1 259   \n",
       "1997                                   1 300   \n",
       "1998                                   1 359   \n",
       "1999                                   1 407   \n",
       "2000                                   1 486   \n",
       "2001                                   1 546   \n",
       "2002                                   1 595   \n",
       "2003                                   1 638   \n",
       "2004                                   1 708   \n",
       "2005                                   1 770   \n",
       "2006                                   1 854   \n",
       "2007                                   1 946   \n",
       "2008                                   1 995   \n",
       "2009                                   1 939   \n",
       "2010                                   1 997   \n",
       "2011                                   2 059   \n",
       "2012                                   2 087   \n",
       "2013                                   2 116   \n",
       "2014                                   2 141   \n",
       "2015                                   2 181   \n",
       "\n",
       "Série Revenu disponible des ménages (milliards d'€)  NaN  \\\n",
       "1800                              0,008421244895115  NaN   \n",
       "1801                              0,008547666972751  NaN   \n",
       "1802                              0,008675986933884  NaN   \n",
       "1803                              0,008806233270071  NaN   \n",
       "1804                              0,008938434900591  NaN   \n",
       "1805                              0,009072621178869  NaN   \n",
       "1806                              0,009208821898991  NaN   \n",
       "1807                              0,009347067302319  NaN   \n",
       "1808                              0,009487388084208  NaN   \n",
       "1809                              0,009629815400819  NaN   \n",
       "1810                              0,009774380876041  NaN   \n",
       "1811                              0,009836009174335  NaN   \n",
       "1812                              0,009898026044264  NaN   \n",
       "1813                              0,009960433935803  NaN   \n",
       "1814                              0,010023235314379  NaN   \n",
       "1815                              0,010086432660959  NaN   \n",
       "1816                              0,012159794421893  NaN   \n",
       "1817                              0,014482090828219  NaN   \n",
       "1818                              0,013060114891169  NaN   \n",
       "1819                              0,012119740687077  NaN   \n",
       "1820                              0,012256169449351  NaN   \n",
       "1821                              0,012669283396839  NaN   \n",
       "1822                              0,012365257778304  NaN   \n",
       "1823                              0,013781902330856  NaN   \n",
       "1824                              0,013420598504513  NaN   \n",
       "1825                              0,013967680575276  NaN   \n",
       "1826                               0,01405817740957  NaN   \n",
       "1827                              0,014284009388805  NaN   \n",
       "1828                              0,014351130152609  NaN   \n",
       "1829                              0,015478376218454  NaN   \n",
       "...                                             ...  ...   \n",
       "1986                                            521  NaN   \n",
       "1987                                            544  NaN   \n",
       "1988                                            577  NaN   \n",
       "1989                                            621  NaN   \n",
       "1990                                            663  NaN   \n",
       "1991                                            691  NaN   \n",
       "1992                                            723  NaN   \n",
       "1993                                            739  NaN   \n",
       "1994                                            752  NaN   \n",
       "1995                                            777  NaN   \n",
       "1996                                            796  NaN   \n",
       "1997                                            817  NaN   \n",
       "1998                                            846  NaN   \n",
       "1999                                            867  NaN   \n",
       "2000                                            917  NaN   \n",
       "2001                                            965  NaN   \n",
       "2002                                          1 003  NaN   \n",
       "2003                                          1 029  NaN   \n",
       "2004                                          1 075  NaN   \n",
       "2005                                          1 105  NaN   \n",
       "2006                                          1 156  NaN   \n",
       "2007                                          1 216  NaN   \n",
       "2008                                          1 254  NaN   \n",
       "2009                                          1 255  NaN   \n",
       "2010                                          1 285  NaN   \n",
       "2011                                          1 311  NaN   \n",
       "2012                                          1 318  NaN   \n",
       "2013                                          1 322  NaN   \n",
       "2014                                          1 333  NaN   \n",
       "2015                                          1 352  NaN   \n",
       "\n",
       "Série A.b. Séries démographiques Population (y compris DOM) (milliers)  \\\n",
       "1800                         NaN                                28 601   \n",
       "1801                         NaN                                28 742   \n",
       "1802                         NaN                                28 883   \n",
       "1803                         NaN                                29 025   \n",
       "1804                         NaN                                29 168   \n",
       "1805                         NaN                                29 311   \n",
       "1806                         NaN                                29 455   \n",
       "1807                         NaN                                29 600   \n",
       "1808                         NaN                                29 746   \n",
       "1809                         NaN                                29 892   \n",
       "1810                         NaN                                30 039   \n",
       "1811                         NaN                                30 186   \n",
       "1812                         NaN                                30 335   \n",
       "1813                         NaN                                30 484   \n",
       "1814                         NaN                                30 634   \n",
       "1815                         NaN                                30 784   \n",
       "1816                         NaN                                30 936   \n",
       "1817                         NaN                                31 088   \n",
       "1818                         NaN                                31 241   \n",
       "1819                         NaN                                31 394   \n",
       "1820                         NaN                                31 549   \n",
       "1821                         NaN                                31 704   \n",
       "1822                         NaN                                31 907   \n",
       "1823                         NaN                                32 112   \n",
       "1824                         NaN                                32 318   \n",
       "1825                         NaN                                32 525   \n",
       "1826                         NaN                                32 733   \n",
       "1827                         NaN                                32 943   \n",
       "1828                         NaN                                33 155   \n",
       "1829                         NaN                                33 367   \n",
       "...                          ...                                   ...   \n",
       "1986                         NaN                                56 866   \n",
       "1987                         NaN                                57 169   \n",
       "1988                         NaN                                57 492   \n",
       "1989                         NaN                                57 828   \n",
       "1990                         NaN                                58 138   \n",
       "1991                         NaN                                58 426   \n",
       "1992                         NaN                                58 712   \n",
       "1993                         NaN                                58 961   \n",
       "1994                         NaN                                59 175   \n",
       "1995                         NaN                                59 384   \n",
       "1996                         NaN                                59 589   \n",
       "1997                         NaN                                59 795   \n",
       "1998                         NaN                                60 011   \n",
       "1999                         NaN                                60 315   \n",
       "2000                         NaN                                60 725   \n",
       "2001                         NaN                                61 163   \n",
       "2002                         NaN                                61 605   \n",
       "2003                         NaN                                62 038   \n",
       "2004                         NaN                                62 491   \n",
       "2005                         NaN                                62 958   \n",
       "2006                         NaN                                63 393   \n",
       "2007                         NaN                                63 781   \n",
       "2008                         NaN                                64 133   \n",
       "2009                         NaN                                64 459   \n",
       "2010                         NaN                                64 773   \n",
       "2011                         NaN                                65 087   \n",
       "2012                         NaN                                65 403   \n",
       "2013                         NaN                                65 709   \n",
       "2014                         NaN                                66 227   \n",
       "2015                         NaN                                66 504   \n",
       "\n",
       "Série Nombre de ménages (y compris DOM) (milliers)  NaN  ...  \\\n",
       "1800                                         6 882  NaN  ...   \n",
       "1801                                         6 916  NaN  ...   \n",
       "1802                                         6 950  NaN  ...   \n",
       "1803                                         6 984  NaN  ...   \n",
       "1804                                         7 018  NaN  ...   \n",
       "1805                                         7 053  NaN  ...   \n",
       "1806                                         7 088  NaN  ...   \n",
       "1807                                         7 122  NaN  ...   \n",
       "1808                                         7 157  NaN  ...   \n",
       "1809                                         7 193  NaN  ...   \n",
       "1810                                         7 228  NaN  ...   \n",
       "1811                                         7 263  NaN  ...   \n",
       "1812                                         7 299  NaN  ...   \n",
       "1813                                         7 335  NaN  ...   \n",
       "1814                                         7 371  NaN  ...   \n",
       "1815                                         7 407  NaN  ...   \n",
       "1816                                         7 444  NaN  ...   \n",
       "1817                                         7 480  NaN  ...   \n",
       "1818                                         7 517  NaN  ...   \n",
       "1819                                         7 554  NaN  ...   \n",
       "1820                                         7 591  NaN  ...   \n",
       "1821                                         7 629  NaN  ...   \n",
       "1822                                         7 677  NaN  ...   \n",
       "1823                                         7 727  NaN  ...   \n",
       "1824                                         7 776  NaN  ...   \n",
       "1825                                         7 826  NaN  ...   \n",
       "1826                                         7 876  NaN  ...   \n",
       "1827                                         7 927  NaN  ...   \n",
       "1828                                         7 978  NaN  ...   \n",
       "1829                                         8 029  NaN  ...   \n",
       "...                                            ...  ...  ...   \n",
       "1986                                        21 094  NaN  ...   \n",
       "1987                                        21 344  NaN  ...   \n",
       "1988                                        21 574  NaN  ...   \n",
       "1989                                        21 790  NaN  ...   \n",
       "1990                                        22 030  NaN  ...   \n",
       "1991                                        22 295  NaN  ...   \n",
       "1992                                        22 561  NaN  ...   \n",
       "1993                                        22 826  NaN  ...   \n",
       "1994                                        23 096  NaN  ...   \n",
       "1995                                        23 371  NaN  ...   \n",
       "1996                                        23 640  NaN  ...   \n",
       "1997                                        23 904  NaN  ...   \n",
       "1998                                        24 165  NaN  ...   \n",
       "1999                                        24 461  NaN  ...   \n",
       "2000                                        24 799  NaN  ...   \n",
       "2001                                        25 147  NaN  ...   \n",
       "2002                                        25 499  NaN  ...   \n",
       "2003                                        25 843  NaN  ...   \n",
       "2004                                        26 180  NaN  ...   \n",
       "2005                                        26 507  NaN  ...   \n",
       "2006                                        26 826  NaN  ...   \n",
       "2007                                        27 124  NaN  ...   \n",
       "2008                                        27 395  NaN  ...   \n",
       "2009                                        27 654  NaN  ...   \n",
       "2010                                        27 907  NaN  ...   \n",
       "2011                                        28 152  NaN  ...   \n",
       "2012                                        28 382  NaN  ...   \n",
       "2013                                        28 598  NaN  ...   \n",
       "2014                                        28 805  NaN  ...   \n",
       "2015                                        29 013  NaN  ...   \n",
       "\n",
       "Série Produit intérieur brut (milliards de £)  \\\n",
       "1800                                      NaN   \n",
       "1801                                      NaN   \n",
       "1802                                      NaN   \n",
       "1803                                      NaN   \n",
       "1804                                      NaN   \n",
       "1805                                      NaN   \n",
       "1806                                      NaN   \n",
       "1807                                      NaN   \n",
       "1808                                      NaN   \n",
       "1809                                      NaN   \n",
       "1810                                      NaN   \n",
       "1811                                      NaN   \n",
       "1812                                      NaN   \n",
       "1813                                      NaN   \n",
       "1814                                      NaN   \n",
       "1815                                      NaN   \n",
       "1816                                      NaN   \n",
       "1817                                      NaN   \n",
       "1818                                      NaN   \n",
       "1819                                      NaN   \n",
       "1820                                      NaN   \n",
       "1821                                      NaN   \n",
       "1822                                      NaN   \n",
       "1823                                      NaN   \n",
       "1824                                      NaN   \n",
       "1825                                      NaN   \n",
       "1826                                      NaN   \n",
       "1827                                      NaN   \n",
       "1828                                      NaN   \n",
       "1829                                      NaN   \n",
       "...                                       ...   \n",
       "1986                                      444   \n",
       "1987                                      493   \n",
       "1988                                      552   \n",
       "1989                                      609   \n",
       "1990                                      663   \n",
       "1991                                      698   \n",
       "1992                                      721   \n",
       "1993                                      758   \n",
       "1994                                      797   \n",
       "1995                                      837   \n",
       "1996                                      893   \n",
       "1997                                      939   \n",
       "1998                                      980   \n",
       "1999                                    1 021   \n",
       "2000                                    1 081   \n",
       "2001                                    1 121   \n",
       "2002                                    1 173   \n",
       "2003                                    1 242   \n",
       "2004                                    1 305   \n",
       "2005                                    1 379   \n",
       "2006                                    1 456   \n",
       "2007                                    1 531   \n",
       "2008                                    1 564   \n",
       "2009                                    1 519   \n",
       "2010                                    1 572   \n",
       "2011                                    1 628   \n",
       "2012                                    1 675   \n",
       "2013                                    1 740   \n",
       "2014                                    1 822   \n",
       "2015                                    1 870   \n",
       "\n",
       "Série Revenu disponible des ménages (milliards de £) Population (milliers)  \\\n",
       "1800                                             NaN                   NaN   \n",
       "1801                                             NaN                   NaN   \n",
       "1802                                             NaN                   NaN   \n",
       "1803                                             NaN                   NaN   \n",
       "1804                                             NaN                   NaN   \n",
       "1805                                             NaN                   NaN   \n",
       "1806                                             NaN                   NaN   \n",
       "1807                                             NaN                   NaN   \n",
       "1808                                             NaN                   NaN   \n",
       "1809                                             NaN                   NaN   \n",
       "1810                                             NaN                   NaN   \n",
       "1811                                             NaN                   NaN   \n",
       "1812                                             NaN                   NaN   \n",
       "1813                                             NaN                   NaN   \n",
       "1814                                             NaN                   NaN   \n",
       "1815                                             NaN                   NaN   \n",
       "1816                                             NaN                   NaN   \n",
       "1817                                             NaN                   NaN   \n",
       "1818                                             NaN                   NaN   \n",
       "1819                                             NaN                   NaN   \n",
       "1820                                             NaN                   NaN   \n",
       "1821                                             NaN                   NaN   \n",
       "1822                                             NaN                   NaN   \n",
       "1823                                             NaN                   NaN   \n",
       "1824                                             NaN                   NaN   \n",
       "1825                                             NaN                   NaN   \n",
       "1826                                             NaN                   NaN   \n",
       "1827                                             NaN                   NaN   \n",
       "1828                                             NaN                   NaN   \n",
       "1829                                             NaN                   NaN   \n",
       "...                                              ...                   ...   \n",
       "1986                                             289                56 684   \n",
       "1987                                             308                56 804   \n",
       "1988                                             341                56 916   \n",
       "1989                                             379                57 077   \n",
       "1990                                             424                57 238   \n",
       "1991                                             464                57 439   \n",
       "1992                                             496                57 585   \n",
       "1993                                             525                57 714   \n",
       "1994                                             544                57 862   \n",
       "1995                                             575                58 025   \n",
       "1996                                             611                58 164   \n",
       "1997                                             645                58 314   \n",
       "1998                                             669                58 475   \n",
       "1999                                             697                58 684   \n",
       "2000                                             745                58 886   \n",
       "2001                                             783                59 113   \n",
       "2002                                             806                59 366   \n",
       "2003                                             837                59 637   \n",
       "2004                                             863                59 950   \n",
       "2005                                             898                60 413   \n",
       "2006                                             937                60 827   \n",
       "2007                                             983                61 319   \n",
       "2008                                            1012                61 824   \n",
       "2009                                            1044                62 261   \n",
       "2010                                            1077                62 760   \n",
       "2011                                            1092                63 285   \n",
       "2012                                            1137                63 705   \n",
       "2013                                            1162                64 106   \n",
       "2014                                            1199                64 597   \n",
       "2015                                            1244                65 110   \n",
       "\n",
       "Série Nombre de ménages (milliers) Taux d'intérêt à long terme  \\\n",
       "1800                           NaN                       4,71%   \n",
       "1801                           NaN                       4,92%   \n",
       "1802                           NaN                       4,23%   \n",
       "1803                           NaN                       4,99%   \n",
       "1804                           NaN                       5,30%   \n",
       "1805                           NaN                       5,04%   \n",
       "1806                           NaN                       4,87%   \n",
       "1807                           NaN                       4,92%   \n",
       "1808                           NaN                       4,55%   \n",
       "1809                           NaN                       4,49%   \n",
       "1810                           NaN                       4,47%   \n",
       "1811                           NaN                       4,67%   \n",
       "1812                           NaN                       5,08%   \n",
       "1813                           NaN                       4,92%   \n",
       "1814                           NaN                       4,92%   \n",
       "1815                           NaN                       4,48%   \n",
       "1816                           NaN                       5,02%   \n",
       "1817                           NaN                       4,10%   \n",
       "1818                           NaN                       3,87%   \n",
       "1819                           NaN                       4,17%   \n",
       "1820                           NaN                       4,42%   \n",
       "1821                           NaN                       4,07%   \n",
       "1822                           NaN                       3,79%   \n",
       "1823                           NaN                       3,80%   \n",
       "1824                           NaN                       3,30%   \n",
       "1825                           NaN                       3,54%   \n",
       "1826                           NaN                       3,79%   \n",
       "1827                           NaN                       3,61%   \n",
       "1828                           NaN                       3,54%   \n",
       "1829                           NaN                       3,34%   \n",
       "...                            ...                         ...   \n",
       "1986                        21 769                       9,47%   \n",
       "1987                        21 983                       9,20%   \n",
       "1988                        22 200                       9,01%   \n",
       "1989                        22 419                       9,19%   \n",
       "1990                        22 640                      10,80%   \n",
       "1991                        22 863                       9,87%   \n",
       "1992                        23 027                       9,18%   \n",
       "1993                        23 192                       7,97%   \n",
       "1994                        23 359                       8,03%   \n",
       "1995                        23 526                       8,22%   \n",
       "1996                        23 695                       8,10%   \n",
       "1997                        23 865                       7,12%   \n",
       "1998                        24 036                       5,53%   \n",
       "1999                        24 208                       4,81%   \n",
       "2000                        24 382                       4,82%   \n",
       "2001                        24 558                       4,93%   \n",
       "2002                        24 747                       4,89%   \n",
       "2003                        24 938                       4,53%   \n",
       "2004                        25 131                       4,88%   \n",
       "2005                        25 325                       4,41%   \n",
       "2006                        25 521                       4,50%   \n",
       "2007                        25 718                       5,01%   \n",
       "2008                        25 916                       4,59%   \n",
       "2009                        26 116                       3,65%   \n",
       "2010                        26 318                       3,62%   \n",
       "2011                        26 521                       3,12%   \n",
       "2012                        26 794                       1,92%   \n",
       "2013                        27 065                       2,39%   \n",
       "2014                        27 337                       2,57%   \n",
       "2015                        27 608                       1,90%   \n",
       "\n",
       "Série Taux d'intérêt à court terme  \\\n",
       "1800                         5,00%   \n",
       "1801                         5,00%   \n",
       "1802                         5,00%   \n",
       "1803                         5,00%   \n",
       "1804                         5,00%   \n",
       "1805                         5,00%   \n",
       "1806                         5,00%   \n",
       "1807                         5,00%   \n",
       "1808                         5,00%   \n",
       "1809                         5,00%   \n",
       "1810                         5,00%   \n",
       "1811                         5,00%   \n",
       "1812                         5,00%   \n",
       "1813                         5,00%   \n",
       "1814                         5,00%   \n",
       "1815                         5,00%   \n",
       "1816                         5,00%   \n",
       "1817                         5,00%   \n",
       "1818                         5,00%   \n",
       "1819                         5,00%   \n",
       "1820                         5,00%   \n",
       "1821                         5,00%   \n",
       "1822                         4,00%   \n",
       "1823                         4,00%   \n",
       "1824                         3,50%   \n",
       "1825                         3,88%   \n",
       "1826                         4,50%   \n",
       "1827                         3,25%   \n",
       "1828                         3,05%   \n",
       "1829                         3,35%   \n",
       "...                            ...   \n",
       "1986                        10,93%   \n",
       "1987                         9,70%   \n",
       "1988                        10,35%   \n",
       "1989                        13,89%   \n",
       "1990                        14,77%   \n",
       "1991                        11,51%   \n",
       "1992                         9,62%   \n",
       "1993                         5,93%   \n",
       "1994                         5,50%   \n",
       "1995                         6,68%   \n",
       "1996                         6,02%   \n",
       "1997                         6,84%   \n",
       "1998                         7,34%   \n",
       "1999                         5,44%   \n",
       "2000                         6,11%   \n",
       "2001                         4,97%   \n",
       "2002                         3,99%   \n",
       "2003                         3,67%   \n",
       "2004                         4,58%   \n",
       "2005                         4,69%   \n",
       "2006                         4,80%   \n",
       "2007                         5,96%   \n",
       "2008                         5,50%   \n",
       "2009                         1,19%   \n",
       "2010                         0,69%   \n",
       "2011                         0,89%   \n",
       "2012                         0,84%   \n",
       "2013                         0,49%   \n",
       "2014                         0,54%   \n",
       "2015                         0,55%   \n",
       "\n",
       "Série Indice du prix des logements, gouvernement (£, base 2000)  \\\n",
       "1800                                                 NaN          \n",
       "1801                                                 NaN          \n",
       "1802                                                 NaN          \n",
       "1803                                                 NaN          \n",
       "1804                                                 NaN          \n",
       "1805                                                 NaN          \n",
       "1806                                                 NaN          \n",
       "1807                                                 NaN          \n",
       "1808                                                 NaN          \n",
       "1809                                                 NaN          \n",
       "1810                                                 NaN          \n",
       "1811                                                 NaN          \n",
       "1812                                                 NaN          \n",
       "1813                                                 NaN          \n",
       "1814                                                 NaN          \n",
       "1815                                                 NaN          \n",
       "1816                                                 NaN          \n",
       "1817                                                 NaN          \n",
       "1818                                                 NaN          \n",
       "1819                                                 NaN          \n",
       "1820                                                 NaN          \n",
       "1821                                                 NaN          \n",
       "1822                                                 NaN          \n",
       "1823                                                 NaN          \n",
       "1824                                                 NaN          \n",
       "1825                                                 NaN          \n",
       "1826                                                 NaN          \n",
       "1827                                                 NaN          \n",
       "1828                                                 NaN          \n",
       "1829                                                 NaN          \n",
       "...                                                  ...          \n",
       "1986                                               0,373          \n",
       "1987                                               0,438          \n",
       "1988                                               0,549          \n",
       "1989                                               0,661          \n",
       "1990                                               0,655          \n",
       "1991                                               0,647          \n",
       "1992                                               0,623          \n",
       "1993                                               0,606          \n",
       "1994                                               0,623          \n",
       "1995                                               0,624          \n",
       "1996                                               0,644          \n",
       "1997                                               0,703          \n",
       "1998                                               0,786          \n",
       "1999                                               0,872          \n",
       "2000                                               1,000          \n",
       "2001                                               1,088          \n",
       "2002                                               1,268          \n",
       "2003                                               1,466          \n",
       "2004                                               1,643          \n",
       "2005                                               1,732          \n",
       "2006                                               1,841          \n",
       "2007                                               2,046          \n",
       "2008                                               2,029          \n",
       "2009                                               1,872          \n",
       "2010                                               2,010          \n",
       "2011                                               1,979          \n",
       "2012                                               2,007          \n",
       "2013                                               2,081          \n",
       "2014                                               2,293          \n",
       "2015                                               2,429          \n",
       "\n",
       "Série Indice du prix des logements, Halifax (£, base 2000)  \\\n",
       "1800                                                 NaN     \n",
       "1801                                                 NaN     \n",
       "1802                                                 NaN     \n",
       "1803                                                 NaN     \n",
       "1804                                                 NaN     \n",
       "1805                                                 NaN     \n",
       "1806                                                 NaN     \n",
       "1807                                                 NaN     \n",
       "1808                                                 NaN     \n",
       "1809                                                 NaN     \n",
       "1810                                                 NaN     \n",
       "1811                                                 NaN     \n",
       "1812                                                 NaN     \n",
       "1813                                                 NaN     \n",
       "1814                                                 NaN     \n",
       "1815                                                 NaN     \n",
       "1816                                                 NaN     \n",
       "1817                                                 NaN     \n",
       "1818                                                 NaN     \n",
       "1819                                                 NaN     \n",
       "1820                                                 NaN     \n",
       "1821                                                 NaN     \n",
       "1822                                                 NaN     \n",
       "1823                                                 NaN     \n",
       "1824                                                 NaN     \n",
       "1825                                                 NaN     \n",
       "1826                                                 NaN     \n",
       "1827                                                 NaN     \n",
       "1828                                                 NaN     \n",
       "1829                                                 NaN     \n",
       "...                                                  ...     \n",
       "1986                                               0,466     \n",
       "1987                                               0,541     \n",
       "1988                                               0,666     \n",
       "1989                                               0,808     \n",
       "1990                                               0,806     \n",
       "1991                                               0,796     \n",
       "1992                                               0,750     \n",
       "1993                                               0,728     \n",
       "1994                                               0,732     \n",
       "1995                                               0,718     \n",
       "1996                                               0,753     \n",
       "1997                                               0,803     \n",
       "1998                                               0,847     \n",
       "1999                                               0,910     \n",
       "2000                                               1,000     \n",
       "2001                                               1,088     \n",
       "2002                                               1,320     \n",
       "2003                                               1,568     \n",
       "2004                                               1,862     \n",
       "2005                                               1,957     \n",
       "2006                                               2,125     \n",
       "2007                                               2,313     \n",
       "2008                                               2,094     \n",
       "2009                                               1,903     \n",
       "2010                                               1,958     \n",
       "2011                                               1,907     \n",
       "2012                                               1,890     \n",
       "2013                                               1,980     \n",
       "2014                                               2,154     \n",
       "2015                                               2,350     \n",
       "\n",
       "Série Nombre de logements terminés (unités)  € en £  \n",
       "1800                                    NaN     NaN  \n",
       "1801                                    NaN     NaN  \n",
       "1802                                    NaN     NaN  \n",
       "1803                                    NaN  26,238  \n",
       "1804                                    NaN  26,238  \n",
       "1805                                    NaN  26,238  \n",
       "1806                                    NaN  26,238  \n",
       "1807                                    NaN  26,238  \n",
       "1808                                    NaN  26,238  \n",
       "1809                                    NaN  26,238  \n",
       "1810                                    NaN  26,238  \n",
       "1811                                    NaN  26,238  \n",
       "1812                                    NaN  26,238  \n",
       "1813                                    NaN  26,238  \n",
       "1814                                    NaN  26,238  \n",
       "1815                                    NaN  26,238  \n",
       "1816                                    NaN  26,238  \n",
       "1817                                    NaN  26,238  \n",
       "1818                                    NaN  26,238  \n",
       "1819                                    NaN  26,238  \n",
       "1820                                    NaN  26,238  \n",
       "1821                                    NaN  26,238  \n",
       "1822                                    NaN  26,238  \n",
       "1823                                    NaN  26,238  \n",
       "1824                                    NaN  26,238  \n",
       "1825                                    NaN  26,238  \n",
       "1826                                    NaN  26,238  \n",
       "1827                                    NaN  26,238  \n",
       "1828                                    NaN  26,238  \n",
       "1829                                    NaN  26,238  \n",
       "...                                     ...     ...  \n",
       "1986                                216 540   0,646  \n",
       "1987                                226 230   0,667  \n",
       "1988                                242 360   0,619  \n",
       "1989                                221 460   0,628  \n",
       "1990                                202 500   0,677  \n",
       "1991                                191 020   0,659  \n",
       "1992                                179 100   0,703  \n",
       "1993                                185 650   0,771  \n",
       "1994                                193 000   0,773  \n",
       "1995                                199 120   0,833  \n",
       "1996                                189 030   0,821  \n",
       "1997                                191 110   0,686  \n",
       "1998                                181 020   0,672  \n",
       "1999                                181 990   0,658  \n",
       "2000                                176 850   0,609  \n",
       "2001                                174 080   0,622  \n",
       "2002                                181 960   0,629  \n",
       "2003                                190 490   0,692  \n",
       "2004                                203 490   0,678  \n",
       "2005                                209 580   0,684  \n",
       "2006                                 212830   0,682  \n",
       "2007                                226 420   0,684  \n",
       "2008                                188 310   0,794  \n",
       "2009                                158 370   0,890  \n",
       "2010                                136 590   0,857  \n",
       "2011                                140 600   0,868  \n",
       "2012                                141 520   0,811  \n",
       "2013                                135 330   0,849  \n",
       "2014                                144 890   0,806  \n",
       "2015                                173 167   0,726  \n",
       "\n",
       "[216 rows x 59 columns]"
      ]
     },
     "execution_count": 11,
     "metadata": {},
     "output_type": "execute_result"
    }
   ],
   "source": [
    "with open(\n",
    "    \"../reporter/data/series-1800-2015_simplified.csv\", 'r') as tbl:\n",
    "    data_series = pd.read_csv(tbl)\n",
    "\n",
    "\n",
    "data_series.set_index(\"Série\", inplace=True)\n",
    "\n",
    "data_series = data_series.transpose()\n",
    "data_series.index = data_series.index.astype(int)\n",
    "\n",
    "\n",
    "data_series"
   ]
  },
  {
   "cell_type": "code",
   "execution_count": 26,
   "metadata": {},
   "outputs": [],
   "source": [
    "data = pd.DataFrame(\n",
    "    [[1, 1, 1, 3, 3, 4, 5],\n",
    "     [100, 200, 100, 11, 12, 13, 13]],\n",
    "    index=['month', 'income']\n",
    ").transpose()"
   ]
  },
  {
   "cell_type": "code",
   "execution_count": 31,
   "metadata": {},
   "outputs": [],
   "source": [
    "monthly = data.groupby(\"month\").mean()"
   ]
  },
  {
   "cell_type": "code",
   "execution_count": 33,
   "metadata": {},
   "outputs": [
    {
     "data": {
      "text/plain": [
       "<matplotlib.axes._subplots.AxesSubplot at 0x7f3aadba30f0>"
      ]
     },
     "execution_count": 33,
     "metadata": {},
     "output_type": "execute_result"
    },
    {
     "data": {
      "image/png": "[encoded data removed]",
      "text/plain": [
       "<Figure size 432x288 with 1 Axes>"
      ]
     },
     "metadata": {
      "needs_background": "light"
     },
     "output_type": "display_data"
    }
   ],
   "source": [
    "data.groupby(\"month\").mean().plot(y=\"income\", marker='o')"
   ]
  },
  {
   "cell_type": "code",
   "execution_count": 46,
   "metadata": {},
   "outputs": [
    {
     "data": {
      "text/plain": [
       "Text(0.5, 1.0, 'Raw income')"
      ]
     },
     "execution_count": 46,
     "metadata": {},
     "output_type": "execute_result"
    },
    {
     "data": {
      "image/png": "[encoded data removed]",
      "text/plain": [
       "<Figure size 432x288 with 1 Axes>"
      ]
     },
     "metadata": {
      "needs_background": "light"
     },
     "output_type": "display_data"
    }
   ],
   "source": [
    "ax = data.plot(x=\"month\", y=\"income\", marker='d')\n",
    "ax.set_xlim(0, 7)\n",
    "ax.set_xlabel(\"Mois\")\n",
    "ax.set_title(\"Raw income\")\n"
   ]
  },
  {
   "cell_type": "code",
   "execution_count": 41,
   "metadata": {},
   "outputs": [
    {
     "data": {
      "text/plain": [
       "<matplotlib.axes._subplots.AxesSubplot at 0x7f3aadf9acc0>"
      ]
     },
     "execution_count": 41,
     "metadata": {},
     "output_type": "execute_result"
    }
   ],
   "source": [
    "ax"
   ]
  },
  {
   "cell_type": "code",
   "execution_count": null,
   "metadata": {},
   "outputs": [],
   "source": []
  },
  {
   "cell_type": "code",
   "execution_count": 48,
   "metadata": {},
   "outputs": [],
   "source": [
    "\"\"\"import matplotlib\n",
    "\n",
    "fig = ax.get_figure()\n",
    "\n",
    "fig.savefig('mon_graphe.pdf')\n",
    "\n",
    "fig.savefig('mon_graphe.png')\n",
    "\n",
    "fig, ax = plt.subplots()\n",
    "\n",
    "\n",
    "ax.plot(data['month'], data['income'])\n",
    "\"\"\""
   ]
  },
  {
   "cell_type": "code",
   "execution_count": 15,
   "metadata": {},
   "outputs": [],
   "source": [
    "import json"
   ]
  },
  {
   "cell_type": "code",
   "execution_count": null,
   "metadata": {},
   "outputs": [],
   "source": []
  },
  {
   "cell_type": "code",
   "execution_count": null,
   "metadata": {},
   "outputs": [],
   "source": []
  },
  {
   "cell_type": "code",
   "execution_count": null,
   "metadata": {},
   "outputs": [],
   "source": []
  },
  {
   "cell_type": "code",
   "execution_count": 27,
   "metadata": {},
   "outputs": [
    {
     "data": {
      "text/plain": [
       "UUID('0cb047a0-5d1d-11e9-a977-1166e496cbd1')"
      ]
     },
     "execution_count": 27,
     "metadata": {},
     "output_type": "execute_result"
    }
   ],
   "source": [
    "import uuid\n",
    "uuid.uuid1()"
   ]
  },
  {
   "cell_type": "code",
   "execution_count": 53,
   "metadata": {},
   "outputs": [],
   "source": [
    "import uuid\n",
    "\n",
    "class Pet:\n",
    "    \"\"\"class representing a pet animal\n",
    "    \n",
    "    Attributes\n",
    "    ----------\n",
    "    \"\"\"\n",
    "    def __init__(self, name, age, weight=0.):\n",
    "        \"\"\"Creates a pet\n",
    "            \n",
    "        Parameters\n",
    "        ----------\n",
    "        name : str\n",
    "        age : float\n",
    "        weight float, optional, default 0\n",
    "        \"\"\"\n",
    "        self.name = name\n",
    "        self.age = age\n",
    "        self.weight = weight\n",
    "        self.id = uuid.uuid1()\n",
    "        self.position = (0.0, 0.0)\n",
    "        \n",
    "        \n",
    "    def walk(self, vector):\n",
    "        dx, dy = vector\n",
    "        x, y = self.position\n",
    "        self.position = x+dx, y+dy\n",
    "        self.weight -= 1\n",
    "        \n",
    "    def eat(self, qty):\n",
    "        self.weight = self.weight + qty\n",
    "    \n",
    "class Dog(Pet):\n",
    "    \n",
    "    def bark(self):\n",
    "        print('Woa Woa')\n",
    "    "
   ]
  },
  {
   "cell_type": "code",
   "execution_count": 55,
   "metadata": {},
   "outputs": [],
   "source": [
    "john = {\"firstname\": \"John\",\n",
    "        \"lastname\": \"Lennon\",\n",
    "        \"address\": \"Abbey Road\",\n",
    "        \"year_joined\": 1956,\n",
    "        \"email\": \"john@thebeatles.org\"}\n",
    "paul = {\"firstname\": \"Paul\",\n",
    "        \"lastname\": \"McCartney\",\n",
    "        \"address\": \"Abbey Road\",\n",
    "        \"year_joined\": 1956,\n",
    "        \"email\": \"paul@thebeatles.org\"}\n",
    "\n",
    "\n",
    "clients = [john, paul]\n",
    "\n",
    "with open(\"authors.json\", \"w\") as fh:\n",
    "    json.dump(clients, fh)\n",
    "    "
   ]
  },
  {
   "cell_type": "code",
   "execution_count": 63,
   "metadata": {},
   "outputs": [],
   "source": [
    "data = pd.DataFrame(\n",
    "    np.random.normal(size=(100, 5)).cumsum(axis=1),\n",
    "    index=np.arange(0, 100),\n",
    "    columns=['A', 'B', \"C\", 'D', 'E']\n",
    ")"
   ]
  },
  {
   "cell_type": "code",
   "execution_count": 83,
   "metadata": {},
   "outputs": [
    {
     "ename": "SyntaxError",
     "evalue": "invalid syntax (<ipython-input-83-48b3a784bb60>, line 1)",
     "output_type": "error",
     "traceback": [
      "\u001b[0;36m  File \u001b[0;32m\"<ipython-input-83-48b3a784bb60>\"\u001b[0;36m, line \u001b[0;32m1\u001b[0m\n\u001b[0;31m    import datetimedata.to_csv(\"test_data.csv\")\u001b[0m\n\u001b[0m                              ^\u001b[0m\n\u001b[0;31mSyntaxError\u001b[0m\u001b[0;31m:\u001b[0m invalid syntax\n"
     ]
    }
   ],
   "source": [
    "data.to_csv(\"test_data.csv\")"
   ]
  },
  {
   "cell_type": "code",
   "execution_count": 101,
   "metadata": {},
   "outputs": [],
   "source": [
    "import datetime\n",
    "\n",
    "def create(authors, office=\"Paris\"):\n",
    "    \"\"\"Produces header text from authors list.\n",
    "    \n",
    "    Parameters\n",
    "    ----------\n",
    "    authors : list of dict,\n",
    "        List of authors dictionnary. Each element of\n",
    "        the list should have a 'firstname' and 'lastname' keys.\n",
    "    office : str, optional, default 'Paris'\n",
    "        The offic from where the report was produced\n",
    "    \n",
    "    Returns\n",
    "    -------\n",
    "    header_text : str\n",
    "        The header text\n",
    "        \n",
    "    Example\n",
    "    -------\n",
    "    ...\n",
    "    \"\"\"\n",
    "    \n",
    "    ajd = datetime.date.today().strftime(\"%d %B %Y\")\n",
    "    lieudate = f\"\\t\\t{office}, le {ajd}\\n### auteurs:\\n\"\n",
    "    \n",
    "    strings = [lieudate]\n",
    "    for author in authors:\n",
    "        aut_str = f\"- {author['firstname']} {author['lastname']}\"\n",
    "        strings.append(aut_str)\n",
    "\n",
    "    return '\\n'.join(strings)\n",
    "\n",
    "\n",
    "\n",
    "class Reporter:\n",
    "    \n",
    "    def __init__(self, authors_json, data_csv):\n",
    "        self.authors_json = authors_json\n",
    "        with open(authors_json, 'r') as jf:\n",
    "            self.authors = json.load(jf)\n",
    "        self.data_file = data_csv\n",
    "        self.data = self.get_graph()\n",
    "        \n",
    "    def get_graph(self):\n",
    "        with open(self.data_file, \"r\") as df:\n",
    "            data = pd.read_csv(df, index_col=0) \n",
    "        return data\n",
    "    \n",
    "    def make_graph(self, col):\n",
    "        ax = self.data.plot(y=col)\n",
    "        fig = ax.get_figure()\n",
    "        fig.savefig('graph.png')\n",
    "        \n",
    "    def make_header(self):\n",
    "        self.header = create(self.authors, office=\"Paris\")\n",
    "        \n",
    "    def make_reportfile(self, graph_col='A'):\n",
    "        \n",
    "        self.make_header()\n",
    "        self.make_graph(graph_col)\n",
    "        graph_string = \"![mon graph](graph.png)\\n\"\n",
    "        with open(\"report.md\", 'w') as rf:\n",
    "            rf.write(self.header)\n",
    "            rf.write(\"\\n\")\n",
    "            rf.write(graph_string)\n",
    "        \n",
    "        \n",
    "        "
   ]
  },
  {
   "cell_type": "code",
   "execution_count": 102,
   "metadata": {},
   "outputs": [],
   "source": [
    "reporter = Reporter(\"authors.json\", \"test_data.csv\")"
   ]
  },
  {
   "cell_type": "code",
   "execution_count": 103,
   "metadata": {},
   "outputs": [
    {
     "data": {
      "image/png": "[encoded data removed]",
      "text/plain": [
       "<Figure size 432x288 with 1 Axes>"
      ]
     },
     "metadata": {
      "needs_background": "light"
     },
     "output_type": "display_data"
    }
   ],
   "source": [
    "reporter.make_reportfile()"
   ]
  },
  {
   "cell_type": "code",
   "execution_count": 104,
   "metadata": {},
   "outputs": [],
   "source": [
    "import subprocess"
   ]
  },
  {
   "cell_type": "code",
   "execution_count": 107,
   "metadata": {
    "scrolled": true
   },
   "outputs": [
    {
     "data": {
      "text/plain": [
       "CompletedProcess(args=['pandoc', '-o', 'report.pdf', 'report.md'], returncode=0)"
      ]
     },
     "execution_count": 107,
     "metadata": {},
     "output_type": "execute_result"
    }
   ],
   "source": [
    "subprocess.run([\"pandoc\", \"-o\", \"report.pdf\", \"report.md\"])"
   ]
  },
  {
   "cell_type": "code",
   "execution_count": 94,
   "metadata": {},
   "outputs": [
    {
     "name": "stdout",
     "output_type": "stream",
     "text": [
      "Automatic pdb calling has been turned ON\n"
     ]
    }
   ],
   "source": [
    "%pdb"
   ]
  },
  {
   "cell_type": "markdown",
   "metadata": {},
   "source": [
    "![mon graphe](graph_C.png)"
   ]
  },
  {
   "cell_type": "code",
   "execution_count": 99,
   "metadata": {},
   "outputs": [
    {
     "data": {
      "image/png": "[encoded data removed]",
      "text/plain": [
       "<Figure size 432x288 with 1 Axes>"
      ]
     },
     "metadata": {
      "needs_background": "light"
     },
     "output_type": "display_data"
    }
   ],
   "source": [
    "reporter.make_graph('C')\n"
   ]
  },
  {
   "cell_type": "code",
   "execution_count": 96,
   "metadata": {},
   "outputs": [],
   "source": [
    "reporter.make_header()"
   ]
  },
  {
   "cell_type": "code",
   "execution_count": 97,
   "metadata": {},
   "outputs": [
    {
     "data": {
      "text/plain": [
       "'\\t\\tParis, le 12 April 2019\\n### auteurs:\\n\\n- John Lennon\\n- Paul McCartney'"
      ]
     },
     "execution_count": 97,
     "metadata": {},
     "output_type": "execute_result"
    }
   ],
   "source": [
    "reporter.header"
   ]
  },
  {
   "cell_type": "code",
   "execution_count": 52,
   "metadata": {},
   "outputs": [],
   "source": [
    "mypet = Pet(\"Médor\", 1)"
   ]
  },
  {
   "cell_type": "code",
   "execution_count": 113,
   "metadata": {},
   "outputs": [],
   "source": [
    "\n",
    "liste1 = [1, 2, 3, 4, 5]\n",
    "\n",
    "liste2 = []\n",
    "for num in liste1:\n",
    "    liste2.append(num*2)\n",
    "\n"
   ]
  },
  {
   "cell_type": "code",
   "execution_count": 114,
   "metadata": {},
   "outputs": [
    {
     "data": {
      "text/plain": [
       "[2, 4, 6, 8, 10]"
      ]
     },
     "execution_count": 114,
     "metadata": {},
     "output_type": "execute_result"
    }
   ],
   "source": [
    "liste2"
   ]
  },
  {
   "cell_type": "code",
   "execution_count": 115,
   "metadata": {},
   "outputs": [],
   "source": [
    "liste3 = [num*2 for num in liste1]"
   ]
  },
  {
   "cell_type": "code",
   "execution_count": 116,
   "metadata": {},
   "outputs": [
    {
     "data": {
      "text/plain": [
       "[2, 4, 6, 8, 10]"
      ]
     },
     "execution_count": 116,
     "metadata": {},
     "output_type": "execute_result"
    }
   ],
   "source": [
    "liste3"
   ]
  },
  {
   "cell_type": "code",
   "execution_count": 123,
   "metadata": {},
   "outputs": [],
   "source": [
    "john = {'firstname': 'John',\n",
    " 'lastname': 'Lennon',\n",
    " 'address': 'Abbey Road',\n",
    " 'email': 'john@thebeatles.org'} "
   ]
  },
  {
   "cell_type": "code",
   "execution_count": 124,
   "metadata": {},
   "outputs": [
    {
     "data": {
      "text/plain": [
       "{'firstname': 'JOHN',\n",
       " 'lastname': 'LENNON',\n",
       " 'address': 'ABBEY ROAD',\n",
       " 'email': 'JOHN@THEBEATLES.ORG'}"
      ]
     },
     "execution_count": 124,
     "metadata": {},
     "output_type": "execute_result"
    }
   ],
   "source": [
    "majjo = {}\n",
    "\n",
    "for key, val in john.items():\n",
    "    majjo[key] = val.upper()\n",
    "majjo"
   ]
  },
  {
   "cell_type": "code",
   "execution_count": 165,
   "metadata": {},
   "outputs": [],
   "source": [
    "def copy(func):\n",
    "    def decorated_func(*args, **kwargs):\n",
    "        result = func(*args, **kwargs)\n",
    "        return '\\n'.join([result, \"© SOcGE\"])        \n",
    "    \n",
    "    return decorated_func\n",
    "\n",
    "@copy\n",
    "def create(authors, office=\"Paris\"):\n",
    "    ajd = datetime.date.today().strftime(\"%d %B %Y\")\n",
    "    lieudate = f\"\\t\\t{office}, le {ajd}\\n### auteurs:\\n\"\n",
    "    \n",
    "    strings = [lieudate]\n",
    "    for author in authors:\n",
    "        aut_str = f\"- {author['firstname']} {author['lastname']}\"\n",
    "        strings.append(aut_str)\n",
    "    print(\"In function\")\n",
    "    return '\\n'.join(strings)\n"
   ]
  },
  {
   "cell_type": "code",
   "execution_count": 163,
   "metadata": {},
   "outputs": [
    {
     "name": "stdout",
     "output_type": "stream",
     "text": [
      "In function\n",
      "\t\tParis, le 12 April 2019\n",
      "### auteurs:\n",
      "\n",
      "- John Lennon\n",
      "- Paul McCartney\n",
      "© SOcGE\n"
     ]
    }
   ],
   "source": [
    "print(create(clients))"
   ]
  },
  {
   "cell_type": "code",
   "execution_count": 125,
   "metadata": {},
   "outputs": [
    {
     "data": {
      "text/plain": [
       "{'firstname': 'JOHN',\n",
       " 'lastname': 'LENNON',\n",
       " 'address': 'ABBEY ROAD',\n",
       " 'email': 'JOHN@THEBEATLES.ORG'}"
      ]
     },
     "execution_count": 125,
     "metadata": {},
     "output_type": "execute_result"
    }
   ],
   "source": [
    "{key: val.upper() for key, val in john.items()}"
   ]
  },
  {
   "cell_type": "code",
   "execution_count": null,
   "metadata": {},
   "outputs": [],
   "source": []
  }
 ],
 "metadata": {
  "kernelspec": {
   "display_name": "Python 3",
   "language": "python",
   "name": "python3"
  },
  "language_info": {
   "codemirror_mode": {
    "name": "ipython",
    "version": 3
   },
   "file_extension": ".py",
   "mimetype": "text/x-python",
   "name": "python",
   "nbconvert_exporter": "python",
   "pygments_lexer": "ipython3",
   "version": "3.7.1"
  }
 },
 "nbformat": 4,
 "nbformat_minor": 2
}
