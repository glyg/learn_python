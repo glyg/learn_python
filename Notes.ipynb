{
 "cells": [
  {
   "cell_type": "markdown",
   "metadata": {},
   "source": [
    "###### Vos attentes"
   ]
  },
  {
   "cell_type": "markdown",
   "metadata": {
    "slideshow": {
     "slide_type": "slide"
    }
   },
   "source": [
    "###### Qu'est-ce que Python?\n",
    "\n",
    "Python est un langage de programmation **interprété** généraliste. Il a été créé en 1991 par [Guido van Rossum](https://twitter.com/gvanrossum)\n",
    "![Photo of Guido van Rossum from wikipedia](https://upload.wikimedia.org/wikipedia/commons/thumb/6/66/Guido_van_Rossum_OSCON_2006.jpg/320px-Guido_van_Rossum_OSCON_2006.jpg).\n",
    "\n",
    "<hr>\n",
    "\n",
    "\n",
    "\n"
   ]
  },
  {
   "cell_type": "markdown",
   "metadata": {
    "slideshow": {
     "slide_type": "slide"
    }
   },
   "source": [
    "Le langage s'appelle comme ça en hommage aux [Monty Python](https://www.youtube.com/user/MontyPython)! \n",
    "\n",
    "![Silly walk gif](https://media.giphy.com/media/RzKHvdYC3uds4/giphy.gif)\n",
    "\n",
    "La motivation était de faire un langage lisible, un peu en réaction à Perl ;) principalement pour faire des scripts courts. Il a finalement évolué pour faire du code pas si court que ça!\n",
    "\n",
    "Le principe central:\n",
    "\n",
    "> **Le code est lu beaucoup plus souvent qu'il n'est écrit**\n",
    "\n",
    "On verra cela plus en détail au cours de la formation.\n",
    "\n",
    "\n",
    "* Il y a une implémentation de référence de l'interpréteur écrite en C : https://github.com/python/cpython\n",
    "\n",
    "* Le langage avance grâce aux _Python Enhancement Proposals_ ou [PEPs](https://www.python.org/dev/peps/)\n",
    "\n"
   ]
  },
  {
   "cell_type": "markdown",
   "metadata": {
    "slideshow": {
     "slide_type": "slide"
    }
   },
   "source": [
    "## La communauté\n",
    "\n",
    "\n",
    "> «Je suis venu pour le langage mais je suis resté pour la communauté»\n",
    "\n",
    "[Brett Cannon](https://twitter.com/brettsky) _core_ développeur\n",
    "\n",
    "\n",
    "* La [Python Software Foundation](https://www.python.org/psf/) possède les droits d'auteurs du langage et chapeaute la communauté.\n",
    "\n",
    "* Les core devs (94 personnes dont environ 50 actives).\n",
    "\n",
    "* [PyLadies](https://pyladies.com) et [DjangoGirls](https://djangogirls.org)\n",
    "\n",
    "* l'[Afpy](https://www.afpy.org/) - Association Python francophone.\n",
    "\n",
    "* les conférences\n",
    "    - PyCon US - PyConFR - EuroPython \n",
    "    - Fosdem\n",
    "    - EuroSciPy\n",
    "    - DjangoCon\n",
    "\n",
    "* Les meetups & conférences [PyData](https://pydata.org/)\n",
    "\n",
    "    - [PyData Paris](https://www.meetup.com/fr-FR/PyData-Paris/)\n"
   ]
  },
  {
   "cell_type": "markdown",
   "metadata": {
    "slideshow": {
     "slide_type": "slide"
    }
   },
   "source": [
    "\n",
    "\n",
    "## Ressources de documentation\n",
    "\n",
    "* [docs.python.org](https://docs.python.org/fr) - documentation Python en français\n",
    "* [readthedocs](https://readthedocs.org) - abrite une grande partie de la documentation des modules tiers.\n",
    "* [RealPython](https://realpython.com/) - Actualités, tutoriels, quizz\n",
    "* [Think Python](https://greenteapress.com/wp/think-python-2e/) - Introduction générale à la programmation (en particulier orienté objet).\n",
    "\n",
    "## Cannaux d'entr'aide\n",
    "\n",
    "* IRC **#python-fr** **#scipy** **#matplotlib** sur freenode\n",
    "* [gitter](https://gitter.im/) (pour les modules data)\n",
    "* [stackoverflow](https://stackoverflow.com/questions/tagged/python)\n",
    "* mailing lists\n",
    "\n",
    "## Livres\n",
    "\n",
    "* David Beazley - [Python essential reference](http://www.dabeaz.com/per.html) (attendre l'édition 5 fin 2019)\n",
    "* Jake VanderPlas - [Data Science Hand book](https://jakevdp.github.io/PythonDataScienceHandbook/)\n",
    "\n",
    "\n",
    "## Exercices corrigés en ligne: \n",
    "\n",
    "https://www.hackinscience.org"
   ]
  },
  {
   "cell_type": "markdown",
   "metadata": {
    "slideshow": {
     "slide_type": "slide"
    }
   },
   "source": [
    "<hr/>\n",
    "\n",
    "## L'interpreteur, le signe \"=\"\n",
    "\n",
    "Le signe égale permet d'effectuer une opération _d'assignation_. Le résultat de l'opération à droite du signe `=` est attribué à la **variable** à gauche, qui est ensuite conservée en mémoire (dans la mémoire vive de l'interpréteur).\n"
   ]
  },
  {
   "cell_type": "code",
   "execution_count": null,
   "metadata": {},
   "outputs": [],
   "source": []
  },
  {
   "cell_type": "markdown",
   "metadata": {},
   "source": [
    "## Deux fonctions `print` et `type`"
   ]
  },
  {
   "cell_type": "code",
   "execution_count": null,
   "metadata": {},
   "outputs": [],
   "source": []
  },
  {
   "cell_type": "markdown",
   "metadata": {
    "slideshow": {
     "slide_type": "slide"
    }
   },
   "source": [
    "## Les types de données"
   ]
  },
  {
   "cell_type": "markdown",
   "metadata": {
    "slideshow": {
     "slide_type": "slide"
    }
   },
   "source": [
    "### Les nombres\n",
    "\n",
    "Il y a deux types de nombres, `int` et `float` pour représenter respectivement les entiers et les nombres \"réels\", aussi appelés \"à virgule flottante\", comme `2.78`. En Python, le marqueur de décimales est noté par un point.\n",
    "\n"
   ]
  },
  {
   "cell_type": "code",
   "execution_count": null,
   "metadata": {},
   "outputs": [],
   "source": []
  },
  {
   "cell_type": "markdown",
   "metadata": {
    "slideshow": {
     "slide_type": "slide"
    }
   },
   "source": [
    "### Les chaînes de caractère\n",
    "\n",
    "- Représenter du texte, tout type de texte «😁» par exemple\n",
    "\n",
    "- Dans python 3, «chaîne de caractère» veut dire UTF-8 \n",
    "  (plus sur l'encodage plus tard). \n",
    "\n"
   ]
  },
  {
   "cell_type": "code",
   "execution_count": null,
   "metadata": {},
   "outputs": [],
   "source": []
  },
  {
   "cell_type": "markdown",
   "metadata": {
    "slideshow": {
     "slide_type": "slide"
    }
   },
   "source": [
    "### Les booléens\n",
    "\n",
    "Seulement deux valeurs, vrai ou faux `True` ou `False` (avec une majuscule). Un objet peut être vrai ou faux, une chaîne ou une liste vide sont fausses par exemple."
   ]
  },
  {
   "cell_type": "code",
   "execution_count": null,
   "metadata": {},
   "outputs": [],
   "source": []
  },
  {
   "cell_type": "markdown",
   "metadata": {},
   "source": [
    "### `None`\n",
    "\n",
    "C'est la valeur de l'absence de valeur.\n"
   ]
  },
  {
   "cell_type": "code",
   "execution_count": null,
   "metadata": {},
   "outputs": [],
   "source": []
  },
  {
   "cell_type": "markdown",
   "metadata": {
    "slideshow": {
     "slide_type": "slide"
    }
   },
   "source": [
    "## Les différentes collections d'objets\n",
    "\n",
    "### Les tuplets\n",
    "\n",
    "Représente une collection d'objets divers, entre parenthèses. Une fois créé, cette collection contient toujours les mêmes objets et ne peux pas grossir, on ne peut pas échanger un objet pour un autre, on ne peut pas changer leur ordre. `tuple` comme doublet, triplet, quintuplet.\n",
    "\n",
    "- Comment y accéder? Les indices.\n",
    "\n",
    "- Le dépaquetage\n"
   ]
  },
  {
   "cell_type": "code",
   "execution_count": null,
   "metadata": {},
   "outputs": [],
   "source": []
  },
  {
   "cell_type": "markdown",
   "metadata": {},
   "source": [
    "### Les listes\n",
    "\n",
    "Aussi une collection d'objets mais dont on peut changer la taille, que l'on peut ranger, et dont on peut changer les éléments.\n",
    "\n",
    "- Les indices (continued) et les 'tranches' d'indice\n",
    "\n",
    "- Les méthodes et attributs associées à un objet\n"
   ]
  },
  {
   "cell_type": "code",
   "execution_count": null,
   "metadata": {},
   "outputs": [],
   "source": []
  },
  {
   "cell_type": "markdown",
   "metadata": {
    "slideshow": {
     "slide_type": "slide"
    }
   },
   "source": [
    "### Les ensembles (`set`) et dictionnaires\n",
    "\n",
    "#### Les sets\n",
    "\n",
    "- Un ensemble de valeurs uniques. Trés efficaces pour les opération ensemblistes (inclusion, union, différence).\n",
    "\n",
    "\n",
    "#### Les dictionnaires\n",
    "\n",
    "- Sans doute la structure la plus communément employée dans Python. On peut tout faire avec des dictionnaires.\n",
    "- Paires clefs valeurs (on garde l'ordre d'insertion)\n"
   ]
  },
  {
   "cell_type": "code",
   "execution_count": null,
   "metadata": {},
   "outputs": [],
   "source": []
  },
  {
   "cell_type": "markdown",
   "metadata": {},
   "source": [
    "### Les structures de contrôle\n",
    "\n",
    "* Les boucles `for` et `while`, les mots clefs `break` et `continue`.\n",
    "\n",
    "![Illustration d'une boucle for](loop.svg)\n",
    "\n"
   ]
  },
  {
   "cell_type": "code",
   "execution_count": null,
   "metadata": {},
   "outputs": [],
   "source": []
  },
  {
   "cell_type": "markdown",
   "metadata": {},
   "source": [
    "* Les tests `if`, `elif` et `else`\n",
    "\n",
    "* le test `else` à la sortie d'une boucle.\n"
   ]
  },
  {
   "cell_type": "code",
   "execution_count": null,
   "metadata": {},
   "outputs": [],
   "source": []
  },
  {
   "cell_type": "markdown",
   "metadata": {
    "slideshow": {
     "slide_type": "slide"
    }
   },
   "source": [
    "\n",
    "\n",
    "### Introduction aux  fonctions\n",
    "\n",
    "* Notion de fonction et d'argument\n",
    "\n",
    "* Définir une nouvelle fonction avec `def`\n",
    "\n",
    "\n",
    "![A function and its arguments](function.svg)"
   ]
  },
  {
   "cell_type": "code",
   "execution_count": null,
   "metadata": {},
   "outputs": [],
   "source": []
  },
  {
   "cell_type": "markdown",
   "metadata": {},
   "source": [
    "### L'introspection (type, dir, help, id)\n"
   ]
  },
  {
   "cell_type": "code",
   "execution_count": null,
   "metadata": {},
   "outputs": [],
   "source": []
  },
  {
   "cell_type": "markdown",
   "metadata": {
    "slideshow": {
     "slide_type": "slide"
    }
   },
   "source": [
    "\n",
    "### Le Zen de Python\n",
    "\n",
    "![Zen](https://media.giphy.com/media/3o6ZsYMuMkxBNiy7pC/giphy.gif)\n"
   ]
  },
  {
   "cell_type": "code",
   "execution_count": null,
   "metadata": {},
   "outputs": [],
   "source": [
    "import this"
   ]
  },
  {
   "cell_type": "markdown",
   "metadata": {},
   "source": [
    "<hr/>\n",
    "\n",
    "### Les séquences en python\n",
    "\n",
    "C'est une des particularités du langage, la façon de parcourir une séquence. La notion d'*iterable* en Python: il suffit de demander\n",
    "\n"
   ]
  },
  {
   "cell_type": "code",
   "execution_count": null,
   "metadata": {},
   "outputs": [],
   "source": []
  },
  {
   "cell_type": "markdown",
   "metadata": {},
   "source": [
    "`zip` et `enumerate`"
   ]
  },
  {
   "cell_type": "code",
   "execution_count": null,
   "metadata": {},
   "outputs": [],
   "source": []
  },
  {
   "cell_type": "markdown",
   "metadata": {},
   "source": [
    "\n",
    "* Les constructions par compréhension. **very pythonic**\n",
    "\n",
    "* Embalage et désembalage, notation en étoile."
   ]
  },
  {
   "cell_type": "markdown",
   "metadata": {},
   "source": [
    "### Les chaînes de caractères - bis\n",
    "\n",
    "* Problèmes d'encodage, comment rester en unicode.\n",
    "\n",
    "* Les différentes façons de formater une chaîne de caractères, les `fstrings`."
   ]
  },
  {
   "cell_type": "markdown",
   "metadata": {},
   "source": [
    "# Le fil rouge - un petit outil de _reporting_\n",
    "\n",
    "\n",
    "![Schéma fonctionnel de notre outil](reporter.svg)\n"
   ]
  },
  {
   "cell_type": "code",
   "execution_count": null,
   "metadata": {},
   "outputs": [],
   "source": []
  },
  {
   "cell_type": "markdown",
   "metadata": {},
   "source": [
    "\n",
    "### Employer des modules de la bibliothèque standard\n",
    "\n",
    "* La syntaxe de `import`\n",
    "\n",
    "* La notion d'espace de noms\n",
    "\n"
   ]
  },
  {
   "cell_type": "code",
   "execution_count": null,
   "metadata": {},
   "outputs": [],
   "source": []
  },
  {
   "cell_type": "markdown",
   "metadata": {},
   "source": [
    "* Les incontournables : `os` et `sys`\n",
    "\n",
    "* Les chemins de fichiers: `pathlib` \n",
    "\n",
    "* Itérer différemment: `itertools`. **very pythonic**\n",
    "\n",
    "* Des objets pratiques: le module `collections`. **very pythonic**\n",
    "\n",
    "* Exécuter des commandes système depuis python:  `subprocess`\n",
    "\n",
    "* Manipuler des fichiers et des archives: `shutil`\n",
    "\n",
    "\n",
    "Plus de détails [dans la doc officielle](https://docs.python.org/fr/3/tutorial/stdlib.html)"
   ]
  },
  {
   "cell_type": "code",
   "execution_count": null,
   "metadata": {},
   "outputs": [],
   "source": []
  },
  {
   "cell_type": "markdown",
   "metadata": {},
   "source": [
    "\n",
    "\n",
    "### Les fonctions (en détail)\n",
    "\n",
    "* Les paramètres positionnels et paramètres nommés.\n",
    "\n",
    "De l'importance des bons noms de variable.\n",
    "\n",
    "\n",
    "* La documentation en ligne et les docstrings.\n",
    "\n",
    "Mieux vaut tout de suite que jamais. Doctests, les tests à l'intérieur des fonctions.\n",
    "\n",
    "\n",
    "* La portée des variables.\n",
    "\n",
    "\n",
    "* La notation `*args` et `**kwargs`.\n",
    "\n",
    "Ne pas abuser!\n"
   ]
  },
  {
   "cell_type": "markdown",
   "metadata": {},
   "source": [
    "<hr/>\n",
    "\n",
    ">**Exercice**:\n",
    ">\n",
    ">Créer la fonction `create_header`.\n",
    ">\n",
    ">Cette fonction prend comme unique _argument_ une **liste de dictionnaires** représentant les auteurs et comprenant chacun les clefs `firstname` et `lastname`. Elle retourne une **chaîne de caractères** comme indiquée ci-dessous:\n"
   ]
  },
  {
   "cell_type": "raw",
   "metadata": {},
   "source": [
    "Paris, le 15/01/2019\n",
    "\n",
    "### auteurs:\n",
    "\n",
    "- John Lennon\n",
    "- Paul McCartney\n"
   ]
  },
  {
   "cell_type": "markdown",
   "metadata": {},
   "source": [
    "### Un peu de stratégie:\n",
    "\n",
    "- On peut utiliser le module de la bibliothèque standard `datetime` pour récupérer la date\n",
    "- On peut commencer par créer une _liste de chaînes de caractères_ pour chaque ligne du résultat:\n",
    "Une fois cette liste complète, on pourra utiliser la méthode de chaîne de caractère `join` pour créer la chaîne complète.\n"
   ]
  },
  {
   "cell_type": "code",
   "execution_count": null,
   "metadata": {},
   "outputs": [],
   "source": []
  },
  {
   "cell_type": "markdown",
   "metadata": {},
   "source": [
    "# Day 2\n",
    "\n",
    "\n",
    "## https://www.pythoncheatsheet.org/\n"
   ]
  },
  {
   "cell_type": "markdown",
   "metadata": {},
   "source": [
    "## Consolider son code\n",
    "\n",
    "\n",
    "### Les bonnes pratiques : [pep8](http://pep8.org).\n",
    "\n",
    "\n",
    "Exercice : vérifiez que votre code est PEP8 \n",
    "\n",
    "\n",
    "### Les exceptions :\n",
    "\n",
    "`try`, `except`, `raise` et `finally`.\n",
    "\n",
    "Les exceptions ne doivent jamais être passées en silence!\n",
    "\n",
    "\n",
    "\n",
    "> **Exercice**: passez un dictionnaire incomplet (sans la clef `firstname`) et gérer l'exception `KeyError`."
   ]
  },
  {
   "cell_type": "code",
   "execution_count": null,
   "metadata": {},
   "outputs": [],
   "source": []
  },
  {
   "cell_type": "markdown",
   "metadata": {},
   "source": [
    "### La gestion de contexte:\n",
    "\n",
    "`with` permet par exemple d'ouvir un fichier en s'assurant qu'il sera fermé après utilisation.\n",
    "\n",
    "\n",
    "> **Exercice** : Enregistrez la liste de dictionnaires dans un fichier `json`"
   ]
  },
  {
   "cell_type": "markdown",
   "metadata": {},
   "source": [
    "### `git` en 2 minutes"
   ]
  },
  {
   "cell_type": "markdown",
   "metadata": {},
   "source": [
    "```bash\n",
    "git clone https://github.com/glyg/reporter.git\n",
    "# Do some work\n",
    "# ...\n",
    "# Register your modifications\n",
    "git commit -am \"An informative commit message\"\n",
    "# Publish your modifications on the remote server\n",
    "git push origin\n",
    "# Grab work done by others\n",
    "git pull origin\n",
    "# repeat\n",
    "\n",
    "```\n",
    "\n",
    "\n",
    "<hr/>"
   ]
  },
  {
   "cell_type": "markdown",
   "metadata": {},
   "source": [
    "### Structure d'un paquet\n",
    "\n",
    "```\n",
    "reporter/\n",
    "  |_ README.md\n",
    "  |_ .git/\n",
    "  |_ setup.py\n",
    "  |_ reporter/\n",
    "      |_ __init__.py\n",
    "      |_ generator.py\n",
    "      |_ header.py\n",
    "  |_ data/\n",
    "      |_ header_image.png\n",
    "```\n",
    "\n",
    "> Remarque: [cookiecutter](https://cookiecutter.readthedocs.io/en/latest/usage.html) est un bon outil pour générer une architecture de projet pré-définie.\n",
    "\n",
    "### Installer son code depuis le source\n",
    "\n",
    "![Installation d'un module](module.svg)\n",
    "\n",
    "<hr/>\n",
    "\n",
    "> Exercice : récupérez reporter.git, copiez `create_header` dans header.py et installez le module."
   ]
  },
  {
   "cell_type": "code",
   "execution_count": null,
   "metadata": {},
   "outputs": [],
   "source": []
  },
  {
   "cell_type": "markdown",
   "metadata": {},
   "source": [
    "### Installer des modules tiers \n",
    "\n",
    "* Comprendre le sys.path, les modules et les packages.\n",
    "\n",
    "\n",
    "* Les environnements virtuels.\n",
    "`venv` et `virtualenv` ou `conda`\n",
    "\n",
    "> N'installez jamais de paquets en tant qu'administrateur!\n",
    "\n",
    "![Don't install packages as root](https://imgs.xkcd.com/comics/python_environment.png)\n",
    "\n",
    "* Installer un module tiers avec pip (et peut être conda).\n",
    "\n",
    "\n"
   ]
  },
  {
   "cell_type": "code",
   "execution_count": null,
   "metadata": {},
   "outputs": [],
   "source": []
  },
  {
   "cell_type": "markdown",
   "metadata": {},
   "source": [
    "### De Python 2 à Python 3\n",
    "\n",
    "\n",
    "Python 2 le 1er janvier 2020:\n",
    "\n",
    "![python 2020](yoda.gif)\n",
    "\n",
    "\n",
    "* Les principales différences.\n",
    "\n",
    "* Écrire du code compatible pour les deux versions (sixer).\n",
    "\n",
    "* Traduire du code Python 2 en Python 3: 2to3."
   ]
  },
  {
   "cell_type": "markdown",
   "metadata": {},
   "source": [
    "# Une introduction à la manipulation de données en Python\n",
    "\n",
    "* l'écosystème scipy\n",
    "\n",
    "* les bibliothèques numpy scipy et matplotlib\n",
    "L'objet `ndarray`, la notion de vectorisation.\n",
    "\n",
    "* Lecture d'un fichier excel avec pandas et xlrd\n",
    "La `DataFrame` et les `Series` de pandas \n"
   ]
  },
  {
   "cell_type": "code",
   "execution_count": null,
   "metadata": {
    "scrolled": true
   },
   "outputs": [],
   "source": [
    "import numpy as np\n",
    "import pandas as pd\n",
    "import matplotlib.pyplot as plt\n",
    "\n",
    "%matplotlib inline\n",
    "\n"
   ]
  },
  {
   "cell_type": "markdown",
   "metadata": {},
   "source": [
    "> Exercice : lire un fichier excel avec pandas et tracer un graphe"
   ]
  },
  {
   "cell_type": "markdown",
   "metadata": {},
   "source": [
    "## Récupérer des données sur le web avec requests\n",
    "\n",
    "> Exercice : Lire, mettre en forme, sauver et représenter des données web"
   ]
  },
  {
   "cell_type": "code",
   "execution_count": null,
   "metadata": {},
   "outputs": [],
   "source": []
  },
  {
   "cell_type": "markdown",
   "metadata": {},
   "source": [
    "<hr/>\n",
    "\n",
    "# Programmation orientée objet\n",
    "\n",
    "* Les concepts de la programmation orientée objet.\n",
    "\n",
    "* Comment s'écrit une classe en Python\n",
    "\n",
    "> Si une classe n'a qu'une fonction à part `__init__` c'est une fonction.\n",
    "\n",
    "* Documentation des classes\n",
    "\n",
    "* Attributs de classe et d'instance, les attributs `property`.\n",
    "\n",
    "* Les méthodes spéciales (surcharge d'opérateurs,` __iter__`).\n",
    "\n",
    "* L'héritage et la redéfinition de fonctions.\n",
    "\n",
    "\n",
    "\n"
   ]
  },
  {
   "cell_type": "markdown",
   "metadata": {},
   "source": [
    "> Exercice: Créer une classe `Generator` qui complète notre module créé plus haut "
   ]
  },
  {
   "cell_type": "code",
   "execution_count": null,
   "metadata": {},
   "outputs": [],
   "source": []
  }
 ],
 "metadata": {
  "kernelspec": {
   "display_name": "Python 3",
   "language": "python",
   "name": "python3"
  },
  "language_info": {
   "codemirror_mode": {
    "name": "ipython",
    "version": 3
   },
   "file_extension": ".py",
   "mimetype": "text/x-python",
   "name": "python",
   "nbconvert_exporter": "python",
   "pygments_lexer": "ipython3",
   "version": "3.7.3"
  }
 },
 "nbformat": 4,
 "nbformat_minor": 2
}
