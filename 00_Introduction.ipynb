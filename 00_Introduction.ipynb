{
 "cells": [
  {
   "cell_type": "markdown",
   "metadata": {},
   "source": [
    "###### Qu'est-ce que Python?\n",
    "\n",
    "Python est un langage de programmation **interprété** généraliste. Il a été créé en 1991 par [Guido van Rossum](https://twitter.com/gvanrossum)\n",
    "![Photo of Guido van Rossum from wikipedia](https://upload.wikimedia.org/wikipedia/commons/thumb/6/66/Guido_van_Rossum_OSCON_2006.jpg/320px-Guido_van_Rossum_OSCON_2006.jpg).\n",
    "\n",
    "<hr>\n",
    "\n",
    "\n",
    "\n",
    "\n",
    "\n",
    "Le langage s'appelle comme ça en hommage aux [Monty Python](https://www.youtube.com/user/MontyPython)! \n",
    "\n",
    "![Silly walk gif](https://media.giphy.com/media/RzKHvdYC3uds4/giphy.gif)\n",
    "\n",
    "La motivation était de faire un langage lisible, un peu en réaction à Perl ;) principalement pour faire des scripts courts. Il a finalement évolué pour faire du code pas si court que ça!\n",
    "\n",
    "Le principe central:\n",
    "\n",
    "> **Le code est lu beaucoup plus souvent qu'il n'est écrit**\n",
    "\n",
    "On verra cela plus en détail au cours de la formation.\n",
    "\n",
    "\n",
    "* Il y a une implémentation de référence de l'interpréteur écrite en C : https://github.com/python/cpython\n",
    "\n",
    "* Le langage avance grâce aux _Python Enhancement Proposals_ ou [PEPs](https://www.python.org/dev/peps/)\n",
    "\n",
    "\n",
    "\n",
    "## La communauté\n",
    "\n",
    "\n",
    "> «Je suis venu pour le langage mais je suis resté pour la communauté»\n",
    "\n",
    "[Brett Cannon](https://twitter.com/brettsky) _core_ développeur\n",
    "\n",
    "\n",
    "* La [Python Software Foundation](https://www.python.org/psf/) possède les droits d'auteurs du langage et chapeaute la communauté.\n",
    "\n",
    "* Les core devs (94 personnes dont environ 50 actives).\n",
    "\n",
    "* [PyLadies](https://pyladies.com) et [DjangoGirls](https://djangogirls.org)\n",
    "\n",
    "* l'[Afpy](https://www.afpy.org/) - Association Python francophone.\n",
    "\n",
    "* les conférences\n",
    "    - PyCon US - PyConFR - EuroPython \n",
    "    - Fosdem\n",
    "    - EuroSciPy\n",
    "    - DjangoCon\n",
    "\n",
    "* Les meetups & conférences [PyData](https://pydata.org/)\n",
    "\n",
    "    - [PyData Paris](https://www.meetup.com/fr-FR/PyData-Paris/)\n",
    "\n",
    "\n",
    "\n",
    "\n",
    "## Ressources de documentation\n",
    "\n",
    "* [docs.python.org](https://docs.python.org/fr) - documentation Python en français\n",
    "* [readthedocs](https://readthedocs.org) - abrite une grande partie de la documentation des modules tiers.\n",
    "* [RealPython](https://realpython.com/) - Actualités, tutoriels, quizz\n",
    "* [Think Python](https://greenteapress.com/wp/think-python-2e/) - Introduction générale à la programmation (en particulier orienté objet).\n",
    "\n",
    "## Cannaux d'entr'aide\n",
    "\n",
    "* IRC **#python-fr** **#scipy** **#matplotlib** sur freenode\n",
    "* [gitter](https://gitter.im/) (pour les modules data)\n",
    "* [stackoverflow](https://stackoverflow.com/questions/tagged/python)\n",
    "* mailing lists\n",
    "\n",
    "## Livres\n",
    "\n",
    "* David Beazley - [Python essential reference](http://www.dabeaz.com/per.html) (attendre l'édition 5 fin 2019)\n",
    "* Jake VanderPlas - [Data Science Hand book](https://jakevdp.github.io/PythonDataScienceHandbook/)\n",
    "\n",
    "\n",
    "## Exercices corrigés en ligne: \n",
    "\n",
    "https://www.hackinscience.org"
   ]
  },
  {
   "cell_type": "markdown",
   "metadata": {},
   "source": [
    "[Open source and buisnesss](https://www.youtube.com/watch?v=-E2_i6trk-c)"
   ]
  },
  {
   "cell_type": "code",
   "execution_count": 5,
   "metadata": {},
   "outputs": [
    {
     "data": {
      "image/jpeg": "[encoded data removed]",
      "text/html": [
       "\n",
       "        <iframe\n",
       "            width=\"400\"\n",
       "            height=\"300\"\n",
       "            src=\"https://www.youtube.com/embed/-E2_i6trk-c\"\n",
       "            frameborder=\"0\"\n",
       "            allowfullscreen\n",
       "        ></iframe>\n",
       "        "
      ],
      "text/plain": [
       "<IPython.lib.display.YouTubeVideo at 0x7fa80b75dbe0>"
      ]
     },
     "execution_count": 5,
     "metadata": {},
     "output_type": "execute_result"
    }
   ],
   "source": [
    "from IPython.display import YouTubeVideo\n",
    "\n",
    "YouTubeVideo(\"-E2_i6trk-c\")"
   ]
  },
  {
   "cell_type": "code",
   "execution_count": null,
   "metadata": {},
   "outputs": [],
   "source": []
  }
 ],
 "metadata": {
  "kernelspec": {
   "display_name": "Python 3",
   "language": "python",
   "name": "python3"
  },
  "language_info": {
   "codemirror_mode": {
    "name": "ipython",
    "version": 3
   },
   "file_extension": ".py",
   "mimetype": "text/x-python",
   "name": "python",
   "nbconvert_exporter": "python",
   "pygments_lexer": "ipython3",
   "version": "3.7.3"
  }
 },
 "nbformat": 4,
 "nbformat_minor": 2
}
