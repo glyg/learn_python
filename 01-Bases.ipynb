{
 "cells": [
  {
   "cell_type": "markdown",
   "metadata": {
    "slideshow": {
     "slide_type": "slide"
    }
   },
   "source": [
    "<hr/>\n",
    "\n",
    "## L'interpreteur, le signe \"=\"\n",
    "\n",
    "Le signe égale permet d'effectuer une opération _d'assignation_. Le résultat de l'opération à droite du signe `=` est attribué à la **variable** à gauche, qui est ensuite conservée en mémoire (dans la mémoire vive de l'interpréteur).\n"
   ]
  },
  {
   "cell_type": "code",
   "execution_count": null,
   "metadata": {},
   "outputs": [],
   "source": []
  },
  {
   "cell_type": "markdown",
   "metadata": {},
   "source": [
    "#### Python comme calculatrice\n",
    "\n",
    "\n"
   ]
  },
  {
   "cell_type": "code",
   "execution_count": null,
   "metadata": {},
   "outputs": [],
   "source": []
  },
  {
   "cell_type": "markdown",
   "metadata": {},
   "source": [
    "## Deux fonctions `print` et `type`"
   ]
  },
  {
   "cell_type": "code",
   "execution_count": null,
   "metadata": {},
   "outputs": [],
   "source": []
  },
  {
   "cell_type": "markdown",
   "metadata": {
    "slideshow": {
     "slide_type": "slide"
    }
   },
   "source": [
    "## Les types de données"
   ]
  },
  {
   "cell_type": "markdown",
   "metadata": {
    "slideshow": {
     "slide_type": "slide"
    }
   },
   "source": [
    "### Les nombres\n",
    "\n",
    "Il y a deux types de nombres, `int` et `float` pour représenter respectivement les entiers et les nombres \"réels\", aussi appelés \"à virgule flottante\", comme `2.78`. En Python, le marqueur de décimales est noté par un point.\n",
    "\n"
   ]
  },
  {
   "cell_type": "code",
   "execution_count": null,
   "metadata": {},
   "outputs": [],
   "source": []
  },
  {
   "cell_type": "markdown",
   "metadata": {
    "slideshow": {
     "slide_type": "slide"
    }
   },
   "source": [
    "### Les chaînes de caractère\n",
    "\n",
    "- Représenter du texte, tout type de texte «😁» par exemple\n",
    "\n",
    "- Dans python 3, «chaîne de caractère» veut dire UTF-8 \n",
    "  (plus sur l'encodage plus tard). \n",
    "\n"
   ]
  },
  {
   "cell_type": "code",
   "execution_count": null,
   "metadata": {},
   "outputs": [],
   "source": []
  },
  {
   "cell_type": "markdown",
   "metadata": {
    "slideshow": {
     "slide_type": "slide"
    }
   },
   "source": [
    "### Les booléens\n",
    "\n",
    "Seulement deux valeurs, vrai ou faux `True` ou `False` (avec une majuscule). Un objet peut être vrai ou faux, une chaîne ou une liste vide sont fausses par exemple."
   ]
  },
  {
   "cell_type": "code",
   "execution_count": null,
   "metadata": {},
   "outputs": [],
   "source": []
  },
  {
   "cell_type": "markdown",
   "metadata": {},
   "source": [
    "### `None`\n",
    "\n",
    "C'est la valeur de l'absence de valeur.\n"
   ]
  },
  {
   "cell_type": "code",
   "execution_count": null,
   "metadata": {},
   "outputs": [],
   "source": []
  },
  {
   "cell_type": "markdown",
   "metadata": {
    "slideshow": {
     "slide_type": "slide"
    }
   },
   "source": [
    "## Les différentes collections d'objets\n",
    "\n",
    "### Les tuplets\n",
    "\n",
    "Représente une collection d'objets divers, entre parenthèses. Une fois créé, cette collection contient toujours les mêmes objets et ne peux pas grossir, on ne peut pas échanger un objet pour un autre, on ne peut pas changer leur ordre. `tuple` comme doublet, triplet, quintuplet.\n",
    "\n",
    "- Comment y accéder? Les indices.\n",
    "\n",
    "- Le dépaquetage\n"
   ]
  },
  {
   "cell_type": "code",
   "execution_count": null,
   "metadata": {},
   "outputs": [],
   "source": []
  },
  {
   "cell_type": "markdown",
   "metadata": {},
   "source": [
    "### Les listes\n",
    "\n",
    "Aussi une collection d'objets mais dont on peut changer la taille, que l'on peut ranger, et dont on peut changer les éléments.\n",
    "\n",
    "- Les indices (continued) et les 'tranches' d'indice\n",
    "\n",
    "- Les méthodes et attributs associées à un objet\n"
   ]
  },
  {
   "cell_type": "code",
   "execution_count": null,
   "metadata": {},
   "outputs": [],
   "source": []
  },
  {
   "cell_type": "markdown",
   "metadata": {
    "slideshow": {
     "slide_type": "slide"
    }
   },
   "source": [
    "### Les ensembles (`set`) et dictionnaires\n",
    "\n",
    "#### Les sets\n",
    "\n",
    "- Un ensemble de valeurs uniques. Trés efficaces pour les opération ensemblistes (inclusion, union, différence).\n",
    "\n",
    "\n",
    "#### Les dictionnaires\n",
    "\n",
    "- Sans doute la structure la plus communément employée dans Python. On peut tout faire avec des dictionnaires.\n",
    "- Paires clefs valeurs (on garde l'ordre d'insertion)\n"
   ]
  },
  {
   "cell_type": "code",
   "execution_count": null,
   "metadata": {},
   "outputs": [],
   "source": []
  },
  {
   "cell_type": "markdown",
   "metadata": {},
   "source": [
    "### Les structures de contrôle\n",
    "\n",
    "* Les boucles `for` et `while`, les mots clefs `break` et `continue`.\n",
    "\n",
    "![Illustration d'une boucle for](loop.svg)\n",
    "\n"
   ]
  },
  {
   "cell_type": "code",
   "execution_count": null,
   "metadata": {},
   "outputs": [],
   "source": []
  },
  {
   "cell_type": "markdown",
   "metadata": {},
   "source": [
    "* Les tests `if`, `elif` et `else`\n",
    "\n",
    "* le test `else` à la sortie d'une boucle.\n"
   ]
  },
  {
   "cell_type": "markdown",
   "metadata": {},
   "source": [
    "<hr/>\n",
    "\n",
    "### Les séquences, deuxième épisode\n",
    "\n",
    "C'est une des particularités du langage, la façon de parcourir une séquence. La notion d'*iterable* en Python: il suffit de demander\n",
    "\n"
   ]
  },
  {
   "cell_type": "code",
   "execution_count": null,
   "metadata": {},
   "outputs": [],
   "source": []
  },
  {
   "cell_type": "markdown",
   "metadata": {},
   "source": [
    "\n",
    "`zip` et `enumerate`\n"
   ]
  },
  {
   "cell_type": "markdown",
   "metadata": {},
   "source": [
    "\n",
    "\n",
    "#### Notions avancées:\n",
    "\n",
    "* Les constructions par compréhension. **very pythonic**\n",
    "\n",
    "* Embalage et désembalage, notation en étoile.\n",
    "\n"
   ]
  },
  {
   "cell_type": "code",
   "execution_count": null,
   "metadata": {},
   "outputs": [],
   "source": []
  },
  {
   "cell_type": "markdown",
   "metadata": {},
   "source": [
    "### Les chaînes de caractères - bis\n",
    "\n",
    "* Problèmes d'encodage, comment rester en unicode.\n",
    "\n",
    "* Les différentes façons de formater une chaîne de caractères, les `fstrings`.\n",
    "\n"
   ]
  },
  {
   "cell_type": "markdown",
   "metadata": {},
   "source": [
    "## https://www.pythoncheatsheet.org/"
   ]
  },
  {
   "cell_type": "code",
   "execution_count": null,
   "metadata": {},
   "outputs": [],
   "source": []
  }
 ],
 "metadata": {
  "kernelspec": {
   "display_name": "Python 3",
   "language": "python",
   "name": "python3"
  },
  "language_info": {
   "codemirror_mode": {
    "name": "ipython",
    "version": 3
   },
   "file_extension": ".py",
   "mimetype": "text/x-python",
   "name": "python",
   "nbconvert_exporter": "python",
   "pygments_lexer": "ipython3",
   "version": "3.7.3"
  }
 },
 "nbformat": 4,
 "nbformat_minor": 2
}
