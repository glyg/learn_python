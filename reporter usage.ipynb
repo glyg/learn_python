{
 "cells": [
  {
   "cell_type": "code",
   "execution_count": 1,
   "metadata": {},
   "outputs": [],
   "source": [
    "from reporter.generator import create_header"
   ]
  },
  {
   "cell_type": "code",
   "execution_count": 2,
   "metadata": {},
   "outputs": [],
   "source": [
    "auteur1 = {\n",
    "    \"firstname\": \"John\",\n",
    "    \"lastname\": \"Lennon\",\n",
    "    \"address\": \"Abbey Road\",\n",
    "    \"age\": 37\n",
    "}\n",
    "\n",
    "auteur2 = {\n",
    "    'firstname': 'Paul',\n",
    "    'lastname': 'MacCartney',\n",
    "    'address': 'Abbey Road',\n",
    "    'age': 27,\n",
    "    'email': 'paul@thebeatles.org'\n",
    "}\n",
    "\n",
    "auteur3 = {\n",
    "    'lastname': 'Harrison',\n",
    "    'address': 'Abbey Road',\n",
    "    'age': 27,\n",
    "    'email': 'george@thebeatles.org'\n",
    "}\n",
    "authors = [auteur1, auteur2, auteur3, 2]"
   ]
  },
  {
   "cell_type": "code",
   "execution_count": 13,
   "metadata": {},
   "outputs": [],
   "source": [
    "import json"
   ]
  },
  {
   "cell_type": "code",
   "execution_count": 12,
   "metadata": {},
   "outputs": [
    {
     "name": "stdout",
     "output_type": "stream",
     "text": [
      "Automatic pdb calling has been turned OFF\n"
     ]
    }
   ],
   "source": [
    "%pdb"
   ]
  },
  {
   "cell_type": "code",
   "execution_count": null,
   "metadata": {},
   "outputs": [],
   "source": [
    "create_header(authors)"
   ]
  },
  {
   "cell_type": "code",
   "execution_count": 15,
   "metadata": {},
   "outputs": [],
   "source": [
    "with open(\"../reporter/data/authors.json\", 'r') as json_file:\n",
    "    authors = json.load(json_file)\n",
    "\n",
    "header = create_header(authors)"
   ]
  },
  {
   "cell_type": "code",
   "execution_count": 16,
   "metadata": {},
   "outputs": [],
   "source": [
    "with open('header.md', \"w\") as outfile:\n",
    "    outfile.write(header)"
   ]
  },
  {
   "cell_type": "code",
   "execution_count": 10,
   "metadata": {},
   "outputs": [],
   "source": [
    "%load_ext snakeviz\n",
    "# auto-reload\n",
    "\n"
   ]
  },
  {
   "cell_type": "code",
   "execution_count": 17,
   "metadata": {},
   "outputs": [
    {
     "name": "stdout",
     "output_type": "stream",
     "text": [
      "Paris, le 16/05/19\n",
      "\n",
      "## Authors\n",
      "\n",
      "- John Lennon\n",
      "- Paul MacCartney\n",
      "- Georges Harrison\n"
     ]
    }
   ],
   "source": [
    "print(header)"
   ]
  },
  {
   "cell_type": "code",
   "execution_count": 11,
   "metadata": {},
   "outputs": [
    {
     "name": "stdout",
     "output_type": "stream",
     "text": [
      " \n",
      "*** Profile stats marshalled to file '/tmp/tmppi40sv1c'. \n"
     ]
    }
   ],
   "source": [
    "%snakeviz create_header(authors)"
   ]
  },
  {
   "cell_type": "markdown",
   "metadata": {},
   "source": [
    "Paris, le 16/05/19\n",
    "\n",
    "## Authors\n",
    "\n",
    "- John Lennon\n",
    "- Paul MacCartney\n",
    "- Georges Harrison"
   ]
  },
  {
   "cell_type": "code",
   "execution_count": 18,
   "metadata": {},
   "outputs": [],
   "source": [
    "import subprocess"
   ]
  },
  {
   "cell_type": "code",
   "execution_count": 22,
   "metadata": {},
   "outputs": [],
   "source": [
    "process_result = subprocess.run(\n",
    "    ['pandoc', 'header.md', '-o', 'header.docx'],\n",
    "    capture_output=True\n",
    ")"
   ]
  },
  {
   "cell_type": "code",
   "execution_count": 24,
   "metadata": {},
   "outputs": [
    {
     "data": {
      "text/plain": [
       "b''"
      ]
     },
     "execution_count": 24,
     "metadata": {},
     "output_type": "execute_result"
    }
   ],
   "source": [
    "process_result.stdout"
   ]
  },
  {
   "cell_type": "code",
   "execution_count": null,
   "metadata": {},
   "outputs": [],
   "source": []
  }
 ],
 "metadata": {
  "kernelspec": {
   "display_name": "Python 3",
   "language": "python",
   "name": "python3"
  },
  "language_info": {
   "codemirror_mode": {
    "name": "ipython",
    "version": 3
   },
   "file_extension": ".py",
   "mimetype": "text/x-python",
   "name": "python",
   "nbconvert_exporter": "python",
   "pygments_lexer": "ipython3",
   "version": "3.7.1"
  }
 },
 "nbformat": 4,
 "nbformat_minor": 2
}
