{
 "cells": [
  {
   "cell_type": "markdown",
   "metadata": {},
   "source": [
    "\n",
    "### Employer des modules de la bibliothèque standard\n",
    "\n",
    "* La syntaxe de `import`\n",
    "\n",
    "* La notion d'espace de noms\n",
    "\n"
   ]
  },
  {
   "cell_type": "code",
   "execution_count": 32,
   "metadata": {},
   "outputs": [],
   "source": [
    "import datetime\n",
    "import warnings\n",
    "\n",
    "\n",
    "john = {\n",
    "    'firstname': 'John',\n",
    "     'lastname': 'Lennon',\n",
    "     'birth_year': 1940,\n",
    "     'instru': 'Vocals'\n",
    "}\n",
    "paul = {\n",
    "    'firstname': 'Paul',\n",
    "     'lastname': 'McCartney',\n",
    "     'birth_year': 1942,\n",
    "     'instru': 'Bass'\n",
    "}\n",
    "\n",
    "george = {\n",
    "    #'firstname': 'George',\n",
    "    'lastname': 'Harisson',\n",
    "    \n",
    "     'birth_year': 1943,\n",
    "     'instru': 'Bass'\n",
    "}\n",
    "\n",
    "authors = [john, paul, george]\n",
    "import time\n",
    "\n",
    "def create_header(*authors, city=\"Blagnac\"):\n",
    "    \"\"\"Returns the header string based on authors list\n",
    "    \n",
    "    \n",
    "    Parameters\n",
    "    ----------\n",
    "    authors : list of dicts\n",
    "        Each dictionnary should have 'firstname' and 'lastname' keys\n",
    "    \n",
    "    city : str, optional, default \"Blagnac\"\n",
    "         The city from where the report is emitted\n",
    "         \n",
    "    Returns\n",
    "    -------\n",
    "    header : str\n",
    "        The header string\n",
    "    \n",
    "        \n",
    "    See Also\n",
    "    --------\n",
    "    \n",
    "    `datetime.date.strftime`\n",
    "    \n",
    "    \"\"\"\n",
    "    # sphinx numpydoc\n",
    "    today = datetime.date.today()\n",
    "    texte = [today.strftime(f'{city}, le %d %B %Y\\n'),\n",
    "             '### auteurs:']\n",
    "    for actor in authors:\n",
    "        first = actor.get('firstname', \"XXX\")\n",
    "        \n",
    "        try:\n",
    "            last = actor['lastname']\n",
    "\n",
    "        except KeyError:\n",
    "            warnings.warn(f\"Missing lastname in {actor}\")\n",
    "            last = \"\"\n",
    "        finally:\n",
    "            print('I am always executed')\n",
    "        \n",
    "        texte.append(f\"- {first} {last}\")\n",
    "\n",
    "    return '\\n'.join(texte)"
   ]
  },
  {
   "cell_type": "code",
   "execution_count": 33,
   "metadata": {},
   "outputs": [
    {
     "name": "stdout",
     "output_type": "stream",
     "text": [
      "I am always executed\n",
      "I am always executed\n",
      "I am always executed\n"
     ]
    },
    {
     "data": {
      "text/plain": [
       "'Blagnac, le 22 November 2019\\n\\n### auteurs:\\n- John Lennon\\n- Paul McCartney\\n- XXX Harisson'"
      ]
     },
     "execution_count": 33,
     "metadata": {},
     "output_type": "execute_result"
    }
   ],
   "source": [
    "create_header(john, paul, george)"
   ]
  },
  {
   "cell_type": "code",
   "execution_count": 34,
   "metadata": {},
   "outputs": [],
   "source": [
    "import sys"
   ]
  },
  {
   "cell_type": "code",
   "execution_count": 38,
   "metadata": {},
   "outputs": [
    {
     "name": "stdout",
     "output_type": "stream",
     "text": [
      "/home/humancoders/learn_python\n",
      "/home/humancoders/miniconda3/lib/python37.zip\n",
      "/home/humancoders/miniconda3/lib/python3.7\n",
      "/home/humancoders/miniconda3/lib/python3.7/lib-dynload\n",
      "\n",
      "/home/humancoders/.local/lib/python3.7/site-packages\n",
      "/home/humancoders/miniconda3/lib/python3.7/site-packages\n",
      "/home/humancoders/miniconda3/lib/python3.7/site-packages/pandas-0.25.0rc0+55.g07d048828-py3.7-linux-x86_64.egg\n",
      "/home/humancoders/miniconda3/lib/python3.7/site-packages/reporter-0.0.1-py3.7.egg\n",
      "/home/humancoders/miniconda3/lib/python3.7/site-packages/IPython/extensions\n",
      "/home/humancoders/.ipython\n"
     ]
    }
   ],
   "source": [
    "print(*sys.path, sep='\\n')"
   ]
  },
  {
   "cell_type": "code",
   "execution_count": 39,
   "metadata": {},
   "outputs": [],
   "source": [
    "a, b, *_, d = (1, 2, 3, 4, 5, 6, 7)"
   ]
  },
  {
   "cell_type": "code",
   "execution_count": 40,
   "metadata": {},
   "outputs": [
    {
     "data": {
      "text/plain": [
       "[3, 4, 5, 6]"
      ]
     },
     "execution_count": 40,
     "metadata": {},
     "output_type": "execute_result"
    }
   ],
   "source": [
    "_"
   ]
  },
  {
   "cell_type": "code",
   "execution_count": 75,
   "metadata": {},
   "outputs": [
    {
     "name": "stdout",
     "output_type": "stream",
     "text": [
      "I am always executed\n"
     ]
    },
    {
     "ename": "KeyboardInterrupt",
     "evalue": "",
     "output_type": "error",
     "traceback": [
      "\u001b[0;31m---------------------------------------------------------------------------\u001b[0m",
      "\u001b[0;31mKeyboardInterrupt\u001b[0m                         Traceback (most recent call last)",
      "\u001b[0;32m<ipython-input-75-a6c59ca5e0f9>\u001b[0m in \u001b[0;36m<module>\u001b[0;34m\u001b[0m\n\u001b[0;32m----> 1\u001b[0;31m \u001b[0mcreate_header\u001b[0m\u001b[0;34m(\u001b[0m\u001b[0mauthors\u001b[0m\u001b[0;34m,\u001b[0m \u001b[0mcity\u001b[0m\u001b[0;34m=\u001b[0m\u001b[0;34m\"Blagnac\"\u001b[0m\u001b[0;34m)\u001b[0m\u001b[0;34m\u001b[0m\u001b[0;34m\u001b[0m\u001b[0m\n\u001b[0m",
      "\u001b[0;32m<ipython-input-74-112c50e55883>\u001b[0m in \u001b[0;36mcreate_header\u001b[0;34m(authors, city)\u001b[0m\n\u001b[1;32m     59\u001b[0m \u001b[0;34m\u001b[0m\u001b[0m\n\u001b[1;32m     60\u001b[0m         \u001b[0;32mtry\u001b[0m\u001b[0;34m:\u001b[0m\u001b[0;34m\u001b[0m\u001b[0;34m\u001b[0m\u001b[0m\n\u001b[0;32m---> 61\u001b[0;31m             \u001b[0mtime\u001b[0m\u001b[0;34m.\u001b[0m\u001b[0msleep\u001b[0m\u001b[0;34m(\u001b[0m\u001b[0;36m3\u001b[0m\u001b[0;34m)\u001b[0m\u001b[0;34m\u001b[0m\u001b[0;34m\u001b[0m\u001b[0m\n\u001b[0m\u001b[1;32m     62\u001b[0m             \u001b[0mlast\u001b[0m \u001b[0;34m=\u001b[0m \u001b[0mactor\u001b[0m\u001b[0;34m[\u001b[0m\u001b[0;34m'lastname'\u001b[0m\u001b[0;34m]\u001b[0m\u001b[0;34m\u001b[0m\u001b[0;34m\u001b[0m\u001b[0m\n\u001b[1;32m     63\u001b[0m             \u001b[0;36m1\u001b[0m\u001b[0;34m/\u001b[0m\u001b[0;36m0\u001b[0m\u001b[0;34m\u001b[0m\u001b[0;34m\u001b[0m\u001b[0m\n",
      "\u001b[0;31mKeyboardInterrupt\u001b[0m: "
     ]
    }
   ],
   "source": [
    "create_header(authors, city=\"Blagnac\")"
   ]
  },
  {
   "cell_type": "code",
   "execution_count": 84,
   "metadata": {},
   "outputs": [
    {
     "data": {
      "text/plain": [
       "3.605551275463989"
      ]
     },
     "execution_count": 84,
     "metadata": {},
     "output_type": "execute_result"
    }
   ],
   "source": [
    "hypot(2, 3)"
   ]
  },
  {
   "cell_type": "code",
   "execution_count": 86,
   "metadata": {},
   "outputs": [
    {
     "data": {
      "text/plain": [
       "True"
      ]
     },
     "execution_count": 86,
     "metadata": {},
     "output_type": "execute_result"
    }
   ],
   "source": [
    "hasattr(my_file, \"__enter__\")"
   ]
  },
  {
   "cell_type": "code",
   "execution_count": 85,
   "metadata": {},
   "outputs": [
    {
     "ename": "AttributeError",
     "evalue": "__enter__",
     "output_type": "error",
     "traceback": [
      "\u001b[0;31m---------------------------------------------------------------------------\u001b[0m",
      "\u001b[0;31mAttributeError\u001b[0m                            Traceback (most recent call last)",
      "\u001b[0;32m<ipython-input-85-d0981802d90a>\u001b[0m in \u001b[0;36m<module>\u001b[0;34m\u001b[0m\n\u001b[0;32m----> 1\u001b[0;31m \u001b[0;32mwith\u001b[0m \u001b[0mhypot\u001b[0m\u001b[0;34m(\u001b[0m\u001b[0;36m3\u001b[0m\u001b[0;34m,\u001b[0m \u001b[0;36m4\u001b[0m\u001b[0;34m)\u001b[0m \u001b[0;32mas\u001b[0m \u001b[0mh\u001b[0m\u001b[0;34m:\u001b[0m\u001b[0;34m\u001b[0m\u001b[0;34m\u001b[0m\u001b[0m\n\u001b[0m\u001b[1;32m      2\u001b[0m     \u001b[0mprint\u001b[0m\u001b[0;34m(\u001b[0m\u001b[0mh\u001b[0m\u001b[0;34m)\u001b[0m\u001b[0;34m\u001b[0m\u001b[0;34m\u001b[0m\u001b[0m\n",
      "\u001b[0;31mAttributeError\u001b[0m: __enter__"
     ]
    }
   ],
   "source": [
    "with hypot(3, 4) as h:\n",
    "    print(h)"
   ]
  },
  {
   "cell_type": "code",
   "execution_count": 81,
   "metadata": {},
   "outputs": [
    {
     "name": "stdout",
     "output_type": "stream",
     "text": [
      "False\n"
     ]
    },
    {
     "ename": "ZeroDivisionError",
     "evalue": "division by zero",
     "output_type": "error",
     "traceback": [
      "\u001b[0;31m---------------------------------------------------------------------------\u001b[0m",
      "\u001b[0;31mZeroDivisionError\u001b[0m                         Traceback (most recent call last)",
      "\u001b[0;32m<ipython-input-81-3d44f89ea5ab>\u001b[0m in \u001b[0;36m<module>\u001b[0;34m\u001b[0m\n\u001b[1;32m      2\u001b[0m     \u001b[0mprint\u001b[0m\u001b[0;34m(\u001b[0m\u001b[0mmy_file\u001b[0m\u001b[0;34m.\u001b[0m\u001b[0mclosed\u001b[0m\u001b[0;34m)\u001b[0m\u001b[0;34m\u001b[0m\u001b[0;34m\u001b[0m\u001b[0m\n\u001b[1;32m      3\u001b[0m     \u001b[0mmy_file\u001b[0m\u001b[0;34m.\u001b[0m\u001b[0mwrite\u001b[0m\u001b[0;34m(\u001b[0m\u001b[0;34m'tutut'\u001b[0m\u001b[0;34m)\u001b[0m\u001b[0;34m\u001b[0m\u001b[0;34m\u001b[0m\u001b[0m\n\u001b[0;32m----> 4\u001b[0;31m     \u001b[0;36m1\u001b[0m\u001b[0;34m/\u001b[0m\u001b[0;36m0\u001b[0m\u001b[0;34m\u001b[0m\u001b[0;34m\u001b[0m\u001b[0m\n\u001b[0m\u001b[1;32m      5\u001b[0m \u001b[0mprint\u001b[0m\u001b[0;34m(\u001b[0m\u001b[0mmy_file\u001b[0m\u001b[0;34m.\u001b[0m\u001b[0mclosed\u001b[0m\u001b[0;34m)\u001b[0m\u001b[0;34m\u001b[0m\u001b[0;34m\u001b[0m\u001b[0m\n",
      "\u001b[0;31mZeroDivisionError\u001b[0m: division by zero"
     ]
    }
   ],
   "source": [
    "my_file = open('test.txt', 'w')\n",
    "my_file.write('tutut')\n",
    "1/0\n",
    "my_file.close()\n",
    "\n",
    "with open('test.txt', 'w') as my_file:\n",
    "    print(my_file.closed)\n",
    "    my_file.write('tutut')\n",
    "    1/0\n",
    "print(my_file.closed)"
   ]
  },
  {
   "cell_type": "code",
   "execution_count": 83,
   "metadata": {},
   "outputs": [
    {
     "data": {
      "text/plain": [
       "True"
      ]
     },
     "execution_count": 83,
     "metadata": {},
     "output_type": "execute_result"
    }
   ],
   "source": [
    "my_file.closed"
   ]
  },
  {
   "cell_type": "code",
   "execution_count": 12,
   "metadata": {},
   "outputs": [],
   "source": [
    "triangle = (3, 3)"
   ]
  },
  {
   "cell_type": "code",
   "execution_count": 13,
   "metadata": {},
   "outputs": [],
   "source": [
    "hypot = (triangle[0]**2 + triangle[1]**2)**0.5\n",
    "\n"
   ]
  },
  {
   "cell_type": "code",
   "execution_count": 24,
   "metadata": {},
   "outputs": [],
   "source": [
    "from math import asin, pi, sin\n"
   ]
  },
  {
   "cell_type": "code",
   "execution_count": 19,
   "metadata": {},
   "outputs": [
    {
     "data": {
      "text/plain": [
       "45.00000000000001"
      ]
     },
     "execution_count": 19,
     "metadata": {},
     "output_type": "execute_result"
    }
   ],
   "source": [
    "asin(triangle[0]/hypot)*180/pi"
   ]
  },
  {
   "cell_type": "code",
   "execution_count": 25,
   "metadata": {},
   "outputs": [],
   "source": [
    "from numpy import sin as np_sin"
   ]
  },
  {
   "cell_type": "code",
   "execution_count": 29,
   "metadata": {},
   "outputs": [],
   "source": [
    "import numpy as np"
   ]
  },
  {
   "cell_type": "code",
   "execution_count": 30,
   "metadata": {},
   "outputs": [
    {
     "data": {
      "text/plain": [
       "<ufunc 'cos'>"
      ]
     },
     "execution_count": 30,
     "metadata": {},
     "output_type": "execute_result"
    }
   ],
   "source": [
    "np.cos"
   ]
  },
  {
   "cell_type": "code",
   "execution_count": 31,
   "metadata": {},
   "outputs": [],
   "source": [
    "from numpy.linalg import solve"
   ]
  },
  {
   "cell_type": "code",
   "execution_count": 32,
   "metadata": {},
   "outputs": [
    {
     "ename": "ModuleNotFoundError",
     "evalue": "No module named 'numpy.sin'",
     "output_type": "error",
     "traceback": [
      "\u001b[0;31m---------------------------------------------------------------------------\u001b[0m",
      "\u001b[0;31mModuleNotFoundError\u001b[0m                       Traceback (most recent call last)",
      "\u001b[0;32m<ipython-input-32-f93304fe3a17>\u001b[0m in \u001b[0;36m<module>\u001b[0;34m\u001b[0m\n\u001b[0;32m----> 1\u001b[0;31m \u001b[0;32mimport\u001b[0m \u001b[0mnumpy\u001b[0m\u001b[0;34m.\u001b[0m\u001b[0msin\u001b[0m \u001b[0;32mas\u001b[0m \u001b[0mnp_sin\u001b[0m\u001b[0;34m\u001b[0m\u001b[0;34m\u001b[0m\u001b[0m\n\u001b[0m",
      "\u001b[0;31mModuleNotFoundError\u001b[0m: No module named 'numpy.sin'"
     ]
    }
   ],
   "source": [
    "import numpy.sin as np_sin"
   ]
  },
  {
   "cell_type": "code",
   "execution_count": 33,
   "metadata": {},
   "outputs": [],
   "source": [
    "from math import *"
   ]
  },
  {
   "cell_type": "code",
   "execution_count": 36,
   "metadata": {},
   "outputs": [
    {
     "data": {
      "text/plain": [
       "2.718281828459045"
      ]
     },
     "execution_count": 36,
     "metadata": {},
     "output_type": "execute_result"
    }
   ],
   "source": [
    "exp(1)\n"
   ]
  },
  {
   "cell_type": "code",
   "execution_count": 37,
   "metadata": {},
   "outputs": [
    {
     "data": {
      "text/plain": [
       "4.242640687119285"
      ]
     },
     "execution_count": 37,
     "metadata": {},
     "output_type": "execute_result"
    }
   ],
   "source": [
    "hypot(3, 3)"
   ]
  },
  {
   "cell_type": "code",
   "execution_count": 28,
   "metadata": {},
   "outputs": [],
   "source": [
    "np_sin?"
   ]
  },
  {
   "cell_type": "markdown",
   "metadata": {},
   "source": [
    "* Les incontournables : `os` et `sys`\n",
    "\n",
    "* Les chemins de fichiers: `pathlib` \n",
    "\n",
    "* Itérer différemment: `itertools`. **very pythonic**\n",
    "\n",
    "* Des objets pratiques: le module `collections`. **very pythonic**\n",
    "\n",
    "* Exécuter des commandes système depuis python:  `subprocess`\n",
    "\n",
    "* Manipuler des fichiers et des archives: `shutil`\n",
    "\n",
    "\n",
    "Plus de détails [dans la doc officielle](https://docs.python.org/fr/3/tutorial/stdlib.html)"
   ]
  },
  {
   "cell_type": "code",
   "execution_count": 38,
   "metadata": {},
   "outputs": [],
   "source": [
    "import os\n",
    "import sys"
   ]
  },
  {
   "cell_type": "code",
   "execution_count": 40,
   "metadata": {},
   "outputs": [
    {
     "data": {
      "text/plain": [
       "'/home/humancoders'"
      ]
     },
     "execution_count": 40,
     "metadata": {},
     "output_type": "execute_result"
    }
   ],
   "source": [
    "os.environ['HOME']"
   ]
  },
  {
   "cell_type": "code",
   "execution_count": 41,
   "metadata": {},
   "outputs": [
    {
     "data": {
      "text/plain": [
       "'/home/humancoders/learn_python'"
      ]
     },
     "execution_count": 41,
     "metadata": {},
     "output_type": "execute_result"
    }
   ],
   "source": [
    "os.path.abspath(\".\")"
   ]
  },
  {
   "cell_type": "code",
   "execution_count": 63,
   "metadata": {},
   "outputs": [
    {
     "data": {
      "text/plain": [
       "0"
      ]
     },
     "execution_count": 63,
     "metadata": {},
     "output_type": "execute_result"
    }
   ],
   "source": [
    "os.system(\"touch test.txt\")"
   ]
  },
  {
   "cell_type": "code",
   "execution_count": 65,
   "metadata": {},
   "outputs": [],
   "source": [
    "import subprocess"
   ]
  },
  {
   "cell_type": "code",
   "execution_count": 66,
   "metadata": {},
   "outputs": [
    {
     "data": {
      "text/plain": [
       "CompletedProcess(args=['ls', '-a'], returncode=0)"
      ]
     },
     "execution_count": 66,
     "metadata": {},
     "output_type": "execute_result"
    }
   ],
   "source": [
    "subprocess.run(['ls', '-a'])"
   ]
  },
  {
   "cell_type": "code",
   "execution_count": 67,
   "metadata": {},
   "outputs": [],
   "source": [
    "import shutil"
   ]
  },
  {
   "cell_type": "code",
   "execution_count": 68,
   "metadata": {},
   "outputs": [
    {
     "data": {
      "text/plain": [
       "[('bztar', \"bzip2'ed tar-file\"),\n",
       " ('gztar', \"gzip'ed tar-file\"),\n",
       " ('tar', 'uncompressed tar file'),\n",
       " ('xztar', \"xz'ed tar-file\"),\n",
       " ('zip', 'ZIP file')]"
      ]
     },
     "execution_count": 68,
     "metadata": {},
     "output_type": "execute_result"
    }
   ],
   "source": [
    "shutil.get_archive_formats()"
   ]
  },
  {
   "cell_type": "code",
   "execution_count": 44,
   "metadata": {},
   "outputs": [
    {
     "data": {
      "text/plain": [
       "'/home/humancoders/learn_python/loop.svg'"
      ]
     },
     "execution_count": 44,
     "metadata": {},
     "output_type": "execute_result"
    }
   ],
   "source": [
    "os.path.join(os.path.abspath(\".\"), \"loop.svg\")"
   ]
  },
  {
   "cell_type": "code",
   "execution_count": 52,
   "metadata": {},
   "outputs": [
    {
     "data": {
      "text/plain": [
       "False"
      ]
     },
     "execution_count": 52,
     "metadata": {},
     "output_type": "execute_result"
    }
   ],
   "source": [
    "os.path.isdir(r'C:\\Users\\Jean Michel\\travail')"
   ]
  },
  {
   "cell_type": "code",
   "execution_count": null,
   "metadata": {},
   "outputs": [],
   "source": [
    "os.mkdir"
   ]
  },
  {
   "cell_type": "code",
   "execution_count": 53,
   "metadata": {},
   "outputs": [
    {
     "data": {
      "text/plain": [
       "'C:\\\\Users\\\\Jean Michel\\\\travail'"
      ]
     },
     "execution_count": 53,
     "metadata": {},
     "output_type": "execute_result"
    }
   ],
   "source": [
    "r'C:\\Users\\Jean Michel\\travail'"
   ]
  },
  {
   "cell_type": "code",
   "execution_count": 54,
   "metadata": {},
   "outputs": [],
   "source": [
    "from pathlib import Path"
   ]
  },
  {
   "cell_type": "code",
   "execution_count": 55,
   "metadata": {},
   "outputs": [],
   "source": [
    "pth = Path('.')/\"loop.svg\""
   ]
  },
  {
   "cell_type": "code",
   "execution_count": 57,
   "metadata": {},
   "outputs": [
    {
     "data": {
      "text/plain": [
       "PosixPath('/home/humancoders/learn_python/loop.svg')"
      ]
     },
     "execution_count": 57,
     "metadata": {},
     "output_type": "execute_result"
    }
   ],
   "source": [
    "pth.absolute()"
   ]
  },
  {
   "cell_type": "code",
   "execution_count": 60,
   "metadata": {},
   "outputs": [
    {
     "data": {
      "text/plain": [
       "'3.7.3 (default, Mar 27 2019, 22:11:17) \\n[GCC 7.3.0]'"
      ]
     },
     "execution_count": 60,
     "metadata": {},
     "output_type": "execute_result"
    }
   ],
   "source": [
    "sys.version"
   ]
  },
  {
   "cell_type": "code",
   "execution_count": 61,
   "metadata": {},
   "outputs": [
    {
     "data": {
      "text/plain": [
       "['/home/humancoders/learn_python',\n",
       " '/home/humancoders/miniconda3/lib/python37.zip',\n",
       " '/home/humancoders/miniconda3/lib/python3.7',\n",
       " '/home/humancoders/miniconda3/lib/python3.7/lib-dynload',\n",
       " '',\n",
       " '/home/humancoders/.local/lib/python3.7/site-packages',\n",
       " '/home/humancoders/miniconda3/lib/python3.7/site-packages',\n",
       " '/home/humancoders/miniconda3/lib/python3.7/site-packages/pandas-0.25.0rc0+55.g07d048828-py3.7-linux-x86_64.egg',\n",
       " '/home/humancoders/miniconda3/lib/python3.7/site-packages/reporter-0.0.1-py3.7.egg',\n",
       " '/home/humancoders/miniconda3/lib/python3.7/site-packages/IPython/extensions',\n",
       " '/home/humancoders/.ipython']"
      ]
     },
     "execution_count": 61,
     "metadata": {},
     "output_type": "execute_result"
    }
   ],
   "source": [
    "sys.path"
   ]
  },
  {
   "cell_type": "markdown",
   "metadata": {},
   "source": [
    "## Consolider son code\n",
    "\n",
    "\n",
    "### Les bonnes pratiques : [pep8](http://pep8.org).\n",
    "\n",
    "\n",
    "Exercice : vérifiez que votre code est PEP8 \n",
    "\n",
    "\n",
    "### Les exceptions :\n",
    "\n",
    "`try`, `except`, `raise` et `finally`.\n",
    "\n",
    "Les exceptions ne doivent jamais être passées en silence!\n",
    "\n",
    "\n",
    "\n",
    "> **Exercice**: passez un dictionnaire incomplet (sans la clef `firstname`) et gérer l'exception `KeyError`."
   ]
  },
  {
   "cell_type": "code",
   "execution_count": null,
   "metadata": {},
   "outputs": [],
   "source": []
  },
  {
   "cell_type": "markdown",
   "metadata": {},
   "source": [
    "### La gestion de contexte:\n",
    "\n",
    "`with` permet par exemple d'ouvir un fichier en s'assurant qu'il sera fermé après utilisation.\n",
    "\n",
    "\n",
    "> **Exercice** : Enregistrez la liste de dictionnaires dans un fichier `json`"
   ]
  },
  {
   "cell_type": "code",
   "execution_count": 90,
   "metadata": {},
   "outputs": [],
   "source": [
    "with open('authors.json', 'w') as json_file:\n",
    "    json.dump(authors, json_file, indent=4)\n",
    "\n"
   ]
  },
  {
   "cell_type": "code",
   "execution_count": 93,
   "metadata": {},
   "outputs": [
    {
     "name": "stdout",
     "output_type": "stream",
     "text": [
      "[\n",
      "    {\n",
      "        \"firstname\": \"John\",\n",
      "        \"lastname\": \"Lennon\",\n",
      "        \"birth_year\": 1940,\n",
      "        \"instru\": \"Vocals\"\n",
      "    },\n",
      "    {\n",
      "        \"firstname\": \"Paul\",\n",
      "        \"lastname\": \"McCartney\",\n",
      "        \"birth_year\": 1942,\n",
      "        \"instru\": \"Bass\"\n",
      "    },\n",
      "    {\n",
      "        \"lastname\": \"Harisson\",\n",
      "        \"birth_year\": 1943,\n",
      "        \"instru\": \"Bass\"\n",
      "    }\n",
      "]"
     ]
    }
   ],
   "source": [
    "with open(\"authors.json\", 'r') as json_input:\n",
    "    for line in json_input:\n",
    "        print(line, end='')\n",
    "    "
   ]
  },
  {
   "cell_type": "code",
   "execution_count": 105,
   "metadata": {},
   "outputs": [],
   "source": [
    "def _select(auth):\n",
    "    return {key: auth.get(key, \"\") \n",
    "            for key in ('firstname', 'lastname')}\n",
    "\n",
    "\n",
    "with open(\"authors.json\", 'r') as json_input:\n",
    "    authors = [_select(auth) for auth in json.load(json_input)]\n",
    "    "
   ]
  },
  {
   "cell_type": "code",
   "execution_count": 107,
   "metadata": {},
   "outputs": [],
   "source": [
    "now = datetime.datetime.today()"
   ]
  },
  {
   "cell_type": "code",
   "execution_count": 109,
   "metadata": {},
   "outputs": [
    {
     "data": {
      "text/plain": [
       "51"
      ]
     },
     "execution_count": 109,
     "metadata": {},
     "output_type": "execute_result"
    }
   ],
   "source": [
    "now.minute"
   ]
  },
  {
   "cell_type": "code",
   "execution_count": 111,
   "metadata": {},
   "outputs": [
    {
     "name": "stdout",
     "output_type": "stream",
     "text": [
      "1.13 µs ± 2.82 ns per loop (mean ± std. dev. of 7 runs, 1000000 loops each)\n"
     ]
    }
   ],
   "source": [
    "%timeit now = datetime.datetime.today()"
   ]
  },
  {
   "cell_type": "code",
   "execution_count": 110,
   "metadata": {},
   "outputs": [
    {
     "name": "stdout",
     "output_type": "stream",
     "text": [
      "END\n"
     ]
    }
   ],
   "source": [
    "while True:\n",
    "    now = datetime.datetime.today()\n",
    "    if now.minute == 55:\n",
    "        print('END')\n",
    "        break\n",
    "    time.sleep(10)"
   ]
  },
  {
   "cell_type": "code",
   "execution_count": 106,
   "metadata": {},
   "outputs": [
    {
     "name": "stdout",
     "output_type": "stream",
     "text": [
      "I am always executed\n",
      "I am always executed\n",
      "I am always executed\n"
     ]
    },
    {
     "data": {
      "text/plain": [
       "'Blagnac, le 21 November 2019\\n\\n### auteurs:\\n- John Lennon\\n- Paul McCartney\\n-  Harisson'"
      ]
     },
     "execution_count": 106,
     "metadata": {},
     "output_type": "execute_result"
    }
   ],
   "source": [
    "create_header(authors)"
   ]
  },
  {
   "cell_type": "code",
   "execution_count": 100,
   "metadata": {},
   "outputs": [
    {
     "data": {
      "text/plain": [
       "int"
      ]
     },
     "execution_count": 100,
     "metadata": {},
     "output_type": "execute_result"
    }
   ],
   "source": [
    "type(authors[0]['birth_year'])"
   ]
  },
  {
   "cell_type": "markdown",
   "metadata": {},
   "source": [
    "### `git` en 2 minutes"
   ]
  },
  {
   "cell_type": "markdown",
   "metadata": {},
   "source": [
    "```bash\n",
    "git clone https://github.com/glyg/reporter.git\n",
    "# Do some work\n",
    "# ...\n",
    "# Register your modifications\n",
    "git commit -am \"An informative commit message\"\n",
    "# Publish your modifications on the remote server\n",
    "git push origin\n",
    "# Grab work done by others\n",
    "git pull origin\n",
    "# repeat\n",
    "\n",
    "```\n",
    "\n",
    "\n",
    "<hr/>"
   ]
  },
  {
   "cell_type": "markdown",
   "metadata": {},
   "source": [
    "### Structure d'un paquet\n",
    "\n",
    "```\n",
    "reporter/\n",
    "  |_ README.md\n",
    "  |_ .git/\n",
    "  |_ setup.py\n",
    "  |_ reporter/\n",
    "      |_ __init__.py\n",
    "      |_ generator.py\n",
    "      |_ header.py\n",
    "  |_ data/\n",
    "      |_ header_image.png\n",
    "```\n",
    "\n",
    "> Remarque: [cookiecutter](https://cookiecutter.readthedocs.io/en/latest/usage.html) est un bon outil pour générer une architecture de projet pré-définie.\n",
    "\n",
    "### Installer son code depuis le source\n",
    "\n",
    "![Installation d'un module](module.svg)\n",
    "\n",
    "<hr/>\n",
    "\n",
    "> Exercice : récupérez reporter.git, copiez `create_header` dans header.py et installez le module."
   ]
  },
  {
   "cell_type": "code",
   "execution_count": null,
   "metadata": {},
   "outputs": [],
   "source": []
  },
  {
   "cell_type": "markdown",
   "metadata": {},
   "source": [
    "### Installer des modules tiers \n",
    "\n",
    "* Comprendre le sys.path, les modules et les packages.\n",
    "\n",
    "\n",
    "* Les environnements virtuels.\n",
    "`venv` et `virtualenv` ou `conda`\n",
    "\n",
    "> N'installez jamais de paquets en tant qu'administrateur!\n",
    "\n",
    "![Don't install packages as root](https://imgs.xkcd.com/comics/python_environment.png)\n",
    "\n",
    "* Installer un module tiers avec pip (et peut être conda).\n",
    "\n",
    "\n"
   ]
  },
  {
   "cell_type": "code",
   "execution_count": 1,
   "metadata": {},
   "outputs": [],
   "source": [
    "import sys"
   ]
  },
  {
   "cell_type": "code",
   "execution_count": 2,
   "metadata": {},
   "outputs": [],
   "source": [
    "from reporter import header"
   ]
  },
  {
   "cell_type": "code",
   "execution_count": 3,
   "metadata": {},
   "outputs": [],
   "source": [
    "john = {\n",
    "    'firstname': 'John',\n",
    "     'lastname': 'Lennon',\n",
    "     'birth_year': 1940,\n",
    "     'instru': 'Vocals'\n",
    "}\n",
    "paul = {\n",
    "    'firstname': 'Paul',\n",
    "     'lastname': 'McCartney',\n",
    "     'birth_year': 1942,\n",
    "     'instru': 'Bass'\n",
    "}\n",
    "\n",
    "george = {\n",
    "    #'firstname': 'George',\n",
    "    'lastname': 'Harisson',\n",
    "    \n",
    "     'birth_year': 1943,\n",
    "     'instru': 'Bass'\n",
    "}\n",
    "\n",
    "authors = [john, paul, george]\n"
   ]
  },
  {
   "cell_type": "code",
   "execution_count": 17,
   "metadata": {},
   "outputs": [],
   "source": [
    "text = header.create_header(authors)"
   ]
  },
  {
   "cell_type": "code",
   "execution_count": 9,
   "metadata": {},
   "outputs": [
    {
     "data": {
      "text/plain": [
       "[{'firstname': 'John',\n",
       "  'lastname': 'Lennon',\n",
       "  'birth_year': 1940,\n",
       "  'instru': 'Vocals'},\n",
       " {'firstname': 'Paul',\n",
       "  'lastname': 'McCartney',\n",
       "  'birth_year': 1942,\n",
       "  'instru': 'Bass'},\n",
       " {'lastname': 'Harisson', 'birth_year': 1943, 'instru': 'Bass'}]"
      ]
     },
     "execution_count": 9,
     "metadata": {},
     "output_type": "execute_result"
    }
   ],
   "source": [
    "authors"
   ]
  },
  {
   "cell_type": "code",
   "execution_count": 13,
   "metadata": {},
   "outputs": [],
   "source": [
    "text = [\"e\", \"r\"]"
   ]
  },
  {
   "cell_type": "code",
   "execution_count": 14,
   "metadata": {},
   "outputs": [
    {
     "ename": "TypeError",
     "evalue": "text is not a string",
     "output_type": "error",
     "traceback": [
      "\u001b[0;31m---------------------------------------------------------------------------\u001b[0m",
      "\u001b[0;31mTypeError\u001b[0m                                 Traceback (most recent call last)",
      "\u001b[0;32m<ipython-input-14-ee0edf77851a>\u001b[0m in \u001b[0;36m<module>\u001b[0;34m\u001b[0m\n\u001b[1;32m      1\u001b[0m \u001b[0;32mif\u001b[0m \u001b[0;32mnot\u001b[0m \u001b[0misinstance\u001b[0m\u001b[0;34m(\u001b[0m\u001b[0mtext\u001b[0m\u001b[0;34m,\u001b[0m \u001b[0mstr\u001b[0m\u001b[0;34m)\u001b[0m\u001b[0;34m:\u001b[0m\u001b[0;34m\u001b[0m\u001b[0;34m\u001b[0m\u001b[0m\n\u001b[0;32m----> 2\u001b[0;31m     \u001b[0;32mraise\u001b[0m \u001b[0mTypeError\u001b[0m\u001b[0;34m(\u001b[0m\u001b[0;34m'text is not a string'\u001b[0m\u001b[0;34m)\u001b[0m\u001b[0;34m\u001b[0m\u001b[0;34m\u001b[0m\u001b[0m\n\u001b[0m\u001b[1;32m      3\u001b[0m \u001b[0;34m\u001b[0m\u001b[0m\n\u001b[1;32m      4\u001b[0m \u001b[0;34m\u001b[0m\u001b[0m\n",
      "\u001b[0;31mTypeError\u001b[0m: text is not a string"
     ]
    }
   ],
   "source": [
    "if not isinstance(text, str):\n",
    "    raise TypeError('text is not a string')\n",
    "\n",
    "    "
   ]
  },
  {
   "cell_type": "code",
   "execution_count": 18,
   "metadata": {},
   "outputs": [],
   "source": [
    "assert isinstance(text, str)\n"
   ]
  },
  {
   "cell_type": "code",
   "execution_count": 28,
   "metadata": {},
   "outputs": [],
   "source": [
    "\n",
    "\n",
    "def test_create_header():\n",
    "    authors = [\n",
    "        {'firstname': 'John',\n",
    "          'lastname': 'Lennon',\n",
    "          'birth_year': 1940,\n",
    "          'instru': 'Vocals'},\n",
    "         {'firstname': 'Paul',\n",
    "          'lastname': 'McCartney',\n",
    "          'birth_year': 1942,\n",
    "          'instru': 'Bass'},\n",
    "    ]\n",
    "    \n",
    "    text = header.create_header(authors)\n",
    "    assert isinstance(text, str)\n",
    "    \n",
    "import pytest\n",
    "\n",
    "def test_create_header_missing_lastname():\n",
    "    authors = [\n",
    "        {'firstname': 'John',\n",
    "          'lastname': 'Lennon',\n",
    "          'birth_year': 1940,\n",
    "          'instru': 'Vocals'},\n",
    "         {'firstname': 'Paul',\n",
    "          'birth_year': 1942,\n",
    "          'instru': 'Bass'},\n",
    "    ]\n",
    "    \n",
    "    with pytest.warns(UserWarning):\n",
    "        text = header.create_header(authors)\n",
    "        \n",
    "    "
   ]
  },
  {
   "cell_type": "markdown",
   "metadata": {},
   "source": [
    "tox"
   ]
  },
  {
   "cell_type": "code",
   "execution_count": 27,
   "metadata": {},
   "outputs": [
    {
     "ename": "Failed",
     "evalue": "DID NOT WARN. No warnings of type (<class 'UserWarning'>,) was emitted. The list of emitted warnings is: [].",
     "output_type": "error",
     "traceback": [
      "\u001b[0;31m---------------------------------------------------------------------------\u001b[0m",
      "\u001b[0;31mFailed\u001b[0m                                    Traceback (most recent call last)",
      "\u001b[0;32m<ipython-input-27-25982bdf6aad>\u001b[0m in \u001b[0;36m<module>\u001b[0;34m\u001b[0m\n\u001b[0;32m----> 1\u001b[0;31m \u001b[0mtest_create_header_missing_lastname\u001b[0m\u001b[0;34m(\u001b[0m\u001b[0;34m)\u001b[0m\u001b[0;34m\u001b[0m\u001b[0;34m\u001b[0m\u001b[0m\n\u001b[0m",
      "\u001b[0;32m<ipython-input-26-e866a607e972>\u001b[0m in \u001b[0;36mtest_create_header_missing_lastname\u001b[0;34m()\u001b[0m\n\u001b[1;32m     29\u001b[0m \u001b[0;34m\u001b[0m\u001b[0m\n\u001b[1;32m     30\u001b[0m     \u001b[0;32mwith\u001b[0m \u001b[0mpytest\u001b[0m\u001b[0;34m.\u001b[0m\u001b[0mwarns\u001b[0m\u001b[0;34m(\u001b[0m\u001b[0mUserWarning\u001b[0m\u001b[0;34m)\u001b[0m\u001b[0;34m:\u001b[0m\u001b[0;34m\u001b[0m\u001b[0;34m\u001b[0m\u001b[0m\n\u001b[0;32m---> 31\u001b[0;31m         \u001b[0mtext\u001b[0m \u001b[0;34m=\u001b[0m \u001b[0mheader\u001b[0m\u001b[0;34m.\u001b[0m\u001b[0mcreate_header\u001b[0m\u001b[0;34m(\u001b[0m\u001b[0mauthors\u001b[0m\u001b[0;34m)\u001b[0m\u001b[0;34m\u001b[0m\u001b[0;34m\u001b[0m\u001b[0m\n\u001b[0m\u001b[1;32m     32\u001b[0m \u001b[0;34m\u001b[0m\u001b[0m\n\u001b[1;32m     33\u001b[0m \u001b[0;34m\u001b[0m\u001b[0m\n",
      "\u001b[0;32m~/miniconda3/lib/python3.7/site-packages/_pytest/recwarn.py\u001b[0m in \u001b[0;36m__exit__\u001b[0;34m(self, *exc_info)\u001b[0m\n\u001b[1;32m    194\u001b[0m                         \u001b[0;34m\"DID NOT WARN. No warnings of type {} was emitted. \"\u001b[0m\u001b[0;34m\u001b[0m\u001b[0;34m\u001b[0m\u001b[0m\n\u001b[1;32m    195\u001b[0m                         \"The list of emitted warnings is: {}.\".format(\n\u001b[0;32m--> 196\u001b[0;31m                             \u001b[0mself\u001b[0m\u001b[0;34m.\u001b[0m\u001b[0mexpected_warning\u001b[0m\u001b[0;34m,\u001b[0m \u001b[0;34m[\u001b[0m\u001b[0meach\u001b[0m\u001b[0;34m.\u001b[0m\u001b[0mmessage\u001b[0m \u001b[0;32mfor\u001b[0m \u001b[0meach\u001b[0m \u001b[0;32min\u001b[0m \u001b[0mself\u001b[0m\u001b[0;34m]\u001b[0m\u001b[0;34m\u001b[0m\u001b[0;34m\u001b[0m\u001b[0m\n\u001b[0m\u001b[1;32m    197\u001b[0m                         )\n\u001b[1;32m    198\u001b[0m                     )\n",
      "\u001b[0;32m~/miniconda3/lib/python3.7/site-packages/_pytest/outcomes.py\u001b[0m in \u001b[0;36mfail\u001b[0;34m(msg, pytrace)\u001b[0m\n\u001b[1;32m    109\u001b[0m     \"\"\"\n\u001b[1;32m    110\u001b[0m     \u001b[0m__tracebackhide__\u001b[0m \u001b[0;34m=\u001b[0m \u001b[0;32mTrue\u001b[0m\u001b[0;34m\u001b[0m\u001b[0;34m\u001b[0m\u001b[0m\n\u001b[0;32m--> 111\u001b[0;31m     \u001b[0;32mraise\u001b[0m \u001b[0mFailed\u001b[0m\u001b[0;34m(\u001b[0m\u001b[0mmsg\u001b[0m\u001b[0;34m=\u001b[0m\u001b[0mmsg\u001b[0m\u001b[0;34m,\u001b[0m \u001b[0mpytrace\u001b[0m\u001b[0;34m=\u001b[0m\u001b[0mpytrace\u001b[0m\u001b[0;34m)\u001b[0m\u001b[0;34m\u001b[0m\u001b[0;34m\u001b[0m\u001b[0m\n\u001b[0m\u001b[1;32m    112\u001b[0m \u001b[0;34m\u001b[0m\u001b[0m\n\u001b[1;32m    113\u001b[0m \u001b[0;34m\u001b[0m\u001b[0m\n",
      "\u001b[0;31mFailed\u001b[0m: DID NOT WARN. No warnings of type (<class 'UserWarning'>,) was emitted. The list of emitted warnings is: []."
     ]
    }
   ],
   "source": [
    "test_create_header_missing_lastname()\n"
   ]
  },
  {
   "cell_type": "code",
   "execution_count": 21,
   "metadata": {},
   "outputs": [
    {
     "data": {
      "text/plain": [
       "True"
      ]
     },
     "execution_count": 21,
     "metadata": {},
     "output_type": "execute_result"
    }
   ],
   "source": [
    "'au' in 'Guillaume'"
   ]
  },
  {
   "cell_type": "code",
   "execution_count": 22,
   "metadata": {},
   "outputs": [
    {
     "data": {
      "text/plain": [
       "False"
      ]
     },
     "execution_count": 22,
     "metadata": {},
     "output_type": "execute_result"
    }
   ],
   "source": [
    "'nu' in 'Guillaume'"
   ]
  },
  {
   "cell_type": "markdown",
   "metadata": {},
   "source": [
    "pyflakes, pylint"
   ]
  },
  {
   "cell_type": "code",
   "execution_count": 114,
   "metadata": {},
   "outputs": [
    {
     "data": {
      "text/plain": [
       "['/home/humancoders/learn_python',\n",
       " '/home/humancoders/miniconda3/lib/python37.zip',\n",
       " '/home/humancoders/miniconda3/lib/python3.7',\n",
       " '/home/humancoders/miniconda3/lib/python3.7/lib-dynload',\n",
       " '',\n",
       " '/home/humancoders/.local/lib/python3.7/site-packages',\n",
       " '/home/humancoders/miniconda3/lib/python3.7/site-packages',\n",
       " '/home/humancoders/miniconda3/lib/python3.7/site-packages/pandas-0.25.0rc0+55.g07d048828-py3.7-linux-x86_64.egg',\n",
       " '/home/humancoders/miniconda3/lib/python3.7/site-packages/reporter-0.0.1-py3.7.egg',\n",
       " '/home/humancoders/miniconda3/lib/python3.7/site-packages/IPython/extensions',\n",
       " '/home/humancoders/.ipython']"
      ]
     },
     "execution_count": 114,
     "metadata": {},
     "output_type": "execute_result"
    }
   ],
   "source": [
    "sys.path"
   ]
  },
  {
   "cell_type": "markdown",
   "metadata": {},
   "source": [
    "### De Python 2 à Python 3\n",
    "\n",
    "\n",
    "Python 2 le 1er janvier 2020:\n",
    "\n",
    "![python 2020](yoda.gif)\n",
    "\n",
    "\n",
    "* Les principales différences.\n",
    "\n",
    "* Écrire du code compatible pour les deux versions (sixer).\n",
    "\n",
    "* Traduire du code Python 2 en Python 3: 2to3."
   ]
  }
 ],
 "metadata": {
  "kernelspec": {
   "display_name": "Python 3",
   "language": "python",
   "name": "python3"
  },
  "language_info": {
   "codemirror_mode": {
    "name": "ipython",
    "version": 3
   },
   "file_extension": ".py",
   "mimetype": "text/x-python",
   "name": "python",
   "nbconvert_exporter": "python",
   "pygments_lexer": "ipython3",
   "version": "3.7.3"
  }
 },
 "nbformat": 4,
 "nbformat_minor": 2
}
