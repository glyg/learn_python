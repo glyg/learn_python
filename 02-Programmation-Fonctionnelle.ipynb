{
 "cells": [
  {
   "cell_type": "markdown",
   "metadata": {
    "slideshow": {
     "slide_type": "slide"
    }
   },
   "source": [
    "\n",
    "### Le Zen de Python\n",
    "\n",
    "![Zen](https://media.giphy.com/media/3o6ZsYMuMkxBNiy7pC/giphy.gif)\n"
   ]
  },
  {
   "cell_type": "code",
   "execution_count": null,
   "metadata": {},
   "outputs": [],
   "source": [
    "import this"
   ]
  },
  {
   "cell_type": "markdown",
   "metadata": {
    "slideshow": {
     "slide_type": "slide"
    }
   },
   "source": [
    "\n",
    "\n",
    "### Introduction aux  fonctions\n",
    "\n",
    "* Notion de fonction et d'argument\n",
    "\n",
    "* Définir une nouvelle fonction avec `def`\n",
    "\n",
    "\n",
    "![A function and its arguments](function.svg)"
   ]
  },
  {
   "cell_type": "code",
   "execution_count": null,
   "metadata": {},
   "outputs": [],
   "source": []
  },
  {
   "cell_type": "markdown",
   "metadata": {},
   "source": [
    "### L'introspection (type, dir, help, id)\n"
   ]
  },
  {
   "cell_type": "code",
   "execution_count": null,
   "metadata": {},
   "outputs": [],
   "source": []
  },
  {
   "cell_type": "markdown",
   "metadata": {},
   "source": [
    "# Le fil rouge - un petit outil de _reporting_\n",
    "\n",
    "\n",
    "![Schéma fonctionnel de notre outil](reporter.svg)\n"
   ]
  },
  {
   "cell_type": "markdown",
   "metadata": {},
   "source": []
  },
  {
   "cell_type": "markdown",
   "metadata": {},
   "source": [
    "\n",
    "\n",
    "### Les fonctions (en détail)\n",
    "\n",
    "* Les paramètres positionnels et paramètres nommés.\n",
    "\n",
    "De l'importance des bons noms de variable.\n",
    "\n",
    "\n",
    "* La documentation en ligne et les docstrings.\n",
    "\n",
    "Mieux vaut tout de suite que jamais. Doctests, les tests à l'intérieur des fonctions.\n",
    "\n",
    "\n",
    "* La portée des variables.\n",
    "\n",
    "\n",
    "* La notation `*args` et `**kwargs`.\n",
    "\n",
    "Ne pas abuser!\n"
   ]
  },
  {
   "cell_type": "markdown",
   "metadata": {},
   "source": [
    "<hr/>\n",
    "\n",
    ">**Exercice**:\n",
    ">\n",
    ">Créer la fonction `create_header`.\n",
    ">\n",
    ">Cette fonction prend comme unique _argument_ une **liste de dictionnaires** représentant les auteurs et comprenant chacun les clefs `\"first\"` et `\"last\"`. Elle retourne une **chaîne de caractères** comme indiquée ci-dessous:\n"
   ]
  },
  {
   "cell_type": "raw",
   "metadata": {},
   "source": [
    "Paris, le 15/01/2019\n",
    "\n",
    "### auteurs:\n",
    "\n",
    "- John Lennon\n",
    "- Paul McCartney\n"
   ]
  },
  {
   "cell_type": "markdown",
   "metadata": {},
   "source": [
    "### Un peu de stratégie:\n",
    "\n",
    "- On peut utiliser le module de la bibliothèque standard `datetime` pour récupérer la date\n",
    "- On peut commencer par créer une _liste de chaînes de caractères_ pour chaque ligne du résultat:\n",
    "Une fois cette liste complète, on pourra utiliser la méthode de chaîne de caractère `join` pour créer la chaîne complète.\n"
   ]
  },
  {
   "cell_type": "code",
   "execution_count": null,
   "metadata": {},
   "outputs": [],
   "source": []
  }
 ],
 "metadata": {
  "kernelspec": {
   "display_name": "Python 3",
   "language": "python",
   "name": "python3"
  },
  "language_info": {
   "codemirror_mode": {
    "name": "ipython",
    "version": 3
   },
   "file_extension": ".py",
   "mimetype": "text/x-python",
   "name": "python",
   "nbconvert_exporter": "python",
   "pygments_lexer": "ipython3",
   "version": "3.7.3"
  }
 },
 "nbformat": 4,
 "nbformat_minor": 2
}
