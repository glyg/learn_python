{
 "cells": [
  {
   "cell_type": "markdown",
   "metadata": {},
   "source": [
    "# Une introduction à la manipulation de données en Python\n",
    "\n",
    "* l'écosystème scipy\n",
    "\n",
    "* les bibliothèques numpy scipy et matplotlib\n",
    "L'objet `ndarray`, la notion de vectorisation.\n",
    "\n",
    "* Lecture d'un fichier excel avec pandas et xlrd\n",
    "La `DataFrame` et les `Series` de pandas \n"
   ]
  },
  {
   "cell_type": "markdown",
   "metadata": {},
   "source": [
    "# L'écosystème scientifique Python\n",
    "\n",
    "\n",
    "\n",
    "![the scipy ecosystem](scipy_ecosystem.png)\n",
    "\n",
    "\n",
    "Toutes ces bibliothèques partagent une représentation de données communes, l'`array` numpy, mais aussi une même culture et communauté.\n",
    "\n",
    "\n",
    "\n",
    "\n",
    "\n",
    "\n",
    "##  Programmation parallèle ou concurrente\n",
    "\n",
    "- [`multprocessing`](https://docs.python.org/3/library/multiprocessing.html) & [`threading`](https://docs.python.org/3/library/threading.html)\n",
    "- [Dask](https://dask.org)\n",
    "- [ipyparallel](https://ipyparallel.readthedocs.io/en/latest/)\n",
    "\n",
    "\n",
    "## La physique\n",
    "\n",
    "- Algèbre linéaire, RNG, etc.: [`numpy`](https://docs.scipy.org/doc/scipy/reference/)\n",
    "- ODE, fonction spéciales, interpolation, géométrie etc. [`scipy`](https://docs.scipy.org/doc/scipy/reference/)\n",
    "- Éléments finis: [`SfePy`](http://sfepy.org/doc-devel/index.html)\n",
    "- Mécanique des fluides: [CFD Python par Lorena Barba](https://github.com/barbagroup/CFDPython.git)\n",
    "\n",
    "\n",
    "## La chimie\n",
    "\n",
    "- [Pymol](https://pymol.org)\n",
    "- [Python chemistry](https://pythoninchemistry.org/)\n",
    "\n",
    "\n",
    "## Traitement d'images et vision par ordinateur\n",
    "\n",
    "- [scikit-image](https://scikit-image.org)\n",
    "- [Opencv](https://opencv.org)\n",
    "\n",
    "## Apprentissage\n",
    "\n",
    "- [scikit-learn](https://scikit-learn.org)\n",
    "\n",
    "## Statistiques\n",
    "\n",
    "- les bases: [`scipy.stats`](https://docs.scipy.org/doc/scipy/reference/tutorial/stats.html)\n",
    "- [statsmodel](https://www.statsmodels.org/stable/index.html)\n",
    "- [PyMCMC](https://pymcmc.readthedocs.io/en/latest/)\n",
    "\n",
    "\n",
    "## Les distributions\n",
    "\n",
    "- [Canopy](https://www.enthought.com/product/canopy/)\n",
    "- [Anaconda](https://www.anaconda.com)\n"
   ]
  },
  {
   "cell_type": "code",
   "execution_count": 1,
   "metadata": {
    "scrolled": true
   },
   "outputs": [],
   "source": [
    "import numpy as np\n",
    "import pandas as pd\n",
    "import matplotlib.pyplot as plt\n",
    "%matplotlib inline\n",
    "\n"
   ]
  },
  {
   "cell_type": "code",
   "execution_count": 2,
   "metadata": {},
   "outputs": [],
   "source": [
    "my_array = np.array([1, 2, 3])"
   ]
  },
  {
   "cell_type": "code",
   "execution_count": 3,
   "metadata": {},
   "outputs": [
    {
     "data": {
      "text/plain": [
       "array([1, 2, 3])"
      ]
     },
     "execution_count": 3,
     "metadata": {},
     "output_type": "execute_result"
    }
   ],
   "source": [
    "my_array"
   ]
  },
  {
   "cell_type": "code",
   "execution_count": 4,
   "metadata": {},
   "outputs": [],
   "source": [
    "my_list = list(range(10, 10000000, 3))"
   ]
  },
  {
   "cell_type": "code",
   "execution_count": 5,
   "metadata": {},
   "outputs": [],
   "source": [
    "my_array = np.array(my_list)"
   ]
  },
  {
   "cell_type": "code",
   "execution_count": 6,
   "metadata": {},
   "outputs": [
    {
     "data": {
      "text/plain": [
       "[10, 13, 16, 19, 22, 25, 28, 31, 34, 37]"
      ]
     },
     "execution_count": 6,
     "metadata": {},
     "output_type": "execute_result"
    }
   ],
   "source": [
    "my_list[:10]"
   ]
  },
  {
   "cell_type": "code",
   "execution_count": 7,
   "metadata": {},
   "outputs": [
    {
     "data": {
      "text/plain": [
       "array([10, 13, 16, 19, 22, 25, 28, 31, 34, 37])"
      ]
     },
     "execution_count": 7,
     "metadata": {},
     "output_type": "execute_result"
    }
   ],
   "source": [
    "my_array[:10]"
   ]
  },
  {
   "cell_type": "code",
   "execution_count": 12,
   "metadata": {},
   "outputs": [],
   "source": [
    "my_list2 = [v**2 for v in my_list]"
   ]
  },
  {
   "cell_type": "code",
   "execution_count": 14,
   "metadata": {},
   "outputs": [],
   "source": [
    "my_array2 = my_array**2"
   ]
  },
  {
   "cell_type": "code",
   "execution_count": 15,
   "metadata": {},
   "outputs": [
    {
     "name": "stdout",
     "output_type": "stream",
     "text": [
      "858 ms ± 6.81 ms per loop (mean ± std. dev. of 7 runs, 1 loop each)\n"
     ]
    }
   ],
   "source": [
    "%timeit [v**2 for v in my_list]"
   ]
  },
  {
   "cell_type": "code",
   "execution_count": 16,
   "metadata": {},
   "outputs": [
    {
     "name": "stdout",
     "output_type": "stream",
     "text": [
      "4.41 ms ± 491 µs per loop (mean ± std. dev. of 7 runs, 100 loops each)\n"
     ]
    }
   ],
   "source": [
    "%timeit my_array**2"
   ]
  },
  {
   "cell_type": "code",
   "execution_count": 17,
   "metadata": {},
   "outputs": [
    {
     "name": "stdout",
     "output_type": "stream",
     "text": [
      "955 ms ± 7.06 ms per loop (mean ± std. dev. of 7 runs, 1 loop each)\n"
     ]
    }
   ],
   "source": [
    "%timeit np.array([a**2 for a in my_array])"
   ]
  },
  {
   "cell_type": "code",
   "execution_count": 19,
   "metadata": {},
   "outputs": [
    {
     "data": {
      "text/plain": [
       "dtype('int64')"
      ]
     },
     "execution_count": 19,
     "metadata": {},
     "output_type": "execute_result"
    }
   ],
   "source": [
    "my_array.dtype"
   ]
  },
  {
   "cell_type": "code",
   "execution_count": 20,
   "metadata": {},
   "outputs": [
    {
     "data": {
      "text/plain": [
       "(3333330,)"
      ]
     },
     "execution_count": 20,
     "metadata": {},
     "output_type": "execute_result"
    }
   ],
   "source": [
    "my_array.shape"
   ]
  },
  {
   "cell_type": "code",
   "execution_count": 21,
   "metadata": {},
   "outputs": [],
   "source": [
    "my_array3 = my_array.reshape([111111, 10, 3])"
   ]
  },
  {
   "cell_type": "code",
   "execution_count": 28,
   "metadata": {},
   "outputs": [
    {
     "data": {
      "text/plain": [
       "(111111, 10, 3)"
      ]
     },
     "execution_count": 28,
     "metadata": {},
     "output_type": "execute_result"
    }
   ],
   "source": [
    "my_array3.shape"
   ]
  },
  {
   "cell_type": "code",
   "execution_count": 23,
   "metadata": {},
   "outputs": [],
   "source": [
    "my_square = np.array([[2, 0], [0, 2]]) "
   ]
  },
  {
   "cell_type": "code",
   "execution_count": 24,
   "metadata": {},
   "outputs": [
    {
     "data": {
      "text/plain": [
       "(2, 2)"
      ]
     },
     "execution_count": 24,
     "metadata": {},
     "output_type": "execute_result"
    }
   ],
   "source": [
    "my_square.shape"
   ]
  },
  {
   "cell_type": "code",
   "execution_count": 25,
   "metadata": {},
   "outputs": [
    {
     "data": {
      "text/plain": [
       "array([[2, 0],\n",
       "       [0, 2]])"
      ]
     },
     "execution_count": 25,
     "metadata": {},
     "output_type": "execute_result"
    }
   ],
   "source": [
    "list(my_square"
   ]
  },
  {
   "cell_type": "code",
   "execution_count": 29,
   "metadata": {},
   "outputs": [
    {
     "data": {
      "text/plain": [
       "array([[0., 0., 0., 0., 0., 0., 0., 0., 0., 0.],\n",
       "       [0., 0., 0., 0., 0., 0., 0., 0., 0., 0.],\n",
       "       [0., 0., 0., 0., 0., 0., 0., 0., 0., 0.],\n",
       "       [0., 0., 0., 0., 0., 0., 0., 0., 0., 0.],\n",
       "       [0., 0., 0., 0., 0., 0., 0., 0., 0., 0.],\n",
       "       [0., 0., 0., 0., 0., 0., 0., 0., 0., 0.],\n",
       "       [0., 0., 0., 0., 0., 0., 0., 0., 0., 0.],\n",
       "       [0., 0., 0., 0., 0., 0., 0., 0., 0., 0.],\n",
       "       [0., 0., 0., 0., 0., 0., 0., 0., 0., 0.],\n",
       "       [0., 0., 0., 0., 0., 0., 0., 0., 0., 0.]])"
      ]
     },
     "execution_count": 29,
     "metadata": {},
     "output_type": "execute_result"
    }
   ],
   "source": [
    "np.zeros((10, 10))"
   ]
  },
  {
   "cell_type": "code",
   "execution_count": 31,
   "metadata": {},
   "outputs": [
    {
     "data": {
      "text/plain": [
       "array([[[1., 1.],\n",
       "        [1., 1.],\n",
       "        [1., 1.],\n",
       "        [1., 1.]],\n",
       "\n",
       "       [[1., 1.],\n",
       "        [1., 1.],\n",
       "        [1., 1.],\n",
       "        [1., 1.]],\n",
       "\n",
       "       [[1., 1.],\n",
       "        [1., 1.],\n",
       "        [1., 1.],\n",
       "        [1., 1.]]])"
      ]
     },
     "execution_count": 31,
     "metadata": {},
     "output_type": "execute_result"
    }
   ],
   "source": [
    "np.ones((3, 4, 2))"
   ]
  },
  {
   "cell_type": "code",
   "execution_count": 33,
   "metadata": {},
   "outputs": [],
   "source": [
    "noisy = np.random.normal(scale=1, size=(256, 256))"
   ]
  },
  {
   "cell_type": "code",
   "execution_count": 37,
   "metadata": {},
   "outputs": [
    {
     "data": {
      "text/plain": [
       "array([ 2. ,  2.3,  2.6,  2.9,  3.2,  3.5,  3.8,  4.1,  4.4,  4.7,  5. ,\n",
       "        5.3,  5.6,  5.9,  6.2,  6.5,  6.8,  7.1,  7.4,  7.7,  8. ,  8.3,\n",
       "        8.6,  8.9,  9.2,  9.5,  9.8, 10.1, 10.4, 10.7, 11. , 11.3, 11.6,\n",
       "       11.9])"
      ]
     },
     "execution_count": 37,
     "metadata": {},
     "output_type": "execute_result"
    }
   ],
   "source": [
    "np.arange(2, 12, .3)"
   ]
  },
  {
   "cell_type": "code",
   "execution_count": 39,
   "metadata": {},
   "outputs": [],
   "source": []
  },
  {
   "cell_type": "markdown",
   "metadata": {},
   "source": [
    "$$f(t) = K\\frac{1}{1+ae^{-rt}} $$"
   ]
  },
  {
   "cell_type": "code",
   "execution_count": null,
   "metadata": {},
   "outputs": [],
   "source": [
    "np.exp()"
   ]
  },
  {
   "cell_type": "code",
   "execution_count": 9,
   "metadata": {},
   "outputs": [],
   "source": [
    "def verhulst(t, K=1, a=1, r=1):\n",
    "    \"\"\"Logistic\n",
    "    \n",
    "    ..math:: \n",
    "    f(t) = K\\frac{1}{1+ae^{-rt}}\n",
    "    \n",
    "    \"\"\"\n",
    "    return K * 1 / (1 + a*np.exp(-r*t))\n",
    "    "
   ]
  },
  {
   "cell_type": "code",
   "execution_count": 10,
   "metadata": {},
   "outputs": [
    {
     "data": {
      "text/plain": [
       "array([0.00669285, 0.00672617, 0.00675966, ..., 0.99324034, 0.99327383,\n",
       "       0.99330715])"
      ]
     },
     "execution_count": 10,
     "metadata": {},
     "output_type": "execute_result"
    }
   ],
   "source": [
    "ts = np.linspace(-5, 5, 2001)\n",
    "verhulst(ts)"
   ]
  },
  {
   "cell_type": "code",
   "execution_count": 11,
   "metadata": {},
   "outputs": [
    {
     "data": {
      "image/png": "[encoded data removed]",
      "text/plain": [
       "<Figure size 432x288 with 1 Axes>"
      ]
     },
     "metadata": {
      "needs_background": "light"
     },
     "output_type": "display_data"
    }
   ],
   "source": [
    "for r in np.linspace(1, 8, 20):\n",
    "    plt.plot(ts, verhulst(ts, r=r), lw=1, c=\"k\", alpha=0.3)"
   ]
  },
  {
   "cell_type": "code",
   "execution_count": 15,
   "metadata": {},
   "outputs": [
    {
     "data": {
      "image/png": "[encoded data removed]",
      "text/plain": [
       "<Figure size 360x360 with 1 Axes>"
      ]
     },
     "metadata": {
      "needs_background": "light"
     },
     "output_type": "display_data"
    }
   ],
   "source": [
    "fig, ax = plt.subplots()\n",
    "ys = verhulst(ts, r=4)\n",
    "ax.plot(ts, ys)\n",
    "\n",
    "\n",
    "ax.plot(ts, verhulst(ts, r=2))\n",
    "\n",
    "ax.set_title(\"Verhulst for r=4\")\n",
    "ax.set_xlabel(\"Time (s)\")\n",
    "ax.set_ylabel(\"Response (V)\")\n",
    "\n",
    "fig.set_size_inches(5, 5)\n",
    "fig.savefig('verhulst.png', dpi=300)"
   ]
  },
  {
   "cell_type": "code",
   "execution_count": 16,
   "metadata": {},
   "outputs": [],
   "source": [
    "line = ax.lines[0]"
   ]
  },
  {
   "cell_type": "code",
   "execution_count": 17,
   "metadata": {},
   "outputs": [],
   "source": [
    "line.set_xdata(np.zeros(2001))"
   ]
  },
  {
   "cell_type": "code",
   "execution_count": 18,
   "metadata": {},
   "outputs": [
    {
     "data": {
      "image/png": "[encoded data removed]",
      "text/plain": [
       "<Figure size 360x360 with 1 Axes>"
      ]
     },
     "execution_count": 18,
     "metadata": {},
     "output_type": "execute_result"
    }
   ],
   "source": [
    "fig"
   ]
  },
  {
   "cell_type": "markdown",
   "metadata": {},
   "source": [
    "> Exercice : lire un fichier excel avec pandas et tracer un graphe"
   ]
  },
  {
   "cell_type": "code",
   "execution_count": 20,
   "metadata": {},
   "outputs": [
    {
     "data": {
      "text/plain": [
       "(2001,)"
      ]
     },
     "execution_count": 20,
     "metadata": {},
     "output_type": "execute_result"
    }
   ],
   "source": [
    "ts.shape"
   ]
  },
  {
   "cell_type": "code",
   "execution_count": 28,
   "metadata": {},
   "outputs": [],
   "source": [
    "table_data = ts[:2000].reshape((400, 5))"
   ]
  },
  {
   "cell_type": "code",
   "execution_count": 29,
   "metadata": {},
   "outputs": [
    {
     "data": {
      "text/plain": [
       "array([[-5.   , -4.995, -4.99 , -4.985, -4.98 ],\n",
       "       [-4.975, -4.97 , -4.965, -4.96 , -4.955],\n",
       "       [-4.95 , -4.945, -4.94 , -4.935, -4.93 ],\n",
       "       ...,\n",
       "       [ 4.925,  4.93 ,  4.935,  4.94 ,  4.945],\n",
       "       [ 4.95 ,  4.955,  4.96 ,  4.965,  4.97 ],\n",
       "       [ 4.975,  4.98 ,  4.985,  4.99 ,  4.995]])"
      ]
     },
     "execution_count": 29,
     "metadata": {},
     "output_type": "execute_result"
    }
   ],
   "source": [
    "table_data"
   ]
  },
  {
   "cell_type": "code",
   "execution_count": 37,
   "metadata": {},
   "outputs": [],
   "source": [
    "table_df = pd.DataFrame(\n",
    "    table_data, \n",
    "    columns=['temp', 'humidity', 'wind', 'lat', 'lon'])"
   ]
  },
  {
   "cell_type": "code",
   "execution_count": 32,
   "metadata": {},
   "outputs": [
    {
     "data": {
      "text/html": [
       "<div>\n",
       "<style scoped>\n",
       "    .dataframe tbody tr th:only-of-type {\n",
       "        vertical-align: middle;\n",
       "    }\n",
       "\n",
       "    .dataframe tbody tr th {\n",
       "        vertical-align: top;\n",
       "    }\n",
       "\n",
       "    .dataframe thead th {\n",
       "        text-align: right;\n",
       "    }\n",
       "</style>\n",
       "<table border=\"1\" class=\"dataframe\">\n",
       "  <thead>\n",
       "    <tr style=\"text-align: right;\">\n",
       "      <th></th>\n",
       "      <th>temp</th>\n",
       "      <th>humidity</th>\n",
       "      <th>wind</th>\n",
       "      <th>lat</th>\n",
       "      <th>lon</th>\n",
       "    </tr>\n",
       "  </thead>\n",
       "  <tbody>\n",
       "    <tr>\n",
       "      <th>0</th>\n",
       "      <td>-5.000</td>\n",
       "      <td>-4.995</td>\n",
       "      <td>-4.990</td>\n",
       "      <td>-4.985</td>\n",
       "      <td>-4.980</td>\n",
       "    </tr>\n",
       "    <tr>\n",
       "      <th>1</th>\n",
       "      <td>-4.975</td>\n",
       "      <td>-4.970</td>\n",
       "      <td>-4.965</td>\n",
       "      <td>-4.960</td>\n",
       "      <td>-4.955</td>\n",
       "    </tr>\n",
       "    <tr>\n",
       "      <th>2</th>\n",
       "      <td>-4.950</td>\n",
       "      <td>-4.945</td>\n",
       "      <td>-4.940</td>\n",
       "      <td>-4.935</td>\n",
       "      <td>-4.930</td>\n",
       "    </tr>\n",
       "    <tr>\n",
       "      <th>3</th>\n",
       "      <td>-4.925</td>\n",
       "      <td>-4.920</td>\n",
       "      <td>-4.915</td>\n",
       "      <td>-4.910</td>\n",
       "      <td>-4.905</td>\n",
       "    </tr>\n",
       "    <tr>\n",
       "      <th>4</th>\n",
       "      <td>-4.900</td>\n",
       "      <td>-4.895</td>\n",
       "      <td>-4.890</td>\n",
       "      <td>-4.885</td>\n",
       "      <td>-4.880</td>\n",
       "    </tr>\n",
       "  </tbody>\n",
       "</table>\n",
       "</div>"
      ],
      "text/plain": [
       "    temp  humidity   wind    lat    lon\n",
       "0 -5.000    -4.995 -4.990 -4.985 -4.980\n",
       "1 -4.975    -4.970 -4.965 -4.960 -4.955\n",
       "2 -4.950    -4.945 -4.940 -4.935 -4.930\n",
       "3 -4.925    -4.920 -4.915 -4.910 -4.905\n",
       "4 -4.900    -4.895 -4.890 -4.885 -4.880"
      ]
     },
     "execution_count": 32,
     "metadata": {},
     "output_type": "execute_result"
    }
   ],
   "source": [
    "table_df.head()"
   ]
  },
  {
   "cell_type": "code",
   "execution_count": 33,
   "metadata": {},
   "outputs": [
    {
     "data": {
      "text/plain": [
       "0     -4.995\n",
       "1     -4.970\n",
       "2     -4.945\n",
       "3     -4.920\n",
       "4     -4.895\n",
       "       ...  \n",
       "395    4.880\n",
       "396    4.905\n",
       "397    4.930\n",
       "398    4.955\n",
       "399    4.980\n",
       "Name: humidity, Length: 400, dtype: float64"
      ]
     },
     "execution_count": 33,
     "metadata": {},
     "output_type": "execute_result"
    }
   ],
   "source": [
    "table_df['humidity']"
   ]
  },
  {
   "cell_type": "code",
   "execution_count": 34,
   "metadata": {},
   "outputs": [],
   "source": [
    "table_df.index.name = 'time'"
   ]
  },
  {
   "cell_type": "code",
   "execution_count": 35,
   "metadata": {},
   "outputs": [
    {
     "data": {
      "text/html": [
       "<div>\n",
       "<style scoped>\n",
       "    .dataframe tbody tr th:only-of-type {\n",
       "        vertical-align: middle;\n",
       "    }\n",
       "\n",
       "    .dataframe tbody tr th {\n",
       "        vertical-align: top;\n",
       "    }\n",
       "\n",
       "    .dataframe thead th {\n",
       "        text-align: right;\n",
       "    }\n",
       "</style>\n",
       "<table border=\"1\" class=\"dataframe\">\n",
       "  <thead>\n",
       "    <tr style=\"text-align: right;\">\n",
       "      <th></th>\n",
       "      <th>temp</th>\n",
       "      <th>humidity</th>\n",
       "      <th>wind</th>\n",
       "      <th>lat</th>\n",
       "      <th>lon</th>\n",
       "    </tr>\n",
       "    <tr>\n",
       "      <th>time</th>\n",
       "      <th></th>\n",
       "      <th></th>\n",
       "      <th></th>\n",
       "      <th></th>\n",
       "      <th></th>\n",
       "    </tr>\n",
       "  </thead>\n",
       "  <tbody>\n",
       "    <tr>\n",
       "      <th>0</th>\n",
       "      <td>-5.000</td>\n",
       "      <td>-4.995</td>\n",
       "      <td>-4.990</td>\n",
       "      <td>-4.985</td>\n",
       "      <td>-4.980</td>\n",
       "    </tr>\n",
       "    <tr>\n",
       "      <th>1</th>\n",
       "      <td>-4.975</td>\n",
       "      <td>-4.970</td>\n",
       "      <td>-4.965</td>\n",
       "      <td>-4.960</td>\n",
       "      <td>-4.955</td>\n",
       "    </tr>\n",
       "    <tr>\n",
       "      <th>2</th>\n",
       "      <td>-4.950</td>\n",
       "      <td>-4.945</td>\n",
       "      <td>-4.940</td>\n",
       "      <td>-4.935</td>\n",
       "      <td>-4.930</td>\n",
       "    </tr>\n",
       "    <tr>\n",
       "      <th>3</th>\n",
       "      <td>-4.925</td>\n",
       "      <td>-4.920</td>\n",
       "      <td>-4.915</td>\n",
       "      <td>-4.910</td>\n",
       "      <td>-4.905</td>\n",
       "    </tr>\n",
       "    <tr>\n",
       "      <th>4</th>\n",
       "      <td>-4.900</td>\n",
       "      <td>-4.895</td>\n",
       "      <td>-4.890</td>\n",
       "      <td>-4.885</td>\n",
       "      <td>-4.880</td>\n",
       "    </tr>\n",
       "  </tbody>\n",
       "</table>\n",
       "</div>"
      ],
      "text/plain": [
       "       temp  humidity   wind    lat    lon\n",
       "time                                      \n",
       "0    -5.000    -4.995 -4.990 -4.985 -4.980\n",
       "1    -4.975    -4.970 -4.965 -4.960 -4.955\n",
       "2    -4.950    -4.945 -4.940 -4.935 -4.930\n",
       "3    -4.925    -4.920 -4.915 -4.910 -4.905\n",
       "4    -4.900    -4.895 -4.890 -4.885 -4.880"
      ]
     },
     "execution_count": 35,
     "metadata": {},
     "output_type": "execute_result"
    }
   ],
   "source": [
    "table_df.head()"
   ]
  },
  {
   "cell_type": "code",
   "execution_count": 25,
   "metadata": {},
   "outputs": [
    {
     "data": {
      "text/plain": [
       "array([[-4.48 , -4.475],\n",
       "       [-4.43 , -4.425],\n",
       "       [-4.38 , -4.375],\n",
       "       [-4.33 , -4.325],\n",
       "       [-4.28 , -4.275],\n",
       "       [-4.23 , -4.225],\n",
       "       [-4.18 , -4.175],\n",
       "       [-4.13 , -4.125],\n",
       "       [-4.08 , -4.075],\n",
       "       [-4.03 , -4.025],\n",
       "       [-3.98 , -3.975],\n",
       "       [-3.93 , -3.925],\n",
       "       [-3.88 , -3.875],\n",
       "       [-3.83 , -3.825],\n",
       "       [-3.78 , -3.775]])"
      ]
     },
     "execution_count": 25,
     "metadata": {},
     "output_type": "execute_result"
    }
   ],
   "source": [
    "table[10:25, 4:6]"
   ]
  },
  {
   "cell_type": "code",
   "execution_count": 41,
   "metadata": {},
   "outputs": [
    {
     "data": {
      "text/plain": [
       "'C:\\\\Users\\\\Guillaume\\\\Test'"
      ]
     },
     "execution_count": 41,
     "metadata": {},
     "output_type": "execute_result"
    }
   ],
   "source": [
    "r'C:\\\\Users\\\\Guillaume\\\\Test'\n",
    "r'C:/Users\\Guillaume/Test'\n",
    "r'C:\\Users\\Guillaume\\Test'"
   ]
  },
  {
   "cell_type": "code",
   "execution_count": 81,
   "metadata": {},
   "outputs": [],
   "source": [
    "series = (\n",
    "    pd.read_excel('../reporter/data/series-1800-2015_simplified.xlsx')\n",
    "    .set_index('année', inplace=False)\n",
    "    .dropna(axis=0, how='all', inplace=False)\n",
    "    .transpose()\n",
    ")\n",
    "\n"
   ]
  },
  {
   "cell_type": "code",
   "execution_count": 82,
   "metadata": {},
   "outputs": [
    {
     "data": {
      "text/plain": [
       "année\n",
       "Prix consommation            float64\n",
       "PIB                          float64\n",
       "RDM                          float64\n",
       "population                   float64\n",
       "nb_ménages                   float64\n",
       "TI_long_terme                float64\n",
       "TI_court_terme               float64\n",
       "Valeur_invest_actions        float64\n",
       "Valeur_invest_monnaie        float64\n",
       "Or                           float64\n",
       "prix_logement_Fr             float64\n",
       "Prix_logement_Paris          float64\n",
       "valeur_invest_locatif        float64\n",
       "indice_loyers                float64\n",
       "ICC                          float64\n",
       "conso_logements              float64\n",
       "transactions_immo            float64\n",
       "transactions_immo _ancien    float64\n",
       "dette_immo_menages           float64\n",
       "duree_prets_ancien           float64\n",
       "duree_prets_neuf             float64\n",
       "dtype: object"
      ]
     },
     "execution_count": 82,
     "metadata": {},
     "output_type": "execute_result"
    }
   ],
   "source": [
    "series.dtypes"
   ]
  },
  {
   "cell_type": "code",
   "execution_count": 84,
   "metadata": {},
   "outputs": [],
   "source": [
    "series.index = series.index.astype(np.int)"
   ]
  },
  {
   "cell_type": "code",
   "execution_count": 85,
   "metadata": {},
   "outputs": [
    {
     "data": {
      "text/html": [
       "<div>\n",
       "<style scoped>\n",
       "    .dataframe tbody tr th:only-of-type {\n",
       "        vertical-align: middle;\n",
       "    }\n",
       "\n",
       "    .dataframe tbody tr th {\n",
       "        vertical-align: top;\n",
       "    }\n",
       "\n",
       "    .dataframe thead th {\n",
       "        text-align: right;\n",
       "    }\n",
       "</style>\n",
       "<table border=\"1\" class=\"dataframe\">\n",
       "  <thead>\n",
       "    <tr style=\"text-align: right;\">\n",
       "      <th>année</th>\n",
       "      <th>Prix consommation</th>\n",
       "      <th>PIB</th>\n",
       "      <th>RDM</th>\n",
       "      <th>population</th>\n",
       "      <th>nb_ménages</th>\n",
       "      <th>TI_long_terme</th>\n",
       "      <th>TI_court_terme</th>\n",
       "      <th>Valeur_invest_actions</th>\n",
       "      <th>Valeur_invest_monnaie</th>\n",
       "      <th>Or</th>\n",
       "      <th>...</th>\n",
       "      <th>Prix_logement_Paris</th>\n",
       "      <th>valeur_invest_locatif</th>\n",
       "      <th>indice_loyers</th>\n",
       "      <th>ICC</th>\n",
       "      <th>conso_logements</th>\n",
       "      <th>transactions_immo</th>\n",
       "      <th>transactions_immo _ancien</th>\n",
       "      <th>dette_immo_menages</th>\n",
       "      <th>duree_prets_ancien</th>\n",
       "      <th>duree_prets_neuf</th>\n",
       "    </tr>\n",
       "  </thead>\n",
       "  <tbody>\n",
       "    <tr>\n",
       "      <th>1800</th>\n",
       "      <td>0.000429</td>\n",
       "      <td>0.009952</td>\n",
       "      <td>0.008421</td>\n",
       "      <td>28601.353899</td>\n",
       "      <td>6882.055873</td>\n",
       "      <td>0.200361</td>\n",
       "      <td>0.06</td>\n",
       "      <td>NaN</td>\n",
       "      <td>0.000153</td>\n",
       "      <td>NaN</td>\n",
       "      <td>...</td>\n",
       "      <td>NaN</td>\n",
       "      <td>NaN</td>\n",
       "      <td>NaN</td>\n",
       "      <td>NaN</td>\n",
       "      <td>NaN</td>\n",
       "      <td>NaN</td>\n",
       "      <td>NaN</td>\n",
       "      <td>NaN</td>\n",
       "      <td>NaN</td>\n",
       "      <td>NaN</td>\n",
       "    </tr>\n",
       "    <tr>\n",
       "      <th>1801</th>\n",
       "      <td>0.000442</td>\n",
       "      <td>0.010102</td>\n",
       "      <td>0.008548</td>\n",
       "      <td>28741.950591</td>\n",
       "      <td>6915.886240</td>\n",
       "      <td>0.102212</td>\n",
       "      <td>0.06</td>\n",
       "      <td>NaN</td>\n",
       "      <td>0.000163</td>\n",
       "      <td>NaN</td>\n",
       "      <td>...</td>\n",
       "      <td>NaN</td>\n",
       "      <td>NaN</td>\n",
       "      <td>NaN</td>\n",
       "      <td>NaN</td>\n",
       "      <td>NaN</td>\n",
       "      <td>NaN</td>\n",
       "      <td>NaN</td>\n",
       "      <td>NaN</td>\n",
       "      <td>NaN</td>\n",
       "      <td>NaN</td>\n",
       "    </tr>\n",
       "    <tr>\n",
       "      <th>1802</th>\n",
       "      <td>0.000474</td>\n",
       "      <td>0.010253</td>\n",
       "      <td>0.008676</td>\n",
       "      <td>28883.238419</td>\n",
       "      <td>6949.882908</td>\n",
       "      <td>0.095345</td>\n",
       "      <td>0.06</td>\n",
       "      <td>3.326481e-08</td>\n",
       "      <td>0.000172</td>\n",
       "      <td>NaN</td>\n",
       "      <td>...</td>\n",
       "      <td>NaN</td>\n",
       "      <td>NaN</td>\n",
       "      <td>NaN</td>\n",
       "      <td>NaN</td>\n",
       "      <td>NaN</td>\n",
       "      <td>NaN</td>\n",
       "      <td>NaN</td>\n",
       "      <td>NaN</td>\n",
       "      <td>NaN</td>\n",
       "      <td>NaN</td>\n",
       "    </tr>\n",
       "    <tr>\n",
       "      <th>1803</th>\n",
       "      <td>0.000474</td>\n",
       "      <td>0.010407</td>\n",
       "      <td>0.008806</td>\n",
       "      <td>29025.220781</td>\n",
       "      <td>6984.046694</td>\n",
       "      <td>0.097626</td>\n",
       "      <td>0.06</td>\n",
       "      <td>3.634091e-08</td>\n",
       "      <td>0.000183</td>\n",
       "      <td>0.000548</td>\n",
       "      <td>...</td>\n",
       "      <td>NaN</td>\n",
       "      <td>NaN</td>\n",
       "      <td>NaN</td>\n",
       "      <td>NaN</td>\n",
       "      <td>NaN</td>\n",
       "      <td>NaN</td>\n",
       "      <td>NaN</td>\n",
       "      <td>NaN</td>\n",
       "      <td>NaN</td>\n",
       "      <td>NaN</td>\n",
       "    </tr>\n",
       "    <tr>\n",
       "      <th>1804</th>\n",
       "      <td>0.000426</td>\n",
       "      <td>0.010564</td>\n",
       "      <td>0.008938</td>\n",
       "      <td>29167.901090</td>\n",
       "      <td>7018.378421</td>\n",
       "      <td>0.091757</td>\n",
       "      <td>0.06</td>\n",
       "      <td>3.932246e-08</td>\n",
       "      <td>0.000194</td>\n",
       "      <td>0.000548</td>\n",
       "      <td>...</td>\n",
       "      <td>NaN</td>\n",
       "      <td>NaN</td>\n",
       "      <td>NaN</td>\n",
       "      <td>NaN</td>\n",
       "      <td>NaN</td>\n",
       "      <td>NaN</td>\n",
       "      <td>NaN</td>\n",
       "      <td>NaN</td>\n",
       "      <td>NaN</td>\n",
       "      <td>NaN</td>\n",
       "    </tr>\n",
       "  </tbody>\n",
       "</table>\n",
       "<p>5 rows × 21 columns</p>\n",
       "</div>"
      ],
      "text/plain": [
       "année  Prix consommation       PIB       RDM    population   nb_ménages  \\\n",
       "1800            0.000429  0.009952  0.008421  28601.353899  6882.055873   \n",
       "1801            0.000442  0.010102  0.008548  28741.950591  6915.886240   \n",
       "1802            0.000474  0.010253  0.008676  28883.238419  6949.882908   \n",
       "1803            0.000474  0.010407  0.008806  29025.220781  6984.046694   \n",
       "1804            0.000426  0.010564  0.008938  29167.901090  7018.378421   \n",
       "\n",
       "année  TI_long_terme  TI_court_terme  Valeur_invest_actions  \\\n",
       "1800        0.200361            0.06                    NaN   \n",
       "1801        0.102212            0.06                    NaN   \n",
       "1802        0.095345            0.06           3.326481e-08   \n",
       "1803        0.097626            0.06           3.634091e-08   \n",
       "1804        0.091757            0.06           3.932246e-08   \n",
       "\n",
       "année  Valeur_invest_monnaie        Or  ...  Prix_logement_Paris  \\\n",
       "1800                0.000153       NaN  ...                  NaN   \n",
       "1801                0.000163       NaN  ...                  NaN   \n",
       "1802                0.000172       NaN  ...                  NaN   \n",
       "1803                0.000183  0.000548  ...                  NaN   \n",
       "1804                0.000194  0.000548  ...                  NaN   \n",
       "\n",
       "année  valeur_invest_locatif  indice_loyers  ICC  conso_logements  \\\n",
       "1800                     NaN            NaN  NaN              NaN   \n",
       "1801                     NaN            NaN  NaN              NaN   \n",
       "1802                     NaN            NaN  NaN              NaN   \n",
       "1803                     NaN            NaN  NaN              NaN   \n",
       "1804                     NaN            NaN  NaN              NaN   \n",
       "\n",
       "année  transactions_immo  transactions_immo _ancien  dette_immo_menages  \\\n",
       "1800                 NaN                        NaN                 NaN   \n",
       "1801                 NaN                        NaN                 NaN   \n",
       "1802                 NaN                        NaN                 NaN   \n",
       "1803                 NaN                        NaN                 NaN   \n",
       "1804                 NaN                        NaN                 NaN   \n",
       "\n",
       "année  duree_prets_ancien  duree_prets_neuf  \n",
       "1800                  NaN               NaN  \n",
       "1801                  NaN               NaN  \n",
       "1802                  NaN               NaN  \n",
       "1803                  NaN               NaN  \n",
       "1804                  NaN               NaN  \n",
       "\n",
       "[5 rows x 21 columns]"
      ]
     },
     "execution_count": 85,
     "metadata": {},
     "output_type": "execute_result"
    }
   ],
   "source": [
    "series.head()"
   ]
  },
  {
   "cell_type": "code",
   "execution_count": 86,
   "metadata": {},
   "outputs": [],
   "source": [
    "series[\"PIB\"] = series[\"PIB\"].astype(np.float16)"
   ]
  },
  {
   "cell_type": "code",
   "execution_count": 88,
   "metadata": {},
   "outputs": [
    {
     "data": {
      "text/plain": [
       "Int64Index([1800, 1801, 1802, 1803, 1804, 1805, 1806, 1807, 1808, 1809,\n",
       "            ...\n",
       "            2006, 2007, 2008, 2009, 2010, 2011, 2012, 2013, 2014, 2015],\n",
       "           dtype='int64', length=216)"
      ]
     },
     "execution_count": 88,
     "metadata": {},
     "output_type": "execute_result"
    }
   ],
   "source": [
    "series.index"
   ]
  },
  {
   "cell_type": "code",
   "execution_count": 87,
   "metadata": {
    "collapsed": true
   },
   "outputs": [
    {
     "data": {
      "text/plain": [
       "année\n",
       "Prix consommation            float64\n",
       "PIB                          float16\n",
       "RDM                          float64\n",
       "population                   float64\n",
       "nb_ménages                   float64\n",
       "TI_long_terme                float64\n",
       "TI_court_terme               float64\n",
       "Valeur_invest_actions        float64\n",
       "Valeur_invest_monnaie        float64\n",
       "Or                           float64\n",
       "prix_logement_Fr             float64\n",
       "Prix_logement_Paris          float64\n",
       "valeur_invest_locatif        float64\n",
       "indice_loyers                float64\n",
       "ICC                          float64\n",
       "conso_logements              float64\n",
       "transactions_immo            float64\n",
       "transactions_immo _ancien    float64\n",
       "dette_immo_menages           float64\n",
       "duree_prets_ancien           float64\n",
       "duree_prets_neuf             float64\n",
       "dtype: object"
      ]
     },
     "execution_count": 87,
     "metadata": {},
     "output_type": "execute_result"
    }
   ],
   "source": [
    "series.dtypes\n"
   ]
  },
  {
   "cell_type": "code",
   "execution_count": 91,
   "metadata": {},
   "outputs": [
    {
     "data": {
      "text/html": [
       "<div>\n",
       "<style scoped>\n",
       "    .dataframe tbody tr th:only-of-type {\n",
       "        vertical-align: middle;\n",
       "    }\n",
       "\n",
       "    .dataframe tbody tr th {\n",
       "        vertical-align: top;\n",
       "    }\n",
       "\n",
       "    .dataframe thead th {\n",
       "        text-align: right;\n",
       "    }\n",
       "</style>\n",
       "<table border=\"1\" class=\"dataframe\">\n",
       "  <thead>\n",
       "    <tr style=\"text-align: right;\">\n",
       "      <th>année</th>\n",
       "      <th>PIB</th>\n",
       "      <th>RDM</th>\n",
       "    </tr>\n",
       "  </thead>\n",
       "  <tbody>\n",
       "    <tr>\n",
       "      <th>1800</th>\n",
       "      <td>0.009949</td>\n",
       "      <td>0.008421</td>\n",
       "    </tr>\n",
       "    <tr>\n",
       "      <th>1801</th>\n",
       "      <td>0.010101</td>\n",
       "      <td>0.008548</td>\n",
       "    </tr>\n",
       "    <tr>\n",
       "      <th>1802</th>\n",
       "      <td>0.010254</td>\n",
       "      <td>0.008676</td>\n",
       "    </tr>\n",
       "    <tr>\n",
       "      <th>1803</th>\n",
       "      <td>0.010406</td>\n",
       "      <td>0.008806</td>\n",
       "    </tr>\n",
       "    <tr>\n",
       "      <th>1804</th>\n",
       "      <td>0.010567</td>\n",
       "      <td>0.008938</td>\n",
       "    </tr>\n",
       "    <tr>\n",
       "      <th>1805</th>\n",
       "      <td>0.010719</td>\n",
       "      <td>0.009073</td>\n",
       "    </tr>\n",
       "    <tr>\n",
       "      <th>1806</th>\n",
       "      <td>0.010880</td>\n",
       "      <td>0.009209</td>\n",
       "    </tr>\n",
       "    <tr>\n",
       "      <th>1807</th>\n",
       "      <td>0.011047</td>\n",
       "      <td>0.009347</td>\n",
       "    </tr>\n",
       "    <tr>\n",
       "      <th>1808</th>\n",
       "      <td>0.011215</td>\n",
       "      <td>0.009487</td>\n",
       "    </tr>\n",
       "    <tr>\n",
       "      <th>1809</th>\n",
       "      <td>0.011383</td>\n",
       "      <td>0.009630</td>\n",
       "    </tr>\n",
       "    <tr>\n",
       "      <th>1810</th>\n",
       "      <td>0.011551</td>\n",
       "      <td>0.009774</td>\n",
       "    </tr>\n",
       "  </tbody>\n",
       "</table>\n",
       "</div>"
      ],
      "text/plain": [
       "année       PIB       RDM\n",
       "1800   0.009949  0.008421\n",
       "1801   0.010101  0.008548\n",
       "1802   0.010254  0.008676\n",
       "1803   0.010406  0.008806\n",
       "1804   0.010567  0.008938\n",
       "1805   0.010719  0.009073\n",
       "1806   0.010880  0.009209\n",
       "1807   0.011047  0.009347\n",
       "1808   0.011215  0.009487\n",
       "1809   0.011383  0.009630\n",
       "1810   0.011551  0.009774"
      ]
     },
     "execution_count": 91,
     "metadata": {},
     "output_type": "execute_result"
    }
   ],
   "source": [
    "series.loc[1800:1810, ['PIB', 'RDM']]"
   ]
  },
  {
   "cell_type": "code",
   "execution_count": 92,
   "metadata": {
    "scrolled": true
   },
   "outputs": [
    {
     "data": {
      "text/html": [
       "<div>\n",
       "<style scoped>\n",
       "    .dataframe tbody tr th:only-of-type {\n",
       "        vertical-align: middle;\n",
       "    }\n",
       "\n",
       "    .dataframe tbody tr th {\n",
       "        vertical-align: top;\n",
       "    }\n",
       "\n",
       "    .dataframe thead th {\n",
       "        text-align: right;\n",
       "    }\n",
       "</style>\n",
       "<table border=\"1\" class=\"dataframe\">\n",
       "  <thead>\n",
       "    <tr style=\"text-align: right;\">\n",
       "      <th>année</th>\n",
       "      <th>population</th>\n",
       "      <th>nb_ménages</th>\n",
       "      <th>TI_long_terme</th>\n",
       "    </tr>\n",
       "  </thead>\n",
       "  <tbody>\n",
       "    <tr>\n",
       "      <th>1800</th>\n",
       "      <td>28601.353899</td>\n",
       "      <td>6882.055873</td>\n",
       "      <td>0.200361</td>\n",
       "    </tr>\n",
       "    <tr>\n",
       "      <th>1801</th>\n",
       "      <td>28741.950591</td>\n",
       "      <td>6915.886240</td>\n",
       "      <td>0.102212</td>\n",
       "    </tr>\n",
       "    <tr>\n",
       "      <th>1802</th>\n",
       "      <td>28883.238419</td>\n",
       "      <td>6949.882908</td>\n",
       "      <td>0.095345</td>\n",
       "    </tr>\n",
       "    <tr>\n",
       "      <th>1803</th>\n",
       "      <td>29025.220781</td>\n",
       "      <td>6984.046694</td>\n",
       "      <td>0.097626</td>\n",
       "    </tr>\n",
       "    <tr>\n",
       "      <th>1804</th>\n",
       "      <td>29167.901090</td>\n",
       "      <td>7018.378421</td>\n",
       "      <td>0.091757</td>\n",
       "    </tr>\n",
       "    <tr>\n",
       "      <th>1805</th>\n",
       "      <td>29311.282779</td>\n",
       "      <td>7052.878913</td>\n",
       "      <td>0.087657</td>\n",
       "    </tr>\n",
       "    <tr>\n",
       "      <th>1806</th>\n",
       "      <td>29455.369293</td>\n",
       "      <td>7087.549001</td>\n",
       "      <td>0.079427</td>\n",
       "    </tr>\n",
       "    <tr>\n",
       "      <th>1807</th>\n",
       "      <td>29600.164099</td>\n",
       "      <td>7122.389517</td>\n",
       "      <td>0.064767</td>\n",
       "    </tr>\n",
       "    <tr>\n",
       "      <th>1808</th>\n",
       "      <td>29745.670678</td>\n",
       "      <td>7157.401301</td>\n",
       "      <td>0.061470</td>\n",
       "    </tr>\n",
       "    <tr>\n",
       "      <th>1809</th>\n",
       "      <td>29891.892528</td>\n",
       "      <td>7192.585193</td>\n",
       "      <td>0.064604</td>\n",
       "    </tr>\n",
       "    <tr>\n",
       "      <th>1810</th>\n",
       "      <td>30038.833167</td>\n",
       "      <td>7227.942039</td>\n",
       "      <td>0.063716</td>\n",
       "    </tr>\n",
       "    <tr>\n",
       "      <th>1811</th>\n",
       "      <td>30186.496127</td>\n",
       "      <td>7263.472691</td>\n",
       "      <td>0.063628</td>\n",
       "    </tr>\n",
       "    <tr>\n",
       "      <th>1812</th>\n",
       "      <td>30334.884959</td>\n",
       "      <td>7299.178002</td>\n",
       "      <td>0.063306</td>\n",
       "    </tr>\n",
       "    <tr>\n",
       "      <th>1813</th>\n",
       "      <td>30484.003231</td>\n",
       "      <td>7335.058830</td>\n",
       "      <td>0.075230</td>\n",
       "    </tr>\n",
       "    <tr>\n",
       "      <th>1814</th>\n",
       "      <td>30633.854529</td>\n",
       "      <td>7371.116040</td>\n",
       "      <td>0.081840</td>\n",
       "    </tr>\n",
       "    <tr>\n",
       "      <th>1815</th>\n",
       "      <td>30784.442457</td>\n",
       "      <td>7407.350497</td>\n",
       "      <td>0.083334</td>\n",
       "    </tr>\n",
       "    <tr>\n",
       "      <th>1816</th>\n",
       "      <td>30935.770635</td>\n",
       "      <td>7443.763073</td>\n",
       "      <td>0.088795</td>\n",
       "    </tr>\n",
       "    <tr>\n",
       "      <th>1817</th>\n",
       "      <td>31087.842702</td>\n",
       "      <td>7480.354644</td>\n",
       "      <td>0.080690</td>\n",
       "    </tr>\n",
       "    <tr>\n",
       "      <th>1818</th>\n",
       "      <td>31240.662315</td>\n",
       "      <td>7517.126089</td>\n",
       "      <td>0.073313</td>\n",
       "    </tr>\n",
       "    <tr>\n",
       "      <th>1819</th>\n",
       "      <td>31394.233150</td>\n",
       "      <td>7554.078293</td>\n",
       "      <td>0.074865</td>\n",
       "    </tr>\n",
       "    <tr>\n",
       "      <th>1820</th>\n",
       "      <td>31548.558897</td>\n",
       "      <td>7591.212144</td>\n",
       "      <td>0.068365</td>\n",
       "    </tr>\n",
       "    <tr>\n",
       "      <th>1821</th>\n",
       "      <td>31703.643270</td>\n",
       "      <td>7628.528535</td>\n",
       "      <td>0.060160</td>\n",
       "    </tr>\n",
       "    <tr>\n",
       "      <th>1822</th>\n",
       "      <td>31906.956637</td>\n",
       "      <td>7677.449784</td>\n",
       "      <td>0.057011</td>\n",
       "    </tr>\n",
       "  </tbody>\n",
       "</table>\n",
       "</div>"
      ],
      "text/plain": [
       "année    population   nb_ménages  TI_long_terme\n",
       "1800   28601.353899  6882.055873       0.200361\n",
       "1801   28741.950591  6915.886240       0.102212\n",
       "1802   28883.238419  6949.882908       0.095345\n",
       "1803   29025.220781  6984.046694       0.097626\n",
       "1804   29167.901090  7018.378421       0.091757\n",
       "1805   29311.282779  7052.878913       0.087657\n",
       "1806   29455.369293  7087.549001       0.079427\n",
       "1807   29600.164099  7122.389517       0.064767\n",
       "1808   29745.670678  7157.401301       0.061470\n",
       "1809   29891.892528  7192.585193       0.064604\n",
       "1810   30038.833167  7227.942039       0.063716\n",
       "1811   30186.496127  7263.472691       0.063628\n",
       "1812   30334.884959  7299.178002       0.063306\n",
       "1813   30484.003231  7335.058830       0.075230\n",
       "1814   30633.854529  7371.116040       0.081840\n",
       "1815   30784.442457  7407.350497       0.083334\n",
       "1816   30935.770635  7443.763073       0.088795\n",
       "1817   31087.842702  7480.354644       0.080690\n",
       "1818   31240.662315  7517.126089       0.073313\n",
       "1819   31394.233150  7554.078293       0.074865\n",
       "1820   31548.558897  7591.212144       0.068365\n",
       "1821   31703.643270  7628.528535       0.060160\n",
       "1822   31906.956637  7677.449784       0.057011"
      ]
     },
     "execution_count": 92,
     "metadata": {},
     "output_type": "execute_result"
    }
   ],
   "source": [
    "series.iloc[0:23, 3:6]"
   ]
  },
  {
   "cell_type": "code",
   "execution_count": 93,
   "metadata": {},
   "outputs": [
    {
     "data": {
      "text/plain": [
       "<matplotlib.axes._subplots.AxesSubplot at 0x7f362b953080>"
      ]
     },
     "execution_count": 93,
     "metadata": {},
     "output_type": "execute_result"
    },
    {
     "data": {
      "image/png": "[encoded data removed]",
      "text/plain": [
       "<Figure size 432x288 with 1 Axes>"
      ]
     },
     "metadata": {
      "needs_background": "light"
     },
     "output_type": "display_data"
    }
   ],
   "source": [
    "series.plot('PIB', 'RDM')"
   ]
  },
  {
   "cell_type": "code",
   "execution_count": 94,
   "metadata": {},
   "outputs": [
    {
     "data": {
      "text/plain": [
       "Index(['Prix consommation', 'PIB', 'RDM', 'population', 'nb_ménages',\n",
       "       'TI_long_terme', 'TI_court_terme', 'Valeur_invest_actions',\n",
       "       'Valeur_invest_monnaie', 'Or', 'prix_logement_Fr',\n",
       "       'Prix_logement_Paris', 'valeur_invest_locatif', 'indice_loyers', 'ICC',\n",
       "       'conso_logements', 'transactions_immo', 'transactions_immo _ancien',\n",
       "       'dette_immo_menages', 'duree_prets_ancien', 'duree_prets_neuf'],\n",
       "      dtype='object', name='année')"
      ]
     },
     "execution_count": 94,
     "metadata": {},
     "output_type": "execute_result"
    }
   ],
   "source": [
    "series.columns"
   ]
  },
  {
   "cell_type": "code",
   "execution_count": 109,
   "metadata": {},
   "outputs": [
    {
     "data": {
      "text/plain": [
       "<matplotlib.axes._subplots.AxesSubplot at 0x7f362855f7b8>"
      ]
     },
     "execution_count": 109,
     "metadata": {},
     "output_type": "execute_result"
    },
    {
     "data": {
      "image/png": "[encoded data removed]",
      "text/plain": [
       "<Figure size 432x288 with 2 Axes>"
      ]
     },
     "metadata": {
      "needs_background": "light"
     },
     "output_type": "display_data"
    }
   ],
   "source": [
    "series.loc[1940:].plot(\n",
    "    x='RDM',\n",
    "    y='Prix_logement_Paris',\n",
    "    c=series.loc[1940:].index,\n",
    "    #s=series.loc[1940:]['dette_immo_menages']*1e-3,\n",
    "    kind='scatter',\n",
    "    cmap='viridis')"
   ]
  },
  {
   "cell_type": "code",
   "execution_count": 77,
   "metadata": {},
   "outputs": [],
   "source": [
    "series2 = series.set_index('année', inplace=True)\n"
   ]
  },
  {
   "cell_type": "code",
   "execution_count": 79,
   "metadata": {},
   "outputs": [
    {
     "data": {
      "text/plain": [
       "NoneType"
      ]
     },
     "execution_count": 79,
     "metadata": {},
     "output_type": "execute_result"
    }
   ],
   "source": [
    "type(series2)"
   ]
  },
  {
   "cell_type": "markdown",
   "metadata": {},
   "source": [
    "## Récupérer des données sur le web avec requests\n",
    "\n",
    "> Exercice : Lire, mettre en forme, sauver et représenter des données web"
   ]
  },
  {
   "cell_type": "code",
   "execution_count": 115,
   "metadata": {},
   "outputs": [],
   "source": [
    "link = 'http://samples.openweathermap.org/data/2.5/forecast/hourly?id=524901&appid=b6907d289e10d714a6e88b30761fae22'"
   ]
  },
  {
   "cell_type": "code",
   "execution_count": 128,
   "metadata": {},
   "outputs": [],
   "source": [
    "import requests\n",
    "import json"
   ]
  },
  {
   "cell_type": "code",
   "execution_count": 184,
   "metadata": {},
   "outputs": [
    {
     "ename": "AttributeError",
     "evalue": "__enter__",
     "output_type": "error",
     "traceback": [
      "\u001b[0;31m---------------------------------------------------------------------------\u001b[0m",
      "\u001b[0;31mAttributeError\u001b[0m                            Traceback (most recent call last)",
      "\u001b[0;32m<ipython-input-184-20acb897829d>\u001b[0m in \u001b[0;36m<module>\u001b[0;34m\u001b[0m\n\u001b[0;32m----> 1\u001b[0;31m \u001b[0;32mwith\u001b[0m \u001b[0mrequests\u001b[0m\u001b[0;34m.\u001b[0m\u001b[0mget\u001b[0m\u001b[0;34m(\u001b[0m\u001b[0mlink\u001b[0m\u001b[0;34m)\u001b[0m \u001b[0;32mas\u001b[0m \u001b[0mresponse\u001b[0m\u001b[0;34m:\u001b[0m\u001b[0;34m\u001b[0m\u001b[0;34m\u001b[0m\u001b[0m\n\u001b[0m\u001b[1;32m      2\u001b[0m     \u001b[0mprint\u001b[0m\u001b[0;34m(\u001b[0m\u001b[0mresponse\u001b[0m\u001b[0;34m)\u001b[0m\u001b[0;34m\u001b[0m\u001b[0;34m\u001b[0m\u001b[0m\n\u001b[1;32m      3\u001b[0m \u001b[0;34m\u001b[0m\u001b[0m\n",
      "\u001b[0;31mAttributeError\u001b[0m: __enter__"
     ]
    }
   ],
   "source": [
    "with requests.get(link) as response:\n",
    "    print(response)\n",
    "    "
   ]
  },
  {
   "cell_type": "code",
   "execution_count": 125,
   "metadata": {},
   "outputs": [],
   "source": [
    "response = requests.get(link)"
   ]
  },
  {
   "cell_type": "code",
   "execution_count": null,
   "metadata": {},
   "outputs": [],
   "source": []
  },
  {
   "cell_type": "code",
   "execution_count": 126,
   "metadata": {},
   "outputs": [
    {
     "data": {
      "text/plain": [
       "<Response [200]>"
      ]
     },
     "execution_count": 126,
     "metadata": {},
     "output_type": "execute_result"
    }
   ],
   "source": [
    "response"
   ]
  },
  {
   "cell_type": "code",
   "execution_count": 129,
   "metadata": {},
   "outputs": [],
   "source": [
    "content = json.loads(response.content)"
   ]
  },
  {
   "cell_type": "code",
   "execution_count": 131,
   "metadata": {},
   "outputs": [
    {
     "data": {
      "text/plain": [
       "dict"
      ]
     },
     "execution_count": 131,
     "metadata": {},
     "output_type": "execute_result"
    }
   ],
   "source": [
    "type(content)"
   ]
  },
  {
   "cell_type": "code",
   "execution_count": 132,
   "metadata": {},
   "outputs": [
    {
     "data": {
      "text/plain": [
       "bytes"
      ]
     },
     "execution_count": 132,
     "metadata": {},
     "output_type": "execute_result"
    }
   ],
   "source": [
    "type(response.content)"
   ]
  },
  {
   "cell_type": "code",
   "execution_count": 139,
   "metadata": {},
   "outputs": [
    {
     "data": {
      "text/plain": [
       "dict_keys(['cod', 'message', 'cnt', 'list', 'city'])"
      ]
     },
     "execution_count": 139,
     "metadata": {},
     "output_type": "execute_result"
    }
   ],
   "source": [
    "content.keys()"
   ]
  },
  {
   "cell_type": "code",
   "execution_count": 147,
   "metadata": {},
   "outputs": [],
   "source": [
    "raw_data = pd.DataFrame(content['list'])"
   ]
  },
  {
   "cell_type": "code",
   "execution_count": 148,
   "metadata": {},
   "outputs": [
    {
     "data": {
      "text/html": [
       "<div>\n",
       "<style scoped>\n",
       "    .dataframe tbody tr th:only-of-type {\n",
       "        vertical-align: middle;\n",
       "    }\n",
       "\n",
       "    .dataframe tbody tr th {\n",
       "        vertical-align: top;\n",
       "    }\n",
       "\n",
       "    .dataframe thead th {\n",
       "        text-align: right;\n",
       "    }\n",
       "</style>\n",
       "<table border=\"1\" class=\"dataframe\">\n",
       "  <thead>\n",
       "    <tr style=\"text-align: right;\">\n",
       "      <th></th>\n",
       "      <th>clouds</th>\n",
       "      <th>dt</th>\n",
       "      <th>dt_txt</th>\n",
       "      <th>main</th>\n",
       "      <th>rain</th>\n",
       "      <th>snow</th>\n",
       "      <th>sys</th>\n",
       "      <th>weather</th>\n",
       "      <th>wind</th>\n",
       "    </tr>\n",
       "  </thead>\n",
       "  <tbody>\n",
       "    <tr>\n",
       "      <th>0</th>\n",
       "      <td>{'all': 60}</td>\n",
       "      <td>1553709600</td>\n",
       "      <td>2019-03-27 18:00:00</td>\n",
       "      <td>{'temp': 272.09, 'temp_min': 271.358, 'temp_ma...</td>\n",
       "      <td>NaN</td>\n",
       "      <td>NaN</td>\n",
       "      <td>{'pod': 'n'}</td>\n",
       "      <td>[{'id': 803, 'main': 'Clouds', 'description': ...</td>\n",
       "      <td>{'speed': 3.25, 'deg': 287.822}</td>\n",
       "    </tr>\n",
       "    <tr>\n",
       "      <th>1</th>\n",
       "      <td>{'all': 2}</td>\n",
       "      <td>1553713200</td>\n",
       "      <td>2019-03-27 19:00:00</td>\n",
       "      <td>{'temp': 271.59, 'temp_min': 271.1, 'temp_max'...</td>\n",
       "      <td>NaN</td>\n",
       "      <td>NaN</td>\n",
       "      <td>{'pod': 'n'}</td>\n",
       "      <td>[{'id': 800, 'main': 'Clear', 'description': '...</td>\n",
       "      <td>{'speed': 3.4, 'deg': 294.075}</td>\n",
       "    </tr>\n",
       "    <tr>\n",
       "      <th>2</th>\n",
       "      <td>{'all': 1}</td>\n",
       "      <td>1553716800</td>\n",
       "      <td>2019-03-27 20:00:00</td>\n",
       "      <td>{'temp': 271.15, 'temp_min': 270.907, 'temp_ma...</td>\n",
       "      <td>NaN</td>\n",
       "      <td>NaN</td>\n",
       "      <td>{'pod': 'n'}</td>\n",
       "      <td>[{'id': 800, 'main': 'Clear', 'description': '...</td>\n",
       "      <td>{'speed': 3.47, 'deg': 300.189}</td>\n",
       "    </tr>\n",
       "    <tr>\n",
       "      <th>3</th>\n",
       "      <td>{'all': 1}</td>\n",
       "      <td>1553720400</td>\n",
       "      <td>2019-03-27 21:00:00</td>\n",
       "      <td>{'temp': 270.722, 'temp_min': 270.722, 'temp_m...</td>\n",
       "      <td>NaN</td>\n",
       "      <td>NaN</td>\n",
       "      <td>{'pod': 'n'}</td>\n",
       "      <td>[{'id': 800, 'main': 'Clear', 'description': '...</td>\n",
       "      <td>{'speed': 3.55, 'deg': 305.558}</td>\n",
       "    </tr>\n",
       "    <tr>\n",
       "      <th>4</th>\n",
       "      <td>{'all': 1}</td>\n",
       "      <td>1553724000</td>\n",
       "      <td>2019-03-27 22:00:00</td>\n",
       "      <td>{'temp': 270.63, 'temp_min': 270.63, 'temp_max...</td>\n",
       "      <td>NaN</td>\n",
       "      <td>NaN</td>\n",
       "      <td>{'pod': 'n'}</td>\n",
       "      <td>[{'id': 800, 'main': 'Clear', 'description': '...</td>\n",
       "      <td>{'speed': 3.59, 'deg': 309.126}</td>\n",
       "    </tr>\n",
       "  </tbody>\n",
       "</table>\n",
       "</div>"
      ],
      "text/plain": [
       "        clouds          dt               dt_txt  \\\n",
       "0  {'all': 60}  1553709600  2019-03-27 18:00:00   \n",
       "1   {'all': 2}  1553713200  2019-03-27 19:00:00   \n",
       "2   {'all': 1}  1553716800  2019-03-27 20:00:00   \n",
       "3   {'all': 1}  1553720400  2019-03-27 21:00:00   \n",
       "4   {'all': 1}  1553724000  2019-03-27 22:00:00   \n",
       "\n",
       "                                                main rain snow           sys  \\\n",
       "0  {'temp': 272.09, 'temp_min': 271.358, 'temp_ma...  NaN  NaN  {'pod': 'n'}   \n",
       "1  {'temp': 271.59, 'temp_min': 271.1, 'temp_max'...  NaN  NaN  {'pod': 'n'}   \n",
       "2  {'temp': 271.15, 'temp_min': 270.907, 'temp_ma...  NaN  NaN  {'pod': 'n'}   \n",
       "3  {'temp': 270.722, 'temp_min': 270.722, 'temp_m...  NaN  NaN  {'pod': 'n'}   \n",
       "4  {'temp': 270.63, 'temp_min': 270.63, 'temp_max...  NaN  NaN  {'pod': 'n'}   \n",
       "\n",
       "                                             weather  \\\n",
       "0  [{'id': 803, 'main': 'Clouds', 'description': ...   \n",
       "1  [{'id': 800, 'main': 'Clear', 'description': '...   \n",
       "2  [{'id': 800, 'main': 'Clear', 'description': '...   \n",
       "3  [{'id': 800, 'main': 'Clear', 'description': '...   \n",
       "4  [{'id': 800, 'main': 'Clear', 'description': '...   \n",
       "\n",
       "                              wind  \n",
       "0  {'speed': 3.25, 'deg': 287.822}  \n",
       "1   {'speed': 3.4, 'deg': 294.075}  \n",
       "2  {'speed': 3.47, 'deg': 300.189}  \n",
       "3  {'speed': 3.55, 'deg': 305.558}  \n",
       "4  {'speed': 3.59, 'deg': 309.126}  "
      ]
     },
     "execution_count": 148,
     "metadata": {},
     "output_type": "execute_result"
    }
   ],
   "source": [
    "raw_data.head()"
   ]
  },
  {
   "cell_type": "code",
   "execution_count": 158,
   "metadata": {},
   "outputs": [
    {
     "data": {
      "text/plain": [
       "dict"
      ]
     },
     "execution_count": 158,
     "metadata": {},
     "output_type": "execute_result"
    }
   ],
   "source": [
    "type(raw_data['weather'].iloc[0])"
   ]
  },
  {
   "cell_type": "code",
   "execution_count": 165,
   "metadata": {},
   "outputs": [
    {
     "data": {
      "text/plain": [
       "<function __main__.<lambda>(seq)>"
      ]
     },
     "execution_count": 165,
     "metadata": {},
     "output_type": "execute_result"
    }
   ],
   "source": [
    "lambda seq: seq[0]"
   ]
  },
  {
   "cell_type": "code",
   "execution_count": 170,
   "metadata": {},
   "outputs": [],
   "source": [
    "main_data = pd.DataFrame.from_records(raw_data[\"main\"])\n",
    "\n",
    "def first(seq):\n",
    "    return seq[0]\n",
    "weather_data_ = raw_data['weather'].apply(first)\n",
    "# equivalent\n",
    "weather_data_ = raw_data['weather'].apply(lambda seq: seq[0])\n",
    "# weather_data_ est une seaquence de dictionnaires\n",
    "weather_data = pd.DataFrame.from_records(weather_data_)\n",
    "\n",
    "main_data = pd.concat((main_data, weather_data), axis=1, ignore_index=True)\n",
    "main_data.set_index(raw_data['dt_txt'], inplace=True)\n",
    "main_data.index = pd.DatetimeIndex(main_data.index)\n"
   ]
  },
  {
   "cell_type": "code",
   "execution_count": 181,
   "metadata": {},
   "outputs": [
    {
     "data": {
      "text/html": [
       "<div>\n",
       "<style scoped>\n",
       "    .dataframe tbody tr th:only-of-type {\n",
       "        vertical-align: middle;\n",
       "    }\n",
       "\n",
       "    .dataframe tbody tr th {\n",
       "        vertical-align: top;\n",
       "    }\n",
       "\n",
       "    .dataframe thead th {\n",
       "        text-align: right;\n",
       "    }\n",
       "</style>\n",
       "<table border=\"1\" class=\"dataframe\">\n",
       "  <thead>\n",
       "    <tr style=\"text-align: right;\">\n",
       "      <th></th>\n",
       "      <th>grnd_level</th>\n",
       "      <th>humidity</th>\n",
       "      <th>pressure</th>\n",
       "      <th>sea_level</th>\n",
       "      <th>temp</th>\n",
       "      <th>temp_kf</th>\n",
       "      <th>temp_max</th>\n",
       "      <th>temp_min</th>\n",
       "      <th>id</th>\n",
       "    </tr>\n",
       "    <tr>\n",
       "      <th>dt_txt</th>\n",
       "      <th></th>\n",
       "      <th></th>\n",
       "      <th></th>\n",
       "      <th></th>\n",
       "      <th></th>\n",
       "      <th></th>\n",
       "      <th></th>\n",
       "      <th></th>\n",
       "      <th></th>\n",
       "    </tr>\n",
       "  </thead>\n",
       "  <tbody>\n",
       "    <tr>\n",
       "      <th>2019-03-27</th>\n",
       "      <td>998.045000</td>\n",
       "      <td>100.0</td>\n",
       "      <td>1018.963167</td>\n",
       "      <td>1018.963167</td>\n",
       "      <td>271.100500</td>\n",
       "      <td>0.243333</td>\n",
       "      <td>271.100500</td>\n",
       "      <td>270.856333</td>\n",
       "      <td>800.500000</td>\n",
       "    </tr>\n",
       "    <tr>\n",
       "      <th>2019-03-28</th>\n",
       "      <td>1002.171208</td>\n",
       "      <td>100.0</td>\n",
       "      <td>1022.965167</td>\n",
       "      <td>1022.965167</td>\n",
       "      <td>271.927000</td>\n",
       "      <td>0.000000</td>\n",
       "      <td>271.927000</td>\n",
       "      <td>271.927000</td>\n",
       "      <td>794.958333</td>\n",
       "    </tr>\n",
       "    <tr>\n",
       "      <th>2019-03-29</th>\n",
       "      <td>999.287417</td>\n",
       "      <td>100.0</td>\n",
       "      <td>1019.671750</td>\n",
       "      <td>1019.671750</td>\n",
       "      <td>274.227667</td>\n",
       "      <td>0.000000</td>\n",
       "      <td>274.227667</td>\n",
       "      <td>274.227667</td>\n",
       "      <td>786.958333</td>\n",
       "    </tr>\n",
       "    <tr>\n",
       "      <th>2019-03-30</th>\n",
       "      <td>993.445375</td>\n",
       "      <td>100.0</td>\n",
       "      <td>1013.605583</td>\n",
       "      <td>1013.605583</td>\n",
       "      <td>275.650375</td>\n",
       "      <td>0.000000</td>\n",
       "      <td>275.650375</td>\n",
       "      <td>275.650375</td>\n",
       "      <td>764.750000</td>\n",
       "    </tr>\n",
       "    <tr>\n",
       "      <th>2019-03-31</th>\n",
       "      <td>992.348389</td>\n",
       "      <td>100.0</td>\n",
       "      <td>1012.480111</td>\n",
       "      <td>1012.480111</td>\n",
       "      <td>279.269111</td>\n",
       "      <td>0.000000</td>\n",
       "      <td>279.269111</td>\n",
       "      <td>279.269111</td>\n",
       "      <td>786.277778</td>\n",
       "    </tr>\n",
       "  </tbody>\n",
       "</table>\n",
       "</div>"
      ],
      "text/plain": [
       "             grnd_level  humidity     pressure    sea_level        temp  \\\n",
       "dt_txt                                                                    \n",
       "2019-03-27   998.045000     100.0  1018.963167  1018.963167  271.100500   \n",
       "2019-03-28  1002.171208     100.0  1022.965167  1022.965167  271.927000   \n",
       "2019-03-29   999.287417     100.0  1019.671750  1019.671750  274.227667   \n",
       "2019-03-30   993.445375     100.0  1013.605583  1013.605583  275.650375   \n",
       "2019-03-31   992.348389     100.0  1012.480111  1012.480111  279.269111   \n",
       "\n",
       "             temp_kf    temp_max    temp_min          id  \n",
       "dt_txt                                                    \n",
       "2019-03-27  0.243333  271.100500  270.856333  800.500000  \n",
       "2019-03-28  0.000000  271.927000  271.927000  794.958333  \n",
       "2019-03-29  0.000000  274.227667  274.227667  786.958333  \n",
       "2019-03-30  0.000000  275.650375  275.650375  764.750000  \n",
       "2019-03-31  0.000000  279.269111  279.269111  786.277778  "
      ]
     },
     "execution_count": 181,
     "metadata": {},
     "output_type": "execute_result"
    }
   ],
   "source": [
    "main_data.resample('D').mean()"
   ]
  },
  {
   "cell_type": "code",
   "execution_count": 185,
   "metadata": {},
   "outputs": [
    {
     "data": {
      "text/html": [
       "<div>\n",
       "<style scoped>\n",
       "    .dataframe tbody tr th:only-of-type {\n",
       "        vertical-align: middle;\n",
       "    }\n",
       "\n",
       "    .dataframe tbody tr th {\n",
       "        vertical-align: top;\n",
       "    }\n",
       "\n",
       "    .dataframe thead th {\n",
       "        text-align: right;\n",
       "    }\n",
       "</style>\n",
       "<table border=\"1\" class=\"dataframe\">\n",
       "  <thead>\n",
       "    <tr style=\"text-align: right;\">\n",
       "      <th></th>\n",
       "      <th>grnd_level</th>\n",
       "      <th>humidity</th>\n",
       "      <th>pressure</th>\n",
       "      <th>sea_level</th>\n",
       "      <th>temp</th>\n",
       "      <th>temp_kf</th>\n",
       "      <th>temp_max</th>\n",
       "      <th>temp_min</th>\n",
       "      <th>id</th>\n",
       "    </tr>\n",
       "    <tr>\n",
       "      <th>description</th>\n",
       "      <th></th>\n",
       "      <th></th>\n",
       "      <th></th>\n",
       "      <th></th>\n",
       "      <th></th>\n",
       "      <th></th>\n",
       "      <th></th>\n",
       "      <th></th>\n",
       "      <th></th>\n",
       "    </tr>\n",
       "  </thead>\n",
       "  <tbody>\n",
       "    <tr>\n",
       "      <th>broken clouds</th>\n",
       "      <td>996.380741</td>\n",
       "      <td>100</td>\n",
       "      <td>1016.834074</td>\n",
       "      <td>1016.834074</td>\n",
       "      <td>274.212741</td>\n",
       "      <td>0.027037</td>\n",
       "      <td>274.212741</td>\n",
       "      <td>274.185630</td>\n",
       "      <td>803</td>\n",
       "    </tr>\n",
       "    <tr>\n",
       "      <th>clear sky</th>\n",
       "      <td>996.330727</td>\n",
       "      <td>100</td>\n",
       "      <td>1017.023545</td>\n",
       "      <td>1017.023545</td>\n",
       "      <td>272.111364</td>\n",
       "      <td>0.066364</td>\n",
       "      <td>272.111364</td>\n",
       "      <td>272.044727</td>\n",
       "      <td>800</td>\n",
       "    </tr>\n",
       "    <tr>\n",
       "      <th>few clouds</th>\n",
       "      <td>993.761000</td>\n",
       "      <td>100</td>\n",
       "      <td>1013.782000</td>\n",
       "      <td>1013.782000</td>\n",
       "      <td>275.777000</td>\n",
       "      <td>0.000000</td>\n",
       "      <td>275.777000</td>\n",
       "      <td>275.777000</td>\n",
       "      <td>801</td>\n",
       "    </tr>\n",
       "    <tr>\n",
       "      <th>light rain</th>\n",
       "      <td>992.520500</td>\n",
       "      <td>100</td>\n",
       "      <td>1012.638250</td>\n",
       "      <td>1012.638250</td>\n",
       "      <td>278.080750</td>\n",
       "      <td>0.000000</td>\n",
       "      <td>278.080750</td>\n",
       "      <td>278.080750</td>\n",
       "      <td>500</td>\n",
       "    </tr>\n",
       "    <tr>\n",
       "      <th>light snow</th>\n",
       "      <td>1001.435667</td>\n",
       "      <td>100</td>\n",
       "      <td>1021.913333</td>\n",
       "      <td>1021.913333</td>\n",
       "      <td>273.600000</td>\n",
       "      <td>0.000000</td>\n",
       "      <td>273.600000</td>\n",
       "      <td>273.600000</td>\n",
       "      <td>600</td>\n",
       "    </tr>\n",
       "    <tr>\n",
       "      <th>overcast clouds</th>\n",
       "      <td>998.419149</td>\n",
       "      <td>100</td>\n",
       "      <td>1018.799064</td>\n",
       "      <td>1018.799064</td>\n",
       "      <td>274.905170</td>\n",
       "      <td>0.000000</td>\n",
       "      <td>274.905170</td>\n",
       "      <td>274.905170</td>\n",
       "      <td>804</td>\n",
       "    </tr>\n",
       "    <tr>\n",
       "      <th>scattered clouds</th>\n",
       "      <td>990.823000</td>\n",
       "      <td>100</td>\n",
       "      <td>1010.943667</td>\n",
       "      <td>1010.943667</td>\n",
       "      <td>283.452000</td>\n",
       "      <td>0.000000</td>\n",
       "      <td>283.452000</td>\n",
       "      <td>283.452000</td>\n",
       "      <td>802</td>\n",
       "    </tr>\n",
       "  </tbody>\n",
       "</table>\n",
       "</div>"
      ],
      "text/plain": [
       "                   grnd_level  humidity     pressure    sea_level        temp  \\\n",
       "description                                                                     \n",
       "broken clouds      996.380741       100  1016.834074  1016.834074  274.212741   \n",
       "clear sky          996.330727       100  1017.023545  1017.023545  272.111364   \n",
       "few clouds         993.761000       100  1013.782000  1013.782000  275.777000   \n",
       "light rain         992.520500       100  1012.638250  1012.638250  278.080750   \n",
       "light snow        1001.435667       100  1021.913333  1021.913333  273.600000   \n",
       "overcast clouds    998.419149       100  1018.799064  1018.799064  274.905170   \n",
       "scattered clouds   990.823000       100  1010.943667  1010.943667  283.452000   \n",
       "\n",
       "                   temp_kf    temp_max    temp_min   id  \n",
       "description                                              \n",
       "broken clouds     0.027037  274.212741  274.185630  803  \n",
       "clear sky         0.066364  272.111364  272.044727  800  \n",
       "few clouds        0.000000  275.777000  275.777000  801  \n",
       "light rain        0.000000  278.080750  278.080750  500  \n",
       "light snow        0.000000  273.600000  273.600000  600  \n",
       "overcast clouds   0.000000  274.905170  274.905170  804  \n",
       "scattered clouds  0.000000  283.452000  283.452000  802  "
      ]
     },
     "execution_count": 185,
     "metadata": {},
     "output_type": "execute_result"
    }
   ],
   "source": [
    "main_data.groupby('description').mean()"
   ]
  },
  {
   "cell_type": "code",
   "execution_count": null,
   "metadata": {},
   "outputs": [],
   "source": []
  },
  {
   "cell_type": "code",
   "execution_count": null,
   "metadata": {},
   "outputs": [],
   "source": []
  }
 ],
 "metadata": {
  "kernelspec": {
   "display_name": "Python 3",
   "language": "python",
   "name": "python3"
  },
  "language_info": {
   "codemirror_mode": {
    "name": "ipython",
    "version": 3
   },
   "file_extension": ".py",
   "mimetype": "text/x-python",
   "name": "python",
   "nbconvert_exporter": "python",
   "pygments_lexer": "ipython3",
   "version": "3.7.3"
  }
 },
 "nbformat": 4,
 "nbformat_minor": 2
}
