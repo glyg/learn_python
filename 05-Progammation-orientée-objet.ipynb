{
 "cells": [
  {
   "cell_type": "markdown",
   "metadata": {},
   "source": [
    "<hr/>\n",
    "\n",
    "# Programmation orientée objet\n",
    "\n",
    "* Les concepts de la programmation orientée objet.\n",
    "\n",
    "* Comment s'écrit une classe en Python\n",
    "\n",
    "> Si une classe n'a qu'une fonction à part `__init__` c'est une fonction.\n",
    "\n",
    "* Documentation des classes\n",
    "\n",
    "* Attributs de classe et d'instance, les attributs `property`.\n",
    "\n",
    "* Les méthodes spéciales (surcharge d'opérateurs,` __iter__`).\n",
    "\n",
    "* L'héritage et la redéfinition de fonctions.\n",
    "\n",
    "\n",
    "\n"
   ]
  },
  {
   "cell_type": "code",
   "execution_count": 33,
   "metadata": {},
   "outputs": [
    {
     "data": {
      "text/plain": [
       "['__add__',\n",
       " '__class__',\n",
       " '__contains__',\n",
       " '__delattr__',\n",
       " '__delitem__',\n",
       " '__dir__',\n",
       " '__doc__',\n",
       " '__eq__',\n",
       " '__format__',\n",
       " '__ge__',\n",
       " '__getattribute__',\n",
       " '__getitem__',\n",
       " '__gt__',\n",
       " '__hash__',\n",
       " '__iadd__',\n",
       " '__imul__',\n",
       " '__init__',\n",
       " '__init_subclass__',\n",
       " '__iter__',\n",
       " '__le__',\n",
       " '__len__',\n",
       " '__lt__',\n",
       " '__mul__',\n",
       " '__ne__',\n",
       " '__new__',\n",
       " '__reduce__',\n",
       " '__reduce_ex__',\n",
       " '__repr__',\n",
       " '__reversed__',\n",
       " '__rmul__',\n",
       " '__setattr__',\n",
       " '__setitem__',\n",
       " '__sizeof__',\n",
       " '__str__',\n",
       " '__subclasshook__',\n",
       " 'append',\n",
       " 'clear',\n",
       " 'copy',\n",
       " 'count',\n",
       " 'extend',\n",
       " 'index',\n",
       " 'insert',\n",
       " 'pop',\n",
       " 'remove',\n",
       " 'reverse',\n",
       " 'sort']"
      ]
     },
     "execution_count": 33,
     "metadata": {},
     "output_type": "execute_result"
    }
   ],
   "source": [
    "dir(list)"
   ]
  },
  {
   "cell_type": "code",
   "execution_count": 111,
   "metadata": {},
   "outputs": [],
   "source": [
    "\n",
    "\n",
    "class Pet:\n",
    "    \"\"\"The Pet class describses a pet animal\n",
    "    \n",
    "    \"\"\"\n",
    "    clinic = \"Les toutous\"\n",
    "\n",
    "    \n",
    "    def __init__(self, name, size, weight, species):\n",
    "        \"\"\"Creates a pet\n",
    "        Parameters\n",
    "        ----------\n",
    "        name: str\n",
    "        size : float\n",
    "            the size in cm\n",
    "    \n",
    "        ...\n",
    "        \"\"\"\n",
    "        self.name = name\n",
    "        self.size = size\n",
    "        self.weight = weight\n",
    "        self.species = species\n",
    "        self._bmi = self.weight / (0.01*self.size)**2\n",
    "    \n",
    "    def __str__(self):\n",
    "        raise NotImplementedError\n",
    "        \n",
    "    \n",
    "    \n",
    "    def __mul__(self, other):\n",
    "        if self.species != other.species:\n",
    "            raise TypeError(f\"can't cross {self.species} and {other.species}\")\n",
    "        \n",
    "        return Pet(self.name[:3]+other.name[3:],\n",
    "                   size=1,\n",
    "                   weight=2,\n",
    "                   species=self.species)\n",
    "    \n",
    "    @property\n",
    "    def bmi(self):\n",
    "        self._bmi = self.weight / (0.01*self.size)**2\n",
    "        return self._bmi\n",
    "    \n",
    "    def eat(self, qty, conv=0.4):\n",
    "        self.weight += qty * conv\n",
    "        \n",
    "    \n",
    "    def walk(self, distance, conv=0.1):\n",
    "        self.weight -= distance * conv\n",
    "        \n",
    "\n",
    "        \n",
    "class Cat(Pet):\n",
    "    \n",
    "    def __init__(self, name, size, weight):\n",
    "        super().__init__(name, size, weight, 'cat')\n",
    "    \n",
    "    @staticmethod\n",
    "    def cry(n):\n",
    "        print(\"miaou \" * n)\n",
    "    \n",
    "    @classmethod\n",
    "    def from_dict(cls, data_dict):\n",
    "        return cls(**data_dict)\n",
    "    \n",
    "    def __str__(self):\n",
    "        return f\"Miaou miaou my name is {self.name}\"\n",
    "\n",
    "\n",
    "class Dog(Pet):\n",
    "    def __init__(self, name, size, weight):\n",
    "        super().__init__(name, size, weight, 'dog')\n",
    "    \n",
    "    def __str__(self):\n",
    "        return f\"Wouaf wouaf my name is {self.name}\"\n"
   ]
  },
  {
   "cell_type": "code",
   "execution_count": null,
   "metadata": {},
   "outputs": [],
   "source": []
  },
  {
   "cell_type": "code",
   "execution_count": 112,
   "metadata": {},
   "outputs": [],
   "source": [
    "medor = Dog(\"Médor\", 85, 10)\n",
    "\n",
    "priscilla = Dog(\"Priscilla\", 65, 6)\n",
    "\n",
    "felix = Cat(\"Félix\", 12, 3)"
   ]
  },
  {
   "cell_type": "code",
   "execution_count": 113,
   "metadata": {},
   "outputs": [],
   "source": [
    "felix_data = {\"name\": \"Félix\", \"size\": 30, \"weight\": 4}\n",
    "\n",
    "felix2 = Cat.from_dict(felix_data)\n"
   ]
  },
  {
   "cell_type": "code",
   "execution_count": 114,
   "metadata": {},
   "outputs": [
    {
     "name": "stdout",
     "output_type": "stream",
     "text": [
      "Miaou miaou my name is Félix\n"
     ]
    }
   ],
   "source": [
    "print(felix2)"
   ]
  },
  {
   "cell_type": "code",
   "execution_count": 86,
   "metadata": {},
   "outputs": [
    {
     "name": "stdout",
     "output_type": "stream",
     "text": [
      "miaou miaou miaou miaou miaou miaou miaou miaou miaou miaou miaou miaou \n"
     ]
    }
   ],
   "source": [
    "felix.cry(12)"
   ]
  },
  {
   "cell_type": "code",
   "execution_count": 73,
   "metadata": {},
   "outputs": [
    {
     "data": {
      "text/plain": [
       "'Les toutous'"
      ]
     },
     "execution_count": 73,
     "metadata": {},
     "output_type": "execute_result"
    }
   ],
   "source": [
    "medor.clinic"
   ]
  },
  {
   "cell_type": "code",
   "execution_count": 74,
   "metadata": {},
   "outputs": [
    {
     "data": {
      "text/plain": [
       "'Les toutous'"
      ]
     },
     "execution_count": 74,
     "metadata": {},
     "output_type": "execute_result"
    }
   ],
   "source": [
    "Pet.clinic"
   ]
  },
  {
   "cell_type": "code",
   "execution_count": 68,
   "metadata": {},
   "outputs": [
    {
     "name": "stdout",
     "output_type": "stream",
     "text": [
      "Wouaf wouaf my name is Médor\n"
     ]
    }
   ],
   "source": [
    "print(medor)"
   ]
  },
  {
   "cell_type": "code",
   "execution_count": 69,
   "metadata": {},
   "outputs": [
    {
     "name": "stdout",
     "output_type": "stream",
     "text": [
      "Miaou miaou my name is Félix\n"
     ]
    }
   ],
   "source": [
    "print(felix)"
   ]
  },
  {
   "cell_type": "code",
   "execution_count": 70,
   "metadata": {},
   "outputs": [
    {
     "ename": "TypeError",
     "evalue": "can't cross dog and cat",
     "output_type": "error",
     "traceback": [
      "\u001b[0;31m---------------------------------------------------------------------------\u001b[0m",
      "\u001b[0;31mTypeError\u001b[0m                                 Traceback (most recent call last)",
      "\u001b[0;32m<ipython-input-70-9c9a97740974>\u001b[0m in \u001b[0;36m<module>\u001b[0;34m\u001b[0m\n\u001b[0;32m----> 1\u001b[0;31m \u001b[0mmilou\u001b[0m \u001b[0;34m=\u001b[0m \u001b[0mmedor\u001b[0m \u001b[0;34m*\u001b[0m \u001b[0mfelix\u001b[0m\u001b[0;34m\u001b[0m\u001b[0;34m\u001b[0m\u001b[0m\n\u001b[0m",
      "\u001b[0;32m<ipython-input-66-7a877ed63949>\u001b[0m in \u001b[0;36m__mul__\u001b[0;34m(self, other)\u001b[0m\n\u001b[1;32m     24\u001b[0m     \u001b[0;32mdef\u001b[0m \u001b[0m__mul__\u001b[0m\u001b[0;34m(\u001b[0m\u001b[0mself\u001b[0m\u001b[0;34m,\u001b[0m \u001b[0mother\u001b[0m\u001b[0;34m)\u001b[0m\u001b[0;34m:\u001b[0m\u001b[0;34m\u001b[0m\u001b[0;34m\u001b[0m\u001b[0m\n\u001b[1;32m     25\u001b[0m         \u001b[0;32mif\u001b[0m \u001b[0mself\u001b[0m\u001b[0;34m.\u001b[0m\u001b[0mspecies\u001b[0m \u001b[0;34m!=\u001b[0m \u001b[0mother\u001b[0m\u001b[0;34m.\u001b[0m\u001b[0mspecies\u001b[0m\u001b[0;34m:\u001b[0m\u001b[0;34m\u001b[0m\u001b[0;34m\u001b[0m\u001b[0m\n\u001b[0;32m---> 26\u001b[0;31m             \u001b[0;32mraise\u001b[0m \u001b[0mTypeError\u001b[0m\u001b[0;34m(\u001b[0m\u001b[0;34mf\"can't cross {self.species} and {other.species}\"\u001b[0m\u001b[0;34m)\u001b[0m\u001b[0;34m\u001b[0m\u001b[0;34m\u001b[0m\u001b[0m\n\u001b[0m\u001b[1;32m     27\u001b[0m \u001b[0;34m\u001b[0m\u001b[0m\n\u001b[1;32m     28\u001b[0m         return Pet(self.name[:3]+other.name[3:],\n",
      "\u001b[0;31mTypeError\u001b[0m: can't cross dog and cat"
     ]
    }
   ],
   "source": [
    "milou = medor * felix"
   ]
  },
  {
   "cell_type": "code",
   "execution_count": null,
   "metadata": {},
   "outputs": [],
   "source": []
  },
  {
   "cell_type": "code",
   "execution_count": 43,
   "metadata": {},
   "outputs": [
    {
     "name": "stdout",
     "output_type": "stream",
     "text": [
      "Hello my name is Médscilla\n"
     ]
    }
   ],
   "source": [
    "print(milou)"
   ]
  },
  {
   "cell_type": "code",
   "execution_count": 44,
   "metadata": {},
   "outputs": [],
   "source": [
    "from pathlib import Path"
   ]
  },
  {
   "cell_type": "code",
   "execution_count": 45,
   "metadata": {},
   "outputs": [
    {
     "data": {
      "text/plain": [
       "PosixPath('/home/humancoders')"
      ]
     },
     "execution_count": 45,
     "metadata": {},
     "output_type": "execute_result"
    }
   ],
   "source": [
    "Path(\"/home\") / Path('humancoders')"
   ]
  },
  {
   "cell_type": "code",
   "execution_count": 1,
   "metadata": {},
   "outputs": [],
   "source": [
    "data = [1, 1, 2]"
   ]
  },
  {
   "cell_type": "code",
   "execution_count": 2,
   "metadata": {},
   "outputs": [],
   "source": [
    "dico = {\"res\": 12, \"data\": data}"
   ]
  },
  {
   "cell_type": "code",
   "execution_count": 3,
   "metadata": {},
   "outputs": [
    {
     "data": {
      "text/plain": [
       "[1, 1, 2]"
      ]
     },
     "execution_count": 3,
     "metadata": {},
     "output_type": "execute_result"
    }
   ],
   "source": [
    "data"
   ]
  },
  {
   "cell_type": "code",
   "execution_count": 4,
   "metadata": {},
   "outputs": [
    {
     "data": {
      "text/plain": [
       "[1, 1, 2]"
      ]
     },
     "execution_count": 4,
     "metadata": {},
     "output_type": "execute_result"
    }
   ],
   "source": [
    "dico['data']"
   ]
  },
  {
   "cell_type": "code",
   "execution_count": 5,
   "metadata": {},
   "outputs": [],
   "source": [
    "dico['data'][0] = 100"
   ]
  },
  {
   "cell_type": "code",
   "execution_count": 6,
   "metadata": {},
   "outputs": [
    {
     "data": {
      "text/plain": [
       "[100, 1, 2]"
      ]
     },
     "execution_count": 6,
     "metadata": {},
     "output_type": "execute_result"
    }
   ],
   "source": [
    "data"
   ]
  },
  {
   "cell_type": "code",
   "execution_count": 7,
   "metadata": {},
   "outputs": [],
   "source": [
    "import inspect"
   ]
  },
  {
   "cell_type": "code",
   "execution_count": 8,
   "metadata": {},
   "outputs": [],
   "source": [
    "import sys"
   ]
  },
  {
   "cell_type": "code",
   "execution_count": 12,
   "metadata": {},
   "outputs": [
    {
     "data": {
      "text/plain": [
       "21"
      ]
     },
     "execution_count": 12,
     "metadata": {},
     "output_type": "execute_result"
    }
   ],
   "source": [
    "sys.getrefcount(dico['data'])"
   ]
  },
  {
   "cell_type": "code",
   "execution_count": 11,
   "metadata": {},
   "outputs": [
    {
     "data": {
      "text/plain": [
       "[100, 1, 2]"
      ]
     },
     "execution_count": 11,
     "metadata": {},
     "output_type": "execute_result"
    }
   ],
   "source": [
    "dico['data']"
   ]
  },
  {
   "cell_type": "code",
   "execution_count": 36,
   "metadata": {},
   "outputs": [
    {
     "name": "stdout",
     "output_type": "stream",
     "text": [
      "Hello my name is Médor\n"
     ]
    }
   ],
   "source": [
    "print(medor)"
   ]
  },
  {
   "cell_type": "code",
   "execution_count": 59,
   "metadata": {},
   "outputs": [],
   "source": [
    "medor.eat(1)"
   ]
  },
  {
   "cell_type": "code",
   "execution_count": 63,
   "metadata": {},
   "outputs": [
    {
     "data": {
      "text/plain": [
       "13.84083044982699"
      ]
     },
     "execution_count": 63,
     "metadata": {},
     "output_type": "execute_result"
    }
   ],
   "source": [
    "medor.bmi"
   ]
  },
  {
   "cell_type": "code",
   "execution_count": 55,
   "metadata": {},
   "outputs": [],
   "source": [
    "medor.bmi = 12"
   ]
  },
  {
   "cell_type": "code",
   "execution_count": 56,
   "metadata": {},
   "outputs": [
    {
     "data": {
      "text/plain": [
       "12"
      ]
     },
     "execution_count": 56,
     "metadata": {},
     "output_type": "execute_result"
    }
   ],
   "source": [
    "medor.bmi"
   ]
  },
  {
   "cell_type": "code",
   "execution_count": 41,
   "metadata": {},
   "outputs": [
    {
     "data": {
      "text/plain": [
       "10.4"
      ]
     },
     "execution_count": 41,
     "metadata": {},
     "output_type": "execute_result"
    }
   ],
   "source": [
    "medor.weight"
   ]
  },
  {
   "cell_type": "code",
   "execution_count": 42,
   "metadata": {},
   "outputs": [],
   "source": [
    "medor.walk(10)"
   ]
  },
  {
   "cell_type": "code",
   "execution_count": 43,
   "metadata": {},
   "outputs": [
    {
     "data": {
      "text/plain": [
       "9.4"
      ]
     },
     "execution_count": 43,
     "metadata": {},
     "output_type": "execute_result"
    }
   ],
   "source": [
    "medor.weight"
   ]
  },
  {
   "cell_type": "code",
   "execution_count": 44,
   "metadata": {},
   "outputs": [
    {
     "data": {
      "text/plain": [
       "13.010380622837372"
      ]
     },
     "execution_count": 44,
     "metadata": {},
     "output_type": "execute_result"
    }
   ],
   "source": [
    "medor.bmi"
   ]
  },
  {
   "cell_type": "code",
   "execution_count": 138,
   "metadata": {},
   "outputs": [],
   "source": [
    "import json\n",
    "import subprocess\n",
    "\n",
    "import requests\n",
    "import pandas as pd\n",
    "import matplotlib.pyplot as plt\n",
    "%matplotlib inline\n",
    "\n",
    "\n",
    "from reporter.header import create_header\n",
    "\n",
    "def graph_weather(weather_data, ax=None, save_to=\"graph.png\"):\n",
    "    \n",
    "    if ax is None:\n",
    "        fig, ax = plt.subplots()\n",
    "    else:\n",
    "        fig = ax.get_figure()\n",
    "\n",
    "    ax.scatter(\n",
    "        weather_data['temp'],\n",
    "        weather_data['pressure'],\n",
    "        c=weather_data[\"humidity\"])\n",
    "    fig.savefig(save_to)\n",
    "    \n",
    "    return fig, ax\n",
    "\n",
    "\n",
    "    \n",
    "class Generator:\n",
    "    \n",
    "    def __init__(self, authors_json_path, link):\n",
    "        \n",
    "        self.authors_json = authors_json_path\n",
    "        self.link = link\n",
    "        self.authors = self._parse_authors()\n",
    "        self.data = self._parse_data()\n",
    "        self.graph_path = None\n",
    "        \n",
    "    def _parse_authors(self):\n",
    "        with open(self.authors_json, 'r') as fp:\n",
    "            authors = json.load(fp)\n",
    "        return authors\n",
    "\n",
    "    def _parse_data(self):\n",
    "        with requests.get(link) as response:\n",
    "            content = json.loads(response.content)\n",
    "        weather = pd.DataFrame(content['list'])\n",
    "        weather_main = pd.DataFrame.from_records(weather['main'])\n",
    "        return weather_main\n",
    "        \n",
    "    def make_graph(self, save_to='graph.png'):\n",
    "        fig, ax = graph_weather(self.data, save_to=save_to)\n",
    "        self.graph_path = save_to\n",
    "    \n",
    "    def make_md(self):\n",
    "        header_str = create_header(self.authors)\n",
    "        self.make_graph()\n",
    "        md_text = header_str + f'\\n\\n![le temps]({self.graph_path})\\n'\n",
    "        \n",
    "        with open(\"report.md\", 'w', encoding='utf-8') as fp:\n",
    "            fp.write(md_text)\n",
    "        \n",
    "    def convert_report(self, fmt='html', reset=False):\n",
    "        if reset:\n",
    "            self.make_md()\n",
    "        subprocess.run([\"pandoc\", \"report.md\", \"-o\", f\"report.{fmt}\"])\n",
    "        "
   ]
  },
  {
   "cell_type": "code",
   "execution_count": null,
   "metadata": {},
   "outputs": [],
   "source": []
  },
  {
   "cell_type": "code",
   "execution_count": 139,
   "metadata": {},
   "outputs": [],
   "source": [
    "link = \"http://samples.openweathermap.org/data/2.5/forecast/hourly?id=524901&appid=b6907d289e10d714a6e88b30761fae22\"\n",
    "gen = Generator('authors.json', link)"
   ]
  },
  {
   "cell_type": "code",
   "execution_count": null,
   "metadata": {},
   "outputs": [],
   "source": []
  },
  {
   "cell_type": "code",
   "execution_count": 140,
   "metadata": {},
   "outputs": [
    {
     "name": "stderr",
     "output_type": "stream",
     "text": [
      "/home/humancoders/miniconda3/lib/python3.7/site-packages/reporter-0.0.1-py3.7.egg/reporter/header.py:28: UserWarning: key \"firstname\" not found in {'lastname': 'Harisson', 'birth_year': 1943, 'instru': 'Bass'}\n",
      "  warnings.warn(f'key \"firstname\" not found in {aut}')\n"
     ]
    },
    {
     "data": {
      "image/png": "[encoded data removed]",
      "text/plain": [
       "<Figure size 432x288 with 1 Axes>"
      ]
     },
     "metadata": {
      "needs_background": "light"
     },
     "output_type": "display_data"
    }
   ],
   "source": [
    "gen.make_md()"
   ]
  },
  {
   "cell_type": "code",
   "execution_count": 141,
   "metadata": {},
   "outputs": [],
   "source": [
    "gen.convert_report()"
   ]
  },
  {
   "cell_type": "code",
   "execution_count": 143,
   "metadata": {},
   "outputs": [
    {
     "data": {
      "text/plain": [
       "CompletedProcess(args=['firefox', 'report.html'], returncode=0)"
      ]
     },
     "execution_count": 143,
     "metadata": {},
     "output_type": "execute_result"
    }
   ],
   "source": [
    "subprocess.run(['firefox', \"report.html\"])"
   ]
  },
  {
   "cell_type": "code",
   "execution_count": 104,
   "metadata": {},
   "outputs": [
    {
     "data": {
      "image/png": "[encoded data removed]",
      "text/plain": [
       "<Figure size 432x288 with 6 Axes>"
      ]
     },
     "metadata": {
      "needs_background": "light"
     },
     "output_type": "display_data"
    }
   ],
   "source": [
    "fig, axes = plt.subplots(2, 3,)\n",
    "for ax in axes.ravel():\n",
    "    ax.set_title(\"test\")\n",
    "fig.tight_layout()\n",
    "fig.savefig('sxerz.png')"
   ]
  },
  {
   "cell_type": "code",
   "execution_count": 102,
   "metadata": {},
   "outputs": [
    {
     "data": {
      "image/png": "[encoded data removed]",
      "text/plain": [
       "<Figure size 432x288 with 1 Axes>"
      ]
     },
     "metadata": {
      "needs_background": "light"
     },
     "output_type": "display_data"
    }
   ],
   "source": [
    "fig, ax = plt.subplots()\n",
    "fig.savefig('sxerz.png')"
   ]
  },
  {
   "cell_type": "markdown",
   "metadata": {},
   "source": [
    "Blagnac le 22/11/2019\n",
    "\n",
    "### Auteurs\n",
    "\n",
    "- John Lennon\n",
    "- Paul McCartney\n",
    "\n",
    "![la legende du graphe](graph.png)\n",
    "\n"
   ]
  },
  {
   "cell_type": "code",
   "execution_count": null,
   "metadata": {},
   "outputs": [],
   "source": [
    "fig, ax = plt.subplots()\n",
    "ax.plot()\n",
    "fig.savefig('erqe.png')"
   ]
  },
  {
   "cell_type": "code",
   "execution_count": null,
   "metadata": {},
   "outputs": [],
   "source": [
    "\n"
   ]
  },
  {
   "cell_type": "code",
   "execution_count": 119,
   "metadata": {},
   "outputs": [],
   "source": [
    "import subprocess\n",
    "cp = subprocess.run(\"pandoc report.md -o report.docx\".split(), capture_output=True)"
   ]
  },
  {
   "cell_type": "code",
   "execution_count": 120,
   "metadata": {},
   "outputs": [
    {
     "data": {
      "text/plain": [
       "b'pandoc: report.md: openBinaryFile: does not exist (No such file or directory)\\n'"
      ]
     },
     "execution_count": 120,
     "metadata": {},
     "output_type": "execute_result"
    }
   ],
   "source": [
    "cp.stderr"
   ]
  },
  {
   "cell_type": "code",
   "execution_count": 118,
   "metadata": {},
   "outputs": [],
   "source": [
    "cp.stdout"
   ]
  },
  {
   "cell_type": "markdown",
   "metadata": {},
   "source": [
    "## Décorateurs"
   ]
  },
  {
   "cell_type": "code",
   "execution_count": 1,
   "metadata": {},
   "outputs": [],
   "source": [
    "import logging\n",
    "\n",
    "logger = logging.getLogger('jupyter')\n",
    "logger.setLevel('INFO')\n",
    "handler = logging.FileHandler(\"jupyter.log\")\n",
    "logger.addHandler(handler)"
   ]
  },
  {
   "cell_type": "code",
   "execution_count": 2,
   "metadata": {},
   "outputs": [],
   "source": [
    "logger.warning(\"Test logger\")"
   ]
  },
  {
   "cell_type": "code",
   "execution_count": 5,
   "metadata": {},
   "outputs": [],
   "source": [
    "def say_hello(name):\n",
    "    logger.info('entering say_hello')\n",
    "    print(f\"Hello {name}\")\n",
    "    logger.info('exiting say_hello')\n",
    "    \n",
    "def say_bonjour(name):\n",
    "    logger.info('entering say_bonjour')\n",
    "    print(f\"Bonjour {name}\")\n",
    "    logger.info('exiting say_bonjour')\n",
    "    "
   ]
  },
  {
   "cell_type": "code",
   "execution_count": 4,
   "metadata": {},
   "outputs": [
    {
     "name": "stdout",
     "output_type": "stream",
     "text": [
      "Hello John\n"
     ]
    }
   ],
   "source": [
    "say_hello(\"John\")"
   ]
  },
  {
   "cell_type": "code",
   "execution_count": null,
   "metadata": {},
   "outputs": [],
   "source": []
  },
  {
   "cell_type": "code",
   "execution_count": 27,
   "metadata": {},
   "outputs": [],
   "source": [
    "from functools import wraps\n",
    "\n",
    "def log_call(fun):\n",
    "    \n",
    "    @wraps(fun)\n",
    "    def decorated(*args, **kwargs):\n",
    "        print(args)\n",
    "        print(kwargs)\n",
    "        logger.info(f'entering {fun.__name__}')\n",
    "        print(f'entering {fun.__name__}')\n",
    "        res = fun(*args, **kwargs)\n",
    "        logger.info(f'exiting {fun.__name__}') \n",
    "        return res\n",
    "    return decorated\n",
    "\n",
    "def say_hello(name):\n",
    "    print(f\"Hello {name}\")\n",
    "    \n",
    "@log_call\n",
    "def say_bonjour(name):\n",
    "    \"\"\"Says bonjour\"\"\"\n",
    "    print(f\"Bonjour {name}\")\n",
    "    \n",
    "@log_call    \n",
    "def divide_by(num, by=10):\n",
    "    return num/by\n",
    "    "
   ]
  },
  {
   "cell_type": "code",
   "execution_count": 30,
   "metadata": {},
   "outputs": [
    {
     "name": "stdout",
     "output_type": "stream",
     "text": [
      "('Michel',)\n",
      "{}\n",
      "entering say_bonjour\n",
      "Bonjour Michel\n"
     ]
    }
   ],
   "source": [
    "say_bonjour(\"Michel\")"
   ]
  },
  {
   "cell_type": "code",
   "execution_count": 29,
   "metadata": {},
   "outputs": [
    {
     "name": "stdout",
     "output_type": "stream",
     "text": [
      "(12,)\n",
      "{'by': 4}\n",
      "entering divide_by\n"
     ]
    },
    {
     "data": {
      "text/plain": [
       "3.0"
      ]
     },
     "execution_count": 29,
     "metadata": {},
     "output_type": "execute_result"
    }
   ],
   "source": [
    "divide_by(12, by=4)"
   ]
  },
  {
   "cell_type": "code",
   "execution_count": 21,
   "metadata": {},
   "outputs": [],
   "source": [
    "def arbitrary(*args, **kwargs):\n",
    "    print(\"passed as args: \")\n",
    "    print(args, '\\n')\n",
    "    \n",
    "    print(\"passed as kwargs: \")\n",
    "    print(kwargs, '\\n')\n",
    "    "
   ]
  },
  {
   "cell_type": "code",
   "execution_count": 24,
   "metadata": {},
   "outputs": [
    {
     "name": "stdout",
     "output_type": "stream",
     "text": [
      "passed as args: \n",
      "(1, 2, 3) \n",
      "\n",
      "passed as kwargs: \n",
      "{'v': 12, 'qzer': 'tremplin'} \n",
      "\n"
     ]
    }
   ],
   "source": [
    "arbitrary(1, 2, 3, v=12, qzer=\"tremplin\")"
   ]
  },
  {
   "cell_type": "code",
   "execution_count": 31,
   "metadata": {},
   "outputs": [],
   "source": [
    "import matplotlib.pyplot as plt"
   ]
  },
  {
   "cell_type": "code",
   "execution_count": 32,
   "metadata": {},
   "outputs": [],
   "source": [
    "plt.plot?"
   ]
  },
  {
   "cell_type": "code",
   "execution_count": null,
   "metadata": {},
   "outputs": [],
   "source": []
  },
  {
   "cell_type": "code",
   "execution_count": 17,
   "metadata": {},
   "outputs": [],
   "source": [
    "hello_decorated = log_call(say_hello)"
   ]
  },
  {
   "cell_type": "code",
   "execution_count": 18,
   "metadata": {},
   "outputs": [
    {
     "name": "stdout",
     "output_type": "stream",
     "text": [
      "entering say_hello\n",
      "Hello Pablo\n"
     ]
    }
   ],
   "source": [
    "hello_decorated('Pablo')"
   ]
  },
  {
   "cell_type": "code",
   "execution_count": 19,
   "metadata": {},
   "outputs": [
    {
     "name": "stdout",
     "output_type": "stream",
     "text": [
      "entering say_bonjour\n",
      "Bonjour Marcel\n"
     ]
    }
   ],
   "source": [
    "say_bonjour('Marcel')"
   ]
  },
  {
   "cell_type": "code",
   "execution_count": 20,
   "metadata": {},
   "outputs": [],
   "source": [
    "say_bonjour?"
   ]
  },
  {
   "cell_type": "markdown",
   "metadata": {},
   "source": [
    "> Exercice: Créer une classe `Generator` qui complète notre module créé plus haut "
   ]
  },
  {
   "cell_type": "code",
   "execution_count": null,
   "metadata": {},
   "outputs": [],
   "source": []
  }
 ],
 "metadata": {
  "kernelspec": {
   "display_name": "Python 3",
   "language": "python",
   "name": "python3"
  },
  "language_info": {
   "codemirror_mode": {
    "name": "ipython",
    "version": 3
   },
   "file_extension": ".py",
   "mimetype": "text/x-python",
   "name": "python",
   "nbconvert_exporter": "python",
   "pygments_lexer": "ipython3",
   "version": "3.7.3"
  }
 },
 "nbformat": 4,
 "nbformat_minor": 2
}
