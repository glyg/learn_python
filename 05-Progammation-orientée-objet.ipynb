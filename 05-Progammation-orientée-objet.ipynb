{
 "cells": [
  {
   "cell_type": "markdown",
   "metadata": {},
   "source": [
    "<hr/>\n",
    "\n",
    "# Programmation orientée objet\n",
    "\n",
    "* Les concepts de la programmation orientée objet.\n",
    "\n",
    "* Comment s'écrit une classe en Python\n",
    "\n",
    "> Si une classe n'a qu'une fonction à part `__init__` c'est une fonction.\n",
    "\n",
    "* Documentation des classes\n",
    "\n",
    "* Attributs de classe et d'instance, les attributs `property`.\n",
    "\n",
    "* Les méthodes spéciales (surcharge d'opérateurs,` __iter__`).\n",
    "\n",
    "* L'héritage et la redéfinition de fonctions.\n",
    "\n",
    "\n",
    "\n"
   ]
  },
  {
   "cell_type": "code",
   "execution_count": 2,
   "metadata": {},
   "outputs": [],
   "source": [
    "import pandas as  pd\n",
    "import uuid"
   ]
  },
  {
   "cell_type": "code",
   "execution_count": 79,
   "metadata": {},
   "outputs": [],
   "source": [
    "class Inventory:\n",
    "    \"\"\"Class docstring\n",
    "    \n",
    "    \"\"\"\n",
    "    columns = ['id', 'qty', 'descr']\n",
    "    \n",
    "    def __init__(self, owner, site):\n",
    "        \"\"\"Init documentation\n",
    "        \"\"\"\n",
    "        self.owner = owner\n",
    "        self.site = site\n",
    "        \n",
    "        self.stock = pd.DataFrame(\n",
    "            columns=self.columns)\n",
    "        self.stock.index.name = \"name\"\n",
    "        \n",
    "    def add_item(self, name, qty, descr):\n",
    "        \n",
    "        if name in self.stock.index:\n",
    "            self.stock.loc[name, \"qty\"] += qty\n",
    "        else:\n",
    "            self.stock.loc[name] = [uuid.uuid1(), qty, descr]\n",
    "\n",
    "    def take_item(self, name, qty=1):\n",
    "        if not name in self.stock.index:\n",
    "            raise ValueError(f'{name} not in inventory')\n",
    "        \n",
    "        buffer = self.stock.loc[name, \"qty\"]\n",
    "        if buffer > qty:\n",
    "            self.stock.loc[name, \"qty\"] -= qty\n",
    "        else:\n",
    "            # breakpoint()\n",
    "            print(f\"Only {buffer} {name} available\")\n",
    "            self.stock.loc[name, \"qty\"] = 0\n",
    "            \n",
    "\n",
    "class PharmaInventory(Inventory):\n",
    "    \n",
    "    columns = Inventory.columns + ['category',]\n",
    "    def add_item(self, name, qty, descr, category):\n",
    "        \n",
    "        if name in self.stock.index:\n",
    "            self.stock.loc[name, \"qty\"] += qty\n",
    "        else:\n",
    "            self.stock.loc[name] = [uuid.uuid1(), qty, descr, category]\n",
    "\n",
    "            "
   ]
  },
  {
   "cell_type": "code",
   "execution_count": 79,
   "metadata": {},
   "outputs": [],
   "source": [
    "class Inventory:\n",
    "    \"\"\"Class docstring\n",
    "    \n",
    "    \"\"\"\n",
    "    columns = ['id', 'qty', 'descr']\n",
    "    \n",
    "    def __init__(self, owner, site):\n",
    "        \"\"\"Init documentation\n",
    "        \"\"\"\n",
    "        self.owner = owner\n",
    "        self.site = site\n",
    "        \n",
    "        self.stock = pd.DataFrame(\n",
    "            columns=self.columns)\n",
    "        self.stock.index.name = \"name\"\n",
    "        \n",
    "    def add_item(self, name, qty, descr):\n",
    "        \n",
    "        if name in self.stock.index:\n",
    "            self.stock.loc[name, \"qty\"] += qty\n",
    "        else:\n",
    "            self.stock.loc[name] = [uuid.uuid1(), qty, descr]\n",
    "\n",
    "    def take_item(self, name, qty=1):\n",
    "        if not name in self.stock.index:\n",
    "            raise ValueError(f'{name} not in inventory')\n",
    "        \n",
    "        buffer = self.stock.loc[name, \"qty\"]\n",
    "        if buffer > qty:\n",
    "            self.stock.loc[name, \"qty\"] -= qty\n",
    "        else:\n",
    "            # breakpoint()\n",
    "            print(f\"Only {buffer} {name} available\")\n",
    "            self.stock.loc[name, \"qty\"] = 0\n",
    "            \n",
    "\n",
    "class PharmaInventory(Inventory):\n",
    "    \n",
    "    columns = Inventory.columns + ['category',]\n",
    "    def add_item(self, name, qty, descr, category):\n",
    "        \n",
    "        if name in self.stock.index:\n",
    "            self.stock.loc[name, \"qty\"] += qty\n",
    "        else:\n",
    "            self.stock.loc[name] = [uuid.uuid1(), qty, descr, category]\n",
    "\n",
    "            "
   ]
  },
  {
   "cell_type": "code",
   "execution_count": 95,
   "metadata": {},
   "outputs": [],
   "source": [
    "class Inventory:\n",
    "    \"\"\"Class docstring\n",
    "    \n",
    "    \"\"\"\n",
    "    columns = ['id', 'qty']\n",
    "    \n",
    "    def __init__(self, owner, site):\n",
    "        \"\"\"Init documentation\n",
    "        \"\"\"\n",
    "        self.owner = owner\n",
    "        self.site = site\n",
    "        \n",
    "        self.stock = pd.DataFrame(\n",
    "            columns=self.columns)\n",
    "        self.stock.index.name = \"name\"\n",
    "        \n",
    "    def add_item(self, name, qty, *other):\n",
    "        \n",
    "        if name in self.stock.index:\n",
    "            self.stock.loc[name, \"qty\"] += qty\n",
    "        else:\n",
    "            self.stock.loc[name] = [uuid.uuid1(), qty] + list(other)\n",
    "\n",
    "    def take_item(self, name, qty=1):\n",
    "        if not name in self.stock.index:\n",
    "            raise ValueError(f'{name} not in inventory')\n",
    "        \n",
    "        buffer = self.stock.loc[name, \"qty\"]\n",
    "        if buffer > qty:\n",
    "            self.stock.loc[name, \"qty\"] -= qty\n",
    "        else:\n",
    "            # breakpoint()\n",
    "            print(f\"Only {buffer} {name} available\")\n",
    "            self.stock.loc[name, \"qty\"] = 0\n",
    "            \n",
    "\n",
    "class PharmaInventory(Inventory):\n",
    "    \n",
    "    columns = Inventory.columns + ['category',]\n",
    "\n",
    "            "
   ]
  },
  {
   "cell_type": "code",
   "execution_count": 96,
   "metadata": {},
   "outputs": [],
   "source": [
    "inventory = Inventory(\"John\", \"Rambouillet\")"
   ]
  },
  {
   "cell_type": "code",
   "execution_count": 97,
   "metadata": {},
   "outputs": [],
   "source": [
    "inventory.add_item(\"crayon\", 12)"
   ]
  },
  {
   "cell_type": "code",
   "execution_count": 98,
   "metadata": {},
   "outputs": [
    {
     "data": {
      "text/html": [
       "<div>\n",
       "<style scoped>\n",
       "    .dataframe tbody tr th:only-of-type {\n",
       "        vertical-align: middle;\n",
       "    }\n",
       "\n",
       "    .dataframe tbody tr th {\n",
       "        vertical-align: top;\n",
       "    }\n",
       "\n",
       "    .dataframe thead th {\n",
       "        text-align: right;\n",
       "    }\n",
       "</style>\n",
       "<table border=\"1\" class=\"dataframe\">\n",
       "  <thead>\n",
       "    <tr style=\"text-align: right;\">\n",
       "      <th></th>\n",
       "      <th>id</th>\n",
       "      <th>qty</th>\n",
       "    </tr>\n",
       "    <tr>\n",
       "      <th>name</th>\n",
       "      <th></th>\n",
       "      <th></th>\n",
       "    </tr>\n",
       "  </thead>\n",
       "  <tbody>\n",
       "    <tr>\n",
       "      <th>crayon</th>\n",
       "      <td>6658f834-1db0-11ea-b3ef-c599ba350267</td>\n",
       "      <td>12</td>\n",
       "    </tr>\n",
       "  </tbody>\n",
       "</table>\n",
       "</div>"
      ],
      "text/plain": [
       "                                          id qty\n",
       "name                                            \n",
       "crayon  6658f834-1db0-11ea-b3ef-c599ba350267  12"
      ]
     },
     "execution_count": 98,
     "metadata": {},
     "output_type": "execute_result"
    }
   ],
   "source": [
    "inventory.stock"
   ]
  },
  {
   "cell_type": "code",
   "execution_count": 99,
   "metadata": {},
   "outputs": [],
   "source": [
    "ph_inventory = PharmaInventory(\"Jeane\", \"Clignancourt\")"
   ]
  },
  {
   "cell_type": "code",
   "execution_count": 100,
   "metadata": {},
   "outputs": [
    {
     "data": {
      "text/html": [
       "<div>\n",
       "<style scoped>\n",
       "    .dataframe tbody tr th:only-of-type {\n",
       "        vertical-align: middle;\n",
       "    }\n",
       "\n",
       "    .dataframe tbody tr th {\n",
       "        vertical-align: top;\n",
       "    }\n",
       "\n",
       "    .dataframe thead th {\n",
       "        text-align: right;\n",
       "    }\n",
       "</style>\n",
       "<table border=\"1\" class=\"dataframe\">\n",
       "  <thead>\n",
       "    <tr style=\"text-align: right;\">\n",
       "      <th></th>\n",
       "      <th>id</th>\n",
       "      <th>qty</th>\n",
       "      <th>category</th>\n",
       "    </tr>\n",
       "    <tr>\n",
       "      <th>name</th>\n",
       "      <th></th>\n",
       "      <th></th>\n",
       "      <th></th>\n",
       "    </tr>\n",
       "  </thead>\n",
       "  <tbody>\n",
       "  </tbody>\n",
       "</table>\n",
       "</div>"
      ],
      "text/plain": [
       "Empty DataFrame\n",
       "Columns: [id, qty, category]\n",
       "Index: []"
      ]
     },
     "execution_count": 100,
     "metadata": {},
     "output_type": "execute_result"
    }
   ],
   "source": [
    "ph_inventory.stock"
   ]
  },
  {
   "cell_type": "code",
   "execution_count": 85,
   "metadata": {},
   "outputs": [
    {
     "data": {
      "text/html": [
       "<div>\n",
       "<style scoped>\n",
       "    .dataframe tbody tr th:only-of-type {\n",
       "        vertical-align: middle;\n",
       "    }\n",
       "\n",
       "    .dataframe tbody tr th {\n",
       "        vertical-align: top;\n",
       "    }\n",
       "\n",
       "    .dataframe thead th {\n",
       "        text-align: right;\n",
       "    }\n",
       "</style>\n",
       "<table border=\"1\" class=\"dataframe\">\n",
       "  <thead>\n",
       "    <tr style=\"text-align: right;\">\n",
       "      <th></th>\n",
       "      <th>id</th>\n",
       "      <th>qty</th>\n",
       "      <th>descr</th>\n",
       "    </tr>\n",
       "    <tr>\n",
       "      <th>name</th>\n",
       "      <th></th>\n",
       "      <th></th>\n",
       "      <th></th>\n",
       "    </tr>\n",
       "  </thead>\n",
       "  <tbody>\n",
       "    <tr>\n",
       "      <th>crayon</th>\n",
       "      <td>a8d01b4e-1daf-11ea-b3ef-c599ba350267</td>\n",
       "      <td>12</td>\n",
       "      <td>crayon feutre</td>\n",
       "    </tr>\n",
       "  </tbody>\n",
       "</table>\n",
       "</div>"
      ],
      "text/plain": [
       "                                          id qty          descr\n",
       "name                                                           \n",
       "crayon  a8d01b4e-1daf-11ea-b3ef-c599ba350267  12  crayon feutre"
      ]
     },
     "execution_count": 85,
     "metadata": {},
     "output_type": "execute_result"
    }
   ],
   "source": [
    "inventory.stock"
   ]
  },
  {
   "cell_type": "code",
   "execution_count": 101,
   "metadata": {},
   "outputs": [],
   "source": [
    "ph_inventory.add_item(\"ibuprofene\", 36, 1)"
   ]
  },
  {
   "cell_type": "code",
   "execution_count": 110,
   "metadata": {},
   "outputs": [],
   "source": [
    "def colors(r=1, g=0, b=0, alpha=1, size=1):\n",
    "    return [r, g, b]*size\n",
    "    \n",
    "def arbitrary(*args, **kwargs):\n",
    "    \"\"\"\n",
    "    kwargs are defered to the `colors` function\n",
    "    \n",
    "    \n",
    "    \"\"\"\n",
    "    print(\"args contains:\")\n",
    "    print(args)\n",
    "    print(\"********\")\n",
    "    print(\"kwargs contains:\")\n",
    "    print(kwargs)\n",
    "    print(\"********\")\n",
    "    colors(**kwargs)"
   ]
  },
  {
   "cell_type": "code",
   "execution_count": 106,
   "metadata": {},
   "outputs": [
    {
     "name": "stdout",
     "output_type": "stream",
     "text": [
      "args contains:\n",
      "(3, 4, 5)\n",
      "********\n",
      "kwargs contains:\n",
      "{'side': 'left', 'range': (2, 3)}\n",
      "********\n"
     ]
    }
   ],
   "source": [
    "arbitrary(3, 4, 5, side='left', range=(2, 3))"
   ]
  },
  {
   "cell_type": "code",
   "execution_count": 108,
   "metadata": {},
   "outputs": [],
   "source": [
    "import matplotlib.pyplot as plt"
   ]
  },
  {
   "cell_type": "code",
   "execution_count": 109,
   "metadata": {},
   "outputs": [],
   "source": [
    "plt.plot?"
   ]
  },
  {
   "cell_type": "code",
   "execution_count": 88,
   "metadata": {},
   "outputs": [
    {
     "data": {
      "text/html": [
       "<div>\n",
       "<style scoped>\n",
       "    .dataframe tbody tr th:only-of-type {\n",
       "        vertical-align: middle;\n",
       "    }\n",
       "\n",
       "    .dataframe tbody tr th {\n",
       "        vertical-align: top;\n",
       "    }\n",
       "\n",
       "    .dataframe thead th {\n",
       "        text-align: right;\n",
       "    }\n",
       "</style>\n",
       "<table border=\"1\" class=\"dataframe\">\n",
       "  <thead>\n",
       "    <tr style=\"text-align: right;\">\n",
       "      <th></th>\n",
       "      <th>id</th>\n",
       "      <th>qty</th>\n",
       "      <th>descr</th>\n",
       "      <th>category</th>\n",
       "    </tr>\n",
       "    <tr>\n",
       "      <th>name</th>\n",
       "      <th></th>\n",
       "      <th></th>\n",
       "      <th></th>\n",
       "      <th></th>\n",
       "    </tr>\n",
       "  </thead>\n",
       "  <tbody>\n",
       "    <tr>\n",
       "      <th>ibuprofene</th>\n",
       "      <td>bcd37b9a-1daf-11ea-b3ef-c599ba350267</td>\n",
       "      <td>36</td>\n",
       "      <td>dragées</td>\n",
       "      <td>1</td>\n",
       "    </tr>\n",
       "  </tbody>\n",
       "</table>\n",
       "</div>"
      ],
      "text/plain": [
       "                                              id qty    descr category\n",
       "name                                                                  \n",
       "ibuprofene  bcd37b9a-1daf-11ea-b3ef-c599ba350267  36  dragées        1"
      ]
     },
     "execution_count": 88,
     "metadata": {},
     "output_type": "execute_result"
    }
   ],
   "source": [
    "ph_inventory.stock"
   ]
  },
  {
   "cell_type": "code",
   "execution_count": 70,
   "metadata": {},
   "outputs": [],
   "source": [
    "inventory.add_item(\"crayon\", \"crayon feutre\", 12)"
   ]
  },
  {
   "cell_type": "code",
   "execution_count": 71,
   "metadata": {},
   "outputs": [
    {
     "name": "stdout",
     "output_type": "stream",
     "text": [
      "Automatic pdb calling has been turned ON\n"
     ]
    }
   ],
   "source": [
    "%pdb"
   ]
  },
  {
   "cell_type": "code",
   "execution_count": 72,
   "metadata": {},
   "outputs": [
    {
     "ename": "ValueError",
     "evalue": "stylo not in inventory",
     "output_type": "error",
     "traceback": [
      "\u001b[0;31m---------------------------------------------------------------------------\u001b[0m",
      "\u001b[0;31mValueError\u001b[0m                                Traceback (most recent call last)",
      "\u001b[0;32m<ipython-input-72-69e69978d2b8>\u001b[0m in \u001b[0;36m<module>\u001b[0;34m\u001b[0m\n\u001b[0;32m----> 1\u001b[0;31m \u001b[0minventory\u001b[0m\u001b[0;34m.\u001b[0m\u001b[0mtake_item\u001b[0m\u001b[0;34m(\u001b[0m\u001b[0;34m\"stylo\"\u001b[0m\u001b[0;34m,\u001b[0m \u001b[0;36m2\u001b[0m\u001b[0;34m)\u001b[0m\u001b[0;34m\u001b[0m\u001b[0;34m\u001b[0m\u001b[0m\n\u001b[0m",
      "\u001b[0;32m<ipython-input-66-68bca102b0ff>\u001b[0m in \u001b[0;36mtake_item\u001b[0;34m(self, name, qty)\u001b[0m\n\u001b[1;32m     20\u001b[0m     \u001b[0;32mdef\u001b[0m \u001b[0mtake_item\u001b[0m\u001b[0;34m(\u001b[0m\u001b[0mself\u001b[0m\u001b[0;34m,\u001b[0m \u001b[0mname\u001b[0m\u001b[0;34m,\u001b[0m \u001b[0mqty\u001b[0m\u001b[0;34m=\u001b[0m\u001b[0;36m1\u001b[0m\u001b[0;34m)\u001b[0m\u001b[0;34m:\u001b[0m\u001b[0;34m\u001b[0m\u001b[0;34m\u001b[0m\u001b[0m\n\u001b[1;32m     21\u001b[0m         \u001b[0;32mif\u001b[0m \u001b[0;32mnot\u001b[0m \u001b[0mname\u001b[0m \u001b[0;32min\u001b[0m \u001b[0mself\u001b[0m\u001b[0;34m.\u001b[0m\u001b[0mstock\u001b[0m\u001b[0;34m.\u001b[0m\u001b[0mindex\u001b[0m\u001b[0;34m:\u001b[0m\u001b[0;34m\u001b[0m\u001b[0;34m\u001b[0m\u001b[0m\n\u001b[0;32m---> 22\u001b[0;31m             \u001b[0;32mraise\u001b[0m \u001b[0mValueError\u001b[0m\u001b[0;34m(\u001b[0m\u001b[0;34mf'{name} not in inventory'\u001b[0m\u001b[0;34m)\u001b[0m\u001b[0;34m\u001b[0m\u001b[0;34m\u001b[0m\u001b[0m\n\u001b[0m\u001b[1;32m     23\u001b[0m \u001b[0;34m\u001b[0m\u001b[0m\n\u001b[1;32m     24\u001b[0m         \u001b[0mbuffer\u001b[0m \u001b[0;34m=\u001b[0m \u001b[0mself\u001b[0m\u001b[0;34m.\u001b[0m\u001b[0mstock\u001b[0m\u001b[0;34m.\u001b[0m\u001b[0mloc\u001b[0m\u001b[0;34m[\u001b[0m\u001b[0mname\u001b[0m\u001b[0;34m,\u001b[0m \u001b[0;34m\"qty\"\u001b[0m\u001b[0;34m]\u001b[0m\u001b[0;34m\u001b[0m\u001b[0;34m\u001b[0m\u001b[0m\n",
      "\u001b[0;31mValueError\u001b[0m: stylo not in inventory"
     ]
    },
    {
     "name": "stdout",
     "output_type": "stream",
     "text": [
      "> \u001b[0;32m<ipython-input-66-68bca102b0ff>\u001b[0m(22)\u001b[0;36mtake_item\u001b[0;34m()\u001b[0m\n",
      "\u001b[0;32m     20 \u001b[0;31m    \u001b[0;32mdef\u001b[0m \u001b[0mtake_item\u001b[0m\u001b[0;34m(\u001b[0m\u001b[0mself\u001b[0m\u001b[0;34m,\u001b[0m \u001b[0mname\u001b[0m\u001b[0;34m,\u001b[0m \u001b[0mqty\u001b[0m\u001b[0;34m=\u001b[0m\u001b[0;36m1\u001b[0m\u001b[0;34m)\u001b[0m\u001b[0;34m:\u001b[0m\u001b[0;34m\u001b[0m\u001b[0;34m\u001b[0m\u001b[0m\n",
      "\u001b[0m\u001b[0;32m     21 \u001b[0;31m        \u001b[0;32mif\u001b[0m \u001b[0;32mnot\u001b[0m \u001b[0mname\u001b[0m \u001b[0;32min\u001b[0m \u001b[0mself\u001b[0m\u001b[0;34m.\u001b[0m\u001b[0mstock\u001b[0m\u001b[0;34m.\u001b[0m\u001b[0mindex\u001b[0m\u001b[0;34m:\u001b[0m\u001b[0;34m\u001b[0m\u001b[0;34m\u001b[0m\u001b[0m\n",
      "\u001b[0m\u001b[0;32m---> 22 \u001b[0;31m            \u001b[0;32mraise\u001b[0m \u001b[0mValueError\u001b[0m\u001b[0;34m(\u001b[0m\u001b[0;34mf'{name} not in inventory'\u001b[0m\u001b[0;34m)\u001b[0m\u001b[0;34m\u001b[0m\u001b[0;34m\u001b[0m\u001b[0m\n",
      "\u001b[0m\u001b[0;32m     23 \u001b[0;31m\u001b[0;34m\u001b[0m\u001b[0m\n",
      "\u001b[0m\u001b[0;32m     24 \u001b[0;31m        \u001b[0mbuffer\u001b[0m \u001b[0;34m=\u001b[0m \u001b[0mself\u001b[0m\u001b[0;34m.\u001b[0m\u001b[0mstock\u001b[0m\u001b[0;34m.\u001b[0m\u001b[0mloc\u001b[0m\u001b[0;34m[\u001b[0m\u001b[0mname\u001b[0m\u001b[0;34m,\u001b[0m \u001b[0;34m\"qty\"\u001b[0m\u001b[0;34m]\u001b[0m\u001b[0;34m\u001b[0m\u001b[0;34m\u001b[0m\u001b[0m\n",
      "\u001b[0m\n",
      "ipdb> c\n"
     ]
    }
   ],
   "source": [
    "inventory.take_item(\"stylo\", 2)"
   ]
  },
  {
   "cell_type": "code",
   "execution_count": 64,
   "metadata": {},
   "outputs": [
    {
     "data": {
      "text/html": [
       "<div>\n",
       "<style scoped>\n",
       "    .dataframe tbody tr th:only-of-type {\n",
       "        vertical-align: middle;\n",
       "    }\n",
       "\n",
       "    .dataframe tbody tr th {\n",
       "        vertical-align: top;\n",
       "    }\n",
       "\n",
       "    .dataframe thead th {\n",
       "        text-align: right;\n",
       "    }\n",
       "</style>\n",
       "<table border=\"1\" class=\"dataframe\">\n",
       "  <thead>\n",
       "    <tr style=\"text-align: right;\">\n",
       "      <th></th>\n",
       "      <th>id</th>\n",
       "      <th>descr</th>\n",
       "      <th>qty</th>\n",
       "    </tr>\n",
       "    <tr>\n",
       "      <th>name</th>\n",
       "      <th></th>\n",
       "      <th></th>\n",
       "      <th></th>\n",
       "    </tr>\n",
       "  </thead>\n",
       "  <tbody>\n",
       "    <tr>\n",
       "      <th>crayon</th>\n",
       "      <td>4e706af2-1dad-11ea-b3ef-c599ba350267</td>\n",
       "      <td>crayon feutre</td>\n",
       "      <td>10</td>\n",
       "    </tr>\n",
       "  </tbody>\n",
       "</table>\n",
       "</div>"
      ],
      "text/plain": [
       "                                          id          descr qty\n",
       "name                                                           \n",
       "crayon  4e706af2-1dad-11ea-b3ef-c599ba350267  crayon feutre  10"
      ]
     },
     "execution_count": 64,
     "metadata": {},
     "output_type": "execute_result"
    }
   ],
   "source": [
    "inventory.stock"
   ]
  },
  {
   "cell_type": "markdown",
   "metadata": {},
   "source": [
    "> Exercice: Créer une classe `Generator` qui complète notre module créé plus haut "
   ]
  },
  {
   "cell_type": "code",
   "execution_count": 6,
   "metadata": {},
   "outputs": [],
   "source": []
  },
  {
   "cell_type": "code",
   "execution_count": 14,
   "metadata": {},
   "outputs": [
    {
     "data": {
      "text/html": [
       "<div>\n",
       "<style scoped>\n",
       "    .dataframe tbody tr th:only-of-type {\n",
       "        vertical-align: middle;\n",
       "    }\n",
       "\n",
       "    .dataframe tbody tr th {\n",
       "        vertical-align: top;\n",
       "    }\n",
       "\n",
       "    .dataframe thead th {\n",
       "        text-align: right;\n",
       "    }\n",
       "</style>\n",
       "<table border=\"1\" class=\"dataframe\">\n",
       "  <thead>\n",
       "    <tr style=\"text-align: right;\">\n",
       "      <th></th>\n",
       "      <th>name</th>\n",
       "      <th>descr</th>\n",
       "      <th>qty</th>\n",
       "    </tr>\n",
       "    <tr>\n",
       "      <th>id</th>\n",
       "      <th></th>\n",
       "      <th></th>\n",
       "      <th></th>\n",
       "    </tr>\n",
       "  </thead>\n",
       "  <tbody>\n",
       "    <tr>\n",
       "      <th>a3194e1c-1da7-11ea-b3ef-c599ba350267</th>\n",
       "      <td>crayon</td>\n",
       "      <td>crayons de couleur</td>\n",
       "      <td>12</td>\n",
       "    </tr>\n",
       "  </tbody>\n",
       "</table>\n",
       "</div>"
      ],
      "text/plain": [
       "                                        name               descr qty\n",
       "id                                                                  \n",
       "a3194e1c-1da7-11ea-b3ef-c599ba350267  crayon  crayons de couleur  12"
      ]
     },
     "execution_count": 14,
     "metadata": {},
     "output_type": "execute_result"
    }
   ],
   "source": [
    "stock"
   ]
  },
  {
   "cell_type": "code",
   "execution_count": null,
   "metadata": {},
   "outputs": [],
   "source": []
  }
 ],
 "metadata": {
  "kernelspec": {
   "display_name": "Python 3",
   "language": "python",
   "name": "python3"
  },
  "language_info": {
   "codemirror_mode": {
    "name": "ipython",
    "version": 3
   },
   "file_extension": ".py",
   "mimetype": "text/x-python",
   "name": "python",
   "nbconvert_exporter": "python",
   "pygments_lexer": "ipython3",
   "version": "3.7.3"
  }
 },
 "nbformat": 4,
 "nbformat_minor": 2
}
