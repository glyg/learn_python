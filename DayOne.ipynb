{
 "cells": [
  {
   "cell_type": "markdown",
   "metadata": {},
   "source": [
    "## Qu'est-ce que Python?\n",
    "\n",
    "Python est un langage de programmation **interprété** généraliste. Il a été créé en 1991 par [Guido va Rossum](https://twitter.com/gvanrossum)\n",
    "![Photo of Guido van Rossum from wikipedia](https://upload.wikimedia.org/wikipedia/commons/thumb/6/66/Guido_van_Rossum_OSCON_2006.jpg/320px-Guido_van_Rossum_OSCON_2006.jpg).\n",
    "\n",
    "<hr>\n",
    "\n",
    "Le langage s'appelle comme ça en hommage aux Monthy Pyton! \n",
    "\n",
    "![Silly walk gif](https://media.giphy.com/media/RzKHvdYC3uds4/giphy.gif)\n",
    "\n",
    "La motivation était de faire un langage lisible, un peu en réaction à Perl ;) principalement pour faire des scripts courts. Il a finalement évolué pour faire du code pas si court que ça!\n",
    "\n",
    "Le principe central:\n",
    "\n",
    "> **Le code est lu beaucoup plus souvent qu'il n'est écrit**\n",
    "\n",
    "On verra cela plus en détail au cours de la formation.\n",
    "\n",
    "\n",
    "* Il y a une implémentation de référence de l'interpréteur écrite en C : https://github.com/python/cpython\n",
    "\n",
    "* Le langage avance grâce aux _Python Enhancement Proposals_ ou [PEPs](https://www.python.org/dev/peps/)\n",
    "\n",
    "\n",
    "\n"
   ]
  },
  {
   "cell_type": "markdown",
   "metadata": {},
   "source": [
    "## La communauté\n",
    "\n",
    "\n",
    "> «Je suis venu pour le langage mais je suis resté pour la communauté»\n",
    "\n",
    "[Brett Cannon](https://twitter.com/brettsky) _core_ développeur\n",
    "\n",
    "\n",
    "* La [Python Software Foundation](https://www.python.org/psf/) possède les droits d'auteurs du langage et chapeaute la communauté.\n",
    "* Les core devs \n",
    "* les confs\n",
    "* Les meetups\n",
    "\n",
    "\n",
    "## Ressources de documentation\n",
    "\n",
    "* docs.python.org\n",
    "* readthedocs\n",
    "\n",
    "## Cannaux d'entr'aide\n",
    "\n",
    "* IRC\n",
    "* gitter (pour les data)\n",
    "* stackoverflow\n",
    "* mailing lists\n",
    "\n",
    "\n",
    "\n",
    "\n",
    "\n"
   ]
  },
  {
   "cell_type": "markdown",
   "metadata": {},
   "source": [
    "\n",
    "\n",
    "## Comment exécuter du code python?\n",
    "\n",
    "\n",
    "\n",
    "\n"
   ]
  },
  {
   "cell_type": "code",
   "execution_count": null,
   "metadata": {},
   "outputs": [],
   "source": []
  }
 ],
 "metadata": {
  "kernelspec": {
   "display_name": "Python 3",
   "language": "python",
   "name": "python3"
  },
  "language_info": {
   "codemirror_mode": {
    "name": "ipython",
    "version": 3
   },
   "file_extension": ".py",
   "mimetype": "text/x-python",
   "name": "python",
   "nbconvert_exporter": "python",
   "pygments_lexer": "ipython3",
   "version": "3.7.0"
  }
 },
 "nbformat": 4,
 "nbformat_minor": 2
}
